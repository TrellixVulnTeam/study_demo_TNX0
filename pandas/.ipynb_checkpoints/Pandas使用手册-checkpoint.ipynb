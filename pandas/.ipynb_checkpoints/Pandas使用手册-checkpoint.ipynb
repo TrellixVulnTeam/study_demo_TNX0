{
 "cells": [
  {
   "cell_type": "markdown",
   "metadata": {},
   "source": [
    "## Pandas的基本使用"
   ]
  },
  {
   "cell_type": "code",
   "execution_count": 3,
   "metadata": {},
   "outputs": [
    {
     "name": "stdout",
     "output_type": "stream",
     "text": [
      "s1: leo     90\n",
      "kate    86\n",
      "john    70\n",
      "dtype: int64\n",
      "s1[0]: 90\n",
      "s1['leo']: 90\n",
      "s1[['leo','kate']]: leo     90\n",
      "kate    86\n",
      "dtype: int64\n",
      "s1[s1>80]: leo     90\n",
      "kate    86\n",
      "dtype: int64\n",
      "s2: A   -2.628571\n",
      "B    0.221418\n",
      "C    0.945082\n",
      "D    0.582025\n",
      "E    1.345596\n",
      "dtype: float64\n",
      "s3: 0    6\n",
      "dtype: int64\n",
      "data: DatetimeIndex(['2010-01-01', '2010-01-02', '2010-01-03', '2010-01-04',\n",
      "               '2010-01-05', '2010-01-06'],\n",
      "              dtype='datetime64[ns]', freq='D')\n",
      "                   a         b\n",
      "2010-01-01  1.020652  0.282862\n",
      "2010-01-02 -0.985216 -1.031041\n",
      "2010-01-03 -1.214131  1.203810\n",
      "2010-01-04 -1.802014 -0.251299\n",
      "2010-01-05 -0.879575  0.418598\n",
      "2010-01-06  1.160544 -1.663092\n"
     ]
    }
   ],
   "source": [
    "import pandas as pd\n",
    "import numpy as np\n",
    "# 创建一组Series数据\n",
    "# 1.创建Series\n",
    "s1=pd.Series([90,86,70],index=['leo','kate','john'])\n",
    "print(\"s1:\",s1)\n",
    "# 通过绝对位置查找\n",
    "print(\"s1[0]:\",s1[0])\n",
    "# 通过标签\n",
    "print(\"s1['leo']:\",s1['leo'])\n",
    "# 通过列表\n",
    "print(\"s1[['leo','kate']]:\",s1[['leo','kate']])\n",
    "# 通过表达式\n",
    "print(\"s1[s1>80]:\",s1[s1>80])\n",
    "#2.numpy中的ndarray：\n",
    "s2=pd.Series(np.random.randn(5),index=list('ABCDE'))\n",
    "print(\"s2:\",s2)\n",
    "# 3.数字创建\n",
    "s3=pd.Series(6)\n",
    "print(\"s3:\",s3)\n",
    "# 4.创建一组DataFrame数据-date_range创建时间\n",
    "date=pd.date_range(start='20100101',periods=6)\n",
    "print(\"data:\",date)\n",
    "df=pd.DataFrame(data=np.random.randn(6,4),index=date,\n",
    "                columns=list('abcd'))\n",
    "# print(df)\n",
    "# 数据形状\n",
    "# print(df.shape)\n",
    "# 数据维数\n",
    "# print(df.ndim)\n",
    "# 数据元素\n",
    "# print(df.values)\n",
    "# 对于单列数据访问\n",
    "# print(df.a)\n",
    "# print(df['a'])\n",
    "# 访问a,b两列数据\n",
    "print(df[['a','b']])\n",
    "# 访问前三行数据\n",
    "# print(df[0:3])\n",
    "# print(df.head())\n",
    "# loc查找\n",
    "# print(df.loc['2010-01-01':'2010-01-04', ['a','b']])\n",
    "# iloc查找\n",
    "# print(df.iloc[:4,[0,1]])\n",
    "# ix查找\n",
    "# print(df.ix[:4,['a','b']])\n",
    "# 得到2010-01-04之前的数据\n",
    "# print(df.loc[df.index<'20100104'])"
   ]
  },
  {
   "cell_type": "code",
   "execution_count": 19,
   "metadata": {},
   "outputs": [
    {
     "name": "stdout",
     "output_type": "stream",
     "text": [
      "     name gender  age\n",
      "1  Tyrion      M   32\n",
      "2   Sansa      F   18\n"
     ]
    }
   ],
   "source": [
    "import numpy as np\n",
    "import pandas as pd\n",
    "# 创建DataFrame\n",
    "df = pd.DataFrame([['Snow','M',22],['Tyrion','M',32],['Sansa','F',18],['Arya','F',14]], columns=['name','gender','age'])\n",
    "# print(df)\n",
    "#选取多列，gender和age列\n",
    "# print(df[['gender','age']])\n",
    "# print(df.loc[:,['gender','age']])\n",
    "# print(df.iloc[:,[1,2]])\n",
    "# print(df.iloc[:,1:3])\n",
    "#读取第1行到第2行的数据\n",
    "print(df[1:3])\n",
    "# print(df.loc[[1,2]])\n",
    "# print(df.iloc[1:3])\n",
    "#读取第1行和第3行，从第0列到第2列,不包括第二列\n",
    "# print(df.iloc[[1,3],0:2])\n",
    "#读取倒数第3行到倒数第1行的数据，不包括最后一行\n",
    "# print(df[-3:-1])\n"
   ]
  },
  {
   "cell_type": "markdown",
   "metadata": {},
   "source": [
    "## Pandas 常用的两种数据结构（series和dataframe）"
   ]
  },
  {
   "cell_type": "code",
   "execution_count": null,
   "metadata": {},
   "outputs": [],
   "source": [
    "import pandas as pd\n",
    "import numpy as np\n",
    "# 1.Series创建\n",
    "s1=pd.Series(data=[3,-5,7,4],index=list('ABCD'))\n",
    "print(s1)\n",
    "# 2.DataFrame创建\n",
    "data=[['Belglum','Brussels',11190846],\n",
    "      ['Indla','New Delhi',1303171035],\n",
    "      ['Brazil','Brasilia',207847528]]\n",
    "# 比利时 布鲁塞尔\n",
    "# 印度 新德里\n",
    "# 巴西 巴西利亚\n",
    "df=pd.DataFrame(data=data,index=[1,2,3],\n",
    "                columns=['Country','Capital','Population'])\n",
    "print(df)\n"
   ]
  }
 ],
 "metadata": {
  "kernelspec": {
   "display_name": "Python 3",
   "language": "python",
   "name": "python3"
  },
  "language_info": {
   "codemirror_mode": {
    "name": "ipython",
    "version": 3
   },
   "file_extension": ".py",
   "mimetype": "text/x-python",
   "name": "python",
   "nbconvert_exporter": "python",
   "pygments_lexer": "ipython3",
   "version": "3.7.1"
  }
 },
 "nbformat": 4,
 "nbformat_minor": 2
}
