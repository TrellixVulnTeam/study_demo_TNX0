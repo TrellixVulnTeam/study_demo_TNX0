{
 "cells": [
  {
   "cell_type": "markdown",
   "metadata": {},
   "source": [
    "## Pandas的基本使用"
   ]
  },
  {
   "cell_type": "code",
   "execution_count": 9,
   "metadata": {},
   "outputs": [
    {
     "name": "stdout",
     "output_type": "stream",
     "text": [
      "s1: leo     90\n",
      "kate    86\n",
      "john    70\n",
      "dtype: int64\n",
      "s1[0]: 90\n",
      "s1['leo']: 90\n",
      "s1[['leo','kate']]: leo     90\n",
      "kate    86\n",
      "dtype: int64\n",
      "s1[s1>80]: leo     90\n",
      "kate    86\n",
      "dtype: int64\n",
      "s2: A    0.234937\n",
      "B   -0.182112\n",
      "C    0.581387\n",
      "D   -0.602442\n",
      "E   -1.964447\n",
      "dtype: float64\n",
      "s3: 0    6\n",
      "dtype: int64\n",
      "data: DatetimeIndex(['2010-01-01', '2010-01-02', '2010-01-03', '2010-01-04',\n",
      "               '2010-01-05', '2010-01-06'],\n",
      "              dtype='datetime64[ns]', freq='D')\n",
      "df                    a         b         c         d\n",
      "2010-01-01  0.576823 -0.345919  1.877613  0.232567\n",
      "2010-01-02  1.384933  0.765942  0.199318  0.252769\n",
      "2010-01-03 -1.254105 -0.159633  0.727245  1.134302\n",
      "2010-01-04 -1.104435 -1.712732 -0.942532 -1.287564\n",
      "2010-01-05  1.005928  0.229913 -0.517854 -1.157346\n",
      "2010-01-06  0.381870  1.976687  0.720692  0.582359\n",
      "数据形状 (6, 4)\n",
      "数据维数 2\n",
      "数据元素 [[ 0.57682296 -0.34591924  1.87761286  0.23256733]\n",
      " [ 1.38493324  0.76594191  0.19931785  0.25276857]\n",
      " [-1.25410462 -0.15963331  0.72724494  1.1343021 ]\n",
      " [-1.10443544 -1.71273211 -0.94253205 -1.28756422]\n",
      " [ 1.00592822  0.22991286 -0.51785385 -1.15734557]\n",
      " [ 0.38186961  1.97668659  0.72069181  0.58235866]]\n",
      "df.a: 2010-01-01    0.576823\n",
      "2010-01-02    1.384933\n",
      "2010-01-03   -1.254105\n",
      "2010-01-04   -1.104435\n",
      "2010-01-05    1.005928\n",
      "2010-01-06    0.381870\n",
      "Freq: D, Name: a, dtype: float64\n",
      "df['a']: 2010-01-01    0.576823\n",
      "2010-01-02    1.384933\n",
      "2010-01-03   -1.254105\n",
      "2010-01-04   -1.104435\n",
      "2010-01-05    1.005928\n",
      "2010-01-06    0.381870\n",
      "Freq: D, Name: a, dtype: float64\n",
      "df[['a','b']]:                    a         b\n",
      "2010-01-01  0.576823 -0.345919\n",
      "2010-01-02  1.384933  0.765942\n",
      "2010-01-03 -1.254105 -0.159633\n",
      "2010-01-04 -1.104435 -1.712732\n",
      "2010-01-05  1.005928  0.229913\n",
      "2010-01-06  0.381870  1.976687\n",
      "df[0:3]:                    a         b         c         d\n",
      "2010-01-01  0.576823 -0.345919  1.877613  0.232567\n",
      "2010-01-02  1.384933  0.765942  0.199318  0.252769\n",
      "2010-01-03 -1.254105 -0.159633  0.727245  1.134302\n",
      "df.head(5):                    a         b         c         d\n",
      "2010-01-01  0.576823 -0.345919  1.877613  0.232567\n",
      "2010-01-02  1.384933  0.765942  0.199318  0.252769\n",
      "2010-01-03 -1.254105 -0.159633  0.727245  1.134302\n",
      "2010-01-04 -1.104435 -1.712732 -0.942532 -1.287564\n",
      "2010-01-05  1.005928  0.229913 -0.517854 -1.157346\n",
      "loc:                    a         b\n",
      "2010-01-01  0.576823 -0.345919\n",
      "2010-01-02  1.384933  0.765942\n",
      "2010-01-03 -1.254105 -0.159633\n",
      "2010-01-04 -1.104435 -1.712732\n",
      "iloc:                    a         b\n",
      "2010-01-01  0.576823 -0.345919\n",
      "2010-01-02  1.384933  0.765942\n",
      "2010-01-03 -1.254105 -0.159633\n",
      "2010-01-04 -1.104435 -1.712732\n",
      "ix                    a         b\n",
      "2010-01-01  0.576823 -0.345919\n",
      "2010-01-02  1.384933  0.765942\n",
      "2010-01-03 -1.254105 -0.159633\n",
      "2010-01-04 -1.104435 -1.712732\n",
      "2010-01-04之前的数据:                    a         b         c         d\n",
      "2010-01-01  0.576823 -0.345919  1.877613  0.232567\n",
      "2010-01-02  1.384933  0.765942  0.199318  0.252769\n",
      "2010-01-03 -1.254105 -0.159633  0.727245  1.134302\n"
     ]
    },
    {
     "name": "stderr",
     "output_type": "stream",
     "text": [
      "/home/liyuan3970/anaconda3/lib/python3.7/site-packages/ipykernel_launcher.py:46: DeprecationWarning: \n",
      ".ix is deprecated. Please use\n",
      ".loc for label based indexing or\n",
      ".iloc for positional indexing\n",
      "\n",
      "See the documentation here:\n",
      "http://pandas.pydata.org/pandas-docs/stable/indexing.html#ix-indexer-is-deprecated\n"
     ]
    }
   ],
   "source": [
    "import pandas as pd\n",
    "import numpy as np\n",
    "# 创建一组Series数据\n",
    "# 1.创建Series\n",
    "s1=pd.Series([90,86,70],index=['leo','kate','john'])\n",
    "print(\"s1:\",s1)\n",
    "# 通过绝对位置查找\n",
    "print(\"s1[0]:\",s1[0])\n",
    "# 通过标签\n",
    "print(\"s1['leo']:\",s1['leo'])\n",
    "# 通过列表\n",
    "print(\"s1[['leo','kate']]:\",s1[['leo','kate']])\n",
    "# 通过表达式\n",
    "print(\"s1[s1>80]:\",s1[s1>80])\n",
    "#2.numpy中的ndarray：\n",
    "s2=pd.Series(np.random.randn(5),index=list('ABCDE'))\n",
    "print(\"s2:\",s2)\n",
    "# 3.数字创建\n",
    "s3=pd.Series(6)\n",
    "print(\"s3:\",s3)\n",
    "# 4.创建一组DataFrame数据-date_range创建时间\n",
    "date=pd.date_range(start='20100101',periods=6)\n",
    "print(\"data:\",date)\n",
    "df=pd.DataFrame(data=np.random.randn(6,4),index=date,\n",
    "                columns=list('abcd'))\n",
    "print(\"df\",df)\n",
    "#数据形状\n",
    "print(\"数据形状\",df.shape)\n",
    "#数据维数\n",
    "print(\"数据维数\",df.ndim)\n",
    "#数据元素\n",
    "print(\"数据元素\",df.values)\n",
    "#对于单列数据访问\n",
    "print(\"df.a:\",df.a)\n",
    "print(\"df['a']:\",df['a'])\n",
    "#访问a,b两列数据\n",
    "print(\"df[['a','b']]:\",df[['a','b']])\n",
    "# 访问前三行数据\n",
    "print(\"df[0:3]:\",df[0:3])\n",
    "print(\"df.head(5):\",df.head(5))\n",
    "#loc查找\n",
    "print(\"loc:\",df.loc['2010-01-01':'2010-01-04', ['a','b']])\n",
    "#iloc查找\n",
    "print(\"iloc:\",df.iloc[:4,[0,1]])\n",
    "#ix查找\n",
    "print(\"ix\",df.ix[:4,['a','b']])\n",
    "#得到2010-01-04之前的数据\n",
    "print(\"2010-01-04之前的数据:\",df.loc[df.index<'20100104'])"
   ]
  },
  {
   "cell_type": "code",
   "execution_count": 19,
   "metadata": {},
   "outputs": [
    {
     "name": "stdout",
     "output_type": "stream",
     "text": [
      "     name gender  age\n",
      "1  Tyrion      M   32\n",
      "2   Sansa      F   18\n"
     ]
    }
   ],
   "source": [
    "import numpy as np\n",
    "import pandas as pd\n",
    "# 创建DataFrame\n",
    "df = pd.DataFrame([['Snow','M',22],['Tyrion','M',32],['Sansa','F',18],['Arya','F',14]], columns=['name','gender','age'])\n",
    "# print(df)\n",
    "#选取多列，gender和age列\n",
    "# print(df[['gender','age']])\n",
    "# print(df.loc[:,['gender','age']])\n",
    "# print(df.iloc[:,[1,2]])\n",
    "# print(df.iloc[:,1:3])\n",
    "#读取第1行到第2行的数据\n",
    "print(df[1:3])\n",
    "# print(df.loc[[1,2]])\n",
    "# print(df.iloc[1:3])\n",
    "#读取第1行和第3行，从第0列到第2列,不包括第二列\n",
    "# print(df.iloc[[1,3],0:2])\n",
    "#读取倒数第3行到倒数第1行的数据，不包括最后一行\n",
    "# print(df[-3:-1])\n"
   ]
  },
  {
   "cell_type": "markdown",
   "metadata": {},
   "source": [
    "## Pandas 常用的两种数据结构（series和dataframe）"
   ]
  },
  {
   "cell_type": "code",
   "execution_count": 10,
   "metadata": {},
   "outputs": [
    {
     "name": "stdout",
     "output_type": "stream",
     "text": [
      "A    3\n",
      "B   -5\n",
      "C    7\n",
      "D    4\n",
      "dtype: int64\n",
      "   Country    Capital  Population\n",
      "1  Belglum   Brussels    11190846\n",
      "2    Indla  New Delhi  1303171035\n",
      "3   Brazil   Brasilia   207847528\n"
     ]
    }
   ],
   "source": [
    "import pandas as pd\n",
    "import numpy as np\n",
    "# 1.Series创建\n",
    "s1=pd.Series(data=[3,-5,7,4],index=list('ABCD'))\n",
    "print(s1)\n",
    "# 2.DataFrame创建\n",
    "data=[['Belglum','Brussels',11190846],\n",
    "      ['Indla','New Delhi',1303171035],\n",
    "      ['Brazil','Brasilia',207847528]]\n",
    "# 比利时 布鲁塞尔\n",
    "# 印度 新德里\n",
    "# 巴西 巴西利亚\n",
    "df=pd.DataFrame(data=data,index=[1,2,3],\n",
    "                columns=['Country','Capital','Population'])\n",
    "print(df)\n"
   ]
  }
 ],
 "metadata": {
  "kernelspec": {
   "display_name": "Python 3",
   "language": "python",
   "name": "python3"
  },
  "language_info": {
   "codemirror_mode": {
    "name": "ipython",
    "version": 3
   },
   "file_extension": ".py",
   "mimetype": "text/x-python",
   "name": "python",
   "nbconvert_exporter": "python",
   "pygments_lexer": "ipython3",
   "version": "3.7.1"
  }
 },
 "nbformat": 4,
 "nbformat_minor": 2
}
