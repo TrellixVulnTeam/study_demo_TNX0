{
 "cells": [
  {
   "cell_type": "code",
   "execution_count": 4,
   "metadata": {},
   "outputs": [
    {
     "ename": "AttributeError",
     "evalue": "'list' object has no attribute 'dtype'",
     "output_type": "error",
     "traceback": [
      "\u001b[0;31m---------------------------------------------------------------------------\u001b[0m",
      "\u001b[0;31mAttributeError\u001b[0m                            Traceback (most recent call last)",
      "\u001b[0;32m<ipython-input-4-8365442f9a71>\u001b[0m in \u001b[0;36m<module>\u001b[0;34m\u001b[0m\n\u001b[1;32m     15\u001b[0m \u001b[0mv\u001b[0m\u001b[0;34m.\u001b[0m\u001b[0mappend\u001b[0m\u001b[0;34m(\u001b[0m\u001b[0mrl2\u001b[0m\u001b[0;34m)\u001b[0m\u001b[0;34m\u001b[0m\u001b[0;34m\u001b[0m\u001b[0m\n\u001b[1;32m     16\u001b[0m \u001b[0;34m\u001b[0m\u001b[0m\n\u001b[0;32m---> 17\u001b[0;31m \u001b[0mf\u001b[0m \u001b[0;34m=\u001b[0m\u001b[0mcinrad\u001b[0m\u001b[0;34m.\u001b[0m\u001b[0measycalc\u001b[0m\u001b[0;34m.\u001b[0m\u001b[0mGridMapper\u001b[0m\u001b[0;34m(\u001b[0m\u001b[0mv\u001b[0m\u001b[0;34m)\u001b[0m\u001b[0;34m\u001b[0m\u001b[0;34m\u001b[0m\u001b[0m\n\u001b[0m",
      "\u001b[0;32m~/anaconda3/lib/python3.7/site-packages/cinrad-1.4.2-py3.7-linux-x86_64.egg/cinrad/easycalc.py\u001b[0m in \u001b[0;36m__init__\u001b[0;34m(self, fields, max_dist)\u001b[0m\n\u001b[1;32m    353\u001b[0m     \u001b[0;32mdef\u001b[0m \u001b[0m__init__\u001b[0m\u001b[0;34m(\u001b[0m\u001b[0mself\u001b[0m\u001b[0;34m,\u001b[0m \u001b[0mfields\u001b[0m\u001b[0;34m:\u001b[0m \u001b[0mVolume_T\u001b[0m\u001b[0;34m,\u001b[0m \u001b[0mmax_dist\u001b[0m\u001b[0;34m:\u001b[0m \u001b[0mNumber_T\u001b[0m \u001b[0;34m=\u001b[0m \u001b[0;36m0.1\u001b[0m\u001b[0;34m)\u001b[0m\u001b[0;34m:\u001b[0m\u001b[0;34m\u001b[0m\u001b[0;34m\u001b[0m\u001b[0m\n\u001b[1;32m    354\u001b[0m         \u001b[0;31m# Process data type\u001b[0m\u001b[0;34m\u001b[0m\u001b[0;34m\u001b[0m\u001b[0;34m\u001b[0m\u001b[0m\n\u001b[0;32m--> 355\u001b[0;31m         \u001b[0;32mif\u001b[0m \u001b[0mlen\u001b[0m\u001b[0;34m(\u001b[0m\u001b[0mset\u001b[0m\u001b[0;34m(\u001b[0m\u001b[0;34m[\u001b[0m\u001b[0mi\u001b[0m\u001b[0;34m.\u001b[0m\u001b[0mdtype\u001b[0m \u001b[0;32mfor\u001b[0m \u001b[0mi\u001b[0m \u001b[0;32min\u001b[0m \u001b[0mfields\u001b[0m\u001b[0;34m]\u001b[0m\u001b[0;34m)\u001b[0m\u001b[0;34m)\u001b[0m \u001b[0;34m>\u001b[0m \u001b[0;36m1\u001b[0m\u001b[0;34m:\u001b[0m\u001b[0;34m\u001b[0m\u001b[0;34m\u001b[0m\u001b[0m\n\u001b[0m\u001b[1;32m    356\u001b[0m             \u001b[0;32mraise\u001b[0m \u001b[0mRadarCalculationError\u001b[0m\u001b[0;34m(\u001b[0m\u001b[0;34m\"All input data should have same data type\"\u001b[0m\u001b[0;34m)\u001b[0m\u001b[0;34m\u001b[0m\u001b[0;34m\u001b[0m\u001b[0m\n\u001b[1;32m    357\u001b[0m         \u001b[0mself\u001b[0m\u001b[0;34m.\u001b[0m\u001b[0mdtype\u001b[0m \u001b[0;34m=\u001b[0m \u001b[0mfields\u001b[0m\u001b[0;34m[\u001b[0m\u001b[0;36m0\u001b[0m\u001b[0;34m]\u001b[0m\u001b[0;34m.\u001b[0m\u001b[0mdtype\u001b[0m\u001b[0;34m\u001b[0m\u001b[0;34m\u001b[0m\u001b[0m\n",
      "\u001b[0;32m~/anaconda3/lib/python3.7/site-packages/cinrad-1.4.2-py3.7-linux-x86_64.egg/cinrad/easycalc.py\u001b[0m in \u001b[0;36m<listcomp>\u001b[0;34m(.0)\u001b[0m\n\u001b[1;32m    353\u001b[0m     \u001b[0;32mdef\u001b[0m \u001b[0m__init__\u001b[0m\u001b[0;34m(\u001b[0m\u001b[0mself\u001b[0m\u001b[0;34m,\u001b[0m \u001b[0mfields\u001b[0m\u001b[0;34m:\u001b[0m \u001b[0mVolume_T\u001b[0m\u001b[0;34m,\u001b[0m \u001b[0mmax_dist\u001b[0m\u001b[0;34m:\u001b[0m \u001b[0mNumber_T\u001b[0m \u001b[0;34m=\u001b[0m \u001b[0;36m0.1\u001b[0m\u001b[0;34m)\u001b[0m\u001b[0;34m:\u001b[0m\u001b[0;34m\u001b[0m\u001b[0;34m\u001b[0m\u001b[0m\n\u001b[1;32m    354\u001b[0m         \u001b[0;31m# Process data type\u001b[0m\u001b[0;34m\u001b[0m\u001b[0;34m\u001b[0m\u001b[0;34m\u001b[0m\u001b[0m\n\u001b[0;32m--> 355\u001b[0;31m         \u001b[0;32mif\u001b[0m \u001b[0mlen\u001b[0m\u001b[0;34m(\u001b[0m\u001b[0mset\u001b[0m\u001b[0;34m(\u001b[0m\u001b[0;34m[\u001b[0m\u001b[0mi\u001b[0m\u001b[0;34m.\u001b[0m\u001b[0mdtype\u001b[0m \u001b[0;32mfor\u001b[0m \u001b[0mi\u001b[0m \u001b[0;32min\u001b[0m \u001b[0mfields\u001b[0m\u001b[0;34m]\u001b[0m\u001b[0;34m)\u001b[0m\u001b[0;34m)\u001b[0m \u001b[0;34m>\u001b[0m \u001b[0;36m1\u001b[0m\u001b[0;34m:\u001b[0m\u001b[0;34m\u001b[0m\u001b[0;34m\u001b[0m\u001b[0m\n\u001b[0m\u001b[1;32m    356\u001b[0m             \u001b[0;32mraise\u001b[0m \u001b[0mRadarCalculationError\u001b[0m\u001b[0;34m(\u001b[0m\u001b[0;34m\"All input data should have same data type\"\u001b[0m\u001b[0;34m)\u001b[0m\u001b[0;34m\u001b[0m\u001b[0;34m\u001b[0m\u001b[0m\n\u001b[1;32m    357\u001b[0m         \u001b[0mself\u001b[0m\u001b[0;34m.\u001b[0m\u001b[0mdtype\u001b[0m \u001b[0;34m=\u001b[0m \u001b[0mfields\u001b[0m\u001b[0;34m[\u001b[0m\u001b[0;36m0\u001b[0m\u001b[0;34m]\u001b[0m\u001b[0;34m.\u001b[0m\u001b[0mdtype\u001b[0m\u001b[0;34m\u001b[0m\u001b[0;34m\u001b[0m\u001b[0m\n",
      "\u001b[0;31mAttributeError\u001b[0m: 'list' object has no attribute 'dtype'"
     ]
    }
   ],
   "source": [
    "import cinrad\n",
    "from cinrad.visualize import PPI\n",
    "from cinrad.visualize import Section\n",
    "%matplotlib inline\n",
    "\n",
    "f1 = cinrad.io.CinradReader('pintu/Z_RADR_I_Z9571_20190809172500_O_DOR_SA_CAP.bin.bz2')\n",
    "f2 = cinrad.io.CinradReader('pintu/Z_RADR_I_Z9577_20190809172500_O_DOR_SA_CAP.bin.bz2')\n",
    "\n",
    "rl1= [f1.get_data(i, 230, 'REF') for i in f1.angleindex_r]\n",
    "\n",
    "rl2= [f2.get_data(i, 230, 'REF') for i in f2.angleindex_r]\n",
    "\n",
    "v = []\n",
    "v.append(rl1)\n",
    "v.append(rl2)\n",
    "\n",
    "f =cinrad.easycalc.GridMapper(v)"
   ]
  },
  {
   "cell_type": "code",
   "execution_count": 9,
   "metadata": {},
   "outputs": [
    {
     "name": "stdout",
     "output_type": "stream",
     "text": [
      "[<Datatype: REF Station name: 温州 Scan time: 2019-08-09 17:25:42.766000 Elevation angle: 0.63 Range: 230>, <Datatype: REF Station name: 温州 Scan time: 2019-08-09 17:25:42.766000 Elevation angle: 1.33 Range: 230>, <Datatype: REF Station name: 温州 Scan time: 2019-08-09 17:25:42.766000 Elevation angle: 2.26 Range: 230>, <Datatype: REF Station name: 温州 Scan time: 2019-08-09 17:25:42.766000 Elevation angle: 3.14 Range: 230>, <Datatype: REF Station name: 温州 Scan time: 2019-08-09 17:25:42.766000 Elevation angle: 4.15 Range: 230>, <Datatype: REF Station name: 温州 Scan time: 2019-08-09 17:25:42.766000 Elevation angle: 5.86 Range: 230>, <Datatype: REF Station name: 温州 Scan time: 2019-08-09 17:25:42.766000 Elevation angle: 9.73 Range: 230>, <Datatype: REF Station name: 温州 Scan time: 2019-08-09 17:25:42.766000 Elevation angle: 14.46 Range: 230>, <Datatype: REF Station name: 温州 Scan time: 2019-08-09 17:25:42.766000 Elevation angle: 19.39 Range: 230>]\n"
     ]
    },
    {
     "ename": "AttributeError",
     "evalue": "'list' object has no attribute 'dtype'",
     "output_type": "error",
     "traceback": [
      "\u001b[0;31m---------------------------------------------------------------------------\u001b[0m",
      "\u001b[0;31mAttributeError\u001b[0m                            Traceback (most recent call last)",
      "\u001b[0;32m<ipython-input-9-6fb11a133cd2>\u001b[0m in \u001b[0;36m<module>\u001b[0;34m\u001b[0m\n\u001b[1;32m     19\u001b[0m \u001b[0mrl\u001b[0m\u001b[0;34m.\u001b[0m\u001b[0mappend\u001b[0m\u001b[0;34m(\u001b[0m\u001b[0mrl1\u001b[0m\u001b[0;34m)\u001b[0m\u001b[0;34m\u001b[0m\u001b[0;34m\u001b[0m\u001b[0m\n\u001b[1;32m     20\u001b[0m \u001b[0mrl\u001b[0m\u001b[0;34m.\u001b[0m\u001b[0mappend\u001b[0m\u001b[0;34m(\u001b[0m\u001b[0mrl2\u001b[0m\u001b[0;34m)\u001b[0m\u001b[0;34m\u001b[0m\u001b[0;34m\u001b[0m\u001b[0m\n\u001b[0;32m---> 21\u001b[0;31m \u001b[0mvcs\u001b[0m \u001b[0;34m=\u001b[0m \u001b[0mcinrad\u001b[0m\u001b[0;34m.\u001b[0m\u001b[0measycalc\u001b[0m\u001b[0;34m.\u001b[0m\u001b[0mVCS\u001b[0m\u001b[0;34m(\u001b[0m\u001b[0mrl\u001b[0m\u001b[0;34m)\u001b[0m\u001b[0;34m\u001b[0m\u001b[0;34m\u001b[0m\u001b[0m\n\u001b[0m\u001b[1;32m     22\u001b[0m \u001b[0msec\u001b[0m \u001b[0;34m=\u001b[0m \u001b[0mvcs\u001b[0m\u001b[0;34m.\u001b[0m\u001b[0mget_section\u001b[0m\u001b[0;34m(\u001b[0m\u001b[0mstart_cart\u001b[0m\u001b[0;34m=\u001b[0m\u001b[0;34m(\u001b[0m\u001b[0;36m121.52\u001b[0m\u001b[0;34m,\u001b[0m \u001b[0;36m28.62\u001b[0m\u001b[0;34m)\u001b[0m\u001b[0;34m,\u001b[0m \u001b[0mend_cart\u001b[0m\u001b[0;34m=\u001b[0m\u001b[0;34m(\u001b[0m\u001b[0;36m121.52\u001b[0m\u001b[0;34m,\u001b[0m \u001b[0;36m30.69\u001b[0m\u001b[0;34m)\u001b[0m\u001b[0;34m)\u001b[0m\u001b[0;34m\u001b[0m\u001b[0;34m\u001b[0m\u001b[0m\n\u001b[1;32m     23\u001b[0m \u001b[0mf\u001b[0m \u001b[0;34m=\u001b[0m\u001b[0mcinrad\u001b[0m\u001b[0;34m.\u001b[0m\u001b[0measycalc\u001b[0m\u001b[0;34m.\u001b[0m\u001b[0mGridMapper\u001b[0m\u001b[0;34m(\u001b[0m\u001b[0mv\u001b[0m\u001b[0;34m)\u001b[0m\u001b[0;34m\u001b[0m\u001b[0;34m\u001b[0m\u001b[0m\n",
      "\u001b[0;32m~/anaconda3/lib/python3.7/site-packages/cinrad-1.4.2-py3.7-linux-x86_64.egg/cinrad/easycalc.py\u001b[0m in \u001b[0;36m__init__\u001b[0;34m(self, r_list)\u001b[0m\n\u001b[1;32m    236\u001b[0m \u001b[0;34m\u001b[0m\u001b[0m\n\u001b[1;32m    237\u001b[0m     \u001b[0;32mdef\u001b[0m \u001b[0m__init__\u001b[0m\u001b[0;34m(\u001b[0m\u001b[0mself\u001b[0m\u001b[0;34m,\u001b[0m \u001b[0mr_list\u001b[0m\u001b[0;34m:\u001b[0m \u001b[0mVolume_T\u001b[0m\u001b[0;34m)\u001b[0m\u001b[0;34m:\u001b[0m\u001b[0;34m\u001b[0m\u001b[0;34m\u001b[0m\u001b[0m\n\u001b[0;32m--> 238\u001b[0;31m         \u001b[0;32mif\u001b[0m \u001b[0;32mnot\u001b[0m \u001b[0mis_uniform\u001b[0m\u001b[0;34m(\u001b[0m\u001b[0mr_list\u001b[0m\u001b[0;34m)\u001b[0m\u001b[0;34m:\u001b[0m\u001b[0;34m\u001b[0m\u001b[0;34m\u001b[0m\u001b[0m\n\u001b[0m\u001b[1;32m    239\u001b[0m             raise RadarCalculationError(\n\u001b[1;32m    240\u001b[0m                 \u001b[0;34m\"All input radials must have the same data type\"\u001b[0m\u001b[0;34m\u001b[0m\u001b[0;34m\u001b[0m\u001b[0m\n",
      "\u001b[0;32m~/anaconda3/lib/python3.7/site-packages/cinrad-1.4.2-py3.7-linux-x86_64.egg/cinrad/easycalc.py\u001b[0m in \u001b[0;36mis_uniform\u001b[0;34m(radial_list)\u001b[0m\n\u001b[1;32m     47\u001b[0m \u001b[0;32mdef\u001b[0m \u001b[0mis_uniform\u001b[0m\u001b[0;34m(\u001b[0m\u001b[0mradial_list\u001b[0m\u001b[0;34m:\u001b[0m \u001b[0mVolume_T\u001b[0m\u001b[0;34m)\u001b[0m \u001b[0;34m->\u001b[0m \u001b[0mbool\u001b[0m\u001b[0;34m:\u001b[0m\u001b[0;34m\u001b[0m\u001b[0;34m\u001b[0m\u001b[0m\n\u001b[1;32m     48\u001b[0m     \u001b[0;34mr\"\"\"Check if all input radials have same data type\"\"\"\u001b[0m\u001b[0;34m\u001b[0m\u001b[0;34m\u001b[0m\u001b[0m\n\u001b[0;32m---> 49\u001b[0;31m     \u001b[0;32mreturn\u001b[0m \u001b[0mlen\u001b[0m\u001b[0;34m(\u001b[0m\u001b[0mset\u001b[0m\u001b[0;34m(\u001b[0m\u001b[0;34m[\u001b[0m\u001b[0mi\u001b[0m\u001b[0;34m.\u001b[0m\u001b[0mdtype\u001b[0m \u001b[0;32mfor\u001b[0m \u001b[0mi\u001b[0m \u001b[0;32min\u001b[0m \u001b[0mradial_list\u001b[0m\u001b[0;34m]\u001b[0m\u001b[0;34m)\u001b[0m\u001b[0;34m)\u001b[0m \u001b[0;34m==\u001b[0m \u001b[0;36m1\u001b[0m\u001b[0;34m\u001b[0m\u001b[0;34m\u001b[0m\u001b[0m\n\u001b[0m\u001b[1;32m     50\u001b[0m \u001b[0;34m\u001b[0m\u001b[0m\n\u001b[1;32m     51\u001b[0m \u001b[0;34m\u001b[0m\u001b[0m\n",
      "\u001b[0;32m~/anaconda3/lib/python3.7/site-packages/cinrad-1.4.2-py3.7-linux-x86_64.egg/cinrad/easycalc.py\u001b[0m in \u001b[0;36m<listcomp>\u001b[0;34m(.0)\u001b[0m\n\u001b[1;32m     47\u001b[0m \u001b[0;32mdef\u001b[0m \u001b[0mis_uniform\u001b[0m\u001b[0;34m(\u001b[0m\u001b[0mradial_list\u001b[0m\u001b[0;34m:\u001b[0m \u001b[0mVolume_T\u001b[0m\u001b[0;34m)\u001b[0m \u001b[0;34m->\u001b[0m \u001b[0mbool\u001b[0m\u001b[0;34m:\u001b[0m\u001b[0;34m\u001b[0m\u001b[0;34m\u001b[0m\u001b[0m\n\u001b[1;32m     48\u001b[0m     \u001b[0;34mr\"\"\"Check if all input radials have same data type\"\"\"\u001b[0m\u001b[0;34m\u001b[0m\u001b[0;34m\u001b[0m\u001b[0m\n\u001b[0;32m---> 49\u001b[0;31m     \u001b[0;32mreturn\u001b[0m \u001b[0mlen\u001b[0m\u001b[0;34m(\u001b[0m\u001b[0mset\u001b[0m\u001b[0;34m(\u001b[0m\u001b[0;34m[\u001b[0m\u001b[0mi\u001b[0m\u001b[0;34m.\u001b[0m\u001b[0mdtype\u001b[0m \u001b[0;32mfor\u001b[0m \u001b[0mi\u001b[0m \u001b[0;32min\u001b[0m \u001b[0mradial_list\u001b[0m\u001b[0;34m]\u001b[0m\u001b[0;34m)\u001b[0m\u001b[0;34m)\u001b[0m \u001b[0;34m==\u001b[0m \u001b[0;36m1\u001b[0m\u001b[0;34m\u001b[0m\u001b[0;34m\u001b[0m\u001b[0m\n\u001b[0m\u001b[1;32m     50\u001b[0m \u001b[0;34m\u001b[0m\u001b[0m\n\u001b[1;32m     51\u001b[0m \u001b[0;34m\u001b[0m\u001b[0m\n",
      "\u001b[0;31mAttributeError\u001b[0m: 'list' object has no attribute 'dtype'"
     ]
    }
   ],
   "source": [
    "import cinrad\n",
    "from cinrad.visualize import PPI\n",
    "%matplotlib inline\n",
    "\n",
    "f1 = cinrad.io.CinradReader('pintu/Z_RADR_I_Z9571_20190809172500_O_DOR_SA_CAP.bin.bz2')\n",
    "f2 = cinrad.io.CinradReader('pintu/Z_RADR_I_Z9577_20190809172500_O_DOR_SA_CAP.bin.bz2')\n",
    "# rl = list(f.iter_tilt(230, 'REF'))\n",
    "rl1= [f1.get_data(i, 230, 'REF') for i in f1.angleindex_r]\n",
    "print(rl2)\n",
    "\n",
    "rl2= [f2.get_data(i, 230, 'REF') for i in f2.angleindex_r]\n",
    "\n",
    "v1 = f1.get_data(0,230, 'REF')\n",
    "v2 = f2.get_data(0, 230, 'REF')\n",
    "v = []\n",
    "v.append(v1)\n",
    "v.append(v2)\n",
    "rl = []\n",
    "rl.append(rl1)\n",
    "rl.append(rl2)\n",
    "vcs = cinrad.easycalc.VCS(rl)\n",
    "sec = vcs.get_section(start_cart=(121.52, 28.62), end_cart=(121.52, 30.69))\n",
    "f =cinrad.easycalc.GridMapper(v)\n",
    "\n",
    "# 0.001是颗粒度，一般0.01就可以了\n",
    "grid = f(0.01)\n",
    "print(type(grid))\n",
    "\n",
    "# type(f)\n",
    "fig =cinrad.visualize.PPI(grid)\n",
    "fig.plot_cross_section(sec)"
   ]
  }
 ],
 "metadata": {
  "kernelspec": {
   "display_name": "Python 3",
   "language": "python",
   "name": "python3"
  },
  "language_info": {
   "codemirror_mode": {
    "name": "ipython",
    "version": 3
   },
   "file_extension": ".py",
   "mimetype": "text/x-python",
   "name": "python",
   "nbconvert_exporter": "python",
   "pygments_lexer": "ipython3",
   "version": "3.7.1"
  }
 },
 "nbformat": 4,
 "nbformat_minor": 2
}
