{
 "cells": [
  {
   "cell_type": "code",
   "execution_count": 3,
   "metadata": {},
   "outputs": [
    {
     "name": "stderr",
     "output_type": "stream",
     "text": [
      "/home/liyuan3970/anaconda3/lib/python3.7/site-packages/cinrad-1.4.2-py3.7-linux-x86_64.egg/cinrad/io/level2.py:355: UserWarning: Requested data range exceed max range in this tilt\n",
      "  warnings.warn(\"Requested data range exceed max range in this tilt\")\n"
     ]
    }
   ],
   "source": [
    "import cinrad\n",
    "%matplotlib inline\n",
    "import numpy as np\n",
    "import matplotlib.pyplot as plt\n",
    "f = cinrad.io.CinradReader('Z_RADR_I_Z9576_20190810000600_O_DOR_SA_CAP.bin.bz2')\n",
    "rl = [f.get_data(i, 230, 'REF') for i in f.angleindex_r]\n",
    "vcs = cinrad.easycalc.VCS(rl)\n"
   ]
  },
  {
   "cell_type": "code",
   "execution_count": 26,
   "metadata": {},
   "outputs": [
    {
     "name": "stdout",
     "output_type": "stream",
     "text": [
      "<cinrad.easycalc.VCS object at 0x7f79209a0748>\n"
     ]
    }
   ],
   "source": [
    "print(vcs)\n",
    "vcs.get_section(start_polar=(0, 0), end_polar=(230, 330))\n",
    "from cinrad.visualize import Section\n",
    "%matplotlib inline\n",
    "s1 = vcs.get_section(start_polar=(0, 0), end_polar=(230, 330))\n",
    "#rint(s1.data)\n",
    "#rint(s1)\n",
    "data = s1.data\n",
    "xcor = s1.xcor\n",
    "ycor = s1.ycor\n",
    "fig = Section(s1)\n",
    "plt.show()"
   ]
  },
  {
   "cell_type": "code",
   "execution_count": 36,
   "metadata": {},
   "outputs": [
    {
     "data": {
      "image/png": "[encoded data removed]",
      "text/plain": [
       "<Figure size 432x288 with 1 Axes>"
      ]
     },
     "metadata": {
      "needs_background": "light"
     },
     "output_type": "display_data"
    }
   ],
   "source": [
    "fig, ax = plt.subplots()\n",
    "\n",
    "#x.pcolormesh(xcor, ycor, data)\n",
    "ax.contourf(xcor, ycor, data)\n",
    "ax.set_ylim(0, 15)\n",
    "plt.show()"
   ]
  },
  {
   "cell_type": "code",
   "execution_count": 31,
   "metadata": {},
   "outputs": [],
   "source": [
    "\n"
   ]
  },
  {
   "cell_type": "code",
   "execution_count": 23,
   "metadata": {},
   "outputs": [
    {
     "name": "stdout",
     "output_type": "stream",
     "text": [
      "[[0.         0.00200401 0.00400802 ... 0.99599198 0.99799599 1.        ]\n",
      " [0.         0.00200401 0.00400802 ... 0.99599198 0.99799599 1.        ]\n",
      " [0.         0.00200401 0.00400802 ... 0.99599198 0.99799599 1.        ]\n",
      " ...\n",
      " [0.         0.00200401 0.00400802 ... 0.99599198 0.99799599 1.        ]\n",
      " [0.         0.00200401 0.00400802 ... 0.99599198 0.99799599 1.        ]\n",
      " [0.         0.00200401 0.00400802 ... 0.99599198 0.99799599 1.        ]]\n",
      "[[ 0.09146343  0.09146343  0.09425206 ...  5.79921859  5.81609033\n",
      "   5.83772319]\n",
      " [ 0.10219971  0.10219971  0.10751846 ...  8.25782792  8.27878377\n",
      "   8.30706881]\n",
      " [ 0.11829894  0.11829894  0.12742264 ... 11.94455227 11.97258681\n",
      "  12.00989239]\n",
      " ...\n",
      " [ 0.24940911  0.24940911  0.28919222 ... 39.86494565 42.05250527\n",
      "  37.44616548]\n",
      " [ 0.32888643  0.32888643  0.38706178 ... 60.16908642 60.28605641\n",
      "  60.44501403]\n",
      " [ 0.41251219  0.41251219  0.48855894 ... 79.31938641 79.47131625\n",
      "  79.67893978]]\n"
     ]
    }
   ],
   "source": [
    "print(xcor)\n",
    "print(ycor)"
   ]
  },
  {
   "cell_type": "code",
   "execution_count": 1,
   "metadata": {},
   "outputs": [
    {
     "ename": "NameError",
     "evalue": "name 'Volume_T' is not defined",
     "output_type": "error",
     "traceback": [
      "\u001b[0;31m---------------------------------------------------------------------------\u001b[0m",
      "\u001b[0;31mNameError\u001b[0m                                 Traceback (most recent call last)",
      "\u001b[0;32m<ipython-input-1-39a9fd00f2fa>\u001b[0m in \u001b[0;36m<module>\u001b[0;34m\u001b[0m\n\u001b[0;32m----> 1\u001b[0;31m \u001b[0;32mclass\u001b[0m \u001b[0mVCS\u001b[0m\u001b[0;34m(\u001b[0m\u001b[0mobject\u001b[0m\u001b[0;34m)\u001b[0m\u001b[0;34m:\u001b[0m\u001b[0;34m\u001b[0m\u001b[0;34m\u001b[0m\u001b[0m\n\u001b[0m\u001b[1;32m      2\u001b[0m     \u001b[0;34mr\"\"\"Class performing vertical cross-section calculation\"\"\"\u001b[0m\u001b[0;34m\u001b[0m\u001b[0;34m\u001b[0m\u001b[0m\n\u001b[1;32m      3\u001b[0m \u001b[0;34m\u001b[0m\u001b[0m\n\u001b[1;32m      4\u001b[0m     \u001b[0;32mdef\u001b[0m \u001b[0m__init__\u001b[0m\u001b[0;34m(\u001b[0m\u001b[0mself\u001b[0m\u001b[0;34m,\u001b[0m \u001b[0mr_list\u001b[0m\u001b[0;34m:\u001b[0m \u001b[0mVolume_T\u001b[0m\u001b[0;34m)\u001b[0m\u001b[0;34m:\u001b[0m\u001b[0;34m\u001b[0m\u001b[0;34m\u001b[0m\u001b[0m\n\u001b[1;32m      5\u001b[0m         \u001b[0;32mif\u001b[0m \u001b[0;32mnot\u001b[0m \u001b[0mis_uniform\u001b[0m\u001b[0;34m(\u001b[0m\u001b[0mr_list\u001b[0m\u001b[0;34m)\u001b[0m\u001b[0;34m:\u001b[0m\u001b[0;34m\u001b[0m\u001b[0;34m\u001b[0m\u001b[0m\n",
      "\u001b[0;32m<ipython-input-1-39a9fd00f2fa>\u001b[0m in \u001b[0;36mVCS\u001b[0;34m()\u001b[0m\n\u001b[1;32m      2\u001b[0m     \u001b[0;34mr\"\"\"Class performing vertical cross-section calculation\"\"\"\u001b[0m\u001b[0;34m\u001b[0m\u001b[0;34m\u001b[0m\u001b[0m\n\u001b[1;32m      3\u001b[0m \u001b[0;34m\u001b[0m\u001b[0m\n\u001b[0;32m----> 4\u001b[0;31m     \u001b[0;32mdef\u001b[0m \u001b[0m__init__\u001b[0m\u001b[0;34m(\u001b[0m\u001b[0mself\u001b[0m\u001b[0;34m,\u001b[0m \u001b[0mr_list\u001b[0m\u001b[0;34m:\u001b[0m \u001b[0mVolume_T\u001b[0m\u001b[0;34m)\u001b[0m\u001b[0;34m:\u001b[0m\u001b[0;34m\u001b[0m\u001b[0;34m\u001b[0m\u001b[0m\n\u001b[0m\u001b[1;32m      5\u001b[0m         \u001b[0;32mif\u001b[0m \u001b[0;32mnot\u001b[0m \u001b[0mis_uniform\u001b[0m\u001b[0;34m(\u001b[0m\u001b[0mr_list\u001b[0m\u001b[0;34m)\u001b[0m\u001b[0;34m:\u001b[0m\u001b[0;34m\u001b[0m\u001b[0;34m\u001b[0m\u001b[0m\n\u001b[1;32m      6\u001b[0m             raise RadarCalculationError(\n",
      "\u001b[0;31mNameError\u001b[0m: name 'Volume_T' is not defined"
     ]
    }
   ],
   "source": [
    "class VCS(object):\n",
    "    r\"\"\"Class performing vertical cross-section calculation\"\"\"\n",
    "\n",
    "    def __init__(self, r_list: Volume_T):\n",
    "        if not is_uniform(r_list):\n",
    "            raise RadarCalculationError(\n",
    "                \"All input radials must have the same data type\"\n",
    "            )\n",
    "        el = [i.elev for i in r_list]\n",
    "        if len(el) != len(set(el)):\n",
    "            self.rl = list()\n",
    "            el_list = list()\n",
    "            for data in r_list:\n",
    "                if data.elev not in el_list:\n",
    "                    self.rl.append(data)\n",
    "                    el_list.append(data.elev)\n",
    "        else:\n",
    "            self.rl = r_list\n",
    "        self.x, self.y, self.h, self.r = self._geocoor()\n",
    "\n",
    "    def _geocoor(self) -> tuple:\n",
    "        r_data = list()\n",
    "        x_data = list()\n",
    "        y_data = list()\n",
    "        h_data = list()\n",
    "        for i in self.rl:\n",
    "            if i.dtype in [\"VEL\", \"SW\"]:\n",
    "                r, x, y = grid_2d(i.data[0], i.lon, i.lat)\n",
    "            else:\n",
    "                r, x, y = grid_2d(i.data, i.lon, i.lat)\n",
    "            r_data.append(r)\n",
    "            x_data.append(x)\n",
    "            y_data.append(y)\n",
    "            hgh_grid, x, y = grid_2d(i.height, i.lon, i.lat)\n",
    "            h_data.append(hgh_grid)\n",
    "        return x_data, y_data, h_data, r_data\n",
    "\n",
    "    def _get_section(\n",
    "        self, stp: Tuple[float, float], enp: Tuple[float, float], spacing: int\n",
    "    ) -> Slice_:\n",
    "        r_sec = list()\n",
    "        h_sec = list()\n",
    "        for x, y, h, r in zip(self.x, self.y, self.h, self.r):\n",
    "            d_x = DataArray(r, [(\"lat\", y), (\"lon\", x)])\n",
    "            d_h = DataArray(h, [(\"lat\", y), (\"lon\", x)])\n",
    "            x_new = DataArray(np.linspace(stp[0], enp[0], spacing), dims=\"z\")\n",
    "            y_new = DataArray(np.linspace(stp[1], enp[1], spacing), dims=\"z\")\n",
    "            r_section = d_x.interp(lon=x_new, lat=y_new)\n",
    "            h_section = d_h.interp(lon=x_new, lat=y_new)\n",
    "            r_sec.append(r_section)\n",
    "            h_sec.append(h_section)\n",
    "        r = np.asarray(r_sec)\n",
    "        h = np.asarray(h_sec)\n",
    "        r = np.ma.masked_invalid(r)\n",
    "        x = np.linspace(0, 1, spacing) * np.ones(r.shape[0])[:, np.newaxis]\n",
    "        stp_s = \"{}N, {}E\".format(stp[1], stp[0])\n",
    "        enp_s = \"{}N, {}E\".format(enp[1], enp[0])\n",
    "        sl = Slice_(\n",
    "            r,\n",
    "            x,\n",
    "            h,\n",
    "            self.rl[0].scantime,\n",
    "            self.rl[0].code,\n",
    "            self.rl[0].name,\n",
    "            self.rl[0].dtype,\n",
    "            stp_s=stp_s,\n",
    "            enp_s=enp_s,\n",
    "            stp=stp,\n",
    "            enp=enp,\n",
    "        )\n",
    "        return sl\n",
    "\n",
    "    def get_section(\n",
    "        self,\n",
    "        start_polar: Optional[Tuple[float, float]] = None,\n",
    "        end_polar: Optional[Tuple[float, float]] = None,\n",
    "        start_cart: Optional[Tuple[float, float]] = None,\n",
    "        end_cart: Optional[Tuple[float, float]] = None,\n",
    "        spacing: int = 500,\n",
    "    ) -> Slice_:\n",
    "        r\"\"\"\n",
    "        Get cross-section data from input points\n",
    "\n",
    "        Parameters\n",
    "        ----------\n",
    "        start_polar: list or tuple\n",
    "            polar coordinates of start point i.e.(distance, azimuth)\n",
    "        end_polar: list or tuple\n",
    "            polar coordinates of end point i.e.(distance, azimuth)\n",
    "        start_cart: list or tuple\n",
    "            geographic coordinates of start point i.e.(longitude, latitude)\n",
    "        end_cart: list or tuple\n",
    "            geographic coordinates of end point i.e.(longitude, latitude)\n",
    "\n",
    "        Returns\n",
    "        -------\n",
    "        sl: cinrad.datastruct.Slice_\n",
    "        \"\"\"\n",
    "        if start_polar and end_polar:\n",
    "            stlat = self.rl[0].stp[\"lat\"]\n",
    "            stlon = self.rl[0].stp[\"lon\"]\n",
    "            stp = np.round_(\n",
    "                get_coordinate(\n",
    "                    start_polar[0], start_polar[1] * deg2rad, 0, stlon, stlat\n",
    "                ),\n",
    "                2,\n",
    "            )\n",
    "            enp = np.round_(\n",
    "                get_coordinate(end_polar[0], end_polar[1] * deg2rad, 0, stlon, stlat), 2\n",
    "            )\n",
    "        elif start_cart and end_cart:\n",
    "            stp = start_cart\n",
    "            enp = end_cart\n",
    "        else:\n",
    "            raise RadarCalculationError(\"Invalid input\")\n",
    "        return self._get_section(stp, enp, spacing)"
   ]
  }
 ],
 "metadata": {
  "kernelspec": {
   "display_name": "Python 3",
   "language": "python",
   "name": "python3"
  },
  "language_info": {
   "codemirror_mode": {
    "name": "ipython",
    "version": 3
   },
   "file_extension": ".py",
   "mimetype": "text/x-python",
   "name": "python",
   "nbconvert_exporter": "python",
   "pygments_lexer": "ipython3",
   "version": "3.7.1"
  }
 },
 "nbformat": 4,
 "nbformat_minor": 2
}
