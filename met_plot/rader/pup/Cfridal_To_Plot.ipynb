{
 "cells": [
  {
   "cell_type": "code",
   "execution_count": null,
   "metadata": {},
   "outputs": [],
   "source": [
    "# Cfradial _ To _ "
   ]
  },
  {
   "cell_type": "code",
   "execution_count": 3,
   "metadata": {},
   "outputs": [
    {
     "name": "stdout",
     "output_type": "stream",
     "text": [
      "\n",
      "================================\n",
      "Correct reflectivity attenuation\n",
      "================================\n",
      "\n",
      "In this example the reflectivity attenuation is calculated and then corrected\n",
      "for a polarimetric radar using a Z-PHI method implemented in Py-ART.\n",
      "\n",
      "\n",
      "dict_keys(['reflectivity', 'velocity', 'spectrum_width'])\n"
     ]
    },
    {
     "ename": "KeyError",
     "evalue": "'norm_coherent_power'",
     "output_type": "error",
     "traceback": [
      "\u001b[0;31m---------------------------------------------------------------------------\u001b[0m",
      "\u001b[0;31mKeyError\u001b[0m                                  Traceback (most recent call last)",
      "\u001b[0;32m<ipython-input-3-5771cd1040f7>\u001b[0m in \u001b[0;36m<module>\u001b[0;34m\u001b[0m\n\u001b[1;32m     29\u001b[0m     \u001b[0mradar\u001b[0m\u001b[0;34m,\u001b[0m \u001b[0;36m0\u001b[0m\u001b[0;34m,\u001b[0m \u001b[0mrefl_field\u001b[0m\u001b[0;34m=\u001b[0m\u001b[0;34m'reflectivity_horizontal'\u001b[0m\u001b[0;34m,\u001b[0m\u001b[0;34m\u001b[0m\u001b[0;34m\u001b[0m\u001b[0m\n\u001b[1;32m     30\u001b[0m     \u001b[0mncp_field\u001b[0m\u001b[0;34m=\u001b[0m\u001b[0;34m'norm_coherent_power'\u001b[0m\u001b[0;34m,\u001b[0m \u001b[0mrhv_field\u001b[0m\u001b[0;34m=\u001b[0m\u001b[0;34m'copol_coeff'\u001b[0m\u001b[0;34m,\u001b[0m\u001b[0;34m\u001b[0m\u001b[0;34m\u001b[0m\u001b[0m\n\u001b[0;32m---> 31\u001b[0;31m     phidp_field='proc_dp_phase_shift')\n\u001b[0m\u001b[1;32m     32\u001b[0m \u001b[0mradar\u001b[0m\u001b[0;34m.\u001b[0m\u001b[0madd_field\u001b[0m\u001b[0;34m(\u001b[0m\u001b[0;34m'specific_attenuation'\u001b[0m\u001b[0;34m,\u001b[0m \u001b[0mspec_at\u001b[0m\u001b[0;34m)\u001b[0m\u001b[0;34m\u001b[0m\u001b[0;34m\u001b[0m\u001b[0m\n\u001b[1;32m     33\u001b[0m \u001b[0mradar\u001b[0m\u001b[0;34m.\u001b[0m\u001b[0madd_field\u001b[0m\u001b[0;34m(\u001b[0m\u001b[0;34m'corrected_reflectivity_horizontal'\u001b[0m\u001b[0;34m,\u001b[0m \u001b[0mcor_z\u001b[0m\u001b[0;34m)\u001b[0m\u001b[0;34m\u001b[0m\u001b[0;34m\u001b[0m\u001b[0m\n",
      "\u001b[0;32m~/anaconda3/lib/python3.7/site-packages/pyart/correct/attenuation.py\u001b[0m in \u001b[0;36mcalculate_attenuation\u001b[0;34m(radar, z_offset, debug, doc, fzl, rhv_min, ncp_min, a_coef, beta, refl_field, ncp_field, rhv_field, phidp_field, spec_at_field, corr_refl_field)\u001b[0m\n\u001b[1;32m    892\u001b[0m \u001b[0;34m\u001b[0m\u001b[0m\n\u001b[1;32m    893\u001b[0m     \u001b[0;31m# extract fields and parameters from radar\u001b[0m\u001b[0;34m\u001b[0m\u001b[0;34m\u001b[0m\u001b[0;34m\u001b[0m\u001b[0m\n\u001b[0;32m--> 894\u001b[0;31m     \u001b[0mnorm_coherent_power\u001b[0m \u001b[0;34m=\u001b[0m \u001b[0mradar\u001b[0m\u001b[0;34m.\u001b[0m\u001b[0mfields\u001b[0m\u001b[0;34m[\u001b[0m\u001b[0mncp_field\u001b[0m\u001b[0;34m]\u001b[0m\u001b[0;34m[\u001b[0m\u001b[0;34m'data'\u001b[0m\u001b[0;34m]\u001b[0m\u001b[0;34m\u001b[0m\u001b[0;34m\u001b[0m\u001b[0m\n\u001b[0m\u001b[1;32m    895\u001b[0m     \u001b[0mcopol_coeff\u001b[0m \u001b[0;34m=\u001b[0m \u001b[0mradar\u001b[0m\u001b[0;34m.\u001b[0m\u001b[0mfields\u001b[0m\u001b[0;34m[\u001b[0m\u001b[0mrhv_field\u001b[0m\u001b[0;34m]\u001b[0m\u001b[0;34m[\u001b[0m\u001b[0;34m'data'\u001b[0m\u001b[0;34m]\u001b[0m\u001b[0;34m\u001b[0m\u001b[0;34m\u001b[0m\u001b[0m\n\u001b[1;32m    896\u001b[0m     \u001b[0mreflectivity_horizontal\u001b[0m \u001b[0;34m=\u001b[0m \u001b[0mradar\u001b[0m\u001b[0;34m.\u001b[0m\u001b[0mfields\u001b[0m\u001b[0;34m[\u001b[0m\u001b[0mrefl_field\u001b[0m\u001b[0;34m]\u001b[0m\u001b[0;34m[\u001b[0m\u001b[0;34m'data'\u001b[0m\u001b[0;34m]\u001b[0m\u001b[0;34m\u001b[0m\u001b[0;34m\u001b[0m\u001b[0m\n",
      "\u001b[0;31mKeyError\u001b[0m: 'norm_coherent_power'"
     ]
    }
   ],
   "source": [
    "\"\"\"\n",
    "================================\n",
    "Correct reflectivity attenuation\n",
    "================================\n",
    "\n",
    "In this example the reflectivity attenuation is calculated and then corrected\n",
    "for a polarimetric radar using a Z-PHI method implemented in Py-ART.\n",
    "\n",
    "\"\"\"\n",
    "print(__doc__)\n",
    "\n",
    "# Author: Jonathan J. Helmus (jhelmus@anl.gov)\n",
    "# License: BSD 3 clause\n",
    "%matplotlib inline\n",
    "import matplotlib.pyplot as plt\n",
    "import pyart\n",
    "\n",
    "RADAR_NAME = 'cfradial.nc'\n",
    "\n",
    "# read in the data\n",
    "radar = pyart.io.read_cfradial(RADAR_NAME)\n",
    "print(radar.fields.keys())\n",
    "# remove existing corrections\n",
    "#radar.fields.pop('specific_attenuation')\n",
    "#radar.fields.pop('corrected_reflectivity_horizontal')\n",
    "\n",
    "# perform attenuation correction\n",
    "spec_at, cor_z = pyart.correct.calculate_attenuation(\n",
    "    radar, 0, refl_field='reflectivity_horizontal',\n",
    "    ncp_field='norm_coherent_power', rhv_field='copol_coeff',\n",
    "    phidp_field='proc_dp_phase_shift')\n",
    "radar.add_field('specific_attenuation', spec_at)\n",
    "radar.add_field('corrected_reflectivity_horizontal', cor_z)\n",
    "\n",
    "# create the plot\n",
    "fig = plt.figure(figsize=(15, 5))\n",
    "ax1 = fig.add_subplot(131)\n",
    "display = pyart.graph.RadarDisplay(radar)\n",
    "display.plot('reflectivity_horizontal', 0, ax=ax1, vmin=0, vmax=60.,\n",
    "             colorbar_label='', title='Raw Reflectivity')\n",
    "\n",
    "ax2 = fig.add_subplot(132)\n",
    "display.plot('specific_attenuation', 0, vmin=0, vmax=1.0,\n",
    "             colorbar_label='', ax=ax2, title='Specific Attenuation')\n",
    "\n",
    "ax3 = fig.add_subplot(133)\n",
    "display = pyart.graph.RadarDisplay(radar)\n",
    "display.plot('corrected_reflectivity_horizontal', 0, vmin=0, vmax=60.,\n",
    "             colorbar_label='', ax=ax3, title='Corrected Reflectivity')\n",
    "\n",
    "plt.suptitle('Attenuation correction using Py-ART', fontsize=16)\n",
    "plt.show()\n"
   ]
  },
  {
   "cell_type": "code",
   "execution_count": 1,
   "metadata": {},
   "outputs": [
    {
     "name": "stdout",
     "output_type": "stream",
     "text": [
      "\n",
      "## You are using the Python ARM Radar Toolkit (Py-ART), an open source\n",
      "## library for working with weather radar data. Py-ART is partly\n",
      "## supported by the U.S. Department of Energy as part of the Atmospheric\n",
      "## Radiation Measurement (ARM) Climate Research Facility, an Office of\n",
      "## Science user facility.\n",
      "##\n",
      "## If you use this software to prepare a publication, please cite:\n",
      "##\n",
      "##     JJ Helmus and SM Collis, JORS 2016, doi: 10.5334/jors.119\n",
      "\n"
     ]
    },
    {
     "name": "stderr",
     "output_type": "stream",
     "text": [
      "/home/liyuan3970/anaconda3/lib/python3.7/site-packages/pandas/core/tools/datetimes.py:3: DeprecationWarning: Using or importing the ABCs from 'collections' instead of from 'collections.abc' is deprecated, and in 3.8 it will stop working\n",
      "  from collections import MutableMapping\n",
      "/home/liyuan3970/anaconda3/lib/python3.7/site-packages/yaml/constructor.py:126: DeprecationWarning: Using or importing the ABCs from 'collections' instead of from 'collections.abc' is deprecated, and in 3.8 it will stop working\n",
      "  if not isinstance(key, collections.Hashable):\n",
      "/home/liyuan3970/anaconda3/lib/python3.7/site-packages/h5py/_hl/base.py:19: DeprecationWarning: Using or importing the ABCs from 'collections' instead of from 'collections.abc' is deprecated, and in 3.8 it will stop working\n",
      "  from collections import (Mapping, MutableMapping, KeysView,\n",
      "/home/liyuan3970/anaconda3/lib/python3.7/site-packages/h5py/_hl/base.py:19: DeprecationWarning: Using or importing the ABCs from 'collections' instead of from 'collections.abc' is deprecated, and in 3.8 it will stop working\n",
      "  from collections import (Mapping, MutableMapping, KeysView,\n",
      "/home/liyuan3970/anaconda3/lib/python3.7/site-packages/h5py/_hl/base.py:19: DeprecationWarning: Using or importing the ABCs from 'collections' instead of from 'collections.abc' is deprecated, and in 3.8 it will stop working\n",
      "  from collections import (Mapping, MutableMapping, KeysView,\n"
     ]
    }
   ],
   "source": [
    "import matplotlib.pyplot as plt\n",
    "import netCDF4\n",
    "import pyart"
   ]
  },
  {
   "cell_type": "code",
   "execution_count": 2,
   "metadata": {},
   "outputs": [
    {
     "name": "stdout",
     "output_type": "stream",
     "text": [
      "dict_keys(['reflectivity', 'velocity', 'spectrum_width'])\n"
     ]
    }
   ],
   "source": [
    "RADAR_NAME = 'cfradial.nc'\n",
    "\n",
    "# read in the data\n",
    "radar = pyart.io.read_cfradial(RADAR_NAME)\n",
    "print(radar.fields.keys())"
   ]
  },
  {
   "cell_type": "code",
   "execution_count": 3,
   "metadata": {},
   "outputs": [],
   "source": [
    "# create a gate filter which specifies gates to exclude from dealiasing\n",
    "gatefilter = pyart.filters.GateFilter(radar)\n",
    "gatefilter.exclude_transition()\n",
    "gatefilter.exclude_invalid('velocity')\n",
    "gatefilter.exclude_invalid('reflectivity')\n",
    "gatefilter.exclude_outside('reflectivity', 0, 80)"
   ]
  },
  {
   "cell_type": "code",
   "execution_count": 5,
   "metadata": {},
   "outputs": [
    {
     "ename": "MissingOptionalDependency",
     "evalue": "Py-ART must be build with support for TRMM RSL to use the dealias_fourdd function.",
     "output_type": "error",
     "traceback": [
      "\u001b[0;31m---------------------------------------------------------------------------\u001b[0m",
      "\u001b[0;31mMissingOptionalDependency\u001b[0m                 Traceback (most recent call last)",
      "\u001b[0;32m<ipython-input-5-aaa0a24b07cb>\u001b[0m in \u001b[0;36m<module>\u001b[0;34m\u001b[0m\n\u001b[0;32m----> 1\u001b[0;31m \u001b[0mdealias_data\u001b[0m \u001b[0;34m=\u001b[0m \u001b[0mpyart\u001b[0m\u001b[0;34m.\u001b[0m\u001b[0mcorrect\u001b[0m\u001b[0;34m.\u001b[0m\u001b[0mdealias_fourdd\u001b[0m\u001b[0;34m(\u001b[0m\u001b[0mradar\u001b[0m\u001b[0;34m,\u001b[0m \u001b[0mgatefilter\u001b[0m\u001b[0;34m=\u001b[0m\u001b[0mgatefilter\u001b[0m\u001b[0;34m)\u001b[0m\u001b[0;34m\u001b[0m\u001b[0;34m\u001b[0m\u001b[0m\n\u001b[0m\u001b[1;32m      2\u001b[0m \u001b[0mradar\u001b[0m\u001b[0;34m.\u001b[0m\u001b[0madd_field\u001b[0m\u001b[0;34m(\u001b[0m\u001b[0;34m'corrected_velocity'\u001b[0m\u001b[0;34m,\u001b[0m \u001b[0mdealias_data\u001b[0m\u001b[0;34m)\u001b[0m\u001b[0;34m\u001b[0m\u001b[0;34m\u001b[0m\u001b[0m\n",
      "\u001b[0;32m~/anaconda3/lib/python3.7/site-packages/pyart/correct/dealias.py\u001b[0m in \u001b[0;36mdealias_fourdd\u001b[0;34m(radar, last_radar, sonde_profile, gatefilter, filt, rsl_badval, keep_original, set_limits, vel_field, corr_vel_field, last_vel_field, debug, max_shear, sign, **kwargs)\u001b[0m\n\u001b[1;32m    167\u001b[0m     \u001b[0;32mif\u001b[0m \u001b[0;32mnot\u001b[0m \u001b[0m_FOURDD_AVAILABLE\u001b[0m\u001b[0;34m:\u001b[0m\u001b[0;34m\u001b[0m\u001b[0;34m\u001b[0m\u001b[0m\n\u001b[1;32m    168\u001b[0m         raise MissingOptionalDependency(\n\u001b[0;32m--> 169\u001b[0;31m             \u001b[0;34m\"Py-ART must be build with support for TRMM RSL to use\"\u001b[0m\u001b[0;34m\u001b[0m\u001b[0;34m\u001b[0m\u001b[0m\n\u001b[0m\u001b[1;32m    170\u001b[0m             + \" the dealias_fourdd function.\")\n\u001b[1;32m    171\u001b[0m \u001b[0;34m\u001b[0m\u001b[0m\n",
      "\u001b[0;31mMissingOptionalDependency\u001b[0m: Py-ART must be build with support for TRMM RSL to use the dealias_fourdd function."
     ]
    }
   ],
   "source": [
    "dealias_data = pyart.correct.dealias_fourdd(radar, gatefilter=gatefilter)\n",
    "radar.add_field('corrected_velocity', dealias_data)"
   ]
  },
  {
   "cell_type": "code",
   "execution_count": null,
   "metadata": {},
   "outputs": [],
   "source": []
  }
 ],
 "metadata": {
  "kernelspec": {
   "display_name": "Python 3.7.1 64-bit ('anaconda3': virtualenv)",
   "language": "python",
   "name": "python37164bitanaconda3virtualenv9a1873efe37844ab84de9cbfdb5afb63"
  },
  "language_info": {
   "codemirror_mode": {
    "name": "ipython",
    "version": 3
   },
   "file_extension": ".py",
   "mimetype": "text/x-python",
   "name": "python",
   "nbconvert_exporter": "python",
   "pygments_lexer": "ipython3",
   "version": "3.7.1"
  }
 },
 "nbformat": 4,
 "nbformat_minor": 2
}
