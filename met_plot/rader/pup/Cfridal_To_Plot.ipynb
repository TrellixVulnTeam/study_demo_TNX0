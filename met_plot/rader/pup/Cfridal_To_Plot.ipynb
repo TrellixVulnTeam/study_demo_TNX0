{
 "cells": [
  {
   "cell_type": "code",
   "execution_count": null,
   "metadata": {},
   "outputs": [],
   "source": [
    "# Cfradial _ To _ "
   ]
  },
  {
   "cell_type": "code",
   "execution_count": null,
   "metadata": {},
   "outputs": [],
   "source": []
  },
  {
   "cell_type": "code",
   "execution_count": 1,
   "metadata": {},
   "outputs": [
    {
     "name": "stdout",
     "output_type": "stream",
     "text": [
      "\n",
      "## You are using the Python ARM Radar Toolkit (Py-ART), an open source\n",
      "## library for working with weather radar data. Py-ART is partly\n",
      "## supported by the U.S. Department of Energy as part of the Atmospheric\n",
      "## Radiation Measurement (ARM) Climate Research Facility, an Office of\n",
      "## Science user facility.\n",
      "##\n",
      "## If you use this software to prepare a publication, please cite:\n",
      "##\n",
      "##     JJ Helmus and SM Collis, JORS 2016, doi: 10.5334/jors.119\n",
      "\n"
     ]
    },
    {
     "name": "stderr",
     "output_type": "stream",
     "text": [
      "/home/liyuan3970/anaconda3/lib/python3.7/site-packages/pandas/core/tools/datetimes.py:3: DeprecationWarning: Using or importing the ABCs from 'collections' instead of from 'collections.abc' is deprecated, and in 3.8 it will stop working\n",
      "  from collections import MutableMapping\n",
      "/home/liyuan3970/anaconda3/lib/python3.7/site-packages/yaml/constructor.py:126: DeprecationWarning: Using or importing the ABCs from 'collections' instead of from 'collections.abc' is deprecated, and in 3.8 it will stop working\n",
      "  if not isinstance(key, collections.Hashable):\n",
      "/home/liyuan3970/anaconda3/lib/python3.7/site-packages/h5py/_hl/base.py:19: DeprecationWarning: Using or importing the ABCs from 'collections' instead of from 'collections.abc' is deprecated, and in 3.8 it will stop working\n",
      "  from collections import (Mapping, MutableMapping, KeysView,\n",
      "/home/liyuan3970/anaconda3/lib/python3.7/site-packages/h5py/_hl/base.py:19: DeprecationWarning: Using or importing the ABCs from 'collections' instead of from 'collections.abc' is deprecated, and in 3.8 it will stop working\n",
      "  from collections import (Mapping, MutableMapping, KeysView,\n",
      "/home/liyuan3970/anaconda3/lib/python3.7/site-packages/h5py/_hl/base.py:19: DeprecationWarning: Using or importing the ABCs from 'collections' instead of from 'collections.abc' is deprecated, and in 3.8 it will stop working\n",
      "  from collections import (Mapping, MutableMapping, KeysView,\n"
     ]
    }
   ],
   "source": [
    "import matplotlib.pyplot as plt\n",
    "import netCDF4\n",
    "import pyart"
   ]
  },
  {
   "cell_type": "code",
   "execution_count": 2,
   "metadata": {},
   "outputs": [
    {
     "name": "stdout",
     "output_type": "stream",
     "text": [
      "dict_keys(['reflectivity', 'velocity', 'spectrum_width'])\n"
     ]
    }
   ],
   "source": [
    "RADAR_NAME = 'cfradial.nc'\n",
    "\n",
    "# read in the data\n",
    "radar = pyart.io.read_cfradial(RADAR_NAME)\n",
    "print(radar.fields.keys())"
   ]
  },
  {
   "cell_type": "code",
   "execution_count": 3,
   "metadata": {},
   "outputs": [],
   "source": [
    "# create a gate filter which specifies gates to exclude from dealiasing\n",
    "gatefilter = pyart.filters.GateFilter(radar)\n",
    "gatefilter.exclude_transition()\n",
    "gatefilter.exclude_invalid('velocity')\n",
    "gatefilter.exclude_invalid('reflectivity')\n",
    "gatefilter.exclude_outside('reflectivity', 0, 80)"
   ]
  },
  {
   "cell_type": "code",
   "execution_count": 9,
   "metadata": {},
   "outputs": [
    {
     "ename": "ValueError",
     "evalue": "rays are not sequentially ordered, must use 'ray' unwrap_unit.",
     "output_type": "error",
     "traceback": [
      "\u001b[0;31m---------------------------------------------------------------------------\u001b[0m",
      "\u001b[0;31mValueError\u001b[0m                                Traceback (most recent call last)",
      "\u001b[0;32m<ipython-input-9-df0c713238e4>\u001b[0m in \u001b[0;36m<module>\u001b[0;34m\u001b[0m\n\u001b[1;32m      1\u001b[0m \u001b[0;31m#dealias_data = pyart.correct.dealias_fourdd(radar, gatefilter=gatefilter)\u001b[0m\u001b[0;34m\u001b[0m\u001b[0;34m\u001b[0m\u001b[0;34m\u001b[0m\u001b[0m\n\u001b[0;32m----> 2\u001b[0;31m \u001b[0mdealias_data\u001b[0m \u001b[0;34m=\u001b[0m\u001b[0mpyart\u001b[0m\u001b[0;34m.\u001b[0m\u001b[0mcorrect\u001b[0m\u001b[0;34m.\u001b[0m\u001b[0mdealias_unwrap_phase\u001b[0m\u001b[0;34m(\u001b[0m\u001b[0mradar\u001b[0m\u001b[0;34m)\u001b[0m\u001b[0;34m\u001b[0m\u001b[0;34m\u001b[0m\u001b[0m\n\u001b[0m\u001b[1;32m      3\u001b[0m \u001b[0mradar\u001b[0m\u001b[0;34m.\u001b[0m\u001b[0madd_field\u001b[0m\u001b[0;34m(\u001b[0m\u001b[0;34m'corrected_velocity'\u001b[0m\u001b[0;34m,\u001b[0m \u001b[0mdealias_data\u001b[0m\u001b[0;34m)\u001b[0m\u001b[0;34m\u001b[0m\u001b[0;34m\u001b[0m\u001b[0m\n",
      "\u001b[0;32m~/anaconda3/lib/python3.7/site-packages/pyart/correct/unwrap.py\u001b[0m in \u001b[0;36mdealias_unwrap_phase\u001b[0;34m(radar, unwrap_unit, nyquist_vel, check_nyquist_uniform, gatefilter, rays_wrap_around, keep_original, set_limits, vel_field, corr_vel_field, skip_checks, **kwargs)\u001b[0m\n\u001b[1;32m    102\u001b[0m     \u001b[0mnyquist_vel\u001b[0m \u001b[0;34m=\u001b[0m \u001b[0m_parse_nyquist_vel\u001b[0m\u001b[0;34m(\u001b[0m\u001b[0mnyquist_vel\u001b[0m\u001b[0;34m,\u001b[0m \u001b[0mradar\u001b[0m\u001b[0;34m,\u001b[0m \u001b[0mcheck_nyquist_uniform\u001b[0m\u001b[0;34m)\u001b[0m\u001b[0;34m\u001b[0m\u001b[0;34m\u001b[0m\u001b[0m\n\u001b[1;32m    103\u001b[0m     \u001b[0;32mif\u001b[0m \u001b[0;32mnot\u001b[0m \u001b[0mskip_checks\u001b[0m\u001b[0;34m:\u001b[0m\u001b[0;34m\u001b[0m\u001b[0;34m\u001b[0m\u001b[0m\n\u001b[0;32m--> 104\u001b[0;31m         \u001b[0m_verify_unwrap_unit\u001b[0m\u001b[0;34m(\u001b[0m\u001b[0mradar\u001b[0m\u001b[0;34m,\u001b[0m \u001b[0munwrap_unit\u001b[0m\u001b[0;34m)\u001b[0m\u001b[0;34m\u001b[0m\u001b[0;34m\u001b[0m\u001b[0m\n\u001b[0m\u001b[1;32m    105\u001b[0m \u001b[0;34m\u001b[0m\u001b[0m\n\u001b[1;32m    106\u001b[0m     \u001b[0;31m# exclude masked and invalid velocity gates\u001b[0m\u001b[0;34m\u001b[0m\u001b[0;34m\u001b[0m\u001b[0;34m\u001b[0m\u001b[0m\n",
      "\u001b[0;32m~/anaconda3/lib/python3.7/site-packages/pyart/correct/unwrap.py\u001b[0m in \u001b[0;36m_verify_unwrap_unit\u001b[0;34m(radar, unwrap_unit)\u001b[0m\n\u001b[1;32m    225\u001b[0m             mess = (\"rays are not sequentially ordered, must use 'ray' \"\n\u001b[1;32m    226\u001b[0m                     \"unwrap_unit.\")\n\u001b[0;32m--> 227\u001b[0;31m             \u001b[0;32mraise\u001b[0m \u001b[0mValueError\u001b[0m\u001b[0;34m(\u001b[0m\u001b[0mmess\u001b[0m\u001b[0;34m)\u001b[0m\u001b[0;34m\u001b[0m\u001b[0;34m\u001b[0m\u001b[0m\n\u001b[0m\u001b[1;32m    228\u001b[0m     \u001b[0;32mif\u001b[0m \u001b[0munwrap_unit\u001b[0m \u001b[0;34m==\u001b[0m \u001b[0;34m'volume'\u001b[0m\u001b[0;34m:\u001b[0m\u001b[0;34m\u001b[0m\u001b[0;34m\u001b[0m\u001b[0m\n\u001b[1;32m    229\u001b[0m         \u001b[0;32mif\u001b[0m \u001b[0m_is_radar_cubic\u001b[0m\u001b[0;34m(\u001b[0m\u001b[0mradar\u001b[0m\u001b[0;34m)\u001b[0m \u001b[0;32mis\u001b[0m \u001b[0;32mFalse\u001b[0m\u001b[0;34m:\u001b[0m\u001b[0;34m\u001b[0m\u001b[0;34m\u001b[0m\u001b[0m\n",
      "\u001b[0;31mValueError\u001b[0m: rays are not sequentially ordered, must use 'ray' unwrap_unit."
     ]
    }
   ],
   "source": [
    "#dealias_data = pyart.correct.dealias_fourdd(radar, gatefilter=gatefilter)\n",
    "dealias_data =pyart.correct.dealias_unwrap_phase(radar)\n",
    "radar.add_field('corrected_velocity', dealias_data)"
   ]
  },
  {
   "cell_type": "code",
   "execution_count": null,
   "metadata": {},
   "outputs": [],
   "source": []
  }
 ],
 "metadata": {
  "kernelspec": {
   "display_name": "Python 3.7.1 64-bit ('anaconda3': virtualenv)",
   "language": "python",
   "name": "python37164bitanaconda3virtualenv9a1873efe37844ab84de9cbfdb5afb63"
  },
  "language_info": {
   "codemirror_mode": {
    "name": "ipython",
    "version": 3
   },
   "file_extension": ".py",
   "mimetype": "text/x-python",
   "name": "python",
   "nbconvert_exporter": "python",
   "pygments_lexer": "ipython3",
   "version": "3.7.1"
  }
 },
 "nbformat": 4,
 "nbformat_minor": 2
}
