{
 "cells": [
  {
   "cell_type": "markdown",
   "metadata": {},
   "source": [
    "# Micaps"
   ]
  },
  {
   "cell_type": "code",
   "execution_count": null,
   "metadata": {},
   "outputs": [],
   "source": [
    "# 测试"
   ]
  },
  {
   "cell_type": "code",
   "execution_count": 24,
   "metadata": {},
   "outputs": [
    {
     "name": "stdout",
     "output_type": "stream",
     "text": [
      "The autoreload extension is already loaded. To reload it, use:\n",
      "  %reload_ext autoreload\n",
      "(32, 40)\n",
      "[7.11563826]\n"
     ]
    }
   ],
   "source": [
    "# set up things\n",
    "%matplotlib inline\n",
    "%load_ext autoreload\n",
    "%autoreload 2\n",
    "# load necessary libraries\n",
    "# you should install cartopy with 'conda install -c conda-forge cartopy'\n",
    "import xarray as xr\n",
    "import numpy as np\n",
    "import cartopy.crs as ccrs\n",
    "import matplotlib.pyplot as plt\n",
    "\n",
    "# load nmc_met_io for retrieving micaps server data\n",
    "from nmc_met_io.read_micaps import  read_micaps_4\n",
    "from scipy import interpolate\n",
    "directory = '/home/liyuan3970/study_demo/met_plot/miscaps/'\n",
    "filename = '20062720.033'\n",
    "data = read_micaps_4('20062720.033')\n",
    "#打印数据变量特征\n",
    "#print(data.values)\n",
    "#获取纬度数组\n",
    "lat = data.lat.data\n",
    "lon = data.lon.data\n",
    "lat_start = list(np.where(lat ==27))[0][0]\n",
    "lat_end = list(np.where(lat ==31))[0][0]\n",
    "\n",
    "lon_start = list(np.where(lon ==118))[0][0]\n",
    "lon_end = list(np.where(lon ==123))[0][0]\n",
    "\n",
    "# 获取浙江数据 \n",
    "data_zj = data.data[0,lat_start:lat_end,lon_start:lon_end]\n",
    "\n",
    "lat_one =data_zj.lat.data\n",
    "lon_one =data_zj.lon.data\n",
    "\n",
    "xx, yy = np.meshgrid(lon_one, lat_one)\n",
    "print(xx.shape)\n",
    "\n",
    "zz = data_zj.data.data\n",
    "#f = interpolate.interp2d(lon_one, lat_one, data_zj.data.data, kind='cubic')\n",
    "\n",
    "\n",
    "station = f(121.12,28.52)\n",
    "print(station)\n",
    "# print(zz)\n",
    "# print(data_zj.lat.data[0])"
   ]
  },
  {
   "cell_type": "code",
   "execution_count": null,
   "metadata": {},
   "outputs": [],
   "source": []
  },
  {
   "cell_type": "code",
   "execution_count": 6,
   "metadata": {},
   "outputs": [
    {
     "name": "stdout",
     "output_type": "stream",
     "text": [
      "The autoreload extension is already loaded. To reload it, use:\n",
      "  %reload_ext autoreload\n",
      "Micaps 4 file error: 20071320.024\n"
     ]
    }
   ],
   "source": [
    "# set up things\n",
    "%matplotlib inline\n",
    "%load_ext autoreload\n",
    "%autoreload 2\n",
    "# load necessary libraries\n",
    "# you should install cartopy with 'conda install -c conda-forge cartopy'\n",
    "import xarray as xr\n",
    "import numpy as np\n",
    "import cartopy.crs as ccrs\n",
    "import matplotlib.pyplot as plt\n",
    "\n",
    "# load nmc_met_io for retrieving micaps server data\n",
    "from nmc_met_io.read_micaps import  read_micaps_4\n",
    "from scipy import interpolate\n",
    "\n",
    "data = read_micaps_4('20071320.024')\n",
    "data\n"
   ]
  },
  {
   "cell_type": "code",
   "execution_count": null,
   "metadata": {},
   "outputs": [],
   "source": []
  },
  {
   "cell_type": "markdown",
   "metadata": {},
   "source": [
    "## 输出成nc数据"
   ]
  },
  {
   "cell_type": "code",
   "execution_count": 4,
   "metadata": {},
   "outputs": [],
   "source": [
    "import xarray as xr\n",
    "import numpy as np\n",
    "import cartopy.crs as ccrs\n",
    "import matplotlib.pyplot as plt\n",
    "\n",
    "# load nmc_met_io for retrieving micaps server data\n",
    "from nmc_met_io.read_micaps import  read_micaps_4\n",
    "from scipy import interpolate\n",
    "directory = '/home/liyuan3970/study_demo/met_plot/miscaps/'\n",
    "filename = '20062720.033'\n",
    "data = read_micaps_4('20062720.033')\n",
    "#打印数据变量特征\n",
    "#print(data.values)\n",
    "#获取纬度数组\n",
    "lat = data.lat.data\n",
    "lon = data.lon.data\n",
    "lat_start = list(np.where(lat ==27))[0][0]\n",
    "lat_end = list(np.where(lat ==31))[0][0]\n",
    "\n",
    "lon_start = list(np.where(lon ==118))[0][0]\n",
    "lon_end = list(np.where(lon ==123))[0][0]\n",
    "\n",
    "# 获取浙江数据 \n",
    "data_zj = data.data[0,lat_start:lat_end,lon_start:lon_end]\n",
    "\n",
    "data_zj.to_netcdf(\"test.nc\")"
   ]
  },
  {
   "cell_type": "markdown",
   "metadata": {},
   "source": [
    "# 数据合并\n"
   ]
  },
  {
   "cell_type": "code",
   "execution_count": 3,
   "metadata": {},
   "outputs": [
    {
     "data": {
      "text/plain": [
       "<xarray.Dataset>\n",
       "Dimensions:                  (lat: 721, lon: 1441, time: 2)\n",
       "Coordinates:\n",
       "    forecast_reference_time  datetime64[ns] 2020-06-27T20:00:00\n",
       "  * lon                      (lon) float64 0.0 0.125 0.25 ... 179.8 179.9 180.0\n",
       "  * lat                      (lat) float64 -10.0 -9.875 -9.75 ... 79.88 80.0\n",
       "  * time                     (time) datetime64[ns] 2020-06-29T05:00:00 2020-06-28T20:00:00\n",
       "    forecast_period          (time) float64 33.0 24.0\n",
       "Data variables:\n",
       "    data                     (time, lat, lon) float64 nan nan nan ... 3.64 3.63"
      ]
     },
     "execution_count": 3,
     "metadata": {},
     "output_type": "execute_result"
    }
   ],
   "source": [
    "import xarray as xr\n",
    "import numpy as np\n",
    "import cartopy.crs as ccrs\n",
    "import matplotlib.pyplot as plt\n",
    "\n",
    "# load nmc_met_io for retrieving micaps server data\n",
    "from nmc_met_io.read_micaps import  read_micaps_4\n",
    "from scipy import interpolate\n",
    "\n",
    "data1 = read_micaps_4('20062720.033')\n",
    "\n",
    "data2 = read_micaps_4('20062720.024')\n",
    "\n",
    "data =xr.concat([data1, data2],dim='time')\n",
    "data"
   ]
  },
  {
   "cell_type": "code",
   "execution_count": null,
   "metadata": {},
   "outputs": [],
   "source": []
  },
  {
   "cell_type": "code",
   "execution_count": 4,
   "metadata": {},
   "outputs": [],
   "source": [
    "# 变量合并\n"
   ]
  },
  {
   "cell_type": "code",
   "execution_count": 31,
   "metadata": {},
   "outputs": [],
   "source": [
    "import xarray as xr\n",
    "import numpy as np\n",
    "import cartopy.crs as ccrs\n",
    "import matplotlib.pyplot as plt\n",
    "\n",
    "# load nmc_met_io for retrieving micaps server data\n",
    "from nmc_met_io.read_micaps import  read_micaps_4\n",
    "from scipy import interpolate\n",
    "\n",
    "data1 = read_micaps_4('20062720.033')\n",
    "\n",
    "data2 = read_micaps_4('20070720.024')\n"
   ]
  },
  {
   "cell_type": "code",
   "execution_count": null,
   "metadata": {},
   "outputs": [],
   "source": []
  }
 ],
 "metadata": {
  "kernelspec": {
   "display_name": "Python 3",
   "language": "python",
   "name": "python3"
  },
  "language_info": {
   "codemirror_mode": {
    "name": "ipython",
    "version": 3
   },
   "file_extension": ".py",
   "mimetype": "text/x-python",
   "name": "python",
   "nbconvert_exporter": "python",
   "pygments_lexer": "ipython3",
   "version": "3.7.1"
  }
 },
 "nbformat": 4,
 "nbformat_minor": 2
}
