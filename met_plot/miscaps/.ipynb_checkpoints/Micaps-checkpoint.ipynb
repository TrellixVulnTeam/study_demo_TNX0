{
 "cells": [
  {
   "cell_type": "markdown",
   "metadata": {},
   "source": [
    "# Micaps"
   ]
  },
  {
   "cell_type": "code",
   "execution_count": null,
   "metadata": {},
   "outputs": [],
   "source": [
    "# 测试"
   ]
  },
  {
   "cell_type": "code",
   "execution_count": 49,
   "metadata": {},
   "outputs": [
    {
     "name": "stdout",
     "output_type": "stream",
     "text": [
      "The autoreload extension is already loaded. To reload it, use:\n",
      "  %reload_ext autoreload\n",
      "<bound method Mapping.values of <xarray.Dataset>\n",
      "Dimensions:                  (lat: 401, lon: 561, time: 1)\n",
      "Coordinates:\n",
      "  * time                     (time) datetime64[ns] 2020-06-29T05:00:00\n",
      "  * lat                      (lat) float64 10.0 10.12 10.25 ... 59.75 59.88 60.0\n",
      "  * lon                      (lon) float64 70.0 70.12 70.25 ... 139.9 140.0\n",
      "    forecast_reference_time  datetime64[ns] 2020-06-27T20:00:00\n",
      "    forecast_period          (time) float64 33.0\n",
      "Data variables:\n",
      "    data                     (time, lat, lon) float64 15.05 15.01 ... 4.23 4.51>\n"
     ]
    }
   ],
   "source": [
    "\n",
    "# set up things\n",
    "%matplotlib inline\n",
    "%load_ext autoreload\n",
    "%autoreload 2\n",
    "# load necessary libraries\n",
    "# you should install cartopy with 'conda install -c conda-forge cartopy'\n",
    "import xarray as xr\n",
    "import numpy as np\n",
    "import cartopy.crs as ccrs\n",
    "import matplotlib.pyplot as plt\n",
    "\n",
    "# load nmc_met_io for retrieving micaps server data\n",
    "from nmc_met_io.read_micaps import  read_micaps_4\n",
    "\n",
    "directory = '/home/liyuan3970/study_demo/met_plot/miscaps/'\n",
    "filename = '20062720.033'\n",
    "data = read_micaps_4('20062720.033')\n",
    "#打印数据变量特征\n",
    "print(data.values)\n",
    "#获取纬度数组\n",
    "lat = data.lat.data\n",
    "\n",
    "#切片\n",
    "#print(data.data.data[0,5:100,100:200].shape)\n",
    "# 打印所有数据\n",
    "#print(data.data.data)"
   ]
  }
 ],
 "metadata": {
  "kernelspec": {
   "display_name": "Python 3",
   "language": "python",
   "name": "python3"
  },
  "language_info": {
   "codemirror_mode": {
    "name": "ipython",
    "version": 3
   },
   "file_extension": ".py",
   "mimetype": "text/x-python",
   "name": "python",
   "nbconvert_exporter": "python",
   "pygments_lexer": "ipython3",
   "version": "3.7.1"
  }
 },
 "nbformat": 4,
 "nbformat_minor": 2
}
