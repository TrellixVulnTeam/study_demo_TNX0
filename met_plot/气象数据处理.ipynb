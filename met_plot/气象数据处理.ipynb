{
 "cells": [
  {
   "cell_type": "markdown",
   "metadata": {},
   "source": [
    "### NCL\n",
    "\n",
    "#### 转换grb数据为nc\n",
    "\n",
    "\n",
    "```sheel\n",
    "ncl_convert2nc U12345.grb\n",
    "\n",
    "```"
   ]
  },
  {
   "cell_type": "markdown",
   "metadata": {},
   "source": [
    "# 雷达数据的处理\n",
    "### 雷达数据处理成笛卡尔系的格点数据"
   ]
  },
  {
   "cell_type": "code",
   "execution_count": 3,
   "metadata": {},
   "outputs": [
    {
     "name": "stdout",
     "output_type": "stream",
     "text": [
      "(416, 471)\n"
     ]
    }
   ],
   "source": [
    "import cinrad\n",
    "import math\n",
    "import numpy as np\n",
    "%matplotlib inline\n",
    "#处理雷达数据\n",
    "file = '/home/liyuan3970/study_demo/met_plot/利齐马/src/'\n",
    "f = cinrad.io.CinradReader(file+'Z_RADR_I_Z9577_20190809180500_O_DOR_SA_CAP.bin.bz2')\n",
    "step = 0.01\n",
    "tilt_number = 0\n",
    "data_radius = 230\n",
    "data_dtype = 'REF' # stands for reflectivity\n",
    "ra = f.get_data(tilt_number, data_radius, data_dtype)\n",
    "\n",
    "v = []\n",
    "v.append(ra)\n",
    "gmap =cinrad.easycalc.GridMapper(v)\n",
    "grid = gmap(step)\n",
    "lon = grid.lon\n",
    "\n",
    "lat = grid.lat\n",
    "#print(lat[0][:])\n",
    "data = grid.data\n",
    "print(lat.shape)\n",
    "#print(data.shape)\n",
    "\n",
    "start_lat = np.amin(lat)\n",
    "end_lat = np.amax(lat)\n",
    "start_lon = np.amin(lon)\n",
    "end_lon = np.amax(lon)\n",
    "\n",
    "\n",
    "\n",
    "nlats = len(lat); \n",
    "#print(nlats)\n",
    "nlons = len(lon[0][:]); \n",
    "#print(nlons)\n"
   ]
  },
  {
   "cell_type": "markdown",
   "metadata": {},
   "source": [
    "### 输出为Netcdf"
   ]
  },
  {
   "cell_type": "code",
   "execution_count": 4,
   "metadata": {},
   "outputs": [
    {
     "name": "stdout",
     "output_type": "stream",
     "text": [
      "<class 'netCDF4._netCDF4.Dataset'>\n",
      "root group (NETCDF4_CLASSIC data model, file format HDF5):\n",
      "    dimensions(sizes): \n",
      "    variables(dimensions): \n",
      "    groups: \n",
      "<class 'netCDF4._netCDF4.Variable'>\n",
      "float32 lon(lon)\n",
      "    units: degrees_east\n",
      "    long_name: longitude\n",
      "unlimited dimensions: \n",
      "current shape = (471,)\n",
      "filling on, default _FillValue of 9.969209968386869e+36 used\n"
     ]
    }
   ],
   "source": [
    "import netCDF4     # Note: python is case-sensitive!\n",
    "import numpy as np\n",
    "\n",
    "try: ncfile.close()  # just to be safe, make sure dataset is not already open.\n",
    "except: pass\n",
    "ncfile = netCDF4.Dataset('Radar.nc',mode='w',format='NETCDF4_CLASSIC') \n",
    "print(ncfile)\n",
    "\n",
    "\n",
    "lat_dim = ncfile.createDimension('lat', nlats)     # latitude axis\n",
    "lon_dim = ncfile.createDimension('lon', nlons)    # longitude axis\n",
    "time_dim = ncfile.createDimension('time', None) # unlimited axis (can be appended to).\n",
    "\n",
    "ncfile.title='Z_RADR_I_Z9577_20190809180500_O_DOR_SA_CAP'\n",
    "\n",
    "# Define two variables with the same names as dimensions,\n",
    "# a conventional way to define \"coordinate variables\".\n",
    "lat = ncfile.createVariable('lat', np.float32, ('lat',))\n",
    "lat.units = 'degrees_north'\n",
    "lat.long_name = 'latitude'\n",
    "lon = ncfile.createVariable('lon', np.float32, ('lon',))\n",
    "lon.units = 'degrees_east'\n",
    "lon.long_name = 'longitude'\n",
    "time = ncfile.createVariable('time', np.float64, ('time',))\n",
    "time.units = 'hours since 1800-01-01'\n",
    "time.long_name = 'time'\n",
    "# Define a 3D variable to hold the data\n",
    "ref= ncfile.createVariable('ref',np.float64,('time','lat','lon')) # note: unlimited dimension is leftmost\n",
    "ref.units = 'DBZ' # degrees Kelvin\n",
    "ref.standard_name = 'radar_DBZ' # this is a CF standard name\n",
    "\n",
    "\n",
    "\n",
    "# Write latitudes, longitudes.\n",
    "# Note: the \":\" is necessary in these \"write\" statements\n",
    "lat[:] = np.arange(start_lat,end_lat,step) # south pole to north pole\n",
    "lon[:] = np.arange(start_lon,end_lon,step) # Greenwich meridian eastward\n",
    "print(lon)\n",
    "# create a 3D array of random numbers\n",
    "\n",
    "# Write the data.  This writes the whole 3D netCDF variable all at once.\n",
    "ref[0,:,:] = data  # Appends data along unlimited dimension\n",
    "ncfile.close()"
   ]
  },
  {
   "cell_type": "markdown",
   "metadata": {},
   "source": [
    "![台风](rader/src/radar_io.png)"
   ]
  },
  {
   "cell_type": "code",
   "execution_count": 1,
   "metadata": {},
   "outputs": [
    {
     "ename": "NameError",
     "evalue": "name 'NRadar' is not defined",
     "output_type": "error",
     "traceback": [
      "\u001b[0;31m---------------------------------------------------------------------------\u001b[0m",
      "\u001b[0;31mNameError\u001b[0m                                 Traceback (most recent call last)",
      "\u001b[0;32m<ipython-input-1-1900149cbf95>\u001b[0m in \u001b[0;36m<module>\u001b[0;34m\u001b[0m\n\u001b[1;32m      3\u001b[0m \u001b[0;32mfrom\u001b[0m \u001b[0mpycwr\u001b[0m\u001b[0;34m.\u001b[0m\u001b[0mdraw\u001b[0m\u001b[0;34m.\u001b[0m\u001b[0mRadarPlot\u001b[0m \u001b[0;32mimport\u001b[0m \u001b[0mGraph\u001b[0m\u001b[0;34m,\u001b[0m \u001b[0mGraphMap\u001b[0m\u001b[0;34m\u001b[0m\u001b[0;34m\u001b[0m\u001b[0m\n\u001b[1;32m      4\u001b[0m \u001b[0max\u001b[0m \u001b[0;34m=\u001b[0m \u001b[0mplt\u001b[0m\u001b[0;34m.\u001b[0m\u001b[0maxes\u001b[0m\u001b[0;34m(\u001b[0m\u001b[0mprojection\u001b[0m\u001b[0;34m=\u001b[0m\u001b[0mccrs\u001b[0m\u001b[0;34m.\u001b[0m\u001b[0mPlateCarree\u001b[0m\u001b[0;34m(\u001b[0m\u001b[0;34m)\u001b[0m\u001b[0;34m)\u001b[0m\u001b[0;34m\u001b[0m\u001b[0;34m\u001b[0m\u001b[0m\n\u001b[0;32m----> 5\u001b[0;31m \u001b[0mgraph\u001b[0m \u001b[0;34m=\u001b[0m \u001b[0mGraphMap\u001b[0m\u001b[0;34m(\u001b[0m\u001b[0mNRadar\u001b[0m\u001b[0;34m,\u001b[0m \u001b[0mccrs\u001b[0m\u001b[0;34m.\u001b[0m\u001b[0mPlateCarree\u001b[0m\u001b[0;34m(\u001b[0m\u001b[0;34m)\u001b[0m\u001b[0;34m)\u001b[0m\u001b[0;34m\u001b[0m\u001b[0;34m\u001b[0m\u001b[0m\n\u001b[0m\u001b[1;32m      6\u001b[0m \u001b[0mgraph\u001b[0m\u001b[0;34m.\u001b[0m\u001b[0mplot_ppi_map\u001b[0m\u001b[0;34m(\u001b[0m\u001b[0max\u001b[0m\u001b[0;34m,\u001b[0m \u001b[0;36m0\u001b[0m\u001b[0;34m,\u001b[0m \u001b[0;34m\"dBZ\"\u001b[0m\u001b[0;34m,\u001b[0m \u001b[0mcmap\u001b[0m\u001b[0;34m=\u001b[0m\u001b[0;34m\"pyart_NWSRef\"\u001b[0m\u001b[0;34m)\u001b[0m\u001b[0;34m\u001b[0m\u001b[0;34m\u001b[0m\u001b[0m\n\u001b[1;32m      7\u001b[0m \u001b[0max\u001b[0m\u001b[0;34m.\u001b[0m\u001b[0mset_title\u001b[0m\u001b[0;34m(\u001b[0m\u001b[0;34m\"example of PPI with map\"\u001b[0m\u001b[0;34m,\u001b[0m \u001b[0mfontsize\u001b[0m\u001b[0;34m=\u001b[0m\u001b[0;36m16\u001b[0m\u001b[0;34m)\u001b[0m\u001b[0;34m\u001b[0m\u001b[0;34m\u001b[0m\u001b[0m\n",
      "\u001b[0;31mNameError\u001b[0m: name 'NRadar' is not defined"
     ]
    }
   ],
   "source": []
  },
  {
   "cell_type": "markdown",
   "metadata": {},
   "source": [
    "## 数据插值"
   ]
  },
  {
   "cell_type": "code",
   "execution_count": 2,
   "metadata": {},
   "outputs": [
    {
     "name": "stderr",
     "output_type": "stream",
     "text": [
      "In /home/liyuan3970/anaconda3/lib/python3.7/site-packages/matplotlib/mpl-data/stylelib/_classic_test.mplstyle: \n",
      "The savefig.frameon rcparam was deprecated in Matplotlib 3.1 and will be removed in 3.3.\n",
      "In /home/liyuan3970/anaconda3/lib/python3.7/site-packages/matplotlib/mpl-data/stylelib/_classic_test.mplstyle: \n",
      "The verbose.level rcparam was deprecated in Matplotlib 3.1 and will be removed in 3.3.\n",
      "In /home/liyuan3970/anaconda3/lib/python3.7/site-packages/matplotlib/mpl-data/stylelib/_classic_test.mplstyle: \n",
      "The verbose.fileo rcparam was deprecated in Matplotlib 3.1 and will be removed in 3.3.\n"
     ]
    },
    {
     "data": {
      "image/png": "[encoded data removed]",
      "text/plain": [
       "<Figure size 432x288 with 1 Axes>"
      ]
     },
     "metadata": {
      "needs_background": "light"
     },
     "output_type": "display_data"
    }
   ],
   "source": [
    "%matplotlib inline\n",
    "import numpy as np, matplotlib.pyplot as plt\n",
    "from scipy.interpolate import interp1d\n",
    "xi = np.linspace(0, 1, 11, endpoint=True)\n",
    "vi = np.linspace(0, 1, 5, endpoint=True)\n",
    "#yi = np.array([8,2,6,2,4])\n",
    "def fv(x):\n",
    "    return x\n",
    "interp_nn = interp1d(vi, fv(vi), kind='nearest')    \n",
    "#interp_nn = interp1d(vi, yi, kind='nearest')   \n",
    "# print xi,\"#xi\"\n",
    "# print fv(xi), \"fv(xi)\"\n",
    "# print vi, \"#vi\"\n",
    "# print fv(vi), \"fv(vi)\"\n",
    "xy = fv(xi)\n",
    "vy = fv(vi)\n",
    "# print xy, \"#xy\"\n",
    "# print vy, \"#vy\"\n",
    "def distance(ax, ay, bx, by):\n",
    "    for i in range(len(ax)):\n",
    "        tt = list()\n",
    "        for j in range(len(bx)):\n",
    "            for k in range(len(bx)):\n",
    "                d = np.sqrt(np.power(ax[i] - bx[k],2) + np.power(by[j] - by[k],2))\n",
    "                tt.append((d, k))\n",
    "        ret = sorted(tt, key = lambda x : x[0])\n",
    "#         print \"y' is\", by[ret[0][1]]\n",
    "\n",
    "# print interp_nn(xi),\"#interp_nn(xi)\"\n",
    "distance(xi, xy, vi, vy)\n",
    "#distance(xi, xy, vi, yi)\n",
    "plt.plot(vi, fv(vi), 'b+', markersize=18)\n",
    "#plt.plot(vi, yi, 'b+', markersize=18)\n",
    "plt.plot(xi, interp_nn(xi), 'ro')\n",
    "plt.ylim(-0.05, 1.05)\n",
    "plt.xlim(-0.05, 1.05)\n",
    "plt.show()"
   ]
  }
 ],
 "metadata": {
  "kernelspec": {
   "display_name": "Python 3",
   "language": "python",
   "name": "python3"
  },
  "language_info": {
   "codemirror_mode": {
    "name": "ipython",
    "version": 3
   },
   "file_extension": ".py",
   "mimetype": "text/x-python",
   "name": "python",
   "nbconvert_exporter": "python",
   "pygments_lexer": "ipython3",
   "version": "3.7.1"
  }
 },
 "nbformat": 4,
 "nbformat_minor": 2
}
