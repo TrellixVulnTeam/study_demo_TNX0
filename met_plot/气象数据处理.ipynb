{
 "cells": [
  {
   "cell_type": "markdown",
   "metadata": {},
   "source": [
    "### NCL\n",
    "\n",
    "#### 转换grb数据为nc\n",
    "\n",
    "\n",
    "```sheel\n",
    "ncl_convert2nc U12345.grb\n",
    "\n",
    "```"
   ]
  },
  {
   "cell_type": "markdown",
   "metadata": {},
   "source": [
    "# 雷达数据的处理\n",
    "### 雷达数据处理成笛卡尔系的格点数据"
   ]
  },
  {
   "cell_type": "code",
   "execution_count": 37,
   "metadata": {},
   "outputs": [
    {
     "name": "stdout",
     "output_type": "stream",
     "text": [
      "(416, 471)\n",
      "416\n",
      "471\n"
     ]
    }
   ],
   "source": [
    "import cinrad\n",
    "import math\n",
    "import numpy as np\n",
    "%matplotlib inline\n",
    "#处理雷达数据\n",
    "file = '/home/liyuan3970/study_demo/met_plot/利齐马/src/'\n",
    "f = cinrad.io.CinradReader(file+'Z_RADR_I_Z9577_20190809180500_O_DOR_SA_CAP.bin.bz2')\n",
    "tilt_number = 0\n",
    "data_radius = 230\n",
    "data_dtype = 'REF' # stands for reflectivity\n",
    "ra = f.get_data(tilt_number, data_radius, data_dtype)\n",
    "\n",
    "v = []\n",
    "v.append(ra)\n",
    "gmap =cinrad.easycalc.GridMapper(v)\n",
    "grid = gmap(0.01)\n",
    "lon = grid.lon\n",
    "\n",
    "lat = grid.lat\n",
    "#print(lat[0][:])\n",
    "data = grid.data\n",
    "print(lat.shape)\n",
    "#print(data.shape)\n",
    "\n",
    "start_lat = np.amin(lat)\n",
    "end_lat = np.amax(lat)\n",
    "start_lon = np.amin(lon)\n",
    "end_lon = np.amax(lon)\n",
    "\n",
    "\n",
    "nlats = len(lat); \n",
    "#print(nlats)\n",
    "nlons = len(lon[0][:]); \n",
    "#print(nlons)\n"
   ]
  },
  {
   "cell_type": "markdown",
   "metadata": {},
   "source": [
    "### 输出为Netcdf"
   ]
  },
  {
   "cell_type": "code",
   "execution_count": 43,
   "metadata": {},
   "outputs": [
    {
     "name": "stdout",
     "output_type": "stream",
     "text": [
      "<class 'netCDF4._netCDF4.Dataset'>\n",
      "root group (NETCDF4_CLASSIC data model, file format HDF5):\n",
      "    dimensions(sizes): \n",
      "    variables(dimensions): \n",
      "    groups: \n",
      "<class 'netCDF4._netCDF4.Variable'>\n",
      "float32 lon(lon)\n",
      "    units: degrees_east\n",
      "    long_name: longitude\n",
      "unlimited dimensions: \n",
      "current shape = (471,)\n",
      "filling on, default _FillValue of 9.969209968386869e+36 used\n"
     ]
    }
   ],
   "source": [
    "import netCDF4     # Note: python is case-sensitive!\n",
    "import numpy as np\n",
    "\n",
    "try: ncfile.close()  # just to be safe, make sure dataset is not already open.\n",
    "except: pass\n",
    "ncfile = netCDF4.Dataset('Radar.nc',mode='w',format='NETCDF4_CLASSIC') \n",
    "print(ncfile)\n",
    "\n",
    "\n",
    "lat_dim = ncfile.createDimension('lat', 416)     # latitude axis\n",
    "lon_dim = ncfile.createDimension('lon', 471)    # longitude axis\n",
    "time_dim = ncfile.createDimension('time', None) # unlimited axis (can be appended to).\n",
    "\n",
    "ncfile.title='Z_RADR_I_Z9577_20190809180500_O_DOR_SA_CAP'\n",
    "\n",
    "# Define two variables with the same names as dimensions,\n",
    "# a conventional way to define \"coordinate variables\".\n",
    "lat = ncfile.createVariable('lat', np.float32, ('lat',))\n",
    "lat.units = 'degrees_north'\n",
    "lat.long_name = 'latitude'\n",
    "lon = ncfile.createVariable('lon', np.float32, ('lon',))\n",
    "lon.units = 'degrees_east'\n",
    "lon.long_name = 'longitude'\n",
    "time = ncfile.createVariable('time', np.float64, ('time',))\n",
    "time.units = 'hours since 1800-01-01'\n",
    "time.long_name = 'time'\n",
    "# Define a 3D variable to hold the data\n",
    "ref= ncfile.createVariable('ref',np.float64,('lat','lon')) # note: unlimited dimension is leftmost\n",
    "ref.units = 'DBZ' # degrees Kelvin\n",
    "ref.standard_name = 'radar_DBZ' # this is a CF standard name\n",
    "\n",
    "\n",
    "\n",
    "# Write latitudes, longitudes.\n",
    "# Note: the \":\" is necessary in these \"write\" statements\n",
    "lat[:] = np.arange(start_lat,end_lat,0.01) # south pole to north pole\n",
    "lon[:] = np.arange(start_lon,end_lon,0.01) # Greenwich meridian eastward\n",
    "print(lon)\n",
    "# create a 3D array of random numbers\n",
    "\n",
    "# Write the data.  This writes the whole 3D netCDF variable all at once.\n",
    "ref[:,:] = data  # Appends data along unlimited dimension\n",
    "ncfile.close()"
   ]
  },
  {
   "cell_type": "markdown",
   "metadata": {},
   "source": [
    "![台风](rader/src/radar_io.png)"
   ]
  },
  {
   "cell_type": "code",
   "execution_count": null,
   "metadata": {},
   "outputs": [],
   "source": []
  }
 ],
 "metadata": {
  "kernelspec": {
   "display_name": "Python 3",
   "language": "python",
   "name": "python3"
  },
  "language_info": {
   "codemirror_mode": {
    "name": "ipython",
    "version": 3
   },
   "file_extension": ".py",
   "mimetype": "text/x-python",
   "name": "python",
   "nbconvert_exporter": "python",
   "pygments_lexer": "ipython3",
   "version": "3.7.1"
  }
 },
 "nbformat": 4,
 "nbformat_minor": 2
}
