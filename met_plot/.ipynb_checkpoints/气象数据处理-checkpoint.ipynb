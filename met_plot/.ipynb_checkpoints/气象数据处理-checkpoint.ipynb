{
 "cells": [
  {
   "cell_type": "markdown",
   "metadata": {},
   "source": [
    "### NCL\n",
    "\n",
    "#### 转换grb数据为nc\n",
    "\n",
    "\n",
    "```sheel\n",
    "ncl_convert2nc U12345.grb\n",
    "\n",
    "```"
   ]
  },
  {
   "cell_type": "markdown",
   "metadata": {},
   "source": [
    "# 雷达数据的处理\n",
    "### 雷达数据处理成笛卡尔系的格点数据"
   ]
  },
  {
   "cell_type": "code",
   "execution_count": 1,
   "metadata": {},
   "outputs": [
    {
     "name": "stdout",
     "output_type": "stream",
     "text": [
      "(18, 20)\n"
     ]
    },
    {
     "name": "stderr",
     "output_type": "stream",
     "text": [
      "/home/liyuan3970/anaconda3/lib/python3.7/site-packages/cinrad-1.4.2-py3.7-linux-x86_64.egg/cinrad/easycalc.py:407: RuntimeWarning: divide by zero encountered in true_divide\n",
      "  return np.ma.average(inp, weights=1 / wgt, axis=2)\n",
      "/home/liyuan3970/anaconda3/lib/python3.7/site-packages/numpy/ma/extras.py:605: RuntimeWarning: invalid value encountered in multiply\n",
      "  wgt = wgt*(~a.mask)\n"
     ]
    }
   ],
   "source": [
    "import cinrad\n",
    "import math\n",
    "import numpy as np\n",
    "%matplotlib inline\n",
    "#处理雷达数据\n",
    "file = '/home/liyuan3970/study_demo/met_plot/利齐马/src/'\n",
    "f = cinrad.io.CinradReader(file+'Z_RADR_I_Z9577_20190809180500_O_DOR_SA_CAP.bin.bz2')\n",
    "step = 0.01\n",
    "tilt_number = 0\n",
    "data_radius = 230\n",
    "data_dtype = 'REF' # stands for reflectivity\n",
    "ra = f.get_data(tilt_number, data_radius, data_dtype)\n",
    "\n",
    "v = []\n",
    "v.append(ra)\n",
    "gmap =cinrad.easycalc.GridMapper(v)\n",
    "grid = gmap(step)\n",
    "lon = grid.lon\n",
    "\n",
    "lat = grid.lat\n",
    "#print(lat[0][:])\n",
    "data = grid.data\n",
    "print(lat.shape)\n",
    "#print(data.shape)\n",
    "\n",
    "start_lat = np.amin(lat)\n",
    "end_lat = np.amax(lat)\n",
    "start_lon = np.amin(lon)\n",
    "end_lon = np.amax(lon)\n",
    "\n",
    "\n",
    "\n",
    "nlats = len(lat); \n",
    "#print(nlats)\n",
    "nlons = len(lon[0][:]); \n",
    "#print(nlons)\n"
   ]
  },
  {
   "cell_type": "markdown",
   "metadata": {},
   "source": [
    "### 输出为Netcdf"
   ]
  },
  {
   "cell_type": "code",
   "execution_count": 2,
   "metadata": {},
   "outputs": [
    {
     "name": "stdout",
     "output_type": "stream",
     "text": [
      "<class 'netCDF4._netCDF4.Dataset'>\n",
      "root group (NETCDF4_CLASSIC data model, file format HDF5):\n",
      "    dimensions(sizes): \n",
      "    variables(dimensions): \n",
      "    groups: \n"
     ]
    },
    {
     "ename": "ValueError",
     "evalue": "shape mismatch: objects cannot be broadcast to a single shape",
     "output_type": "error",
     "traceback": [
      "\u001b[0;31m---------------------------------------------------------------------------\u001b[0m",
      "\u001b[0;31mValueError\u001b[0m                                Traceback (most recent call last)",
      "\u001b[0;32m<ipython-input-2-03dff09cdba8>\u001b[0m in \u001b[0;36m<module>\u001b[0;34m\u001b[0m\n\u001b[1;32m     34\u001b[0m \u001b[0;31m# Write latitudes, longitudes.\u001b[0m\u001b[0;34m\u001b[0m\u001b[0;34m\u001b[0m\u001b[0;34m\u001b[0m\u001b[0m\n\u001b[1;32m     35\u001b[0m \u001b[0;31m# Note: the \":\" is necessary in these \"write\" statements\u001b[0m\u001b[0;34m\u001b[0m\u001b[0;34m\u001b[0m\u001b[0;34m\u001b[0m\u001b[0m\n\u001b[0;32m---> 36\u001b[0;31m \u001b[0mlat\u001b[0m\u001b[0;34m[\u001b[0m\u001b[0;34m:\u001b[0m\u001b[0;34m]\u001b[0m \u001b[0;34m=\u001b[0m \u001b[0mnp\u001b[0m\u001b[0;34m.\u001b[0m\u001b[0marange\u001b[0m\u001b[0;34m(\u001b[0m\u001b[0mstart_lat\u001b[0m\u001b[0;34m,\u001b[0m\u001b[0mend_lat\u001b[0m\u001b[0;34m,\u001b[0m\u001b[0mstep\u001b[0m\u001b[0;34m)\u001b[0m \u001b[0;31m# south pole to north pole\u001b[0m\u001b[0;34m\u001b[0m\u001b[0;34m\u001b[0m\u001b[0m\n\u001b[0m\u001b[1;32m     37\u001b[0m \u001b[0mlon\u001b[0m\u001b[0;34m[\u001b[0m\u001b[0;34m:\u001b[0m\u001b[0;34m]\u001b[0m \u001b[0;34m=\u001b[0m \u001b[0mnp\u001b[0m\u001b[0;34m.\u001b[0m\u001b[0marange\u001b[0m\u001b[0;34m(\u001b[0m\u001b[0mstart_lon\u001b[0m\u001b[0;34m,\u001b[0m\u001b[0mend_lon\u001b[0m\u001b[0;34m,\u001b[0m\u001b[0mstep\u001b[0m\u001b[0;34m)\u001b[0m \u001b[0;31m# Greenwich meridian eastward\u001b[0m\u001b[0;34m\u001b[0m\u001b[0;34m\u001b[0m\u001b[0m\n\u001b[1;32m     38\u001b[0m \u001b[0mprint\u001b[0m\u001b[0;34m(\u001b[0m\u001b[0mlon\u001b[0m\u001b[0;34m)\u001b[0m\u001b[0;34m\u001b[0m\u001b[0;34m\u001b[0m\u001b[0m\n",
      "\u001b[0;32mnetCDF4/_netCDF4.pyx\u001b[0m in \u001b[0;36mnetCDF4._netCDF4.Variable.__setitem__\u001b[0;34m()\u001b[0m\n",
      "\u001b[0;32m~/anaconda3/lib/python3.7/site-packages/netCDF4/utils.py\u001b[0m in \u001b[0;36m_StartCountStride\u001b[0;34m(elem, shape, dimensions, grp, datashape, put, use_get_vars)\u001b[0m\n\u001b[1;32m    363\u001b[0m         \u001b[0mfullslice\u001b[0m \u001b[0;34m=\u001b[0m \u001b[0;32mFalse\u001b[0m\u001b[0;34m\u001b[0m\u001b[0;34m\u001b[0m\u001b[0m\n\u001b[1;32m    364\u001b[0m     \u001b[0;32mif\u001b[0m \u001b[0mfullslice\u001b[0m \u001b[0;32mand\u001b[0m \u001b[0mdatashape\u001b[0m \u001b[0;32mand\u001b[0m \u001b[0mput\u001b[0m \u001b[0;32mand\u001b[0m \u001b[0;32mnot\u001b[0m \u001b[0mhasunlim\u001b[0m\u001b[0;34m:\u001b[0m\u001b[0;34m\u001b[0m\u001b[0;34m\u001b[0m\u001b[0m\n\u001b[0;32m--> 365\u001b[0;31m         \u001b[0mdatashape\u001b[0m \u001b[0;34m=\u001b[0m \u001b[0mbroadcasted_shape\u001b[0m\u001b[0;34m(\u001b[0m\u001b[0mshape\u001b[0m\u001b[0;34m,\u001b[0m \u001b[0mdatashape\u001b[0m\u001b[0;34m)\u001b[0m\u001b[0;34m\u001b[0m\u001b[0;34m\u001b[0m\u001b[0m\n\u001b[0m\u001b[1;32m    366\u001b[0m \u001b[0;34m\u001b[0m\u001b[0m\n\u001b[1;32m    367\u001b[0m     \u001b[0;31m# pad datashape with zeros for dimensions not being sliced (issue #906)\u001b[0m\u001b[0;34m\u001b[0m\u001b[0;34m\u001b[0m\u001b[0;34m\u001b[0m\u001b[0m\n",
      "\u001b[0;32m~/anaconda3/lib/python3.7/site-packages/netCDF4/utils.py\u001b[0m in \u001b[0;36mbroadcasted_shape\u001b[0;34m(shp1, shp2)\u001b[0m\n\u001b[1;32m    971\u001b[0m     \u001b[0ma\u001b[0m \u001b[0;34m=\u001b[0m \u001b[0mas_strided\u001b[0m\u001b[0;34m(\u001b[0m\u001b[0mx\u001b[0m\u001b[0;34m,\u001b[0m \u001b[0mshape\u001b[0m\u001b[0;34m=\u001b[0m\u001b[0mshp1\u001b[0m\u001b[0;34m,\u001b[0m \u001b[0mstrides\u001b[0m\u001b[0;34m=\u001b[0m\u001b[0;34m[\u001b[0m\u001b[0;36m0\u001b[0m\u001b[0;34m]\u001b[0m \u001b[0;34m*\u001b[0m \u001b[0mlen\u001b[0m\u001b[0;34m(\u001b[0m\u001b[0mshp1\u001b[0m\u001b[0;34m)\u001b[0m\u001b[0;34m)\u001b[0m\u001b[0;34m\u001b[0m\u001b[0;34m\u001b[0m\u001b[0m\n\u001b[1;32m    972\u001b[0m     \u001b[0mb\u001b[0m \u001b[0;34m=\u001b[0m \u001b[0mas_strided\u001b[0m\u001b[0;34m(\u001b[0m\u001b[0mx\u001b[0m\u001b[0;34m,\u001b[0m \u001b[0mshape\u001b[0m\u001b[0;34m=\u001b[0m\u001b[0mshp2\u001b[0m\u001b[0;34m,\u001b[0m \u001b[0mstrides\u001b[0m\u001b[0;34m=\u001b[0m\u001b[0;34m[\u001b[0m\u001b[0;36m0\u001b[0m\u001b[0;34m]\u001b[0m \u001b[0;34m*\u001b[0m \u001b[0mlen\u001b[0m\u001b[0;34m(\u001b[0m\u001b[0mshp2\u001b[0m\u001b[0;34m)\u001b[0m\u001b[0;34m)\u001b[0m\u001b[0;34m\u001b[0m\u001b[0;34m\u001b[0m\u001b[0m\n\u001b[0;32m--> 973\u001b[0;31m     \u001b[0;32mreturn\u001b[0m \u001b[0mnp\u001b[0m\u001b[0;34m.\u001b[0m\u001b[0mbroadcast\u001b[0m\u001b[0;34m(\u001b[0m\u001b[0ma\u001b[0m\u001b[0;34m,\u001b[0m \u001b[0mb\u001b[0m\u001b[0;34m)\u001b[0m\u001b[0;34m.\u001b[0m\u001b[0mshape\u001b[0m\u001b[0;34m\u001b[0m\u001b[0;34m\u001b[0m\u001b[0m\n\u001b[0m",
      "\u001b[0;31mValueError\u001b[0m: shape mismatch: objects cannot be broadcast to a single shape"
     ]
    }
   ],
   "source": [
    "import netCDF4     # Note: python is case-sensitive!\n",
    "import numpy as np\n",
    "\n",
    "try: ncfile.close()  # just to be safe, make sure dataset is not already open.\n",
    "except: pass\n",
    "ncfile = netCDF4.Dataset('Radar.nc',mode='w',format='NETCDF4_CLASSIC') \n",
    "print(ncfile)\n",
    "\n",
    "\n",
    "lat_dim = ncfile.createDimension('lat', nlats)     # latitude axis\n",
    "lon_dim = ncfile.createDimension('lon', nlons)    # longitude axis\n",
    "time_dim = ncfile.createDimension('time', None) # unlimited axis (can be appended to).\n",
    "\n",
    "ncfile.title='Z_RADR_I_Z9577_20190809180500_O_DOR_SA_CAP'\n",
    "\n",
    "# Define two variables with the same names as dimensions,\n",
    "# a conventional way to define \"coordinate variables\".\n",
    "lat = ncfile.createVariable('lat', np.float32, ('lat',))\n",
    "lat.units = 'degrees_north'\n",
    "lat.long_name = 'latitude'\n",
    "lon = ncfile.createVariable('lon', np.float32, ('lon',))\n",
    "lon.units = 'degrees_east'\n",
    "lon.long_name = 'longitude'\n",
    "time = ncfile.createVariable('time', np.float64, ('time',))\n",
    "time.units = 'hours since 1800-01-01'\n",
    "time.long_name = 'time'\n",
    "# Define a 3D variable to hold the data\n",
    "ref= ncfile.createVariable('ref',np.float64,('time','lat','lon')) # note: unlimited dimension is leftmost\n",
    "ref.units = 'DBZ' # degrees Kelvin\n",
    "ref.standard_name = 'radar_DBZ' # this is a CF standard name\n",
    "\n",
    "\n",
    "\n",
    "# Write latitudes, longitudes.\n",
    "# Note: the \":\" is necessary in these \"write\" statements\n",
    "lat[:] = np.arange(start_lat,end_lat,step) # south pole to north pole\n",
    "lon[:] = np.arange(start_lon,end_lon,step) # Greenwich meridian eastward\n",
    "print(lon)\n",
    "# create a 3D array of random numbers\n",
    "\n",
    "# Write the data.  This writes the whole 3D netCDF variable all at once.\n",
    "ref[0,:,:] = data  # Appends data along unlimited dimension\n",
    "ncfile.close()"
   ]
  },
  {
   "cell_type": "markdown",
   "metadata": {},
   "source": [
    "![台风](rader/src/radar_io.png)"
   ]
  },
  {
   "cell_type": "code",
   "execution_count": null,
   "metadata": {},
   "outputs": [],
   "source": []
  }
 ],
 "metadata": {
  "kernelspec": {
   "display_name": "Python 3",
   "language": "python",
   "name": "python3"
  },
  "language_info": {
   "codemirror_mode": {
    "name": "ipython",
    "version": 3
   },
   "file_extension": ".py",
   "mimetype": "text/x-python",
   "name": "python",
   "nbconvert_exporter": "python",
   "pygments_lexer": "ipython3",
   "version": "3.7.1"
  }
 },
 "nbformat": 4,
 "nbformat_minor": 2
}
