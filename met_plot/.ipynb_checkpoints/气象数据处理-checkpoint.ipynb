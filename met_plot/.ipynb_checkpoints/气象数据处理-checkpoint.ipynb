{
 "cells": [
  {
   "cell_type": "markdown",
   "metadata": {},
   "source": [
    "### NCL\n",
    "\n",
    "#### 转换grb数据为nc\n",
    "\n",
    "\n",
    "```sheel\n",
    "ncl_convert2nc U12345.grb\n",
    "\n",
    "```"
   ]
  },
  {
   "cell_type": "markdown",
   "metadata": {},
   "source": [
    "# 雷达数据的处理\n",
    "### 雷达数据处理成笛卡尔系的格点数据"
   ]
  },
  {
   "cell_type": "code",
   "execution_count": 3,
   "metadata": {},
   "outputs": [
    {
     "name": "stdout",
     "output_type": "stream",
     "text": [
      "(416, 471)\n"
     ]
    }
   ],
   "source": [
    "import cinrad\n",
    "import math\n",
    "import numpy as np\n",
    "%matplotlib inline\n",
    "#处理雷达数据\n",
    "file = '/home/liyuan3970/study_demo/met_plot/利齐马/src/'\n",
    "f = cinrad.io.CinradReader(file+'Z_RADR_I_Z9577_20190809180500_O_DOR_SA_CAP.bin.bz2')\n",
    "step = 0.01\n",
    "tilt_number = 0\n",
    "data_radius = 230\n",
    "data_dtype = 'REF' # stands for reflectivity\n",
    "ra = f.get_data(tilt_number, data_radius, data_dtype)\n",
    "\n",
    "v = []\n",
    "v.append(ra)\n",
    "gmap =cinrad.easycalc.GridMapper(v)\n",
    "grid = gmap(step)\n",
    "lon = grid.lon\n",
    "\n",
    "lat = grid.lat\n",
    "#print(lat[0][:])\n",
    "data = grid.data\n",
    "print(lat.shape)\n",
    "#print(data.shape)\n",
    "\n",
    "start_lat = np.amin(lat)\n",
    "end_lat = np.amax(lat)\n",
    "start_lon = np.amin(lon)\n",
    "end_lon = np.amax(lon)\n",
    "\n",
    "\n",
    "\n",
    "nlats = len(lat); \n",
    "#print(nlats)\n",
    "nlons = len(lon[0][:]); \n",
    "#print(nlons)\n"
   ]
  },
  {
   "cell_type": "markdown",
   "metadata": {},
   "source": [
    "### 输出为Netcdf"
   ]
  },
  {
   "cell_type": "code",
   "execution_count": 4,
   "metadata": {},
   "outputs": [
    {
     "name": "stdout",
     "output_type": "stream",
     "text": [
      "<class 'netCDF4._netCDF4.Dataset'>\n",
      "root group (NETCDF4_CLASSIC data model, file format HDF5):\n",
      "    dimensions(sizes): \n",
      "    variables(dimensions): \n",
      "    groups: \n",
      "<class 'netCDF4._netCDF4.Variable'>\n",
      "float32 lon(lon)\n",
      "    units: degrees_east\n",
      "    long_name: longitude\n",
      "unlimited dimensions: \n",
      "current shape = (471,)\n",
      "filling on, default _FillValue of 9.969209968386869e+36 used\n"
     ]
    }
   ],
   "source": [
    "import netCDF4     # Note: python is case-sensitive!\n",
    "import numpy as np\n",
    "\n",
    "try: ncfile.close()  # just to be safe, make sure dataset is not already open.\n",
    "except: pass\n",
    "ncfile = netCDF4.Dataset('Radar.nc',mode='w',format='NETCDF4_CLASSIC') \n",
    "print(ncfile)\n",
    "\n",
    "\n",
    "lat_dim = ncfile.createDimension('lat', nlats)     # latitude axis\n",
    "lon_dim = ncfile.createDimension('lon', nlons)    # longitude axis\n",
    "time_dim = ncfile.createDimension('time', None) # unlimited axis (can be appended to).\n",
    "\n",
    "ncfile.title='Z_RADR_I_Z9577_20190809180500_O_DOR_SA_CAP'\n",
    "\n",
    "# Define two variables with the same names as dimensions,\n",
    "# a conventional way to define \"coordinate variables\".\n",
    "lat = ncfile.createVariable('lat', np.float32, ('lat',))\n",
    "lat.units = 'degrees_north'\n",
    "lat.long_name = 'latitude'\n",
    "lon = ncfile.createVariable('lon', np.float32, ('lon',))\n",
    "lon.units = 'degrees_east'\n",
    "lon.long_name = 'longitude'\n",
    "time = ncfile.createVariable('time', np.float64, ('time',))\n",
    "time.units = 'hours since 1800-01-01'\n",
    "time.long_name = 'time'\n",
    "# Define a 3D variable to hold the data\n",
    "ref= ncfile.createVariable('ref',np.float64,('time','lat','lon')) # note: unlimited dimension is leftmost\n",
    "ref.units = 'DBZ' # degrees Kelvin\n",
    "ref.standard_name = 'radar_DBZ' # this is a CF standard name\n",
    "\n",
    "\n",
    "\n",
    "# Write latitudes, longitudes.\n",
    "# Note: the \":\" is necessary in these \"write\" statements\n",
    "lat[:] = np.arange(start_lat,end_lat,step) # south pole to north pole\n",
    "lon[:] = np.arange(start_lon,end_lon,step) # Greenwich meridian eastward\n",
    "print(lon)\n",
    "# create a 3D array of random numbers\n",
    "\n",
    "# Write the data.  This writes the whole 3D netCDF variable all at once.\n",
    "ref[0,:,:] = data  # Appends data along unlimited dimension\n",
    "ncfile.close()"
   ]
  },
  {
   "cell_type": "markdown",
   "metadata": {},
   "source": [
    "![台风](rader/src/radar_io.png)"
   ]
  },
  {
   "cell_type": "code",
   "execution_count": 1,
   "metadata": {},
   "outputs": [
    {
     "ename": "NameError",
     "evalue": "name 'NRadar' is not defined",
     "output_type": "error",
     "traceback": [
      "\u001b[0;31m---------------------------------------------------------------------------\u001b[0m",
      "\u001b[0;31mNameError\u001b[0m                                 Traceback (most recent call last)",
      "\u001b[0;32m<ipython-input-1-1900149cbf95>\u001b[0m in \u001b[0;36m<module>\u001b[0;34m\u001b[0m\n\u001b[1;32m      3\u001b[0m \u001b[0;32mfrom\u001b[0m \u001b[0mpycwr\u001b[0m\u001b[0;34m.\u001b[0m\u001b[0mdraw\u001b[0m\u001b[0;34m.\u001b[0m\u001b[0mRadarPlot\u001b[0m \u001b[0;32mimport\u001b[0m \u001b[0mGraph\u001b[0m\u001b[0;34m,\u001b[0m \u001b[0mGraphMap\u001b[0m\u001b[0;34m\u001b[0m\u001b[0;34m\u001b[0m\u001b[0m\n\u001b[1;32m      4\u001b[0m \u001b[0max\u001b[0m \u001b[0;34m=\u001b[0m \u001b[0mplt\u001b[0m\u001b[0;34m.\u001b[0m\u001b[0maxes\u001b[0m\u001b[0;34m(\u001b[0m\u001b[0mprojection\u001b[0m\u001b[0;34m=\u001b[0m\u001b[0mccrs\u001b[0m\u001b[0;34m.\u001b[0m\u001b[0mPlateCarree\u001b[0m\u001b[0;34m(\u001b[0m\u001b[0;34m)\u001b[0m\u001b[0;34m)\u001b[0m\u001b[0;34m\u001b[0m\u001b[0;34m\u001b[0m\u001b[0m\n\u001b[0;32m----> 5\u001b[0;31m \u001b[0mgraph\u001b[0m \u001b[0;34m=\u001b[0m \u001b[0mGraphMap\u001b[0m\u001b[0;34m(\u001b[0m\u001b[0mNRadar\u001b[0m\u001b[0;34m,\u001b[0m \u001b[0mccrs\u001b[0m\u001b[0;34m.\u001b[0m\u001b[0mPlateCarree\u001b[0m\u001b[0;34m(\u001b[0m\u001b[0;34m)\u001b[0m\u001b[0;34m)\u001b[0m\u001b[0;34m\u001b[0m\u001b[0;34m\u001b[0m\u001b[0m\n\u001b[0m\u001b[1;32m      6\u001b[0m \u001b[0mgraph\u001b[0m\u001b[0;34m.\u001b[0m\u001b[0mplot_ppi_map\u001b[0m\u001b[0;34m(\u001b[0m\u001b[0max\u001b[0m\u001b[0;34m,\u001b[0m \u001b[0;36m0\u001b[0m\u001b[0;34m,\u001b[0m \u001b[0;34m\"dBZ\"\u001b[0m\u001b[0;34m,\u001b[0m \u001b[0mcmap\u001b[0m\u001b[0;34m=\u001b[0m\u001b[0;34m\"pyart_NWSRef\"\u001b[0m\u001b[0;34m)\u001b[0m\u001b[0;34m\u001b[0m\u001b[0;34m\u001b[0m\u001b[0m\n\u001b[1;32m      7\u001b[0m \u001b[0max\u001b[0m\u001b[0;34m.\u001b[0m\u001b[0mset_title\u001b[0m\u001b[0;34m(\u001b[0m\u001b[0;34m\"example of PPI with map\"\u001b[0m\u001b[0;34m,\u001b[0m \u001b[0mfontsize\u001b[0m\u001b[0;34m=\u001b[0m\u001b[0;36m16\u001b[0m\u001b[0;34m)\u001b[0m\u001b[0;34m\u001b[0m\u001b[0;34m\u001b[0m\u001b[0m\n",
      "\u001b[0;31mNameError\u001b[0m: name 'NRadar' is not defined"
     ]
    }
   ],
   "source": []
  },
  {
   "cell_type": "markdown",
   "metadata": {},
   "source": [
    "## 数据插值"
   ]
  },
  {
   "cell_type": "code",
   "execution_count": 12,
   "metadata": {},
   "outputs": [
    {
     "name": "stdout",
     "output_type": "stream",
     "text": [
      "<scipy.interpolate.interpolate.interp1d object at 0x7fb1f5622f48>\n"
     ]
    }
   ],
   "source": [
    "%matplotlib inline\n",
    "import numpy as np, matplotlib.pyplot as plt\n",
    "from scipy.interpolate import interp1d\n",
    "xi = np.linspace(0, 1, 11, endpoint=True)\n",
    "vi = np.linspace(0, 1, 5, endpoint=True)\n",
    "\n",
    "def fv(x):\n",
    "    return x\n",
    "interp_nn = interp1d(vi, fv(vi), kind='nearest')    \n",
    "print(interp_nn)"
   ]
  },
  {
   "cell_type": "code",
   "execution_count": 16,
   "metadata": {},
   "outputs": [
    {
     "data": {
      "image/png": "[encoded data removed]",
      "text/plain": [
       "<Figure size 432x288 with 1 Axes>"
      ]
     },
     "metadata": {
      "needs_background": "light"
     },
     "output_type": "display_data"
    }
   ],
   "source": [
    "%matplotlib inline\n",
    "import numpy as np, matplotlib.pyplot as plt\n",
    "from scipy.interpolate import interp1d\n",
    "xi = np.linspace(0, 1, 11, endpoint=True)\n",
    "vi = np.linspace(0, 1, 5, endpoint=True)\n",
    "\n",
    "def fv(x):\n",
    "    return x\n",
    "interp_nn = interp1d(vi, fv(vi), kind='nearest')    \n",
    "\n",
    "xy = fv(xi)\n",
    "vy = fv(vi)\n",
    "\n",
    "#plt.plot(vi, fv(vi), 'b+', markersize=18)\n",
    "\n",
    "plt.plot(xi, interp_nn(xi), 'ro')\n",
    "plt.ylim(-0.05, 1.05)\n",
    "plt.xlim(-0.05, 1.05)\n",
    "plt.show()"
   ]
  },
  {
   "cell_type": "code",
   "execution_count": 29,
   "metadata": {},
   "outputs": [
    {
     "data": {
      "text/plain": [
       "[<matplotlib.lines.Line2D at 0x7fb1f4d22780>]"
      ]
     },
     "execution_count": 29,
     "metadata": {},
     "output_type": "execute_result"
    },
    {
     "data": {
      "image/png": "[encoded data removed]",
      "text/plain": [
       "<Figure size 432x288 with 1 Axes>"
      ]
     },
     "metadata": {
      "needs_background": "light"
     },
     "output_type": "display_data"
    }
   ],
   "source": [
    "%matplotlib inline\n",
    "import numpy as np, matplotlib.pyplot as plt\n",
    "from scipy.interpolate import interp1d\n",
    "import math\n",
    "\n",
    "x = [1,3,5,7,9,11,13,15]\n",
    "y = [1,3,5,7,9,11,13,15]\n",
    "# for i in x:\n",
    "#     y.append(math.sin(i))\n",
    "# print(y)\n",
    "xi = [2,4,6,8]\n",
    "def fv(x):\n",
    "    return x\n",
    "interp_nn = interp1d(x, y, kind='nearest')   \n",
    "plt.plot(xi, interp_nn(xi), 'ro')\n",
    "plt.plot(x, y, 'b+', markersize=18)"
   ]
  },
  {
   "cell_type": "code",
   "execution_count": 33,
   "metadata": {},
   "outputs": [
    {
     "name": "stdout",
     "output_type": "stream",
     "text": [
      "[0.   0.25 0.5  0.75 1.  ]\n",
      "[0.         0.01010101 0.02020202 0.03030303 0.04040404 0.05050505\n",
      " 0.06060606 0.07070707 0.08080808 0.09090909 0.1010101  0.11111111\n",
      " 0.12121212 0.13131313 0.14141414 0.15151515 0.16161616 0.17171717\n",
      " 0.18181818 0.19191919 0.2020202  0.21212121 0.22222222 0.23232323\n",
      " 0.24242424 0.25252525 0.26262626 0.27272727 0.28282828 0.29292929\n",
      " 0.3030303  0.31313131 0.32323232 0.33333333 0.34343434 0.35353535\n",
      " 0.36363636 0.37373737 0.38383838 0.39393939 0.4040404  0.41414141\n",
      " 0.42424242 0.43434343 0.44444444 0.45454545 0.46464646 0.47474747\n",
      " 0.48484848 0.49494949 0.50505051 0.51515152 0.52525253 0.53535354\n",
      " 0.54545455 0.55555556 0.56565657 0.57575758 0.58585859 0.5959596\n",
      " 0.60606061 0.61616162 0.62626263 0.63636364 0.64646465 0.65656566\n",
      " 0.66666667 0.67676768 0.68686869 0.6969697  0.70707071 0.71717172\n",
      " 0.72727273 0.73737374 0.74747475 0.75757576 0.76767677 0.77777778\n",
      " 0.78787879 0.7979798  0.80808081 0.81818182 0.82828283 0.83838384\n",
      " 0.84848485 0.85858586 0.86868687 0.87878788 0.88888889 0.8989899\n",
      " 0.90909091 0.91919192 0.92929293 0.93939394 0.94949495 0.95959596\n",
      " 0.96969697 0.97979798 0.98989899 1.        ] #xi\n",
      "[0.         0.         0.         0.         0.         0.\n",
      " 0.         0.         0.         0.         0.         0.\n",
      " 0.         0.68163876 0.68163876 0.68163876 0.68163876 0.68163876\n",
      " 0.68163876 0.68163876 0.68163876 0.68163876 0.68163876 0.68163876\n",
      " 0.68163876 0.68163876 0.68163876 0.68163876 0.68163876 0.68163876\n",
      " 0.68163876 0.68163876 0.68163876 0.68163876 0.68163876 0.68163876\n",
      " 0.68163876 0.68163876 0.99749499 0.99749499 0.99749499 0.99749499\n",
      " 0.99749499 0.99749499 0.99749499 0.99749499 0.99749499 0.99749499\n",
      " 0.99749499 0.99749499 0.99749499 0.99749499 0.99749499 0.99749499\n",
      " 0.99749499 0.99749499 0.99749499 0.99749499 0.99749499 0.99749499\n",
      " 0.99749499 0.99749499 0.7780732  0.7780732  0.7780732  0.7780732\n",
      " 0.7780732  0.7780732  0.7780732  0.7780732  0.7780732  0.7780732\n",
      " 0.7780732  0.7780732  0.7780732  0.7780732  0.7780732  0.7780732\n",
      " 0.7780732  0.7780732  0.7780732  0.7780732  0.7780732  0.7780732\n",
      " 0.7780732  0.7780732  0.7780732  0.14112001 0.14112001 0.14112001\n",
      " 0.14112001 0.14112001 0.14112001 0.14112001 0.14112001 0.14112001\n",
      " 0.14112001 0.14112001 0.14112001 0.14112001]\n"
     ]
    },
    {
     "data": {
      "image/png": "[encoded data removed]",
      "text/plain": [
       "<Figure size 432x288 with 1 Axes>"
      ]
     },
     "metadata": {
      "needs_background": "light"
     },
     "output_type": "display_data"
    }
   ],
   "source": [
    "import numpy as np, matplotlib.pyplot as plt\n",
    "from scipy.interpolate import interp1d\n",
    "v = np.linspace(0, 1, 5)\n",
    "print(v) \n",
    "def f(x):\n",
    "    return np.sin(3 * x)\n",
    "xi = np.linspace(0, 1, 100)\n",
    "print( xi, \"#xi\")\n",
    "interp_nn = interp1d(v, f(v), kind='nearest')\n",
    "print( interp_nn(xi))\n",
    "plt.plot(v, f(v), 'g')\n",
    "plt.plot(xi, f(xi), 'b*')\n",
    "plt.plot(xi, interp_nn(xi), 'ro')\n",
    "plt.title(\"Nearest-neighbor approximation\")\n",
    "plt.ylim(-0.05, 1.05)\n",
    "plt.xlim(-0.5, 1.05)\n",
    "plt.show()"
   ]
  },
  {
   "cell_type": "code",
   "execution_count": null,
   "metadata": {},
   "outputs": [],
   "source": [
    "from scipy import interpolate\n",
    "x = np.arange(-5.01, 5.01, 0.25)\n",
    "y = np.arange(-5.01, 5.01, 0.25)\n",
    "xx, yy = np.meshgrid(x, y)\n",
    "z = np.sin(xx**2+yy**2)\n",
    "f = interpolate.interp2d(x, y, z, kind='cubic')"
   ]
  }
 ],
 "metadata": {
  "kernelspec": {
   "display_name": "Python 3",
   "language": "python",
   "name": "python3"
  },
  "language_info": {
   "codemirror_mode": {
    "name": "ipython",
    "version": 3
   },
   "file_extension": ".py",
   "mimetype": "text/x-python",
   "name": "python",
   "nbconvert_exporter": "python",
   "pygments_lexer": "ipython3",
   "version": "3.7.1"
  }
 },
 "nbformat": 4,
 "nbformat_minor": 2
}
