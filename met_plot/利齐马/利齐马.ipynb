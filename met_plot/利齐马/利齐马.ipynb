{
 "cells": [
  {
   "cell_type": "markdown",
   "metadata": {},
   "source": [
    "# **论文结构**\n",
    "\n"
   ]
  },
  {
   "cell_type": "markdown",
   "metadata": {},
   "source": [
    "# 利其马台风登录前后台风结构变化和强降水落区分析\n",
    "\n",
    "\n",
    "## 前言\n",
    "\n",
    "## 资料和方法\n",
    "1. ncep和ec的环流资料\n",
    "2. 雷达数据\n",
    "\n",
    "# 第一章 利其马的前期环流形式\n",
    "\n",
    " 两组图，来分析台风的环流结构，主要的切合点有：高层幅合底层辐散、能量强度、水汽通量，环流场的变化（针对台风为什么往北移动，为什么停留浙江时间长）\n",
    " \n",
    " ## 台风生命\n",
    " \n",
    " 超强台风==> 缓慢北上==>登录==>停滞台风\n",
    " \n",
    " 1. 超强台风：2019080806\n",
    " 2. 缓慢北上： 2019080912\n",
    " 3. 登录时： 2019081000\n",
    " 4. 登陆后： 2019081006\n",
    " \n",
    "1. 大气环流形式(四张图台风前期，台风最强，台风登陆，台风在浙江)\n",
    "   1. 850风场 500hpa高度场 引导气流往浙江跑的原因\n",
    "   2. 地层水器通量和急流高层辐散\n",
    "   3. 地形的因素\n",
    "   4. 能量的因素se\n",
    "     \n",
    "2. 机器学习部分\n",
    "   1. 台风带来的累计降水和台风环流场各要素的聚类分析落区对比，查看主要落区的匹配吻合程度。\n",
    "   \n",
    "   \n",
    "## 第二章 极端降水的分布\n",
    "\n",
    "1. 靠近浙江沿海\n",
    "   1. 海陆风幅合\n",
    "   2. 地形幅合\n",
    "   3. 台风结构正好强降水区与之对应\n",
    "\n",
    "## 第三章 雷达回波反应的台风结构变化特征\n",
    "1. 底层辐合辐散可以用雷达反演的风场来表示\n",
    "2. 台风登陆前后雷达回波的结构特征\n",
    "3. 强回波区域的时序图\n",
    "\n",
    "## *第四章 ConnvLSTM对雷达回波反演降水的预测\n",
    "\n",
    "## *第五章 数值模式对雷达回波的模拟"
   ]
  },
  {
   "cell_type": "code",
   "execution_count": null,
   "metadata": {},
   "outputs": [],
   "source": []
  },
  {
   "cell_type": "markdown",
   "metadata": {},
   "source": [
    "# 拟解决的问题\n",
    "1. 从环流角度解释为什么会有这么大的降水\n",
    "   1. 常规气象统计方法\n",
    "      1. 前期的环流形式\n",
    "      2. 台风登录时期台风结构的特点\n",
    "   2. 机器学习\n",
    "      1. 聚类分析：有利于降水的要素的大值区\n",
    "      \n",
    "2. 从雷达角度台风为什么浙江差生了大范围的降水"
   ]
  },
  {
   "cell_type": "code",
   "execution_count": null,
   "metadata": {},
   "outputs": [],
   "source": []
  },
  {
   "cell_type": "markdown",
   "metadata": {},
   "source": [
    "# 文章给的逻辑结构\n",
    "前言（利齐马台风强度大，损失严重）===>>>> 台风环流场（台风往浙江跑的原因，降水强度大的原因）==>>>跑到浙江后降水强用雷达分析"
   ]
  },
  {
   "cell_type": "code",
   "execution_count": null,
   "metadata": {},
   "outputs": [],
   "source": []
  }
 ],
 "metadata": {
  "kernelspec": {
   "display_name": "Python 3",
   "language": "python",
   "name": "python3"
  },
  "language_info": {
   "codemirror_mode": {
    "name": "ipython",
    "version": 3
   },
   "file_extension": ".py",
   "mimetype": "text/x-python",
   "name": "python",
   "nbconvert_exporter": "python",
   "pygments_lexer": "ipython3",
   "version": "3.7.1"
  }
 },
 "nbformat": 4,
 "nbformat_minor": 2
}
