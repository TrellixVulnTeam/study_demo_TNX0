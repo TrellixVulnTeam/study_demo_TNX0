{
 "cells": [
  {
   "cell_type": "code",
   "execution_count": null,
   "metadata": {},
   "outputs": [],
   "source": [
    "# 20190809\n"
   ]
  },
  {
   "cell_type": "code",
   "execution_count": null,
   "metadata": {},
   "outputs": [],
   "source": [
    "import cinrad\n",
    "from cinrad.visualize import PPI\n",
    "%matplotlib inline\n",
    "file = 'src/'\n",
    "\n",
    "f1 = cinrad.io.CinradReader(file+'Z_RADR_I_Z9574_20190809163100_O_DOR_SA_CAP.bin.bz2')\n",
    "f2 = cinrad.io.CinradReader(file+'Z_RADR_I_Z9576_20190809163200_O_DOR_SA_CAP.bin.bz2')\n",
    "f3 = cinrad.io.CinradReader(file+'Z_RADR_I_Z9577_20190809162900_O_DOR_SA_CAP.bin.bz2')\n",
    "f2 = cinrad.io.CinradReader(file+'Z_RADR_I_Z9578_20190809163200_O_DOR_SA_CAP.bin.bz2')\n",
    "f3 = cinrad.io.CinradReader(file+'Z_RADR_I_Z9579_20190809162800_O_DOR_SA_CAP.bin.bz2')\n",
    "# rl = list(f.iter_tilt(230, 'REF'))\n",
    "\n",
    "v1 = f1.get_data(0,230, 'REF')\n",
    "v2 = f2.get_data(0, 230, 'REF')\n",
    "v3 = f3.get_data(0, 230, 'REF')\n",
    "v4 = f4.get_data(0, 230, 'REF')\n",
    "v5 = f5.get_data(0, 230, 'REF')\n",
    "v = []\n",
    "v.append(v1)\n",
    "v.append(v2)\n",
    "v.append(v3)\n",
    "v.append(v4)\n",
    "v.append(v5)\n",
    "f =cinrad.easycalc.GridMapper(v)\n",
    "\n",
    "# 0.001是颗粒度，一般0.01就可以了\n",
    "grid = f(0.01)\n",
    "print(type(grid))\n",
    "\n",
    "# type(f)\n",
    "fig = PPI(grid)\n"
   ]
  }
 ],
 "metadata": {
  "kernelspec": {
   "display_name": "Python 3",
   "language": "python",
   "name": "python3"
  },
  "language_info": {
   "codemirror_mode": {
    "name": "ipython",
    "version": 3
   },
   "file_extension": ".py",
   "mimetype": "text/x-python",
   "name": "python",
   "nbconvert_exporter": "python",
   "pygments_lexer": "ipython3",
   "version": "3.7.1"
  }
 },
 "nbformat": 4,
 "nbformat_minor": 2
}
