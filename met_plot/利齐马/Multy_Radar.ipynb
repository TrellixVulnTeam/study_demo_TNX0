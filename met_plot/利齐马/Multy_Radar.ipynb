{
 "cells": [
  {
   "cell_type": "code",
   "execution_count": null,
   "metadata": {},
   "outputs": [],
   "source": []
  },
  {
   "cell_type": "code",
   "execution_count": 6,
   "metadata": {},
   "outputs": [
    {
     "name": "stderr",
     "output_type": "stream",
     "text": [
      "/home/liyuan3970/anaconda3/lib/python3.7/site-packages/pyart/correct/region_dealias.py:288: UserWarning: Velocities outside of the Nyquist interval found in sweep 0.\n",
      "  warnings.warn(msg, UserWarning)\n",
      "/home/liyuan3970/anaconda3/lib/python3.7/site-packages/pyart/correct/region_dealias.py:335: RuntimeWarning: invalid value encountered in less_equal\n",
      "  inp = (lmin <= vel) & (vel < lmax) & mask\n",
      "/home/liyuan3970/anaconda3/lib/python3.7/site-packages/pyart/correct/region_dealias.py:335: RuntimeWarning: invalid value encountered in less\n",
      "  inp = (lmin <= vel) & (vel < lmax) & mask\n",
      "/home/liyuan3970/anaconda3/lib/python3.7/site-packages/pyart/correct/region_dealias.py:288: UserWarning: Velocities outside of the Nyquist interval found in sweep 1.\n",
      "  warnings.warn(msg, UserWarning)\n",
      "/home/liyuan3970/anaconda3/lib/python3.7/site-packages/pyart/correct/region_dealias.py:288: UserWarning: Velocities outside of the Nyquist interval found in sweep 2.\n",
      "  warnings.warn(msg, UserWarning)\n",
      "/home/liyuan3970/anaconda3/lib/python3.7/site-packages/pyart/correct/region_dealias.py:288: UserWarning: Velocities outside of the Nyquist interval found in sweep 3.\n",
      "  warnings.warn(msg, UserWarning)\n",
      "/home/liyuan3970/anaconda3/lib/python3.7/site-packages/pyart/correct/region_dealias.py:288: UserWarning: Velocities outside of the Nyquist interval found in sweep 4.\n",
      "  warnings.warn(msg, UserWarning)\n",
      "/home/liyuan3970/anaconda3/lib/python3.7/site-packages/pyart/correct/region_dealias.py:288: UserWarning: Velocities outside of the Nyquist interval found in sweep 5.\n",
      "  warnings.warn(msg, UserWarning)\n",
      "/home/liyuan3970/anaconda3/lib/python3.7/site-packages/pyart/correct/region_dealias.py:288: UserWarning: Velocities outside of the Nyquist interval found in sweep 6.\n",
      "  warnings.warn(msg, UserWarning)\n",
      "/home/liyuan3970/anaconda3/lib/python3.7/site-packages/pyart/correct/region_dealias.py:288: UserWarning: Velocities outside of the Nyquist interval found in sweep 7.\n",
      "  warnings.warn(msg, UserWarning)\n",
      "/home/liyuan3970/anaconda3/lib/python3.7/site-packages/pyart/correct/region_dealias.py:288: UserWarning: Velocities outside of the Nyquist interval found in sweep 8.\n",
      "  warnings.warn(msg, UserWarning)\n",
      "/home/liyuan3970/anaconda3/lib/python3.7/site-packages/pyart/map/gates_to_grid.py:162: DeprecationWarning: Barnes weighting function is deprecated. Please use Barnes 2 to be consistent with Pauley and Wu 1990.\n",
      "  \" Pauley and Wu 1990.\", DeprecationWarning)\n"
     ]
    }
   ],
   "source": [
    "from __future__ import print_function\n",
    "import numpy as np\n",
    "%matplotlib inline\n",
    "import matplotlib.pyplot as plt\n",
    "from copy import deepcopy\n",
    "import multidop\n",
    "import pyart\n",
    "import tempfile\n",
    "import os\n",
    "import glob\n",
    "import time\n",
    "\n",
    "\n",
    "from pycwr.io.auto_io import radar_io \n",
    "import numpy as np\n",
    "import pandas as pd\n",
    "import xarray as xr\n",
    "import pyart\n",
    "\n",
    "\n",
    "file = '/home/liyuan3970/study_demo/met_plot/利齐马/src/multi_radar/'\n",
    "f1 = radar_io(file+'Z_RADR_I_Z9570_20190809160300_O_DOR_SB_CAP.bin.bz2')\n",
    "f2 =radar_io(file+'Z_RADR_I_Z9571_20190809160100_O_DOR_SA_CAP.bin.bz2')\n",
    "f3 = radar_io(file+'Z_RADR_I_Z9572_20190809155900_O_DOR_SA_CAP.bin.bz2')\n",
    "f4 = radar_io(file+'Z_RADR_I_Z9574_20190809160300_O_DOR_SA_CAP.bin.bz2')\n",
    "f5 = radar_io(file+'Z_RADR_I_Z9576_20190809160200_O_DOR_SA_CAP.bin.bz2')\n",
    "f6 = radar_io(file+'Z_RADR_I_Z9577_20190809160100_O_DOR_SA_CAP.bin.bz2')\n",
    "f7 = radar_io(file+'Z_RADR_I_Z9578_20190809160200_O_DOR_SA_CAP.bin.bz2')\n",
    "f8 = radar_io(file+'Z_RADR_I_Z9579_20190809160400_O_DOR_SB_CAP.bin.bz2')\n",
    "f9 = radar_io(file+'Z_RADR_I_Z9580_20190809160000_O_DOR_SA_CAP.bin.bz2')\n",
    "\n",
    "r1 = f1.ToPyartRadar()\n",
    "r2 = f2.ToPyartRadar()\n",
    "r3 = f3.ToPyartRadar()\n",
    "r4 = f4.ToPyartRadar()\n",
    "r5 = f5.ToPyartRadar()\n",
    "r6 = f6.ToPyartRadar()\n",
    "r7 = f7.ToPyartRadar()\n",
    "r8 = f8.ToPyartRadar()\n",
    "r9 = f9.ToPyartRadar()\n",
    "\n",
    "\n",
    "\n",
    "cp1 = deepcopy(r1.fields['reflectivity']['data'])\n",
    "r1.add_field_like('reflectivity', 'DT', cp1, replace_existing=True)\n",
    "gatefilter1 = pyart.correct.GateFilter(r1)\n",
    "gatefilter1.exclude_masked('reflectivity')\n",
    "corr_vel1 = pyart.correct.dealias_region_based(\n",
    "    r1, vel_field='velocity', keep_original=False, \n",
    "    gatefilter=gatefilter1, centered=True)\n",
    "r1.add_field('VT', corr_vel1, replace_existing=True)\n",
    "\n",
    "\n",
    "\n",
    "cp2 = deepcopy(r2.fields['reflectivity']['data'])\n",
    "r2.add_field_like('reflectivity', 'DT', cp2, replace_existing=True)\n",
    "gatefilter2 = pyart.correct.GateFilter(r2)\n",
    "gatefilter2.exclude_masked('reflectivity')\n",
    "corr_vel2 = pyart.correct.dealias_region_based(\n",
    "    r2, vel_field='velocity', keep_original=False, \n",
    "    gatefilter=gatefilter2, centered=True)\n",
    "r2.add_field('VT', corr_vel2, replace_existing=True)\n",
    "\n",
    "cp3 = deepcopy(r3.fields['reflectivity']['data'])\n",
    "r3.add_field_like('reflectivity', 'DT', cp3, replace_existing=True)\n",
    "gatefilter3 = pyart.correct.GateFilter(r3)\n",
    "gatefilter3.exclude_masked('reflectivity')\n",
    "corr_vel3 = pyart.correct.dealias_region_based(\n",
    "    r3, vel_field='velocity', keep_original=False, \n",
    "    gatefilter=gatefilter3, centered=True)\n",
    "r3.add_field('VT', corr_vel3, replace_existing=True)\n",
    "\n",
    "\n",
    "\n",
    "cp4 = deepcopy(r4.fields['reflectivity']['data'])\n",
    "r4.add_field_like('reflectivity', 'DT', cp4, replace_existing=True)\n",
    "gatefilter4 = pyart.correct.GateFilter(r4)\n",
    "gatefilter4.exclude_masked('reflectivity')\n",
    "corr_vel4 = pyart.correct.dealias_region_based(\n",
    "    r4, vel_field='velocity', keep_original=False, \n",
    "    gatefilter=gatefilter4, centered=True)\n",
    "r4.add_field('VT', corr_vel4, replace_existing=True)\n",
    "\n",
    "cp5 = deepcopy(r5.fields['reflectivity']['data'])\n",
    "r5.add_field_like('reflectivity', 'DT', cp5, replace_existing=True)\n",
    "gatefilter5 = pyart.correct.GateFilter(r5)\n",
    "gatefilter5.exclude_masked('reflectivity')\n",
    "corr_vel5 = pyart.correct.dealias_region_based(\n",
    "    r5, vel_field='velocity', keep_original=False, \n",
    "    gatefilter=gatefilter5, centered=True)\n",
    "r5.add_field('VT', corr_vel5, replace_existing=True)\n",
    "\n",
    "cp6 = deepcopy(r6.fields['reflectivity']['data'])\n",
    "r6.add_field_like('reflectivity', 'DT', cp6, replace_existing=True)\n",
    "gatefilter6 = pyart.correct.GateFilter(r6)\n",
    "gatefilter6.exclude_masked('reflectivity')\n",
    "corr_vel6 = pyart.correct.dealias_region_based(\n",
    "    r6, vel_field='velocity', keep_original=False, \n",
    "    gatefilter=gatefilter6, centered=True)\n",
    "r6.add_field('VT', corr_vel6, replace_existing=True)\n",
    "\n",
    "cp7 = deepcopy(r7.fields['reflectivity']['data'])\n",
    "r7.add_field_like('reflectivity', 'DT', cp7, replace_existing=True)\n",
    "gatefilter7 = pyart.correct.GateFilter(r7)\n",
    "gatefilter7.exclude_masked('reflectivity')\n",
    "corr_vel7 = pyart.correct.dealias_region_based(\n",
    "    r7, vel_field='velocity', keep_original=False, \n",
    "    gatefilter=gatefilter7, centered=True)\n",
    "r7.add_field('VT', corr_vel7, replace_existing=True)\n",
    "\n",
    "\n",
    "cp8 = deepcopy(r8.fields['reflectivity']['data'])\n",
    "r8.add_field_like('reflectivity', 'DT', cp8, replace_existing=True)\n",
    "gatefilter8 = pyart.correct.GateFilter(r8)\n",
    "gatefilter8.exclude_masked('reflectivity')\n",
    "corr_vel8 = pyart.correct.dealias_region_based(\n",
    "    r8, vel_field='velocity', keep_original=False, \n",
    "    gatefilter=gatefilter8, centered=True)\n",
    "r8.add_field('VT', corr_vel8, replace_existing=True)\n",
    "\n",
    "\n",
    "\n",
    "cp9 = deepcopy(r9.fields['reflectivity']['data'])\n",
    "r9.add_field_like('reflectivity', 'DT', cp9, replace_existing=True)\n",
    "gatefilter9 = pyart.correct.GateFilter(r9)\n",
    "gatefilter9.exclude_masked('reflectivity')\n",
    "corr_vel9 = pyart.correct.dealias_region_based(\n",
    "    r9, vel_field='velocity', keep_original=False, \n",
    "    gatefilter=gatefilter9, centered=True)\n",
    "r9.add_field('VT', corr_vel9, replace_existing=True)\n",
    "\n",
    "\n",
    "# The analysis engine currently expects the \"missing_value\" attribute\n",
    "r1.fields['DT']['missing_value'] = 1.0 * r1.fields['DT']['_FillValue']\n",
    "r2.fields['DT']['missing_value'] = 1.0 * r2.fields['DT']['_FillValue']\n",
    "r1.fields['VT']['missing_value'] = 1.0 * r1.fields['VT']['_FillValue']\n",
    "r2.fields['VT']['missing_value'] = 1.0 * r2.fields['VT']['_FillValue']\n",
    "# The analysis engine currently expects the \"missing_value\" attribute\n",
    "r3.fields['DT']['missing_value'] = 1.0 * r3.fields['DT']['_FillValue']\n",
    "r4.fields['DT']['missing_value'] = 1.0 * r4.fields['DT']['_FillValue']\n",
    "r3.fields['VT']['missing_value'] = 1.0 * r3.fields['VT']['_FillValue']\n",
    "r4.fields['VT']['missing_value'] = 1.0 * r4.fields['VT']['_FillValue']\n",
    "# The analysis engine currently expects the \"missing_value\" attribute\n",
    "r5.fields['DT']['missing_value'] = 1.0 * r5.fields['DT']['_FillValue']\n",
    "r6.fields['DT']['missing_value'] = 1.0 * r6.fields['DT']['_FillValue']\n",
    "r5.fields['VT']['missing_value'] = 1.0 * r5.fields['VT']['_FillValue']\n",
    "r6.fields['VT']['missing_value'] = 1.0 * r6.fields['VT']['_FillValue']\n",
    "# The analysis engine currently expects the \"missing_value\" attribute\n",
    "r7.fields['DT']['missing_value'] = 1.0 * r7.fields['DT']['_FillValue']\n",
    "r8.fields['DT']['missing_value'] = 1.0 * r8.fields['DT']['_FillValue']\n",
    "r7.fields['VT']['missing_value'] = 1.0 * r7.fields['VT']['_FillValue']\n",
    "r8.fields['VT']['missing_value'] = 1.0 * r8.fields['VT']['_FillValue']\n",
    "# The analysis engine currently expects the \"missing_value\" attribute\n",
    "r9.fields['DT']['missing_value'] = 1.0 * r9.fields['DT']['_FillValue']\n",
    "r9.fields['VT']['missing_value'] = 1.0 * r9.fields['VT']['_FillValue']\n",
    "\n",
    "radars1 =[r1,r2,r3,r4,r5,r6,r7,r8,r9]\n",
    "grids1 = pyart.map.grid_from_radars(\n",
    "         radars1, grid_shape=(9, 151, 151),\n",
    "        grid_limits=((0, 15000.0),(-1000000, 1000000), (-1000000, 1000000)),\n",
    "        fields=['reflectivity','DT','VT'], gridding_algo=\"map_gates_to_grid\",\n",
    "        weighting_function='BARNES')\n"
   ]
  },
  {
   "cell_type": "code",
   "execution_count": null,
   "metadata": {},
   "outputs": [],
   "source": []
  },
  {
   "cell_type": "code",
   "execution_count": 7,
   "metadata": {},
   "outputs": [],
   "source": [
    "display = pyart.graph.GridMapDisplay(grids1)"
   ]
  },
  {
   "cell_type": "code",
   "execution_count": 8,
   "metadata": {},
   "outputs": [
    {
     "ename": "ValueError",
     "evalue": "slice step cannot be zero",
     "output_type": "error",
     "traceback": [
      "\u001b[0;31m---------------------------------------------------------------------------\u001b[0m",
      "\u001b[0;31mValueError\u001b[0m                                Traceback (most recent call last)",
      "\u001b[0;32m<ipython-input-8-f0ab6009880d>\u001b[0m in \u001b[0;36m<module>\u001b[0;34m\u001b[0m\n\u001b[0;32m----> 1\u001b[0;31m \u001b[0mx\u001b[0m\u001b[0;34m,\u001b[0m \u001b[0mz\u001b[0m\u001b[0;34m,\u001b[0m \u001b[0mdata\u001b[0m \u001b[0;34m=\u001b[0m \u001b[0mdisplay\u001b[0m\u001b[0;34m.\u001b[0m\u001b[0mplot_latlon_slice\u001b[0m\u001b[0;34m(\u001b[0m\u001b[0;34m\"reflectivity\"\u001b[0m\u001b[0;34m,\u001b[0m \u001b[0mcoord1\u001b[0m\u001b[0;34m=\u001b[0m\u001b[0;34m(\u001b[0m\u001b[0;36m121.2\u001b[0m\u001b[0;34m,\u001b[0m \u001b[0;36m28.5\u001b[0m\u001b[0;34m)\u001b[0m\u001b[0;34m,\u001b[0m \u001b[0mcoord2\u001b[0m\u001b[0;34m=\u001b[0m\u001b[0;34m(\u001b[0m\u001b[0;36m121.1\u001b[0m\u001b[0;34m,\u001b[0m \u001b[0;36m28.0\u001b[0m\u001b[0;34m)\u001b[0m\u001b[0;34m,\u001b[0m\u001b[0mvmin\u001b[0m\u001b[0;34m=\u001b[0m\u001b[0;36m0\u001b[0m\u001b[0;34m,\u001b[0m\u001b[0mvmax\u001b[0m\u001b[0;34m=\u001b[0m\u001b[0;36m70\u001b[0m\u001b[0;34m)\u001b[0m\u001b[0;34m\u001b[0m\u001b[0;34m\u001b[0m\u001b[0m\n\u001b[0m",
      "\u001b[0;32m~/anaconda3/lib/python3.7/site-packages/pyart/graph/gridmapdisplay.py\u001b[0m in \u001b[0;36mplot_latlon_slice\u001b[0;34m(self, field, coord1, coord2, **kwargs)\u001b[0m\n\u001b[1;32m    600\u001b[0m         \u001b[0mind_1\u001b[0m \u001b[0;34m=\u001b[0m \u001b[0;34m(\u001b[0m\u001b[0mx_index_1\u001b[0m\u001b[0;34m,\u001b[0m \u001b[0my_index_1\u001b[0m\u001b[0;34m)\u001b[0m\u001b[0;34m\u001b[0m\u001b[0;34m\u001b[0m\u001b[0m\n\u001b[1;32m    601\u001b[0m         \u001b[0mind_2\u001b[0m \u001b[0;34m=\u001b[0m \u001b[0;34m(\u001b[0m\u001b[0mx_index_2\u001b[0m\u001b[0;34m,\u001b[0m \u001b[0my_index_2\u001b[0m\u001b[0;34m)\u001b[0m\u001b[0;34m\u001b[0m\u001b[0;34m\u001b[0m\u001b[0m\n\u001b[0;32m--> 602\u001b[0;31m         \u001b[0mxyd\u001b[0m\u001b[0;34m,\u001b[0m \u001b[0mzd\u001b[0m\u001b[0;34m,\u001b[0m \u001b[0mdata\u001b[0m\u001b[0;34m=\u001b[0m\u001b[0mself\u001b[0m\u001b[0;34m.\u001b[0m\u001b[0mplot_latlon_level\u001b[0m\u001b[0;34m(\u001b[0m\u001b[0mfield\u001b[0m\u001b[0;34m=\u001b[0m\u001b[0mfield\u001b[0m\u001b[0;34m,\u001b[0m \u001b[0mind_1\u001b[0m\u001b[0;34m=\u001b[0m\u001b[0mind_1\u001b[0m\u001b[0;34m,\u001b[0m \u001b[0mind_2\u001b[0m\u001b[0;34m=\u001b[0m\u001b[0mind_2\u001b[0m\u001b[0;34m,\u001b[0m \u001b[0;34m**\u001b[0m\u001b[0mkwargs\u001b[0m\u001b[0;34m)\u001b[0m\u001b[0;34m\u001b[0m\u001b[0;34m\u001b[0m\u001b[0m\n\u001b[0m\u001b[1;32m    603\u001b[0m         \u001b[0;32mreturn\u001b[0m \u001b[0mxyd\u001b[0m\u001b[0;34m,\u001b[0m \u001b[0mzd\u001b[0m\u001b[0;34m,\u001b[0m \u001b[0mdata\u001b[0m\u001b[0;34m\u001b[0m\u001b[0;34m\u001b[0m\u001b[0m\n\u001b[1;32m    604\u001b[0m \u001b[0;34m\u001b[0m\u001b[0m\n",
      "\u001b[0;32m~/anaconda3/lib/python3.7/site-packages/pyart/graph/gridmapdisplay.py\u001b[0m in \u001b[0;36mplot_latlon_level\u001b[0;34m(self, field, ind_1, ind_2, vmin, vmax, norm, cmap, mask_outside, title, title_flag, axislabels, axislabels_flag, colorbar_flag, colorbar_label, colorbar_orient, edges, ax, fig, ticks, ticklabs, **kwargs)\u001b[0m\n\u001b[1;32m    762\u001b[0m         \u001b[0mtick_freq\u001b[0m \u001b[0;34m=\u001b[0m \u001b[0mint\u001b[0m\u001b[0;34m(\u001b[0m\u001b[0mnh_prof\u001b[0m\u001b[0;34m/\u001b[0m\u001b[0mnticks\u001b[0m\u001b[0;34m)\u001b[0m\u001b[0;34m\u001b[0m\u001b[0;34m\u001b[0m\u001b[0m\n\u001b[1;32m    763\u001b[0m         plt.xticks(\n\u001b[0;32m--> 764\u001b[0;31m             \u001b[0mxy_1d\u001b[0m\u001b[0;34m[\u001b[0m\u001b[0;36m0\u001b[0m\u001b[0;34m:\u001b[0m\u001b[0mnh_prof\u001b[0m\u001b[0;34m:\u001b[0m\u001b[0mtick_freq\u001b[0m\u001b[0;34m]\u001b[0m\u001b[0;34m,\u001b[0m \u001b[0mxticks_labels\u001b[0m\u001b[0;34m[\u001b[0m\u001b[0;36m0\u001b[0m\u001b[0;34m:\u001b[0m\u001b[0mnh_prof\u001b[0m\u001b[0;34m:\u001b[0m\u001b[0mtick_freq\u001b[0m\u001b[0;34m]\u001b[0m\u001b[0;34m,\u001b[0m\u001b[0;34m\u001b[0m\u001b[0;34m\u001b[0m\u001b[0m\n\u001b[0m\u001b[1;32m    765\u001b[0m             rotation='30', ha='right')\n\u001b[1;32m    766\u001b[0m \u001b[0;34m\u001b[0m\u001b[0m\n",
      "\u001b[0;31mValueError\u001b[0m: slice step cannot be zero"
     ]
    },
    {
     "data": {
      "image/png": "[encoded data removed]",
      "text/plain": [
       "<Figure size 432x288 with 1 Axes>"
      ]
     },
     "metadata": {
      "needs_background": "light"
     },
     "output_type": "display_data"
    }
   ],
   "source": [
    "x, z, data = display.plot_latlon_slice(\"reflectivity\", coord1=(121.2, 28.5), coord2=(121.1, 28.0),vmin=0,vmax=70)"
   ]
  },
  {
   "cell_type": "code",
   "execution_count": 3,
   "metadata": {},
   "outputs": [
    {
     "data": {
      "image/png": "[encoded data removed]",
      "text/plain": [
       "<Figure size 1080x504 with 2 Axes>"
      ]
     },
     "metadata": {
      "needs_background": "light"
     },
     "output_type": "display_data"
    }
   ],
   "source": [
    "fig = plt.figure(figsize=[15, 7])\n",
    "\n",
    "# panel sizes\n",
    "map_panel_axes = [0.05, 0.05, .4, .80]\n",
    "level = 1\n",
    "vmin = -8\n",
    "vmax = 64\n",
    "# panel 1, basemap, radar reflectivity and NARR overlay\n",
    "ax1 = fig.add_axes(map_panel_axes)\n",
    "#display.plot_basemap(lon_lines = np.arange(-104, -93, 2) )\n",
    "lat_min, lat_max, lon_min, lon_max = display.plot_grid('reflectivity', level=level, vmin=vmin, vmax=vmax,\n",
    "                 cmap = pyart.graph.cm.NWSRef)"
   ]
  },
  {
   "cell_type": "code",
   "execution_count": 4,
   "metadata": {},
   "outputs": [
    {
     "name": "stderr",
     "output_type": "stream",
     "text": [
      "/home/liyuan3970/anaconda3/lib/python3.7/site-packages/pydda/cost_functions/cost_functions.py:655: RuntimeWarning: invalid value encountered in less\n",
      "  A[np.logical_and(grid_z < frz, refl < 55)] = -2.6\n",
      "/home/liyuan3970/anaconda3/lib/python3.7/site-packages/pydda/cost_functions/cost_functions.py:656: RuntimeWarning: invalid value encountered in less\n",
      "  B[np.logical_and(grid_z < frz, refl < 55)] = 0.0107\n",
      "/home/liyuan3970/anaconda3/lib/python3.7/site-packages/pydda/cost_functions/cost_functions.py:658: RuntimeWarning: invalid value encountered in greater_equal\n",
      "  np.logical_and(refl >= 55, refl < 60))] = -2.5\n",
      "/home/liyuan3970/anaconda3/lib/python3.7/site-packages/pydda/cost_functions/cost_functions.py:658: RuntimeWarning: invalid value encountered in less\n",
      "  np.logical_and(refl >= 55, refl < 60))] = -2.5\n",
      "/home/liyuan3970/anaconda3/lib/python3.7/site-packages/pydda/cost_functions/cost_functions.py:660: RuntimeWarning: invalid value encountered in greater_equal\n",
      "  np.logical_and(refl >= 55, refl < 60))] = 0.013\n",
      "/home/liyuan3970/anaconda3/lib/python3.7/site-packages/pydda/cost_functions/cost_functions.py:660: RuntimeWarning: invalid value encountered in less\n",
      "  np.logical_and(refl >= 55, refl < 60))] = 0.013\n",
      "/home/liyuan3970/anaconda3/lib/python3.7/site-packages/pydda/cost_functions/cost_functions.py:661: RuntimeWarning: invalid value encountered in greater\n",
      "  A[np.logical_and(grid_z < frz, refl > 60)] = -3.95\n",
      "/home/liyuan3970/anaconda3/lib/python3.7/site-packages/pydda/cost_functions/cost_functions.py:662: RuntimeWarning: invalid value encountered in greater\n",
      "  B[np.logical_and(grid_z < frz, refl > 60)] = 0.0148\n",
      "/home/liyuan3970/anaconda3/lib/python3.7/site-packages/pydda/cost_functions/cost_functions.py:663: RuntimeWarning: invalid value encountered in less\n",
      "  A[np.logical_and(grid_z >= frz, refl < 33)] = -0.817\n",
      "/home/liyuan3970/anaconda3/lib/python3.7/site-packages/pydda/cost_functions/cost_functions.py:664: RuntimeWarning: invalid value encountered in less\n",
      "  B[np.logical_and(grid_z >= frz, refl < 33)] = 0.0063\n",
      "/home/liyuan3970/anaconda3/lib/python3.7/site-packages/pydda/cost_functions/cost_functions.py:666: RuntimeWarning: invalid value encountered in greater_equal\n",
      "  np.logical_and(refl >= 33, refl < 49))] = -2.5\n",
      "/home/liyuan3970/anaconda3/lib/python3.7/site-packages/pydda/cost_functions/cost_functions.py:666: RuntimeWarning: invalid value encountered in less\n",
      "  np.logical_and(refl >= 33, refl < 49))] = -2.5\n",
      "/home/liyuan3970/anaconda3/lib/python3.7/site-packages/pydda/cost_functions/cost_functions.py:668: RuntimeWarning: invalid value encountered in greater_equal\n",
      "  np.logical_and(refl >= 33, refl < 49))] = 0.013\n",
      "/home/liyuan3970/anaconda3/lib/python3.7/site-packages/pydda/cost_functions/cost_functions.py:668: RuntimeWarning: invalid value encountered in less\n",
      "  np.logical_and(refl >= 33, refl < 49))] = 0.013\n",
      "/home/liyuan3970/anaconda3/lib/python3.7/site-packages/pydda/cost_functions/cost_functions.py:669: RuntimeWarning: invalid value encountered in greater\n",
      "  A[np.logical_and(grid_z >= frz, refl > 49)] = -3.95\n",
      "/home/liyuan3970/anaconda3/lib/python3.7/site-packages/pydda/cost_functions/cost_functions.py:670: RuntimeWarning: invalid value encountered in greater\n",
      "  B[np.logical_and(grid_z >= frz, refl > 49)] = 0.0148\n",
      "/home/liyuan3970/anaconda3/lib/python3.7/site-packages/pydda/retrieval/angles.py:24: RuntimeWarning: invalid value encountered in arccos\n",
      "  elev = np.arccos((Re**2 + slantrsq - rh**2)/(2 * Re * slantr))\n"
     ]
    },
    {
     "name": "stdout",
     "output_type": "stream",
     "text": [
      "Starting solver \n",
      "rmsVR = 14.01292573965896\n",
      "Total points: 15350\n",
      "| Jvel    | Jmass   | Jsmooth |   Jbg   | Jvort   | Jmodel  | Jpoint  | Max w  \n",
      "|   0.0025|   1.3980|   0.0000|   0.0000|   0.0000|   0.0000|   0.0000|   4.6228\n",
      "Norm of gradient: 0.002487151884363965\n",
      "Iterations before filter: 10\n",
      "| Jvel    | Jmass   | Jsmooth |   Jbg   | Jvort   | Jmodel  | Jpoint  | Max w  \n",
      "|   0.0018|   1.2166|   0.0000|   0.0000|   0.0000|   0.0000|   0.0000|   5.3561\n",
      "Norm of gradient: 0.0023754840815068848\n",
      "Iterations before filter: 20\n",
      "| Jvel    | Jmass   | Jsmooth |   Jbg   | Jvort   | Jmodel  | Jpoint  | Max w  \n",
      "|   0.0196|   1.0476|   0.0000|   0.0000|   0.0000|   0.0000|   0.0000|   5.7987\n",
      "Norm of gradient: 0.003443074850201052\n",
      "Iterations before filter: 30\n",
      "| Jvel    | Jmass   | Jsmooth |   Jbg   | Jvort   | Jmodel  | Jpoint  | Max w  \n",
      "|   0.0007|   1.0338|   0.0000|   0.0000|   0.0000|   0.0000|   0.0000|   5.7612\n",
      "Norm of gradient: 0.0004270306938397689\n",
      "Iterations before filter: 40\n",
      "| Jvel    | Jmass   | Jsmooth |   Jbg   | Jvort   | Jmodel  | Jpoint  | Max w  \n",
      "|   0.0007|   1.0338|   0.0000|   0.0000|   0.0000|   0.0000|   0.0000|   5.7612\n",
      "Norm of gradient: 0.0004270306938397689\n",
      "Iterations before filter: 50\n",
      "Applying low pass filter to wind field...\n"
     ]
    },
    {
     "name": "stderr",
     "output_type": "stream",
     "text": [
      "/home/liyuan3970/anaconda3/lib/python3.7/site-packages/scipy/signal/_arraytools.py:45: FutureWarning: Using a non-tuple sequence for multidimensional indexing is deprecated; use `arr[tuple(seq)]` instead of `arr[seq]`. In the future this will be interpreted as an array index, `arr[np.array(seq)]`, which will result either in an error or a different result.\n",
      "  b = a[a_slice]\n"
     ]
    },
    {
     "name": "stdout",
     "output_type": "stream",
     "text": [
      "| Jvel    | Jmass   | Jsmooth |   Jbg   | Jvort   | Jmodel  | Jpoint  | Max w  \n",
      "|2433.4061|   0.5154|   0.0000|   0.0000|   0.0000|   0.0000|   0.0000|   2.2196\n",
      "Norm of gradient: 0.49479504419452086\n",
      "| Jvel    | Jmass   | Jsmooth |   Jbg   | Jvort   | Jmodel  | Jpoint  | Max w  \n",
      "|2384.1156|   0.5166|   0.0000|   0.0000|   0.0000|   0.0000|   0.0000|   2.2196\n",
      "Norm of gradient: 0.4897588729793438\n",
      "| Jvel    | Jmass   | Jsmooth |   Jbg   | Jvort   | Jmodel  | Jpoint  | Max w  \n",
      "|   0.0023|   1.6421|   0.0000|   0.0000|   0.0000|   0.0000|   0.0000|   4.9764\n",
      "Norm of gradient: 0.0021247667848526917\n",
      "| Jvel    | Jmass   | Jsmooth |   Jbg   | Jvort   | Jmodel  | Jpoint  | Max w  \n",
      "|   0.0009|   1.6116|   0.0000|   0.0000|   0.0000|   0.0000|   0.0000|   4.8498\n",
      "Norm of gradient: 0.0014627508784945534\n",
      "| Jvel    | Jmass   | Jsmooth |   Jbg   | Jvort   | Jmodel  | Jpoint  | Max w  \n",
      "|   0.0157|   1.4999|   0.0000|   0.0000|   0.0000|   0.0000|   0.0000|   4.3434\n",
      "Norm of gradient: 0.006881076693288266\n",
      "| Jvel    | Jmass   | Jsmooth |   Jbg   | Jvort   | Jmodel  | Jpoint  | Max w  \n",
      "|   0.0282|   1.2290|   0.0000|   0.0000|   0.0000|   0.0000|   0.0000|   3.1535\n",
      "Norm of gradient: 0.009558092660869672\n",
      "| Jvel    | Jmass   | Jsmooth |   Jbg   | Jvort   | Jmodel  | Jpoint  | Max w  \n",
      "|   0.1187|   1.1277|   0.0000|   0.0000|   0.0000|   0.0000|   0.0000|   4.1801\n",
      "Norm of gradient: 0.022943907191318325\n",
      "| Jvel    | Jmass   | Jsmooth |   Jbg   | Jvort   | Jmodel  | Jpoint  | Max w  \n",
      "|   0.0040|   1.1319|   0.0000|   0.0000|   0.0000|   0.0000|   0.0000|   4.0136\n",
      "Norm of gradient: 0.0037560985754316145\n",
      "| Jvel    | Jmass   | Jsmooth |   Jbg   | Jvort   | Jmodel  | Jpoint  | Max w  \n",
      "|   0.0011|   1.1240|   0.0000|   0.0000|   0.0000|   0.0000|   0.0000|   3.9452\n",
      "Norm of gradient: 0.0014296784911682942\n",
      "| Jvel    | Jmass   | Jsmooth |   Jbg   | Jvort   | Jmodel  | Jpoint  | Max w  \n",
      "|   0.0039|   1.0952|   0.0000|   0.0000|   0.0000|   0.0000|   0.0000|   3.7971\n",
      "Norm of gradient: 0.00325973075169939\n",
      "| Jvel    | Jmass   | Jsmooth |   Jbg   | Jvort   | Jmodel  | Jpoint  | Max w  \n",
      "|   0.0113|   1.0512|   0.0000|   0.0000|   0.0000|   0.0000|   0.0000|   3.7374\n",
      "Norm of gradient: 0.005997154842373663\n",
      "| Jvel    | Jmass   | Jsmooth |   Jbg   | Jvort   | Jmodel  | Jpoint  | Max w  \n",
      "|   0.0050|   1.0294|   0.0000|   0.0000|   0.0000|   0.0000|   0.0000|   4.1088\n",
      "Norm of gradient: 0.004461535737545998\n",
      "Iterations after filter: 1\n",
      "Iterations after filter: 2\n",
      "Done! Time = 6.6\n"
     ]
    }
   ],
   "source": [
    "import pyart\n",
    "import pydda\n",
    "%matplotlib inline\n",
    "import matplotlib.pyplot as plt\n",
    "import numpy as np\n",
    "\n",
    "# Set initialization and do retrieval\n",
    "u_init, v_init, w_init = pydda.initialization.make_constant_wind_field(grids1, vel_field='VT')\n",
    "\n",
    "new_grids = pydda.retrieval.get_dd_wind_field([grids1],\n",
    "                                              u_init, v_init, w_init,\n",
    "                                              vel_name='VT', refl_field='DT',\n",
    "                                              mask_outside_opt=True)\n",
    "# Make a neat plot\n",
    "# fig = plt.figure(figsize=(10,7))\n",
    "# ax = pydda.vis.plot_horiz_xsection_barbs(new_grids, background_field='DT', \n",
    "#                                         level=1,vmin=10, vmax=60,\n",
    "#                                         #w_vel_contours=[3, 6, 9, 12, 15],\n",
    "#                                         barb_spacing_x_km=10.0,\n",
    "#                                         barb_spacing_y_km=10.0)\n",
    "#ax.set_xticks(np.arange(150.5, 153, 0.1))\n",
    "#ax.set_yticks(np.arange(-36, -32.0, 0.1))\n",
    "#ax.set_xlim([151.0, 151.35])\n",
    "#ax.set_ylim([-34.15, -33.9])\n",
    "#plt.show(ax)"
   ]
  },
  {
   "cell_type": "code",
   "execution_count": null,
   "metadata": {},
   "outputs": [],
   "source": []
  },
  {
   "cell_type": "code",
   "execution_count": 5,
   "metadata": {},
   "outputs": [
    {
     "ename": "ValueError",
     "evalue": "slice step cannot be zero",
     "output_type": "error",
     "traceback": [
      "\u001b[0;31m---------------------------------------------------------------------------\u001b[0m",
      "\u001b[0;31mValueError\u001b[0m                                Traceback (most recent call last)",
      "\u001b[0;32m<ipython-input-5-5481402bc2bc>\u001b[0m in \u001b[0;36m<module>\u001b[0;34m\u001b[0m\n\u001b[1;32m      4\u001b[0m                                         \u001b[0;31m#w_vel_contours=[3, 6, 9, 12, 15],\u001b[0m\u001b[0;34m\u001b[0m\u001b[0;34m\u001b[0m\u001b[0;34m\u001b[0m\u001b[0m\n\u001b[1;32m      5\u001b[0m                                         \u001b[0mbarb_spacing_x_km\u001b[0m\u001b[0;34m=\u001b[0m\u001b[0;36m10.0\u001b[0m\u001b[0;34m,\u001b[0m\u001b[0;34m\u001b[0m\u001b[0;34m\u001b[0m\u001b[0m\n\u001b[0;32m----> 6\u001b[0;31m                                         barb_spacing_y_km=10.0)\n\u001b[0m\u001b[1;32m      7\u001b[0m \u001b[0;31m# ax.set_xticks(np.arange(150.5, 153, 0.1))\u001b[0m\u001b[0;34m\u001b[0m\u001b[0;34m\u001b[0m\u001b[0;34m\u001b[0m\u001b[0m\n\u001b[1;32m      8\u001b[0m \u001b[0;31m# ax.set_yticks(np.arange(-36, -32.0, 0.1))\u001b[0m\u001b[0;34m\u001b[0m\u001b[0;34m\u001b[0m\u001b[0;34m\u001b[0m\u001b[0m\n",
      "\u001b[0;32m~/anaconda3/lib/python3.7/site-packages/pydda/vis/barb_plot.py\u001b[0m in \u001b[0;36mplot_horiz_xsection_barbs\u001b[0;34m(Grids, ax, background_field, level, cmap, vmin, vmax, u_vel_contours, v_vel_contours, w_vel_contours, wind_vel_contours, u_field, v_field, w_field, show_lobes, title_flag, axes_labels_flag, colorbar_flag, colorbar_contour_flag, bg_grid_no, barb_spacing_x_km, barb_spacing_y_km, contour_alpha)\u001b[0m\n\u001b[1;32m    133\u001b[0m     \u001b[0mbarb_density_x\u001b[0m \u001b[0;34m=\u001b[0m \u001b[0mint\u001b[0m\u001b[0;34m(\u001b[0m\u001b[0;34m(\u001b[0m\u001b[0;36m1\u001b[0m\u001b[0;34m/\u001b[0m\u001b[0mdx\u001b[0m\u001b[0;34m)\u001b[0m\u001b[0;34m*\u001b[0m\u001b[0mbarb_spacing_x_km\u001b[0m\u001b[0;34m)\u001b[0m\u001b[0;34m\u001b[0m\u001b[0;34m\u001b[0m\u001b[0m\n\u001b[1;32m    134\u001b[0m     \u001b[0mbarb_density_y\u001b[0m \u001b[0;34m=\u001b[0m \u001b[0mint\u001b[0m\u001b[0;34m(\u001b[0m\u001b[0;34m(\u001b[0m\u001b[0;36m1\u001b[0m\u001b[0;34m/\u001b[0m\u001b[0mdy\u001b[0m\u001b[0;34m)\u001b[0m\u001b[0;34m*\u001b[0m\u001b[0mbarb_spacing_y_km\u001b[0m\u001b[0;34m)\u001b[0m\u001b[0;34m\u001b[0m\u001b[0;34m\u001b[0m\u001b[0m\n\u001b[0;32m--> 135\u001b[0;31m     ax.barbs(grid_x[level, ::barb_density_y, ::barb_density_x],\n\u001b[0m\u001b[1;32m    136\u001b[0m              \u001b[0mgrid_y\u001b[0m\u001b[0;34m[\u001b[0m\u001b[0mlevel\u001b[0m\u001b[0;34m,\u001b[0m \u001b[0;34m:\u001b[0m\u001b[0;34m:\u001b[0m\u001b[0mbarb_density_y\u001b[0m\u001b[0;34m,\u001b[0m \u001b[0;34m:\u001b[0m\u001b[0;34m:\u001b[0m\u001b[0mbarb_density_x\u001b[0m\u001b[0;34m]\u001b[0m\u001b[0;34m,\u001b[0m\u001b[0;34m\u001b[0m\u001b[0;34m\u001b[0m\u001b[0m\n\u001b[1;32m    137\u001b[0m              \u001b[0mu\u001b[0m\u001b[0;34m[\u001b[0m\u001b[0mlevel\u001b[0m\u001b[0;34m,\u001b[0m \u001b[0;34m:\u001b[0m\u001b[0;34m:\u001b[0m\u001b[0mbarb_density_y\u001b[0m\u001b[0;34m,\u001b[0m \u001b[0;34m:\u001b[0m\u001b[0;34m:\u001b[0m\u001b[0mbarb_density_x\u001b[0m\u001b[0;34m]\u001b[0m\u001b[0;34m,\u001b[0m\u001b[0;34m\u001b[0m\u001b[0;34m\u001b[0m\u001b[0m\n",
      "\u001b[0;31mValueError\u001b[0m: slice step cannot be zero"
     ]
    },
    {
     "data": {
      "image/png": "[encoded data removed]",
      "text/plain": [
       "<Figure size 720x504 with 1 Axes>"
      ]
     },
     "metadata": {
      "needs_background": "light"
     },
     "output_type": "display_data"
    }
   ],
   "source": [
    "fig = plt.figure(figsize=(10,7))\n",
    "ax = pydda.vis.plot_horiz_xsection_barbs(new_grids, background_field='DT', \n",
    "                                        level=1,vmin=10, vmax=60,\n",
    "                                        #w_vel_contours=[3, 6, 9, 12, 15],\n",
    "                                        barb_spacing_x_km=10.0,\n",
    "                                        barb_spacing_y_km=10.0)\n",
    "# ax.set_xticks(np.arange(150.5, 153, 0.1))\n",
    "# ax.set_yticks(np.arange(-36, -32.0, 0.1))\n",
    "# ax.set_xlim([151.0, 151.35])\n",
    "# ax.set_ylim([-34.15, -33.9])\n",
    "plt.show(ax)"
   ]
  }
 ],
 "metadata": {
  "kernelspec": {
   "display_name": "Python 3",
   "language": "python",
   "name": "python3"
  },
  "language_info": {
   "codemirror_mode": {
    "name": "ipython",
    "version": 3
   },
   "file_extension": ".py",
   "mimetype": "text/x-python",
   "name": "python",
   "nbconvert_exporter": "python",
   "pygments_lexer": "ipython3",
   "version": "3.7.1"
  }
 },
 "nbformat": 4,
 "nbformat_minor": 2
}
