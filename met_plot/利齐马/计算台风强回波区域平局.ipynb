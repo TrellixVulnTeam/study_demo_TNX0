{
 "cells": [
  {
   "cell_type": "code",
   "execution_count": 5,
   "metadata": {},
   "outputs": [
    {
     "name": "stdout",
     "output_type": "stream",
     "text": [
      "(1, 46, 251, 251)\n"
     ]
    }
   ],
   "source": [
    "# load library\n",
    "import netCDF4 as nc\n",
    "\n",
    "name = 'Z_RADR_I_Z9577_20190809150400_O_DOR_SA_CAP.bin.bz2'\n",
    "filepath = '/home/liyuan3970/Data/data/meto_data/radar_typhoon_liqima/retrive_wind/'\n",
    "data = nc.Dataset(filepath+name+'.nc', 'r') # 默认为读文件，此处 'r' 可省略\n",
    "data.variables.keys()\n",
    "w = data.variables['w'][:].data\n",
    "x = data.variables['x'][:].data\n",
    "y = data.variables['y'][:].data\n",
    "#wind  = w[0,]\n",
    "print(w.shape)"
   ]
  },
  {
   "cell_type": "code",
   "execution_count": 37,
   "metadata": {},
   "outputs": [
    {
     "name": "stdout",
     "output_type": "stream",
     "text": [
      "30000.0\n",
      "42000.0\n",
      "18000.0\n",
      "30000.0\n"
     ]
    }
   ],
   "source": [
    "print(x[150])\n",
    "print(x[160])\n",
    "print(y[140])\n",
    "print(y[150])"
   ]
  },
  {
   "cell_type": "code",
   "execution_count": 39,
   "metadata": {},
   "outputs": [
    {
     "data": {
      "text/plain": [
       "0.4427876110480613"
      ]
     },
     "execution_count": 39,
     "metadata": {},
     "output_type": "execute_result"
    }
   ],
   "source": [
    "wind = w[0,3:5,150:160,130:140]\n",
    "np.mean(wind,axis =(0,1,2))\n"
   ]
  },
  {
   "cell_type": "code",
   "execution_count": null,
   "metadata": {},
   "outputs": [],
   "source": []
  }
 ],
 "metadata": {
  "kernelspec": {
   "display_name": "Python 3",
   "language": "python",
   "name": "python3"
  },
  "language_info": {
   "codemirror_mode": {
    "name": "ipython",
    "version": 3
   },
   "file_extension": ".py",
   "mimetype": "text/x-python",
   "name": "python",
   "nbconvert_exporter": "python",
   "pygments_lexer": "ipython3",
   "version": "3.7.1"
  }
 },
 "nbformat": 4,
 "nbformat_minor": 2
}
