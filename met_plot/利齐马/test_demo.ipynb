{
 "cells": [
  {
   "cell_type": "markdown",
   "metadata": {},
   "source": [
    "# 雷达型号"
   ]
  },
  {
   "cell_type": "code",
   "execution_count": 7,
   "metadata": {},
   "outputs": [
    {
     "name": "stdout",
     "output_type": "stream",
     "text": [
      "<Datatype: REF Station name: None Scan time: 2019-08-10 00:01:10.934000 Elevation angle: 0.02 Range: 230>\n"
     ]
    }
   ],
   "source": [
    "import cinrad\n",
    "file = '/home/liyuan3970/Data/radar_typhoon_liqima/base/2019-08-10/'\n",
    "f = cinrad.io.CinradReader(file+'Z_RADR_I_Z9040_20190810000100_O_DOR_CA_CAP.bin.bz2')\n",
    "tilt_number = 0\n",
    "data_radius = 230\n",
    "data_dtype = 'REF' # stands for reflectivity\n",
    "r = f.get_data(tilt_number, data_radius, data_dtype)\n",
    "print(r)"
   ]
  },
  {
   "cell_type": "code",
   "execution_count": 4,
   "metadata": {},
   "outputs": [
    {
     "name": "stdout",
     "output_type": "stream",
     "text": [
      "<Datatype: REF Station name: 衢州 Scan time: 2019-08-10 00:04:07.375000 Elevation angle: 0.53 Range: 230>\n"
     ]
    }
   ],
   "source": [
    "import cinrad\n",
    "file = '/home/liyuan3970/Data/radar_typhoon_liqima/base/2019-08-10/'\n",
    "f = cinrad.io.CinradReader(file+'Z_RADR_I_Z9570_20190810000400_O_DOR_SB_CAP.bin.bz2')\n",
    "tilt_number = 0\n",
    "data_radius = 230\n",
    "data_dtype = 'REF' # stands for reflectivity\n",
    "r = f.get_data(tilt_number, data_radius, data_dtype)\n",
    "print(r)"
   ]
  },
  {
   "cell_type": "code",
   "execution_count": 6,
   "metadata": {},
   "outputs": [
    {
     "name": "stdout",
     "output_type": "stream",
     "text": [
      "<Datatype: REF Station name: 杭州 Scan time: 2019-08-10 00:01:47.964000 Elevation angle: 0.48 Range: 230>\n"
     ]
    }
   ],
   "source": [
    "import cinrad\n",
    "file = '/home/liyuan3970/Data/radar_typhoon_liqima/base/2019-08-10/'\n",
    "f = cinrad.io.CinradReader(file+'Z_RADR_I_Z9571_20190810000100_O_DOR_SA_CAP.bin.bz2')\n",
    "tilt_number = 0\n",
    "data_radius = 230\n",
    "data_dtype = 'REF' # stands for reflectivity\n",
    "r = f.get_data(tilt_number, data_radius, data_dtype)\n",
    "print(r)"
   ]
  },
  {
   "cell_type": "code",
   "execution_count": 9,
   "metadata": {},
   "outputs": [
    {
     "name": "stdout",
     "output_type": "stream",
     "text": [
      "<Datatype: REF Station name: 湖州 Scan time: 2019-08-10 00:04:53.569000 Elevation angle: 0.53 Range: 230>\n"
     ]
    }
   ],
   "source": [
    "import cinrad\n",
    "file = '/home/liyuan3970/Data/radar_typhoon_liqima/base/2019-08-10/'\n",
    "f = cinrad.io.CinradReader(file+'Z_RADR_I_Z9572_20190810000400_O_DOR_SA_CAP.bin.bz2')\n",
    "tilt_number = 0\n",
    "data_radius = 230\n",
    "data_dtype = 'REF' # stands for reflectivity\n",
    "r = f.get_data(tilt_number, data_radius, data_dtype)\n",
    "print(r)"
   ]
  },
  {
   "cell_type": "code",
   "execution_count": 10,
   "metadata": {},
   "outputs": [
    {
     "name": "stdout",
     "output_type": "stream",
     "text": [
      "<Datatype: REF Station name: 宁波 Scan time: 2019-08-10 00:02:05.947000 Elevation angle: 0.50 Range: 230>\n"
     ]
    }
   ],
   "source": [
    "import cinrad\n",
    "file = '/home/liyuan3970/Data/radar_typhoon_liqima/base/2019-08-10/'\n",
    "f = cinrad.io.CinradReader(file+'Z_RADR_I_Z9574_20190810000200_O_DOR_SA_CAP.bin.bz2')\n",
    "tilt_number = 0\n",
    "data_radius = 230\n",
    "data_dtype = 'REF' # stands for reflectivity\n",
    "r = f.get_data(tilt_number, data_radius, data_dtype)\n",
    "print(r)"
   ]
  },
  {
   "cell_type": "code",
   "execution_count": 11,
   "metadata": {},
   "outputs": [
    {
     "name": "stdout",
     "output_type": "stream",
     "text": [
      "<Datatype: REF Station name: 台州 Scan time: 2019-08-10 00:00:55.519000 Elevation angle: 0.66 Range: 230>\n"
     ]
    }
   ],
   "source": [
    "import cinrad\n",
    "file = '/home/liyuan3970/Data/radar_typhoon_liqima/base/2019-08-10/'\n",
    "f = cinrad.io.CinradReader(file+'Z_RADR_I_Z9576_20190810000000_O_DOR_SA_CAP.bin.bz2')\n",
    "tilt_number = 0\n",
    "data_radius = 230\n",
    "data_dtype = 'REF' # stands for reflectivity\n",
    "r = f.get_data(tilt_number, data_radius, data_dtype)\n",
    "print(r)"
   ]
  },
  {
   "cell_type": "code",
   "execution_count": 12,
   "metadata": {},
   "outputs": [
    {
     "name": "stdout",
     "output_type": "stream",
     "text": [
      "<Datatype: REF Station name: 温州 Scan time: 2019-08-10 00:04:39.412000 Elevation angle: 0.46 Range: 230>\n"
     ]
    }
   ],
   "source": [
    "import cinrad\n",
    "file = '/home/liyuan3970/Data/radar_typhoon_liqima/base/2019-08-10/'\n",
    "f = cinrad.io.CinradReader(file+'Z_RADR_I_Z9577_20190810000400_O_DOR_SA_CAP.bin.bz2')\n",
    "tilt_number = 0\n",
    "data_radius = 230\n",
    "data_dtype = 'REF' # stands for reflectivity\n",
    "r = f.get_data(tilt_number, data_radius, data_dtype)\n",
    "print(r)"
   ]
  },
  {
   "cell_type": "code",
   "execution_count": 14,
   "metadata": {},
   "outputs": [
    {
     "name": "stdout",
     "output_type": "stream",
     "text": [
      "<Datatype: REF Station name: 丽水 Scan time: 2019-08-10 00:03:19.103000 Elevation angle: 0.57 Range: 230>\n"
     ]
    }
   ],
   "source": [
    "import cinrad\n",
    "file = '/home/liyuan3970/Data/radar_typhoon_liqima/base/2019-08-10/'\n",
    "f = cinrad.io.CinradReader(file+'Z_RADR_I_Z9578_20190810000300_O_DOR_SA_CAP.bin.bz2')\n",
    "tilt_number = 0\n",
    "data_radius = 230\n",
    "data_dtype = 'REF' # stands for reflectivity\n",
    "r = f.get_data(tilt_number, data_radius, data_dtype)\n",
    "print(r)"
   ]
  },
  {
   "cell_type": "code",
   "execution_count": 16,
   "metadata": {},
   "outputs": [
    {
     "name": "stdout",
     "output_type": "stream",
     "text": [
      "<Datatype: REF Station name: 金华 Scan time: 2019-08-10 00:00:58.806000 Elevation angle: 0.48 Range: 230>\n"
     ]
    }
   ],
   "source": [
    "import cinrad\n",
    "file = '/home/liyuan3970/Data/radar_typhoon_liqima/base/2019-08-10/'\n",
    "f = cinrad.io.CinradReader(file+'Z_RADR_I_Z9579_20190810000000_O_DOR_SB_CAP.bin.bz2')\n",
    "tilt_number = 0\n",
    "data_radius = 230\n",
    "data_dtype = 'REF' # stands for reflectivity\n",
    "r = f.get_data(tilt_number, data_radius, data_dtype)\n",
    "print(r)"
   ]
  },
  {
   "cell_type": "code",
   "execution_count": 18,
   "metadata": {},
   "outputs": [
    {
     "name": "stdout",
     "output_type": "stream",
     "text": [
      "<Datatype: REF Station name: 舟山 Scan time: 2019-08-10 00:11:18.605000 Elevation angle: 0.50 Range: 230>\n"
     ]
    }
   ],
   "source": [
    "import cinrad\n",
    "file = '/home/liyuan3970/Data/radar_typhoon_liqima/base/2019-08-10/'\n",
    "f = cinrad.io.CinradReader(file+'Z_RADR_I_Z9580_20190810001100_O_DOR_SA_CAP.bin.bz2')\n",
    "tilt_number = 0\n",
    "data_radius = 230\n",
    "data_dtype = 'REF' # stands for reflectivity\n",
    "r = f.get_data(tilt_number, data_radius, data_dtype)\n",
    "print(r)"
   ]
  },
  {
   "cell_type": "code",
   "execution_count": null,
   "metadata": {},
   "outputs": [],
   "source": []
  }
 ],
 "metadata": {
  "kernelspec": {
   "display_name": "Python 3",
   "language": "python",
   "name": "python3"
  },
  "language_info": {
   "codemirror_mode": {
    "name": "ipython",
    "version": 3
   },
   "file_extension": ".py",
   "mimetype": "text/x-python",
   "name": "python",
   "nbconvert_exporter": "python",
   "pygments_lexer": "ipython3",
   "version": "3.7.1"
  }
 },
 "nbformat": 4,
 "nbformat_minor": 2
}
