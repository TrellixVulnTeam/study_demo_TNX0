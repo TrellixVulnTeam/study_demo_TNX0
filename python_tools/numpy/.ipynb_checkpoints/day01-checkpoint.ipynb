{
 "cells": [
  {
   "cell_type": "markdown",
   "metadata": {},
   "source": [
    "# Day01--numpy的基础\n",
    "numpy的核心\n"
   ]
  },
  {
   "cell_type": "code",
   "execution_count": 1,
   "metadata": {},
   "outputs": [
    {
     "name": "stdout",
     "output_type": "stream",
     "text": [
      "[1 2 3 4]\n"
     ]
    }
   ],
   "source": [
    "import numpy as np\n",
    "ary = np.array([1, 2, 3, 4])\n",
    "print(ary)"
   ]
  },
  {
   "cell_type": "markdown",
   "metadata": {},
   "source": [
    "**ndarray数组的创建**\n",
    "\n",
    "1. np.array(任何可被解释为数组的逻辑结构)\n",
    "\n",
    "2. np.arange(起始值[0], 终止值, 步长[1])\n",
    "\n",
    "3. np.zeros(数组元素个数, dtype='元素类型')\n",
    "\n",
    "4. np.ones(数组元素个数, dtype='元素类型')\n",
    "\n",
    "5. np.zeros_like(ary)\n",
    "\n",
    "6. np.ones_like(ary)"
   ]
  },
  {
   "cell_type": "code",
   "execution_count": 4,
   "metadata": {},
   "outputs": [
    {
     "name": "stdout",
     "output_type": "stream",
     "text": [
      "矩阵a： [[1 2 3 4]\n",
      " [5 6 7 8]] (2, 4)\n",
      "矩阵b： [1 3 5 7 9]\n",
      "矩阵c： [0 0 0 0 0] int32\n",
      "矩阵d： [1 1 1 1 1] int32\n",
      "矩阵e： [[0 0 0 0]\n",
      " [0 0 0 0]]\n",
      "[[0.2 0.2 0.2 0.2]\n",
      " [0.2 0.2 0.2 0.2]]\n"
     ]
    }
   ],
   "source": [
    "a = np.array([[1, 2, 3, 4],[5, 6, 7, 8]])\n",
    "print('矩阵a：',a, a.shape)\n",
    "# 起始值1, 终止值10, 步长1\n",
    "b = np.arange(1, 10, 2)\n",
    "print('矩阵b：',b)\n",
    "\n",
    "# 创建5个元素全为0的数组\n",
    "c = np.zeros(5, dtype='int32')\n",
    "print('矩阵c：',c, c.dtype)\n",
    "\n",
    "# 创建5个元素全为1的数组\n",
    "d = np.ones(5, dtype='int32')\n",
    "print('矩阵d：',d, d.dtype)\n",
    "# 创建数组e与f, 结构与a相同, e中全0, f中全1\n",
    "e = np.zeros_like(a)\n",
    "f = np.ones_like(a)\n",
    "print('矩阵e：',e)\n",
    "print(f / 5)"
   ]
  },
  {
   "cell_type": "code",
   "execution_count": null,
   "metadata": {},
   "outputs": [],
   "source": []
  }
 ],
 "metadata": {
  "kernelspec": {
   "display_name": "Python 3",
   "language": "python",
   "name": "python3"
  },
  "language_info": {
   "codemirror_mode": {
    "name": "ipython",
    "version": 3
   },
   "file_extension": ".py",
   "mimetype": "text/x-python",
   "name": "python",
   "nbconvert_exporter": "python",
   "pygments_lexer": "ipython3",
   "version": "3.7.1"
  }
 },
 "nbformat": 4,
 "nbformat_minor": 2
}
