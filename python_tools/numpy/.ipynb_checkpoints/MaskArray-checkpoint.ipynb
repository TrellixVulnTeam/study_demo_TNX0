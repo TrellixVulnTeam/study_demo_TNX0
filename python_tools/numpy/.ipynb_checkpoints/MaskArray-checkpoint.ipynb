{
 "cells": [
  {
   "cell_type": "markdown",
   "metadata": {},
   "source": [
    "# python的掩模"
   ]
  },
  {
   "cell_type": "code",
   "execution_count": 5,
   "metadata": {},
   "outputs": [
    {
     "name": "stdout",
     "output_type": "stream",
     "text": [
      "[-- -- -- 5 7 -- -- -- 8 --]\n"
     ]
    }
   ],
   "source": [
    "import numpy.ma as ma\n",
    "import numpy as np\n",
    "x = np.array([1,2,3,5,7,4,3,2,8,0])\n",
    "mask = x < 5\n",
    "mx = ma.array(x,mask=mask)\n",
    "type(mx)\n",
    "print(mx)"
   ]
  }
 ],
 "metadata": {
  "kernelspec": {
   "display_name": "Python 3",
   "language": "python",
   "name": "python3"
  },
  "language_info": {
   "codemirror_mode": {
    "name": "ipython",
    "version": 3
   },
   "file_extension": ".py",
   "mimetype": "text/x-python",
   "name": "python",
   "nbconvert_exporter": "python",
   "pygments_lexer": "ipython3",
   "version": "3.7.1"
  }
 },
 "nbformat": 4,
 "nbformat_minor": 2
}
