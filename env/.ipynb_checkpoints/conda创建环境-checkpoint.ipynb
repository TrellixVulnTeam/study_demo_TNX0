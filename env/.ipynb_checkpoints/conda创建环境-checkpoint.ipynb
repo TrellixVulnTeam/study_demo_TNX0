{
 "cells": [
  {
   "cell_type": "markdown",
   "metadata": {},
   "source": [
    "## conda 创建环境"
   ]
  },
  {
   "cell_type": "code",
   "execution_count": null,
   "metadata": {},
   "outputs": [],
   "source": []
  },
  {
   "cell_type": "markdown",
   "metadata": {},
   "source": [
    "### 创建环境\n",
    "```shell\n",
    "\n",
    "conda create --name dl python=3.7\n",
    "```\n",
    "\n",
    "### 激活和结束环境\n",
    "```shell\n",
    "conda activate dl\n",
    "\n",
    "conda deactivate\n",
    "\n",
    "```"
   ]
  },
  {
   "cell_type": "markdown",
   "metadata": {},
   "source": [
    "### conda 常见的命令\n",
    "\n",
    "```\n",
    "conda list: 看这个环境下安装的包和版本\n",
    "conda install numpy scikit-learn: 安装numpy sklearn包\n",
    "conda env remove -n yourEnv: 删除你的环境\n",
    "conda env list: 查看所有的环境\n",
    "```"
   ]
  },
  {
   "cell_type": "markdown",
   "metadata": {},
   "source": [
    "### 创建ncl环境\n",
    "```shell\n",
    "conda create -n ncl -c conda-forge ncl\n",
    "```"
   ]
  },
  {
   "cell_type": "markdown",
   "metadata": {},
   "source": [
    "### 安装cartgory\n",
    "```shell\n",
    "conda install -c conda-forge cartopy\n",
    "```"
   ]
  },
  {
   "cell_type": "markdown",
   "metadata": {},
   "source": [
    "### 依据yaml文件创建新的气象环境\n",
    "\n",
    "```shell\n",
    " conda env create -n cdat81 -f cdat-v81-nox_py3.6.Darwin.yaml\n",
    "\n",
    "```"
   ]
  },
  {
   "cell_type": "markdown",
   "metadata": {},
   "source": [
    "# 导入和导出环境\n",
    "```shell \n",
    "conda env export > environment.yaml \n",
    "\n",
    "conda env create -f environment.yaml\n",
    "\n",
    "```"
   ]
  },
  {
   "cell_type": "markdown",
   "metadata": {},
   "source": [
    "# ------------------------------------------------------------------------------------------------------------------"
   ]
  },
  {
   "cell_type": "markdown",
   "metadata": {},
   "source": [
    "# Python 创建虚拟环境\n",
    "## 安装\n",
    "```shell\n",
    "pip install virtualenv\n",
    "```\n",
    "## 基本使用\n",
    "```shell\n",
    "#创建环境\n",
    "cd my_project_dir\n",
    "virtualenv venv　　#venv为虚拟环境目录名，目录名自定义\n",
    "```\n",
    "# 为环境指定python版本\n",
    "\n",
    "```shell\n",
    "virtualenv -p /home/liyuan3970/anaconda/bin/python3.7 venv# -p参数指定Python解释器程序路径\n",
    "```\n",
    "\n",
    "# 激活环境\n",
    "```shell\n",
    "source venv/bin/activate\n",
    "```\n",
    "\n",
    "# 停滞环境\n",
    "```shell\n",
    ". venv/bin/deactivate\n",
    "```\n",
    "\n",
    "# 安装各种包\n",
    "```shell\n",
    "pip3 install ...\n",
    "```\n",
    "\n",
    "# 启动python\n",
    "```shell\n",
    "python3 \n",
    "\n",
    "```\n",
    "\n",
    "# 利用python３自带的命令创建全新的环境\n",
    "\n",
    "## 在制定目录下创建环境（这个环境是一个超级纯净的环境）\n",
    "```python \n",
    "python -m venv /home/liyuan3970/data/git_project/blog/environment\n",
    "```\n",
    "## 激活环境\n",
    "```shell \n",
    "source venv/bin/activate\n",
    "```\n",
    "\n",
    "## 停止环境\n",
    "```shell\n",
    ". venv/bin/deactivate\n",
    "```"
   ]
  },
  {
   "cell_type": "markdown",
   "metadata": {},
   "source": [
    "## 更新环境的基本软件\n",
    "\n",
    "```shell\n",
    "python -m pip install -U pip setuptools\n",
    "\n",
    "python -m pip install --upgrade pip\n",
    "\n",
    "```"
   ]
  },
  {
   "cell_type": "markdown",
   "metadata": {},
   "source": [
    "# Python导出所需要的包\n"
   ]
  },
  {
   "cell_type": "markdown",
   "metadata": {},
   "source": [
    "```shell\n",
    "pip freeze > requirements.txt\n",
    "pip install -r requirement.txt\n",
    "```"
   ]
  },
  {
   "cell_type": "markdown",
   "metadata": {},
   "source": [
    "# 配置GIT\n"
   ]
  },
  {
   "cell_type": "markdown",
   "metadata": {},
   "source": [
    "```shelll\n",
    "git config --global  user.name \"这里换上你的用户名\"\n",
    "\n",
    "git config --global user.email \"这里换上你的邮箱\"\n",
    "\n",
    "ssh-keygen -t rsa -C \"这里换上你的邮箱\"\n",
    " ```\n",
    "* 在指定的保存路径下会生成2个名为id_rsa和id_rsa.pub的文件\n",
    "* 然后用文本工具打开之前生成的id_rsa.pub文件，把内容拷贝到key下面的输入框，并为这个key定义一个名称（通常用来区分不同主机），然后保存"
   ]
  },
  {
   "cell_type": "markdown",
   "metadata": {},
   "source": [
    "# GIt设置上传数据大小\n",
    "cd到git所在目录\n",
    "~~~shell\n",
    "git config http.postBuffer 524288000\n",
    "\n",
    "git config -l \n",
    "~~~\n"
   ]
  },
  {
   "cell_type": "code",
   "execution_count": null,
   "metadata": {},
   "outputs": [],
   "source": []
  },
  {
   "cell_type": "markdown",
   "metadata": {},
   "source": [
    "# Jupyter lab配置远程访问的技巧"
   ]
  },
  {
   "cell_type": "markdown",
   "metadata": {},
   "source": [
    "* 在服务端输入\n",
    "~~~shelll\n",
    "jupyter notebook --generate-config\n",
    "~~~\n",
    "\n",
    "* Ipython\n",
    "~~~ipython\n",
    "from notebook.auth import passwd\n",
    "passwd()\n",
    "~~~\n",
    "\n",
    "* 配置文件中修改(.jupyter/)\n",
    "~~~python\n",
    "c.NotebookApp.ip='*' # 允许所有ip访问\n",
    "c.NotebookApp.password = u'sha1:...刚才复制的那个密文'\n",
    "c.NotebookApp.open_browser = False # 是否打开浏览器\n",
    "c.NotebookApp.port = 8888 #指定端口\n",
    "c.NotebookApp.allow_remote_access = True\n",
    "~~~\n"
   ]
  },
  {
   "cell_type": "code",
   "execution_count": null,
   "metadata": {},
   "outputs": [],
   "source": []
  },
  {
   "cell_type": "markdown",
   "metadata": {},
   "source": [
    "# Jupyterl配置开机自动启动\n",
    "\n",
    "~~~shell\n",
    "sudo vim /lib/systemd/system/jupyter.service\n",
    "\n",
    "~~~\n",
    "\n",
    "## 加入以下代码，路径写jupyter-lab.sh的位置\n",
    "~~~vim\n",
    "[Unit]\n",
    "Description=jupyter notebook\n",
    "After=network.target\n",
    "[Service]\n",
    "Type=simple\n",
    "# 这里填用户名，下同\n",
    "User=starfish\n",
    "EnvironmentFile=/home/starfish/.local/bin/jupyter-notebook\n",
    "ExecStart=/home/starfish/.local/bin/jupyter-notebook\n",
    "ExecStop=/usr/bin/pkill /home/starfish/.local/bin/jupyter-notebook\n",
    "KillMode=process\n",
    "Restart=on-failure\n",
    "RestartSec=30s\n",
    "[Install]\n",
    "WantedBy=multi-user.target\n",
    "\n",
    "\n",
    "~~~\n",
    "## 启动jupyter lab\n",
    "~~~shell\n",
    "sudo systemctl daemon-reload\n",
    "sudo systemctl enable jupyter.service\n",
    "sudo systemctl start jupyter.service\n",
    "~~~\n",
    "\n",
    "## 其他指令\n",
    "\n",
    "~~~shell\n",
    "#移除jupyter服务\n",
    "sudo systemctl disable jupyter.service\n",
    "#重启jupyter服务\n",
    "sudo systemctl restart jupyter.service\n",
    "#停止jupyter服务\n",
    "sudo systemctl stop jupyter.service\n",
    "\n",
    "\n",
    "[原文链接][https://blog.csdn.net/starfish55555/article/details/96788672]\n"
   ]
  },
  {
   "cell_type": "code",
   "execution_count": null,
   "metadata": {},
   "outputs": [],
   "source": []
  }
 ],
 "metadata": {
  "kernelspec": {
   "display_name": "Python 3",
   "language": "python",
   "name": "python3"
  },
  "language_info": {
   "codemirror_mode": {
    "name": "ipython",
    "version": 3
   },
   "file_extension": ".py",
   "mimetype": "text/x-python",
   "name": "python",
   "nbconvert_exporter": "python",
   "pygments_lexer": "ipython3",
   "version": "3.7.1"
  }
 },
 "nbformat": 4,
 "nbformat_minor": 4
}
