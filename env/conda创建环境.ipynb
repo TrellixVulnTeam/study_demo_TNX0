{
 "cells": [
  {
   "cell_type": "markdown",
   "metadata": {},
   "source": [
    "## conda 创建环境"
   ]
  },
  {
   "cell_type": "markdown",
   "metadata": {},
   "source": [
    "### 创建环境\n",
    "```shell\n",
    "\n",
    "conda create --name dl python=3.7\n",
    "```\n",
    "\n",
    "### 激活和结束环境\n",
    "```shell\n",
    "conda activate dl\n",
    "\n",
    "conda deactivate\n",
    "\n",
    "```"
   ]
  },
  {
   "cell_type": "markdown",
   "metadata": {},
   "source": [
    "### conda 常见的命令\n",
    "\n",
    "```\n",
    "conda list: 看这个环境下安装的包和版本\n",
    "conda install numpy scikit-learn: 安装numpy sklearn包\n",
    "conda env remove -n yourEnv: 删除你的环境\n",
    "conda env list: 查看所有的环境\n",
    "```"
   ]
  },
  {
   "cell_type": "markdown",
   "metadata": {},
   "source": [
    "### 创建ncl环境\n",
    "```shell\n",
    "conda create -n ncl -c conda-forge ncl\n",
    "```"
   ]
  },
  {
   "cell_type": "markdown",
   "metadata": {},
   "source": [
    "### 安装cartgory\n",
    "```shell\n",
    "conda install -c conda-forge cartopy\n",
    "```"
   ]
  }
 ],
 "metadata": {
  "kernelspec": {
   "display_name": "Python 3",
   "language": "python",
   "name": "python3"
  },
  "language_info": {
   "codemirror_mode": {
    "name": "ipython",
    "version": 3
   },
   "file_extension": ".py",
   "mimetype": "text/x-python",
   "name": "python",
   "nbconvert_exporter": "python",
   "pygments_lexer": "ipython3",
   "version": "3.7.4"
  }
 },
 "nbformat": 4,
 "nbformat_minor": 2
}
