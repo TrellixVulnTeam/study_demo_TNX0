{
 "cells": [
  {
   "cell_type": "markdown",
   "metadata": {},
   "source": [
    "# 在settings里面配置mysql数据库\n",
    "# 方法一\n",
    "```python \n",
    "DATABASES = {\n",
    "    'default': {\n",
    "        'ENGINE': 'django.db.backends.mysql',\n",
    "        'NAME': 'FruitDay',  #数据库的名称\n",
    "        'USER': 'root',      #用户名\n",
    "        'PASSWORD':123456,   #密码\n",
    "        'HOST': 'localhost', #ip\n",
    "        'PORT':3306,         #端口\n",
    "    }\n",
    "}\n",
    "```\n",
    "# 安装mysql-client\n",
    "```shell\n",
    "pip install mysqlclient\n",
    "```\n",
    "\n",
    "# 方法二\n",
    "在settings.py所在的目录里寻找__init__.py<br>\n",
    "pip install pymysql<br>\n",
    "编写如下代码\n",
    "```python\n",
    "#__init__.py\n",
    "import pymysql\n",
    "pymysql.install_as_MySQLdb()\n",
    "\n",
    "```"
   ]
  }
 ],
 "metadata": {
  "kernelspec": {
   "display_name": "Python 3",
   "language": "python",
   "name": "python3"
  },
  "language_info": {
   "codemirror_mode": {
    "name": "ipython",
    "version": 3
   },
   "file_extension": ".py",
   "mimetype": "text/x-python",
   "name": "python",
   "nbconvert_exporter": "python",
   "pygments_lexer": "ipython3",
   "version": "3.7.1"
  }
 },
 "nbformat": 4,
 "nbformat_minor": 2
}
