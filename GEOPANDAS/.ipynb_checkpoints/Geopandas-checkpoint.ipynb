{
 "cells": [
  {
   "cell_type": "markdown",
   "metadata": {},
   "source": [
    "# 读取地形数据"
   ]
  },
  {
   "cell_type": "code",
   "execution_count": 1,
   "metadata": {},
   "outputs": [],
   "source": [
    "filepath = \"/home/liyuan3970/Data/data/meto_data/geogphy_file/zj_shp_file/\""
   ]
  },
  {
   "cell_type": "code",
   "execution_count": 8,
   "metadata": {},
   "outputs": [
    {
     "data": {
      "text/html": [
       "<div>\n",
       "<style scoped>\n",
       "    .dataframe tbody tr th:only-of-type {\n",
       "        vertical-align: middle;\n",
       "    }\n",
       "\n",
       "    .dataframe tbody tr th {\n",
       "        vertical-align: top;\n",
       "    }\n",
       "\n",
       "    .dataframe thead th {\n",
       "        text-align: right;\n",
       "    }\n",
       "</style>\n",
       "<table border=\"1\" class=\"dataframe\">\n",
       "  <thead>\n",
       "    <tr style=\"text-align: right;\">\n",
       "      <th></th>\n",
       "      <th>geom</th>\n",
       "      <th>省</th>\n",
       "      <th>市</th>\n",
       "      <th>县</th>\n",
       "      <th>乡</th>\n",
       "      <th>geometry</th>\n",
       "    </tr>\n",
       "  </thead>\n",
       "  <tbody>\n",
       "    <tr>\n",
       "      <th>0</th>\n",
       "      <td>SRID=4326;MULTIPOLYGON(((120.323577209753 28.0...</td>\n",
       "      <td>浙江省</td>\n",
       "      <td>丽水市</td>\n",
       "      <td>青田县</td>\n",
       "      <td>山口镇</td>\n",
       "      <td>POLYGON ((120.31923 28.08498, 120.31930 28.084...</td>\n",
       "    </tr>\n",
       "    <tr>\n",
       "      <th>1</th>\n",
       "      <td>SRID=4326;MULTIPOLYGON(((120.245939284855 28.4...</td>\n",
       "      <td>浙江省</td>\n",
       "      <td>丽水市</td>\n",
       "      <td>青田县</td>\n",
       "      <td>季宅乡</td>\n",
       "      <td>POLYGON ((120.24160 28.43706, 120.24217 28.437...</td>\n",
       "    </tr>\n",
       "    <tr>\n",
       "      <th>2</th>\n",
       "      <td>SRID=4326;MULTIPOLYGON(((119.891832489918 28.4...</td>\n",
       "      <td>浙江省</td>\n",
       "      <td>丽水市</td>\n",
       "      <td>莲都区</td>\n",
       "      <td>水阁街道</td>\n",
       "      <td>POLYGON ((119.88741 28.42410, 119.88763 28.424...</td>\n",
       "    </tr>\n",
       "    <tr>\n",
       "      <th>3</th>\n",
       "      <td>SRID=4326;MULTIPOLYGON(((119.077718768661 28.1...</td>\n",
       "      <td>浙江省</td>\n",
       "      <td>丽水市</td>\n",
       "      <td>龙泉市</td>\n",
       "      <td>西街街道</td>\n",
       "      <td>POLYGON ((119.07261 28.13674, 119.07327 28.136...</td>\n",
       "    </tr>\n",
       "    <tr>\n",
       "      <th>4</th>\n",
       "      <td>SRID=4326;MULTIPOLYGON(((119.145039114404 28.0...</td>\n",
       "      <td>浙江省</td>\n",
       "      <td>丽水市</td>\n",
       "      <td>龙泉市</td>\n",
       "      <td>龙渊街道</td>\n",
       "      <td>POLYGON ((119.13995 28.06791, 119.13730 28.068...</td>\n",
       "    </tr>\n",
       "    <tr>\n",
       "      <th>...</th>\n",
       "      <td>...</td>\n",
       "      <td>...</td>\n",
       "      <td>...</td>\n",
       "      <td>...</td>\n",
       "      <td>...</td>\n",
       "      <td>...</td>\n",
       "    </tr>\n",
       "    <tr>\n",
       "      <th>1341</th>\n",
       "      <td>SRID=4326;MULTIPOLYGON(((119.185179142414 29.1...</td>\n",
       "      <td>浙江省</td>\n",
       "      <td>衢州市</td>\n",
       "      <td>龙游县</td>\n",
       "      <td>塔石镇</td>\n",
       "      <td>POLYGON ((119.18009 29.10910, 119.18016 29.108...</td>\n",
       "    </tr>\n",
       "    <tr>\n",
       "      <th>1342</th>\n",
       "      <td>SRID=4326;MULTIPOLYGON(((119.345393538319 28.7...</td>\n",
       "      <td>浙江省</td>\n",
       "      <td>金华市</td>\n",
       "      <td>婺城区</td>\n",
       "      <td>塔石乡</td>\n",
       "      <td>POLYGON ((119.34030 28.76084, 119.34000 28.760...</td>\n",
       "    </tr>\n",
       "    <tr>\n",
       "      <th>1343</th>\n",
       "      <td>SRID=4326;MULTIPOLYGON(((119.617234560162 28.8...</td>\n",
       "      <td>浙江省</td>\n",
       "      <td>金华市</td>\n",
       "      <td>婺城区</td>\n",
       "      <td>安地镇</td>\n",
       "      <td>POLYGON ((119.61257 28.86914, 119.61226 28.869...</td>\n",
       "    </tr>\n",
       "    <tr>\n",
       "      <th>1344</th>\n",
       "      <td>SRID=4326;POLYGON((119.485179786512 29.0194455...</td>\n",
       "      <td>浙江省</td>\n",
       "      <td>金华市</td>\n",
       "      <td>婺城区</td>\n",
       "      <td>白龙桥镇</td>\n",
       "      <td>POLYGON ((119.48017 29.02227, 119.47932 29.022...</td>\n",
       "    </tr>\n",
       "    <tr>\n",
       "      <th>1345</th>\n",
       "      <td>SRID=4326;MULTIPOLYGON(((120.877617964962 29.2...</td>\n",
       "      <td>浙江省</td>\n",
       "      <td>绍兴市</td>\n",
       "      <td>新昌县</td>\n",
       "      <td>双彩乡</td>\n",
       "      <td>POLYGON ((120.87360 29.30260, 120.87359 29.302...</td>\n",
       "    </tr>\n",
       "  </tbody>\n",
       "</table>\n",
       "<p>1346 rows × 6 columns</p>\n",
       "</div>"
      ],
      "text/plain": [
       "                                                   geom    省    市    县     乡  \\\n",
       "0     SRID=4326;MULTIPOLYGON(((120.323577209753 28.0...  浙江省  丽水市  青田县   山口镇   \n",
       "1     SRID=4326;MULTIPOLYGON(((120.245939284855 28.4...  浙江省  丽水市  青田县   季宅乡   \n",
       "2     SRID=4326;MULTIPOLYGON(((119.891832489918 28.4...  浙江省  丽水市  莲都区  水阁街道   \n",
       "3     SRID=4326;MULTIPOLYGON(((119.077718768661 28.1...  浙江省  丽水市  龙泉市  西街街道   \n",
       "4     SRID=4326;MULTIPOLYGON(((119.145039114404 28.0...  浙江省  丽水市  龙泉市  龙渊街道   \n",
       "...                                                 ...  ...  ...  ...   ...   \n",
       "1341  SRID=4326;MULTIPOLYGON(((119.185179142414 29.1...  浙江省  衢州市  龙游县   塔石镇   \n",
       "1342  SRID=4326;MULTIPOLYGON(((119.345393538319 28.7...  浙江省  金华市  婺城区   塔石乡   \n",
       "1343  SRID=4326;MULTIPOLYGON(((119.617234560162 28.8...  浙江省  金华市  婺城区   安地镇   \n",
       "1344  SRID=4326;POLYGON((119.485179786512 29.0194455...  浙江省  金华市  婺城区  白龙桥镇   \n",
       "1345  SRID=4326;MULTIPOLYGON(((120.877617964962 29.2...  浙江省  绍兴市  新昌县   双彩乡   \n",
       "\n",
       "                                               geometry  \n",
       "0     POLYGON ((120.31923 28.08498, 120.31930 28.084...  \n",
       "1     POLYGON ((120.24160 28.43706, 120.24217 28.437...  \n",
       "2     POLYGON ((119.88741 28.42410, 119.88763 28.424...  \n",
       "3     POLYGON ((119.07261 28.13674, 119.07327 28.136...  \n",
       "4     POLYGON ((119.13995 28.06791, 119.13730 28.068...  \n",
       "...                                                 ...  \n",
       "1341  POLYGON ((119.18009 29.10910, 119.18016 29.108...  \n",
       "1342  POLYGON ((119.34030 28.76084, 119.34000 28.760...  \n",
       "1343  POLYGON ((119.61257 28.86914, 119.61226 28.869...  \n",
       "1344  POLYGON ((119.48017 29.02227, 119.47932 29.022...  \n",
       "1345  POLYGON ((120.87360 29.30260, 120.87359 29.302...  \n",
       "\n",
       "[1346 rows x 6 columns]"
      ]
     },
     "execution_count": 8,
     "metadata": {},
     "output_type": "execute_result"
    }
   ],
   "source": [
    "import geopandas as gpd\n",
    "f = gpd.read_file(filepath+\"zhejiang.shp\")\n",
    "f"
   ]
  },
  {
   "cell_type": "code",
   "execution_count": 37,
   "metadata": {},
   "outputs": [
    {
     "name": "stdout",
     "output_type": "stream",
     "text": [
      "<class 'shapely.geometry.polygon.Polygon'>\n"
     ]
    }
   ],
   "source": [
    "from shapely.geometry import Polygon\n",
    "point = f['geometry']\n",
    "# point[0]['coordinates']\n",
    "print(type(point[0]))\n"
   ]
  },
  {
   "cell_type": "code",
   "execution_count": 25,
   "metadata": {},
   "outputs": [],
   "source": [
    "# 保存数据为geojson\n",
    "data = f[f['市']=='丽水市']\n",
    "# data.to_file(\"shp_file/lishui.shp\")\n",
    "data.to_file(\"shp_file/lishui.geojson\", driver='GeoJSON')"
   ]
  },
  {
   "cell_type": "markdown",
   "metadata": {},
   "source": [
    "# 输出为geojson"
   ]
  },
  {
   "cell_type": "code",
   "execution_count": 1,
   "metadata": {},
   "outputs": [
    {
     "name": "stderr",
     "output_type": "stream",
     "text": [
      "/opt/conda/lib/python3.7/site-packages/pandas/compat/_optional.py:138: UserWarning: Pandas requires version '2.7.0' or newer of 'numexpr' (version '2.6.9' currently installed).\n",
      "  warnings.warn(msg, UserWarning)\n"
     ]
    }
   ],
   "source": [
    "import geopandas as gpd\n",
    "\n",
    "def city_json(name):\n",
    "    city = name\n",
    "    filepath = \"/home/liyuan3970/Data/data/meto_data/geogphy_file/zj_shp_file/\"\n",
    "    f = gpd.read_file(filepath+\"zhejiang.shp\")\n",
    "    data = f[f['市']==city]\n",
    "    data.to_file(\"shp_file/\"+city+\".geojson\", driver='GeoJSON')\n",
    "    \n",
    "    \n",
    "    \n",
    "    \n",
    "    \n",
    "    "
   ]
  },
  {
   "cell_type": "code",
   "execution_count": 5,
   "metadata": {},
   "outputs": [],
   "source": [
    "city_list = ['湖州市','杭州市','嘉兴市','绍兴市','宁波市','温州市','台州市','金华市','丽水市','衢州市','舟山市']\n",
    "\n",
    "for i in city_list:\n",
    "    city  = str(i)\n",
    "    city_json(city)\n",
    "\n"
   ]
  },
  {
   "cell_type": "code",
   "execution_count": null,
   "metadata": {},
   "outputs": [],
   "source": []
  },
  {
   "cell_type": "markdown",
   "metadata": {},
   "source": [
    "# 输出为经纬度数据"
   ]
  },
  {
   "cell_type": "code",
   "execution_count": 23,
   "metadata": {},
   "outputs": [],
   "source": [
    "import json\n",
    "with open(\"shp_file/台州市.geojson\",\"r\") as f:\n",
    "    load_dict = json.load(f)\n",
    "load_dict['features']#['geometry']   \n",
    "for i in load_dict['features']:\n",
    "    if i['geometry']['type'] =='Polygon':\n",
    "        for j in i['geometry']['coordinates']:\n",
    "            lat = j[1]\n",
    "            lon = j[0]\n",
    "    elif i['geometry']['type'] =='MultiPolygon':\n",
    "        for j in i['geometry']['coordinates']:\n",
    "            for k in j:\n",
    "                lat = k[1]\n",
    "                lon = k[0]           \n",
    "    else:\n",
    "        print(i['geometry']['type'] )\n"
   ]
  },
  {
   "cell_type": "code",
   "execution_count": 8,
   "metadata": {},
   "outputs": [],
   "source": [
    "import json\n",
    "import pandas as pd \n",
    "# lat = []\n",
    "# lon = []\n",
    "def turn_latlon(city):\n",
    "    lat = []\n",
    "    lon = []\n",
    "    file = \"shp_file/\"+city+\".geojson\"\n",
    "    with open(file,\"r\") as f:\n",
    "        load_dict = json.load(f)\n",
    "    f.close()\n",
    "    for i in load_dict['features']:\n",
    "        if i['geometry']['type'] =='Polygon':\n",
    "            for j in i['geometry']['coordinates']:\n",
    "                for k in j:              \n",
    "                    lat.append(round(k[1],5))\n",
    "                    lon.append(round(k[0],5))\n",
    "#                     print(\"k的值：\",k)\n",
    "\n",
    "        elif i['geometry']['type'] =='MultiPolygon':\n",
    "            for j in i['geometry']['coordinates']:\n",
    "                for k in j:\n",
    "                    for m in k:\n",
    "                        lat.append(round(m[1],5))\n",
    "                        lon.append(round(m[0],5)) \n",
    "#                         print(\"m的值：\",m)\n",
    "#                     print(j[0],j[1])\n",
    "        else:\n",
    "            print(i['geometry']['type'] )\n",
    "    data = pd.DataFrame()\n",
    "    data['lat'] = lat\n",
    "    data['lon'] = lon\n",
    "    return data\n",
    "    \n",
    "data = turn_latlon('台州市')    "
   ]
  },
  {
   "cell_type": "code",
   "execution_count": null,
   "metadata": {},
   "outputs": [],
   "source": []
  },
  {
   "cell_type": "code",
   "execution_count": 9,
   "metadata": {},
   "outputs": [],
   "source": [
    "city_list = ['湖州市','杭州市','嘉兴市','绍兴市','宁波市','温州市','台州市','金华市','丽水市','衢州市','舟山市']\n",
    "\n",
    "for i in city_list:\n",
    "    data = turn_latlon(i)    \n",
    "    data.to_csv('shp_file/txt/'+str(i)+'.txt', sep=',', index=False)"
   ]
  },
  {
   "cell_type": "markdown",
   "metadata": {},
   "source": [
    "# 前端加减按钮的核心原理"
   ]
  },
  {
   "cell_type": "code",
   "execution_count": 1,
   "metadata": {},
   "outputs": [
    {
     "name": "stdout",
     "output_type": "stream",
     "text": [
      "['daaa']\n"
     ]
    }
   ],
   "source": [
    "list_div = []\n",
    "\n",
    "\n",
    "def run():\n",
    "    for i in list_div:\n",
    "        print(i)\n",
    "\n",
    "def add():\n",
    "    html = \"daaa\"\n",
    "    div = []\n",
    "    div.append(html)\n",
    "    list_div.append(div)\n",
    "    run()\n",
    "\n",
    "def dell():\n",
    "    if len(list_div)>0:\n",
    "        list_div.pop()\n",
    "    run()\n",
    "\n",
    "add()\n",
    "\n"
   ]
  }
 ],
 "metadata": {
  "kernelspec": {
   "display_name": "Python 3",
   "language": "python",
   "name": "python3"
  },
  "language_info": {
   "codemirror_mode": {
    "name": "ipython",
    "version": 3
   },
   "file_extension": ".py",
   "mimetype": "text/x-python",
   "name": "python",
   "nbconvert_exporter": "python",
   "pygments_lexer": "ipython3",
   "version": "3.7.6"
  }
 },
 "nbformat": 4,
 "nbformat_minor": 4
}
