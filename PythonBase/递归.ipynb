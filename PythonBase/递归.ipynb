{
 "cells": [
  {
   "cell_type": "markdown",
   "metadata": {},
   "source": [
    "## 绘制英式标尺"
   ]
  },
  {
   "cell_type": "code",
   "execution_count": 8,
   "metadata": {},
   "outputs": [
    {
     "name": "stdout",
     "output_type": "stream",
     "text": [
      "--- 0\n",
      "-\n",
      "--\n",
      "-\n",
      "--- 1\n",
      "-\n",
      "--\n",
      "-\n",
      "--- 2\n"
     ]
    }
   ],
   "source": [
    "def draw_line(tick_length,tick_label=''):\n",
    "    '''draw one line with given tick length(followed by optional label)'''\n",
    "    line = '-'*tick_length\n",
    "    if tick_label:\n",
    "        line +=' '+tick_label\n",
    "    print(line)\n",
    "    \n",
    "def draw_interval(center_length):\n",
    "    '''draw tick interval based upon a center tick length'''\n",
    "    if center_length > 0:                  #stop when length drops to 0\n",
    "        draw_interval(center_length-1)     #draw inch 0 line \n",
    "        draw_line(center_length)           #draw center tivk\n",
    "        draw_interval(center_length-1)     #recursively draw bottom ticks\n",
    "def drew_ruler(num_inches,major_length):\n",
    "    '''draw english ruler with given number of inches,major tick length'''\n",
    "    draw_line(major_length,'0')            # draw inches 0 line\n",
    "    for j in range(1,1+num_inches):        # \n",
    "        draw_interval(major_length-1)      # draw interior ticks for inch\n",
    "        draw_line(major_length,str(j))     # draw inch j line and label\n",
    "\n",
    "# 绘制4刻度的4英寸的标尺\n",
    "\n",
    "drew_ruler(2,3)\n",
    "    \n",
    "    "
   ]
  }
 ],
 "metadata": {
  "kernelspec": {
   "display_name": "Python 3",
   "language": "python",
   "name": "python3"
  },
  "language_info": {
   "codemirror_mode": {
    "name": "ipython",
    "version": 3
   },
   "file_extension": ".py",
   "mimetype": "text/x-python",
   "name": "python",
   "nbconvert_exporter": "python",
   "pygments_lexer": "ipython3",
   "version": "3.7.1"
  }
 },
 "nbformat": 4,
 "nbformat_minor": 2
}
