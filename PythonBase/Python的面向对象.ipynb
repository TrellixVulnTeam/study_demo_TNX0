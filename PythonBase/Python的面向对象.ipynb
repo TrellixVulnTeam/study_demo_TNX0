{
 "cells": [
  {
   "cell_type": "markdown",
   "metadata": {},
   "source": [
    "## Python的面向对象\n",
    "### 类的共有和私有方法"
   ]
  },
  {
   "cell_type": "code",
   "execution_count": 5,
   "metadata": {},
   "outputs": [
    {
     "name": "stdout",
     "output_type": "stream",
     "text": [
      "这是一个公共的方法\n",
      "这是一个私有的方法\n"
     ]
    },
    {
     "ename": "AttributeError",
     "evalue": "'Persion' object has no attribute 'method2'",
     "output_type": "error",
     "traceback": [
      "\u001b[0;31m---------------------------------------------------------------------------\u001b[0m",
      "\u001b[0;31mAttributeError\u001b[0m                            Traceback (most recent call last)",
      "\u001b[0;32m<ipython-input-5-98f900f9c03f>\u001b[0m in \u001b[0;36m<module>\u001b[0;34m\u001b[0m\n\u001b[1;32m     13\u001b[0m \u001b[0;34m\u001b[0m\u001b[0m\n\u001b[1;32m     14\u001b[0m \u001b[0;31m#回报异常\u001b[0m\u001b[0;34m\u001b[0m\u001b[0;34m\u001b[0m\u001b[0;34m\u001b[0m\u001b[0m\n\u001b[0;32m---> 15\u001b[0;31m \u001b[0ma\u001b[0m\u001b[0;34m.\u001b[0m\u001b[0mmethod2\u001b[0m\u001b[0;34m(\u001b[0m\u001b[0;34m)\u001b[0m\u001b[0;34m\u001b[0m\u001b[0;34m\u001b[0m\u001b[0m\n\u001b[0m",
      "\u001b[0;31mAttributeError\u001b[0m: 'Persion' object has no attribute 'method2'"
     ]
    }
   ],
   "source": [
    "class Persion:\n",
    "    def method1(self):\n",
    "        print('这是一个公共的方法')\n",
    "    def __method2(self):\n",
    "        print('这是一个私有的方法')\n",
    "a=Persion()\n",
    "#调用公共方法的技巧\n",
    "a.method1()\n",
    "\n",
    "\n",
    "#调用私有方法的技巧\n",
    "a._Persion__method2()\n",
    "\n",
    "#回报异常\n",
    "a.method2()\n"
   ]
  },
  {
   "cell_type": "markdown",
   "metadata": {},
   "source": [
    "### 添加变量"
   ]
  },
  {
   "cell_type": "code",
   "execution_count": 9,
   "metadata": {},
   "outputs": [
    {
     "name": "stdout",
     "output_type": "stream",
     "text": [
      "MyClass\n",
      "1\n",
      "2\n",
      "abc\n",
      "hello word\n",
      "1\n",
      "2\n"
     ]
    }
   ],
   "source": [
    "class MyClass:\n",
    "    print(\"MyClass\")\n",
    "    count = 0\n",
    "    def conter(self):\n",
    "        self.count += 1\n",
    "        \n",
    "my=MyClass()\n",
    "my.conter()\n",
    "print(my.count)\n",
    "my.conter()\n",
    "print(my.count)\n",
    "my.count=\"abc\"\n",
    "print(my.count)\n",
    "my.name = \"hello word\"\n",
    "print(my.name)\n",
    "\n",
    "b=MyClass()\n",
    "b.conter()\n",
    "print(b.count)\n",
    "b.conter()\n",
    "print(b.count)"
   ]
  },
  {
   "cell_type": "markdown",
   "metadata": {},
   "source": [
    "### 类的继承"
   ]
  },
  {
   "cell_type": "code",
   "execution_count": 12,
   "metadata": {},
   "outputs": [
    {
     "name": "stdout",
     "output_type": "stream",
     "text": [
      "method1\n",
      "method2\n",
      "30\n"
     ]
    }
   ],
   "source": [
    "class ParentClass:\n",
    "    name = 30\n",
    "    def method1(self):\n",
    "        print(\"method1\")\n",
    "class ChildClass(ParentClass):\n",
    "    def method2(self):\n",
    "        print(\"method2\")\n",
    "        #print(self.name)\n",
    "\n",
    "child = ChildClass()\n",
    "child.method1()\n",
    "child.method2()\n",
    "print(child.name)"
   ]
  },
  {
   "cell_type": "code",
   "execution_count": 13,
   "metadata": {},
   "outputs": [
    {
     "name": "stdout",
     "output_type": "stream",
     "text": [
      "result:16\n",
      "(<class '__main__.Calculator'>, <class '__main__.MyPrint'>)\n",
      "(<class '__main__.MyPrint'>, <class '__main__.Calculator'>)\n",
      "计算结果：16\n"
     ]
    }
   ],
   "source": [
    "class Calculator:\n",
    "    def calculate(self,expression):\n",
    "        self.value = eval(expression)\n",
    "    def printResult(self):\n",
    "        print(\"result:{}\".format(self.value))\n",
    "\n",
    "    \n",
    "class MyPrint:\n",
    "    def printResult(self):\n",
    "        print(\"计算结果：{}\".format(self.value))\n",
    "    def aa(self,a):\n",
    "        return 30\n",
    "# 多继承时，当有多个可以继承的对象有公共的属性时，\n",
    "class NewCalculator(Calculator, MyPrint):\n",
    "    pass\n",
    "class NewCalculator1(MyPrint,Calculator):\n",
    "    pass\n",
    "calc = NewCalculator()\n",
    "calc.calculate(\"1 + 3 * 5\")\n",
    "calc.printResult()\n",
    "print(NewCalculator.__bases__)\n",
    "\n",
    "calc1 = NewCalculator1()\n",
    "print(NewCalculator1.__bases__)\n",
    "calc1.calculate(\"1 + 3 * 5\")\n",
    "calc1.printResult()"
   ]
  },
  {
   "cell_type": "markdown",
   "metadata": {},
   "source": [
    "### 与类相关的方法\n",
    "1. 判断是否为继承关系\n",
    "\n",
    "```python\n",
    "print(issubclass(childclass,parentclass))\n",
    "```\n",
    "2. 判断类里面有没有该方法\n",
    "\n",
    "```python\n",
    "print(hasattr(class,\"fun\"))\n",
    "```"
   ]
  },
  {
   "cell_type": "markdown",
   "metadata": {},
   "source": [
    "### 初始化方法\n"
   ]
  },
  {
   "cell_type": "code",
   "execution_count": 5,
   "metadata": {},
   "outputs": [
    {
     "name": "stdout",
     "output_type": "stream",
     "text": [
      "构造方法已经被调用\n",
      "Bill\n",
      "构造方法已经被调用\n",
      "Mike\n",
      "John\n"
     ]
    }
   ],
   "source": [
    "class Person:\n",
    "    def __init__(self,name = \"Bill\"):\n",
    "        print(\"构造方法已经被调用\")\n",
    "        self.name = name\n",
    "    def getName(self):\n",
    "        return self.name\n",
    "    def setName(self,name):\n",
    "        self.name= name\n",
    "\n",
    "person = Person()\n",
    "print(person.getName())\n",
    "person1 = Person(name = \"Mike\")\n",
    "print(person1.getName())\n",
    "person1.setName(name = \"John\")\n",
    "print(person1.getName())"
   ]
  },
  {
   "cell_type": "markdown",
   "metadata": {},
   "source": [
    "### Super函数\n",
    "**在类的继承中，如果重定义某个方法，该方法会覆盖父类的同名方法，但有时，我们希望能同时实现父类的功能，这时，我们就需要调用父类的方法了，可通过使用 super 来实现**"
   ]
  },
  {
   "cell_type": "code",
   "execution_count": 6,
   "metadata": {},
   "outputs": [
    {
     "name": "stdout",
     "output_type": "stream",
     "text": [
      "Animal init\n",
      "已经吃过饭了，不饿了！\n",
      "已经吃过饭了，不饿了！\n",
      "Animal init\n",
      "向天再借五百年\n",
      "已经吃了虫子！\n"
     ]
    }
   ],
   "source": [
    "class Animal:\n",
    "    def __init__(self):\n",
    "        print(\"Animal init\")\n",
    "class Bird(Animal):\n",
    "    def __init__(self, hungry):\n",
    "        super().__init__()\n",
    "        self.hungry= hungry\n",
    "    def eat(self):\n",
    "        if self.hungry:\n",
    "            print(\"已经吃了虫子！\")\n",
    "            self.hungry = False\n",
    "        else:\n",
    "            print(\"已经吃过饭了，不饿了！\")\n",
    "b = Bird(False)\n",
    "b.eat()\n",
    "b.eat()\n",
    "\n",
    "class SongBird(Bird):\n",
    "    def __init__(self,hungry):\n",
    "        super(SongBird,self).__init__(hungry)\n",
    "        self.sound = '向天再借五百年'\n",
    "        \n",
    "    def sing(self):\n",
    "        print(self.sound)\n",
    "\n",
    "        \n",
    "sb = SongBird(True)\n",
    "sb.sing()\n",
    "sb.eat()"
   ]
  },
  {
   "cell_type": "code",
   "execution_count": 8,
   "metadata": {},
   "outputs": [
    {
     "name": "stdout",
     "output_type": "stream",
     "text": [
      "Calling method on Base Class\n",
      "Calling method on right SubClass\n",
      "Calling method on left SubClass\n",
      "Calling method on SubClass\n",
      "None\n",
      "1 1 1 1\n"
     ]
    }
   ],
   "source": [
    "class baseClass:\n",
    "    num_base_calls = 0\n",
    "    def call_me(self):\n",
    "        print(\"Calling method on Base Class\")\n",
    "        self.num_base_calls += 1\n",
    "\n",
    "class leftSubClass(baseClass):\n",
    "    num_left_calls = 0\n",
    "    def call_me(self):\n",
    "        super().call_me()\n",
    "        print(\"Calling method on left SubClass\")\n",
    "        self.num_left_calls += 1\n",
    "\n",
    "class rightSubClass(baseClass):\n",
    "    num_right_calls = 0\n",
    "    def call_me(self):\n",
    "        super().call_me()\n",
    "        print(\"Calling method on right SubClass\")\n",
    "        self.num_right_calls += 1\n",
    "\n",
    "class SubClass(leftSubClass, rightSubClass):\n",
    "    num_sub_calls = 0\n",
    "    def call_me(self):\n",
    "        super().call_me()\n",
    "        print(\"Calling method on SubClass\")\n",
    "        self.num_sub_calls += 1\n",
    "# 使用super()实例化一个超类对象可以实现，每个层次只是进行且只进行一次调用\n",
    "# 就拿这个例子来说\n",
    "s = SubClass()\n",
    "print(s.call_me())\n",
    "print(s.num_sub_calls, s.num_left_calls, s.num_right_calls, s.num_base_calls)\n",
    "\n"
   ]
  },
  {
   "cell_type": "markdown",
   "metadata": {},
   "source": [
    "### Python类的特殊成员的方法\n",
    "https://www.cnblogs.com/xiangsikai/p/7827021.html\n",
    "\n",
    "1.　__doc__ ：打印类的描述信息\n",
    "```python\n",
    "class Foo:\n",
    "    \"\"\" 描述类信息，这是用于看片的神奇 \"\"\"\n",
    " \n",
    "    def func(self):\n",
    "        pass\n",
    " \n",
    "print Foo.__doc__\n",
    "#输出：类的描述信息\n",
    "\n",
    "```\n",
    "2. __module__:表示当前操作的对象在那个模块\n",
    "\n",
    "```python\n",
    "\n",
    "\n",
    "class C:\n",
    "\n",
    "    def __init__(self):\n",
    "        self.name = 'wupeiqi'\n",
    "\n",
    "```\n",
    "\n",
    "3. __class__：表示当前操作的对象的类是什么\n",
    "\n",
    "```python\n",
    "\n",
    "\n",
    "from lib.aa import C\n",
    "\n",
    "obj = C()\n",
    "print obj.__module__  # 输出 lib.aa，即：输出模块\n",
    "print obj.__class__      # 输出 lib.aa.C，即：输出类\n",
    "\n",
    "\n",
    "\n",
    "```\n",
    "\n",
    "4. __init__ ：构造方法，通过类创建对象时，自动触发执行\n",
    "\n",
    "```python\n",
    "class Role(object):    \n",
    "#初始化函数，在生成一个角色时要    初始化的一些属性就填写在这里    \n",
    "    def __init__(self,name,role,weapon,life_value=100,money=15000):\n",
    "        \n",
    "#__init__中的第一个参数self,和这里的self都 是什么意思？ 看下面解释\n",
    "self.name = name\n",
    "        self.role = role\n",
    "\n",
    "```\n",
    "\n",
    "5. __del__:析构方法，当对象在内存中被释放时，自动触发执行\n",
    "\n",
    "```python\n",
    "class Role(object):\n",
    "    def __init__(self,name,role,weapon:\n",
    "        self.name = name\n",
    "        self.role = role\n",
    "        self.weapon = weapon\n",
    "\n",
    "    def __del__(self):             #析构函数\n",
    "        print(\"del.....run...\")\n",
    "r1 = Role('Alex','police','AK47')    #生成一个角色\n",
    "\n",
    "```\n",
    "\n",
    "6. __call__:对象后面加括号，触发执行\n",
    "\n",
    "```python\n",
    "\n",
    "\n",
    "#注：构造方法的执行是由创建对象触发的，即：对象 = 类名() ；而对于 __call__ 方法的执行是由对象后加括号触发的，即：对象() 或者 类()()\n",
    "class Foo:\n",
    " \n",
    "    def __init__(self):\n",
    "        pass\n",
    "     \n",
    "    def __call__(self, *args, **kwargs):\n",
    " \n",
    "        print '__call__'\n",
    " \n",
    "obj = Foo() # 执行 __init__\n",
    "obj()       # 执行 __call__\n",
    "\n",
    "```\n",
    "\n",
    "\n",
    "7. __dict__:查看类或对象中的所有成员\n",
    "\n",
    "```python\n",
    "\n",
    "\n",
    "print(类.__dict__) # 打印类里所有属性，不包括实例属性\n",
    "print(实例.__dict__) #打印实例所有属性，不包括类属性\n",
    "\n",
    "\n",
    "\n",
    "```\n",
    "\n",
    "8. __str__：如果一个类中定义了__str__方法，那么在打印 对象 时，默认输出该方法的返回值\n",
    "\n",
    "```python\n",
    "class Foo:\n",
    " \n",
    "    def __str__(self):\n",
    "        return 'alex li'\n",
    " \n",
    "obj = Foo()\n",
    "print obj\n",
    "# 输出：alex li\n",
    "```\n",
    "9. __getitem__、__setitem__、__delitem__:\n",
    "\n",
    "```python\n",
    "\n",
    "class Foo(object):\n",
    " \n",
    "    def __getitem__(self, key):\n",
    "        print('__getitem__',key)\n",
    " \n",
    "    def __setitem__(self, key, value):\n",
    "        print('__setitem__',key,value)\n",
    " \n",
    "    def __delitem__(self, key):\n",
    "        print('__delitem__',key)\n",
    "\n",
    "obj = Foo()\n",
    " \n",
    "result = obj['k1']      # 自动触发执行 __getitem__\n",
    "obj['k2'] = 'alex'   # 自动触发执行 __setitem__\n",
    "del obj['k1']  \n",
    "\n",
    "```\n",
    "\n",
    "10. __new__\\__metaclass__ *（自定义类）\n",
    "\n",
    "```python\n",
    "\n",
    "#类的生成 调用 顺序依次是 __new__ --> __init__ --> __call__\n",
    "#__new__:是用来创建实例的，对类实例化之前进行定制，可以用到。\n",
    "#__metaclass__：定义一个类如何被创建\n",
    "\n",
    "```\n",
    "\n",
    "```python\n",
    "#创建类特殊方式\n",
    "def func(self):\n",
    "    print(self.name,self.age)\n",
    "\n",
    "def __init__(self,name,age):\n",
    "    self.name = name\n",
    "    self.age = age\n",
    "\n",
    "#通过Type实例化产生的Foo类，Foo是Type的对象。\n",
    "#(object，)加入“,”是为了让括号知道他是个元组。\n",
    "#type第一个参数：类名\n",
    "#type第二个参数：当前类的基类\n",
    "#type第三个参数：类的成员\n",
    "Foo = type('Foo',(object,),{'talk':func,\n",
    "                            '__init__':__init__})\n",
    "\n",
    "f= Foo(\"Chrn\",22)\n",
    "f.talk()\n",
    "print(type(Foo))\n",
    "#Type 为 类的类，所有类都是Type创建的\n",
    "\n",
    "```\n",
    "\n",
    " "
   ]
  },
  {
   "cell_type": "code",
   "execution_count": null,
   "metadata": {},
   "outputs": [],
   "source": []
  }
 ],
 "metadata": {
  "kernelspec": {
   "display_name": "Python 3",
   "language": "python",
   "name": "python3"
  },
  "language_info": {
   "codemirror_mode": {
    "name": "ipython",
    "version": 3
   },
   "file_extension": ".py",
   "mimetype": "text/x-python",
   "name": "python",
   "nbconvert_exporter": "python",
   "pygments_lexer": "ipython3",
   "version": "3.7.1"
  },
  "toc": {
   "base_numbering": 1,
   "nav_menu": {},
   "number_sections": true,
   "sideBar": true,
   "skip_h1_title": false,
   "title_cell": "Table of Contents",
   "title_sidebar": "Contents",
   "toc_cell": false,
   "toc_position": {},
   "toc_section_display": true,
   "toc_window_display": false
  }
 },
 "nbformat": 4,
 "nbformat_minor": 2
}
