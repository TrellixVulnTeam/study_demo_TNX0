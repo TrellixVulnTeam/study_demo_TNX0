{
 "cells": [
  {
   "cell_type": "markdown",
   "metadata": {},
   "source": [
    "## Python的面向对象\n",
    "### 类的共有和私有方法"
   ]
  },
  {
   "cell_type": "code",
   "execution_count": 5,
   "metadata": {},
   "outputs": [
    {
     "name": "stdout",
     "output_type": "stream",
     "text": [
      "这是一个公共的方法\n",
      "这是一个私有的方法\n"
     ]
    },
    {
     "ename": "AttributeError",
     "evalue": "'Persion' object has no attribute 'method2'",
     "output_type": "error",
     "traceback": [
      "\u001b[0;31m---------------------------------------------------------------------------\u001b[0m",
      "\u001b[0;31mAttributeError\u001b[0m                            Traceback (most recent call last)",
      "\u001b[0;32m<ipython-input-5-98f900f9c03f>\u001b[0m in \u001b[0;36m<module>\u001b[0;34m\u001b[0m\n\u001b[1;32m     13\u001b[0m \u001b[0;34m\u001b[0m\u001b[0m\n\u001b[1;32m     14\u001b[0m \u001b[0;31m#回报异常\u001b[0m\u001b[0;34m\u001b[0m\u001b[0;34m\u001b[0m\u001b[0;34m\u001b[0m\u001b[0m\n\u001b[0;32m---> 15\u001b[0;31m \u001b[0ma\u001b[0m\u001b[0;34m.\u001b[0m\u001b[0mmethod2\u001b[0m\u001b[0;34m(\u001b[0m\u001b[0;34m)\u001b[0m\u001b[0;34m\u001b[0m\u001b[0;34m\u001b[0m\u001b[0m\n\u001b[0m",
      "\u001b[0;31mAttributeError\u001b[0m: 'Persion' object has no attribute 'method2'"
     ]
    }
   ],
   "source": [
    "class Persion:\n",
    "    def method1(self):\n",
    "        print('这是一个公共的方法')\n",
    "    def __method2(self):\n",
    "        print('这是一个私有的方法')\n",
    "a=Persion()\n",
    "#调用公共方法的技巧\n",
    "a.method1()\n",
    "\n",
    "\n",
    "#调用私有方法的技巧\n",
    "a._Persion__method2()\n",
    "\n",
    "#回报异常\n",
    "a.method2()\n"
   ]
  },
  {
   "cell_type": "markdown",
   "metadata": {},
   "source": [
    "### 添加变量"
   ]
  },
  {
   "cell_type": "code",
   "execution_count": 9,
   "metadata": {},
   "outputs": [
    {
     "name": "stdout",
     "output_type": "stream",
     "text": [
      "MyClass\n",
      "1\n",
      "2\n",
      "abc\n",
      "hello word\n",
      "1\n",
      "2\n"
     ]
    }
   ],
   "source": [
    "class MyClass:\n",
    "    print(\"MyClass\")\n",
    "    count = 0\n",
    "    def conter(self):\n",
    "        self.count += 1\n",
    "        \n",
    "my=MyClass()\n",
    "my.conter()\n",
    "print(my.count)\n",
    "my.conter()\n",
    "print(my.count)\n",
    "my.count=\"abc\"\n",
    "print(my.count)\n",
    "my.name = \"hello word\"\n",
    "print(my.name)\n",
    "\n",
    "b=MyClass()\n",
    "b.conter()\n",
    "print(b.count)\n",
    "b.conter()\n",
    "print(b.count)"
   ]
  },
  {
   "cell_type": "markdown",
   "metadata": {},
   "source": [
    "### 类的继承"
   ]
  },
  {
   "cell_type": "code",
   "execution_count": 12,
   "metadata": {},
   "outputs": [
    {
     "name": "stdout",
     "output_type": "stream",
     "text": [
      "method1\n",
      "method2\n",
      "30\n"
     ]
    }
   ],
   "source": [
    "class ParentClass:\n",
    "    name = 30\n",
    "    def method1(self):\n",
    "        print(\"method1\")\n",
    "class ChildClass(ParentClass):\n",
    "    def method2(self):\n",
    "        print(\"method2\")\n",
    "        #print(self.name)\n",
    "\n",
    "child = ChildClass()\n",
    "child.method1()\n",
    "child.method2()\n",
    "print(child.name)"
   ]
  },
  {
   "cell_type": "code",
   "execution_count": 13,
   "metadata": {},
   "outputs": [
    {
     "name": "stdout",
     "output_type": "stream",
     "text": [
      "result:16\n",
      "(<class '__main__.Calculator'>, <class '__main__.MyPrint'>)\n",
      "(<class '__main__.MyPrint'>, <class '__main__.Calculator'>)\n",
      "计算结果：16\n"
     ]
    }
   ],
   "source": [
    "class Calculator:\n",
    "    def calculate(self,expression):\n",
    "        self.value = eval(expression)\n",
    "    def printResult(self):\n",
    "        print(\"result:{}\".format(self.value))\n",
    "\n",
    "    \n",
    "class MyPrint:\n",
    "    def printResult(self):\n",
    "        print(\"计算结果：{}\".format(self.value))\n",
    "    def aa(self,a):\n",
    "        return 30\n",
    "# 多继承时，当有多个可以继承的对象有公共的属性时，\n",
    "class NewCalculator(Calculator, MyPrint):\n",
    "    pass\n",
    "class NewCalculator1(MyPrint,Calculator):\n",
    "    pass\n",
    "calc = NewCalculator()\n",
    "calc.calculate(\"1 + 3 * 5\")\n",
    "calc.printResult()\n",
    "print(NewCalculator.__bases__)\n",
    "\n",
    "calc1 = NewCalculator1()\n",
    "print(NewCalculator1.__bases__)\n",
    "calc1.calculate(\"1 + 3 * 5\")\n",
    "calc1.printResult()"
   ]
  },
  {
   "cell_type": "markdown",
   "metadata": {},
   "source": [
    "### 与类相关的方法\n",
    "1. 判断是否为继承关系\n",
    "\n",
    "```python\n",
    "print(issubclass(childclass,parentclass))\n",
    "```\n",
    "2. 判断类里面有没有该方法\n",
    "\n",
    "```python\n",
    "print(hasattr(class,\"fun\"))\n",
    "```"
   ]
  }
 ],
 "metadata": {
  "kernelspec": {
   "display_name": "Python 3",
   "language": "python",
   "name": "python3"
  },
  "language_info": {
   "codemirror_mode": {
    "name": "ipython",
    "version": 3
   },
   "file_extension": ".py",
   "mimetype": "text/x-python",
   "name": "python",
   "nbconvert_exporter": "python",
   "pygments_lexer": "ipython3",
   "version": "3.7.1"
  },
  "toc": {
   "base_numbering": 1,
   "nav_menu": {},
   "number_sections": true,
   "sideBar": true,
   "skip_h1_title": false,
   "title_cell": "Table of Contents",
   "title_sidebar": "Contents",
   "toc_cell": false,
   "toc_position": {},
   "toc_section_display": true,
   "toc_window_display": false
  }
 },
 "nbformat": 4,
 "nbformat_minor": 2
}
