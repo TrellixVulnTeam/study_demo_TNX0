{
 "cells": [
  {
   "cell_type": "code",
   "execution_count": 1,
   "metadata": {},
   "outputs": [
    {
     "name": "stdout",
     "output_type": "stream",
     "text": [
      "12\n",
      "56\n",
      "34\n",
      "78\n"
     ]
    }
   ],
   "source": [
    "#!/usr/bin/python\n",
    "# -*- coding : utf-8 -*-\n",
    "# 作者： Presley\n",
    "# 时间： 2018-12-4\n",
    "# 邮箱：1209989516@qq.com\n",
    "# 这是我用来练习python 协程的测试脚本\n",
    "\n",
    "from greenlet import greenlet\n",
    "\n",
    "def test1():\n",
    "    print(12)\n",
    "    gr2.switch() \n",
    "    print(34)\n",
    "    gr2.switch()\n",
    "\n",
    "def test2():\n",
    "    print(56)\n",
    "    gr1.switch()\n",
    "    print(78)\n",
    "\n",
    "gr1 = greenlet(test1)\n",
    "gr2 = greenlet(test2)\n",
    "gr1.switch()"
   ]
  }
 ],
 "metadata": {
  "kernelspec": {
   "display_name": "Python 3",
   "language": "python",
   "name": "python3"
  },
  "language_info": {
   "codemirror_mode": {
    "name": "ipython",
    "version": 3
   },
   "file_extension": ".py",
   "mimetype": "text/x-python",
   "name": "python",
   "nbconvert_exporter": "python",
   "pygments_lexer": "ipython3",
   "version": "3.7.1"
  }
 },
 "nbformat": 4,
 "nbformat_minor": 2
}
