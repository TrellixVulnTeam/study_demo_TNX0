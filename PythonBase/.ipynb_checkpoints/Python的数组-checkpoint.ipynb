{
 "cells": [
  {
   "cell_type": "markdown",
   "metadata": {},
   "source": [
    "## 探究列表长度和底层大小的关系"
   ]
  },
  {
   "cell_type": "code",
   "execution_count": 11,
   "metadata": {},
   "outputs": [
    {
     "name": "stdout",
     "output_type": "stream",
     "text": [
      "Length:   0; Size in bytes   64\n",
      "Length:   1; Size in bytes   96\n",
      "Length:   2; Size in bytes   96\n",
      "Length:   3; Size in bytes   96\n",
      "Length:   4; Size in bytes   96\n",
      "Length:   5; Size in bytes  128\n",
      "Length:   6; Size in bytes  128\n",
      "Length:   7; Size in bytes  128\n",
      "Length:   8; Size in bytes  128\n",
      "Length:   9; Size in bytes  192\n"
     ]
    }
   ],
   "source": [
    "import sys\n",
    "data = []\n",
    "for k in range(10):\n",
    "    a = len(data)\n",
    "    b = sys.getsizeof(data)\n",
    "    print('Length: {0:3d}; Size in bytes {1:4d}'.format(a,b))\n",
    "    data.append(None)\n",
    "#print(dir(data))"
   ]
  },
  {
   "cell_type": "markdown",
   "metadata": {},
   "source": [
    "## 使用ctypes 模块提供的原始数组实现DynamicArray类"
   ]
  },
  {
   "cell_type": "code",
   "execution_count": 13,
   "metadata": {},
   "outputs": [],
   "source": [
    "'''\n",
    "\n",
    "代码源于Python数据结构与算法，目的在于重写list数据结构，暂时搞不懂，后面再看！\n",
    "\n",
    "'''\n",
    "import ctypes\n",
    "class DynamicArray:\n",
    "    '''A dynamic array class akin to a simplified Python list'''\n",
    "    def __init__(self):\n",
    "        '''Create an empty array'''\n",
    "        self._n = 0\n",
    "        self._capacity = 1\n",
    "        self._A = self._make_array(self._capacity)\n",
    "    def __len__(self):\n",
    "        '''Return number of elements stored in the array'''\n",
    "        return self._n\n",
    "    def __getitem__(self,k):\n",
    "        '''Return element at index k'''\n",
    "        if not 0<=k<self._n:\n",
    "            raise IndexError('invalid index')\n",
    "        return self._A[k]\n",
    "    def append(self,obj):\n",
    "        '''Add object to end of the array.'''\n",
    "        if self._n==self._capacity:\n",
    "            self._resize(2*self._capacity)\n",
    "        self._A[self._n]=obj\n",
    "        self._n+=1\n",
    "    def _resize(self,c):\n",
    "        '''Resize internal array to capacity c.'''\n",
    "        B = self._make_array(c)\n",
    "        for k in range(self._n):\n",
    "            B[k]=self._A[k]\n",
    "        self._A=B\n",
    "        self._capacity = c\n",
    "    def _make_array(self,c):\n",
    "        '''Return new array with capacity c'''\n",
    "        return (c*ctypes.py_object)()\n",
    "    "
   ]
  },
  {
   "cell_type": "markdown",
   "metadata": {},
   "source": [
    "## 测试Python列表类增添操作的摊销花费"
   ]
  },
  {
   "cell_type": "code",
   "execution_count": 15,
   "metadata": {},
   "outputs": [
    {
     "data": {
      "text/plain": [
       "1.049041748046875e-07"
      ]
     },
     "execution_count": 15,
     "metadata": {},
     "output_type": "execute_result"
    }
   ],
   "source": [
    "from time import time\n",
    "def computer_average(n):\n",
    "    '''Perform n appends to an empty list and return average time elapsed'''\n",
    "    data = [] \n",
    "    start = time()\n",
    "    for k in range(n):\n",
    "        data.append(None)\n",
    "    end =time()\n",
    "    return (end - start)/n\n",
    "computer_average(100)"
   ]
  }
 ],
 "metadata": {
  "kernelspec": {
   "display_name": "Python 3",
   "language": "python",
   "name": "python3"
  },
  "language_info": {
   "codemirror_mode": {
    "name": "ipython",
    "version": 3
   },
   "file_extension": ".py",
   "mimetype": "text/x-python",
   "name": "python",
   "nbconvert_exporter": "python",
   "pygments_lexer": "ipython3",
   "version": "3.7.1"
  }
 },
 "nbformat": 4,
 "nbformat_minor": 2
}
