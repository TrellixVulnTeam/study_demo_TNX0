{
 "cells": [
  {
   "cell_type": "markdown",
   "metadata": {},
   "source": [
    "# Python树"
   ]
  },
  {
   "cell_type": "code",
   "execution_count": 1,
   "metadata": {},
   "outputs": [
    {
     "ename": "SyntaxError",
     "evalue": "invalid character in identifier (<ipython-input-1-10a3254d29df>, line 51)",
     "output_type": "error",
     "traceback": [
      "\u001b[0;36m  File \u001b[0;32m\"<ipython-input-1-10a3254d29df>\"\u001b[0;36m, line \u001b[0;32m51\u001b[0m\n\u001b[0;31m    raise NotImplementedError('must be implemented by subclass')\u001b[0m\n\u001b[0m        ^\u001b[0m\n\u001b[0;31mSyntaxError\u001b[0m\u001b[0;31m:\u001b[0m invalid character in identifier\n"
     ]
    }
   ],
   "source": [
    "class Tree():\n",
    "    \"\"\"\n",
    "    树的抽象基类\n",
    "    \"\"\"\n",
    "\n",
    "    # 叫做位置的内嵌类，用于封装节点\n",
    "    class Position():\n",
    "\n",
    "        def element(self):\n",
    "            raise NotImplementedError('must be implemented by subclass')\n",
    "\n",
    "        def __eq__(self, other):\n",
    "            raise NotImplementedError('must be implemented by subclass')\n",
    "\n",
    "    def root(self):\n",
    "        \"\"\"\n",
    "        return 根节点的position\n",
    "        \"\"\"\n",
    "        raise NotImplementedError('must be implemented by subclass')\n",
    "\n",
    "    def parent(self,p):\n",
    "        \"\"\"\n",
    "\n",
    "        :param p:一个位置对象\n",
    "        :return: 返回p的父节点的position对象，如果p是根节点则饭后空\n",
    "        \"\"\"\n",
    "        raise NotImplementedError('must be implemented by subclass')\n",
    "\n",
    "    def num_children(self,p):\n",
    "        \"\"\"\n",
    "\n",
    "        :param p:一个位置对象\n",
    "        :return: 返回该位置的孩子节点的数量\n",
    "        \"\"\"\n",
    "        raise NotImplementedError('must be implemented by subclass')\n",
    "\n",
    "    def children(self,p):\n",
    "        \"\"\"\n",
    "\n",
    "        :param p: 一个位置对象\n",
    "        :return: 返回位置p的孩子的迭代\n",
    "        \"\"\"\n",
    "        raise NotImplementedError('must be implemented by subclass')\n",
    "\n",
    "    def __len__(self):\n",
    "        \"\"\"\n",
    "\n",
    "        :return: 返回整个树的节点个数\n",
    "        \"\"\"\n",
    "\n",
    "　　　　　raise NotImplementedError('must be implemented by subclass')\n",
    "\n",
    "    def is_root(self,p):\n",
    "        return self.root() == p\n",
    "\n",
    "    def is_leaf(self,p):\n",
    "        return self.num_children(p) == 0\n",
    "\n",
    "    def is_empty(self):\n",
    "        return len(self) == 0"
   ]
  }
 ],
 "metadata": {
  "kernelspec": {
   "display_name": "Python 3",
   "language": "python",
   "name": "python3"
  },
  "language_info": {
   "codemirror_mode": {
    "name": "ipython",
    "version": 3
   },
   "file_extension": ".py",
   "mimetype": "text/x-python",
   "name": "python",
   "nbconvert_exporter": "python",
   "pygments_lexer": "ipython3",
   "version": "3.7.1"
  }
 },
 "nbformat": 4,
 "nbformat_minor": 2
}
