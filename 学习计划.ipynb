{
 "cells": [
  {
   "cell_type": "markdown",
   "metadata": {},
   "source": [
    "# 我的学习计划\n",
    "\n",
    "**这是我的学习计划笔记，方便制定学习计划，提高学习效率，努力前行，从点滴做起，总会实现的！**\n",
    "\n"
   ]
  },
  {
   "cell_type": "markdown",
   "metadata": {},
   "source": [
    "## 2019.7学习计划\n",
    "\n",
    "### 预计完成的任务\n",
    "1. django企业开发实践看会\n",
    "2. 机器学习周志华笔记前十章代码实现完成\n",
    "3. 气象台竞赛\n",
    "4. 吴老师的深度学习笔记看完\n",
    "5. 数据结构预算法过一遍书，了解所有的常见的数据结构\n",
    "6. Python的基础巩固(包含正则表达和文件使用以及常用的系统模块)\n",
    "\n",
    "### 学习计划\n",
    "\n",
    "#### 气象台竞赛(7.9-21)\n",
    "\n",
    "##### 试题和书籍复习(7.9-19)\n",
    "1. 一天一章天原，一天３套试卷\n",
    "2. 机器学习代码实现10章一天一章\n",
    "\n",
    "##### 更多实践\n",
    "\n",
    "\n",
    "\n",
    "\n",
    "\n",
    "#### django+深度学习笔记+数据结构和算法(1周7.22-28)\n",
    "\n",
    "#### Python的基础复习(最后一周7.29-31)"
   ]
  }
 ],
 "metadata": {
  "kernelspec": {
   "display_name": "Python 3",
   "language": "python",
   "name": "python3"
  },
  "language_info": {
   "codemirror_mode": {
    "name": "ipython",
    "version": 3
   },
   "file_extension": ".py",
   "mimetype": "text/x-python",
   "name": "python",
   "nbconvert_exporter": "python",
   "pygments_lexer": "ipython3",
   "version": "3.7.1"
  }
 },
 "nbformat": 4,
 "nbformat_minor": 2
}
