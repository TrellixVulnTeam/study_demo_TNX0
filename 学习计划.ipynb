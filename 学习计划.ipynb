{
 "cells": [
  {
   "cell_type": "markdown",
   "metadata": {},
   "source": [
    "# 我的学习计划\n",
    "\n",
    "## 半年的计划\n",
    "\n",
    "1. 熟悉天原、雷达、卫星的理论软件和编程\n",
    "\n",
    "2. 掌握常见的算法编程\n",
    "\n",
    "3. 掌握django、python高级编程和面向对象、数据库浅层操作\n",
    "\n",
    "4. 掌握jquery、bootstrap、微信小程序等前端的使用\n",
    "\n",
    "5. 掌握nginx的基本操作及原理\n",
    "\n",
    "6. 掌握机器学习的全部知识和编程技巧以及简单的尝试\n",
    "\n",
    "7. 熟悉深度学习的理论知识和相关编程\n",
    "\n",
    "\n",
    "**这是我的学习计划笔记，方便制定学习计划，提高学习效率，努力前行，从点滴做起，总会实现的！**\n",
    "\n"
   ]
  },
  {
   "cell_type": "code",
   "execution_count": null,
   "metadata": {},
   "outputs": [],
   "source": []
  },
  {
   "cell_type": "markdown",
   "metadata": {},
   "source": [
    "## 2019.7学习计划\n",
    "\n",
    "### 预计完成的任务\n",
    "1. django企业开发实践看会\n",
    "2. 机器学习周志华笔记前十章代码实现完成\n",
    "3. 气象台竞赛\n",
    "4. 吴老师的深度学习笔记看完\n",
    "5. 数据结构预算法过一遍书，了解所有的常见的数据结构\n",
    "6. Python的基础巩固(包含正则表达和文件使用以及常用的系统模块)\n",
    "\n",
    "### 学习计划\n",
    "\n",
    "#### 气象台竞赛(7.9-21)\n",
    "试题过两遍，论答题过一遍\n",
    "\n",
    "##### 试题和书籍复习(7.9-19)\n",
    "1. 一天一章天原，一天３套试卷(过完一遍)\n",
    "2. 机器学习代码实现10章一天一章\n",
    "3. 雷达气象和卫星气象复习（各自四天）\n",
    "\n",
    "##### 15年的题以及实践(7.20-7.31)\n",
    "1. 15年的题6天看完(7.21-7.26)\n",
    "2. 7.27-考试前(所有题记住一遍)\n",
    "3. \n",
    "\n",
    "\n",
    "\n",
    "\n",
    "\n",
    "#### django+深度学习笔记+数据结构和算法(1周7.22-28)\n",
    "\n",
    "#### Python的基础复习(最后一周7.29-31)"
   ]
  },
  {
   "cell_type": "code",
   "execution_count": null,
   "metadata": {},
   "outputs": [],
   "source": []
  }
 ],
 "metadata": {
  "kernelspec": {
   "display_name": "Python 3",
   "language": "python",
   "name": "python3"
  },
  "language_info": {
   "codemirror_mode": {
    "name": "ipython",
    "version": 3
   },
   "file_extension": ".py",
   "mimetype": "text/x-python",
   "name": "python",
   "nbconvert_exporter": "python",
   "pygments_lexer": "ipython3",
   "version": "3.7.1"
  }
 },
 "nbformat": 4,
 "nbformat_minor": 2
}
