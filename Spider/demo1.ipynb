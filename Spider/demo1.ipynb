{
 "cells": [
  {
   "cell_type": "markdown",
   "metadata": {},
   "source": [
    "## 这是一个浙江农民网自动化的脚本"
   ]
  },
  {
   "cell_type": "code",
   "execution_count": null,
   "metadata": {},
   "outputs": [],
   "source": []
  },
  {
   "cell_type": "code",
   "execution_count": 5,
   "metadata": {},
   "outputs": [],
   "source": [
    "from selenium import webdriver\n",
    "\n",
    "users = \"58667\"\n",
    "\n",
    "pswd = \"yh58667\"\n",
    "\n",
    "browser=webdriver.Firefox()\n",
    "browser.get(\"http://www.zjnm.cn\")\n",
    "input_user=browser.find_element_by_id(\"TextBox1\")\n",
    "input_user.send_keys(users)\n",
    "\n",
    "input_pswd=browser.find_element_by_id(\"TextBox2\")\n",
    "input_pswd.send_keys(pswd)\n",
    "\n",
    "input_pswd=browser.find_element_by_id(\"Button1\")\n",
    "input_pswd.click()"
   ]
  }
 ],
 "metadata": {
  "kernelspec": {
   "display_name": "Python 3",
   "language": "python",
   "name": "python3"
  },
  "language_info": {
   "codemirror_mode": {
    "name": "ipython",
    "version": 3
   },
   "file_extension": ".py",
   "mimetype": "text/x-python",
   "name": "python",
   "nbconvert_exporter": "python",
   "pygments_lexer": "ipython3",
   "version": "3.7.1"
  }
 },
 "nbformat": 4,
 "nbformat_minor": 2
}
