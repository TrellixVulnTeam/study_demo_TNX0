{
 "cells": [
  {
   "cell_type": "markdown",
   "metadata": {},
   "source": [
    "# Docker 手册"
   ]
  },
  {
   "cell_type": "markdown",
   "metadata": {},
   "source": [
    "1. 下载镜像\n",
    "   1. docker search ubuntu18.04 --> **查找ubuntu18.04的镜像**\n",
    "   2. docker pull ubuntu18.04 --> **下载ubuntu18.04的镜像**\n",
    "\n",
    "2. 进入镜像\n",
    "   1. 直接进入\n",
    "      1. docker run -it 镜像名(ubuntu) \n",
    "      2. 一系列操作\n",
    "      3. exit --> 退出**此时会返回一个镜像id**\n",
    "      4. docker start -i **容器ID/名称**\n",
    "      \n",
    "3. 自定义容器名称和启动\n",
    "     1. docker commit **容器ID/容器名称（sdwq3fsdff）**  镜像名称(ubuntu)\n",
    "     2. docker start -i **容器ID/名称**"
   ]
  },
  {
   "cell_type": "markdown",
   "metadata": {},
   "source": [
    "4. Dockerfile的命令集\n",
    "   1. 注释 #注释信息\n",
    "   2. FROM<image>:<tag> #从哪个基础镜像来的\n",
    "      1. FROM ubuntu：18.04\n",
    "   3. MAINTAINER #此文件的各种信息\n",
    "      1. MAINTAINER liyuan3970 \"857956255@qq.com\"\n",
    "   4. RUN 镜像中运行的命令\n",
    "      1. RUN apt-get install ncl \n",
    "   5. EXPOSE #暴露的端口号\n",
    "      1. EXPORT 80 #开了也没用，要手动开如下\n",
    "      2. docker run -p80 -d dormancypress/df_test1 nginx -g \"daemon off;\"\n",
    "   6. 制定容器运行时的命令\n",
    "      1. CMD 容器运行的默认行为\n",
    "      2. ENTERYPOINT \n",
    "   7. 设置镜像的目录和文件\n",
    "      1. ADD 加载文件\n",
    "      2. COPY 加载文件 \n",
    "      3. VOLUME[\"/data\"] 共享数据\n",
    "   8. 镜像构建和环境运行时的设置\n",
    "      1. WORKDIR 制定命令工作目录\n",
    "      2. ENV 设置环境变量\n",
    "      3. USER 制定镜像用户\n",
    "   9. ONBUILD #触发器的指令 子镜像构建的时候使用"
   ]
  },
  {
   "cell_type": "code",
   "execution_count": null,
   "metadata": {},
   "outputs": [],
   "source": []
  },
  {
   "cell_type": "markdown",
   "metadata": {},
   "source": [
    "# Docerk的常规操作"
   ]
  },
  {
   "cell_type": "markdown",
   "metadata": {},
   "source": [
    "1. 查看已知镜像\n",
    "   1. docker image ls --> **查看镜像名称**\n",
    "   2. docker ps -a --> **查看所有容器**\n",
    "   3. docker ps -l -->**查看最近运行的容器** \n",
    "   4. docker inspect 容器ID -->**返回配置信息**\n",
    "\n",
    "2. 后台运行docker容器（长期运行的程序）\n",
    "   1. docker run -d **容器名称(filetest)** \n",
    "   2. docker run -it **容器名称(filetest)**<br/>ctrl +p ctrl +q\n",
    "   3. 查看此时运行的docke容器 --> docker ps\n",
    "   4. 继续运行已经工作的容器 \n",
    "      1. docker attach 容器ID或者名称\n",
    "3. 删除已经停止的容器\n",
    "   1. docker rm 容器ID\n",
    "4. 查看在容器中干了什么\n",
    "   1. docker logs 容器名称\n",
    "   2. docker top --> 运行中容器的进程情况\n",
    "   3. docker exec [-d][-i][-t] 容器名[command][ARG]<br/>docker exec -it 容器名 /bin/bash\n",
    "5. 停止已经运行的容器\n",
    "   1. docker kill 容器名\n",
    "   2. docker stop 容器名"
   ]
  },
  {
   "cell_type": "code",
   "execution_count": null,
   "metadata": {},
   "outputs": [],
   "source": []
  },
  {
   "cell_type": "markdown",
   "metadata": {},
   "source": [
    "# 创建一个加载本地数据的docker容器\n",
    "```\n",
    "docker run -it -v /home/liyuan3970/data:/home/liyuan3970 --name volumdata ubuntu\n",
    "```\n",
    "docker run -it -v 本地路径:容器内路径 --name 自定义容器名称　镜像名称"
   ]
  },
  {
   "cell_type": "markdown",
   "metadata": {},
   "source": [
    "# 保存已经创建好的容器\n",
    "```\n",
    "docker commit volumdata ubuntu\n",
    "```\n",
    "docker commit 容器名称 镜像名称\n"
   ]
  },
  {
   "cell_type": "markdown",
   "metadata": {},
   "source": [
    "# 启动刚才的加载本地数据的容器\n",
    "```\n",
    "docker start -i vilumdata\n",
    "```\n",
    "docker start -i 容器名称"
   ]
  },
  {
   "cell_type": "code",
   "execution_count": null,
   "metadata": {},
   "outputs": [],
   "source": []
  },
  {
   "cell_type": "markdown",
   "metadata": {},
   "source": [
    "# 配置一个SSH服务的Docker环境"
   ]
  },
  {
   "cell_type": "markdown",
   "metadata": {},
   "source": [
    "docker pull ubuntu:18.04\n",
    "    \n",
    "docker run -it ubuntu:18.04 bash\n",
    "    \n",
    "apt-get update\n",
    "\n",
    "apt-get install openssh-server\n",
    "\n",
    "docker commit ecf75d05b1b5 sshd:ubuntu\n",
    "\n",
    "docker run -p 10022:22 -d sshd:ubuntu /run.sh\n",
    "\n",
    "docker ps\n"
   ]
  },
  {
   "cell_type": "code",
   "execution_count": null,
   "metadata": {},
   "outputs": [],
   "source": [
    "# 取消pam登录限制\n",
    "sed -ri 's/session required pam_loginuid.so#session required pam_loginuid.so/g' /etc/pam.d/sshd"
   ]
  },
  {
   "cell_type": "markdown",
   "metadata": {},
   "source": [
    "### ssh连接容器\n",
    "\n",
    "    * 通过主机端口映射连接：ssh -p 9022 root@主机ip\n",
    "    * 直接连接容器（需要网络通）：ssh -p 22 root@容器ip\n"
   ]
  },
  {
   "cell_type": "code",
   "execution_count": null,
   "metadata": {},
   "outputs": [],
   "source": [
    "deb http://mirrors.163.com/ubuntu/ wily main restricted universe multiverse\n",
    "deb http://mirrors.163.com/ubuntu/ wily-security main restricted universe multiverse\n",
    "deb http://mirrors.163.com/ubuntu/ wily-updates main restricted universe multiverse\n",
    "deb http://mirrors.163.com/ubuntu/ wily-proposed main restricted universe multiverse\n",
    "deb http://mirrors.163.com/ubuntu/ wily-backports main restricted universe multiverse\n",
    "deb-src http://mirrors.163.com/ubuntu/ wily main restricted universe multiverse\n",
    "deb-src http://mirrors.163.com/ubuntu/ wily-security main restricted universe multiverse\n",
    "deb-src http://mirrors.163.com/ubuntu/ wily-updates main restricted universe multiverse\n",
    "deb-src http://mirrors.163.com/ubuntu/ wily-proposed main restricted universe multiverse\n",
    "deb-src http://mirrors.163.com/ubuntu/ wily-backports main restricted universe multiverse"
   ]
  },
  {
   "cell_type": "code",
   "execution_count": null,
   "metadata": {},
   "outputs": [],
   "source": []
  }
 ],
 "metadata": {
  "kernelspec": {
   "display_name": "Python 3",
   "language": "python",
   "name": "python3"
  },
  "language_info": {
   "codemirror_mode": {
    "name": "ipython",
    "version": 3
   },
   "file_extension": ".py",
   "mimetype": "text/x-python",
   "name": "python",
   "nbconvert_exporter": "python",
   "pygments_lexer": "ipython3",
   "version": "3.7.1"
  }
 },
 "nbformat": 4,
 "nbformat_minor": 2
}
