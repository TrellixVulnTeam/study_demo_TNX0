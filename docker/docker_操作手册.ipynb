{
 "cells": [
  {
   "cell_type": "markdown",
   "metadata": {},
   "source": [
    "# Docker 手册"
   ]
  },
  {
   "cell_type": "markdown",
   "metadata": {},
   "source": [
    "1. 下载镜像\n",
    "   1. docker search ubuntu18.04 --> **查找ubuntu18.04的镜像**\n",
    "   2. docker pull ubuntu18.04 --> **下载ubuntu18.04的镜像**\n",
    "\n",
    "2. 进入镜像\n",
    "   1. 直接进入\n",
    "      1. docker run -it 镜像名(ubuntu) \n",
    "      2. 一系列操作\n",
    "      3. exit --> 退出**此时会返回一个镜像id**\n",
    "      4. docker start -i **容器ID/名称**\n",
    "      \n",
    "3. 自定义容器名称和启动\n",
    "     1. docker commit **容器ID/容器名称（sdwq3fsdff）**  镜像名称(ubuntu)\n",
    "     2. docker start -i **容器ID/名称**"
   ]
  },
  {
   "cell_type": "markdown",
   "metadata": {},
   "source": [
    "4. Dockerfile的命令集\n",
    "   1. 注释 #注释信息\n",
    "   2. FROM<image>:<tag> #从哪个基础镜像来的\n",
    "      1. FROM ubuntu：18.04\n",
    "   3. MAINTAINER #此文件的各种信息\n",
    "      1. MAINTAINER liyuan3970 \"857956255@qq.com\"\n",
    "   4. RUN 镜像中运行的命令\n",
    "      1. RUN apt-get install ncl \n",
    "   5. EXPOSE #暴露的端口号\n",
    "      1. EXPORT 80 #开了也没用，要手动开如下\n",
    "      2. docker run -p80 -d dormancypress/df_test1 nginx -g \"daemon off;\"\n",
    "   6. 制定容器运行时的命令\n",
    "      1. CMD 容器运行的默认行为\n",
    "      2. ENTERYPOINT \n",
    "   7. 设置镜像的目录和文件\n",
    "      1. ADD 加载文件\n",
    "      2. COPY 加载文件 \n",
    "      3. VOLUME[\"/data\"] 共享数据\n",
    "   8. 镜像构建和环境运行时的设置\n",
    "      1. WORKDIR 制定命令工作目录\n",
    "      2. ENV 设置环境变量\n",
    "      3. USER 制定镜像用户\n",
    "   9. ONBUILD #触发器的指令 子镜像构建的时候使用"
   ]
  },
  {
   "cell_type": "code",
   "execution_count": null,
   "metadata": {},
   "outputs": [],
   "source": []
  },
  {
   "cell_type": "markdown",
   "metadata": {},
   "source": [
    "# 创建一个加载本地数据的docker容器\n",
    "```\n",
    "docker run -it -v /home/liyuan3970/data:/home/liyuan3970 --name volumdata ubuntu\n",
    "```\n",
    "docker run -it -v 本地路径:容器内路径 --name 自定义容器名称　镜像名称"
   ]
  },
  {
   "cell_type": "markdown",
   "metadata": {},
   "source": [
    "# 保存已经创建好的容器\n",
    "```\n",
    "docker commit volumdata ubuntu\n",
    "```\n",
    "docker commit 容器名称 镜像名称\n"
   ]
  },
  {
   "cell_type": "markdown",
   "metadata": {},
   "source": [
    "# 启动刚才的加载本地数据的容器\n",
    "```\n",
    "docker start -i vilumdata\n",
    "```\n",
    "docker start -i 容器名称"
   ]
  },
  {
   "cell_type": "code",
   "execution_count": null,
   "metadata": {},
   "outputs": [],
   "source": []
  },
  {
   "cell_type": "markdown",
   "metadata": {},
   "source": [
    "0"
   ]
  }
 ],
 "metadata": {
  "kernelspec": {
   "display_name": "Python 3",
   "language": "python",
   "name": "python3"
  },
  "language_info": {
   "codemirror_mode": {
    "name": "ipython",
    "version": 3
   },
   "file_extension": ".py",
   "mimetype": "text/x-python",
   "name": "python",
   "nbconvert_exporter": "python",
   "pygments_lexer": "ipython3",
   "version": "3.7.1"
  }
 },
 "nbformat": 4,
 "nbformat_minor": 2
}
