{
 "cells": [
  {
   "cell_type": "markdown",
   "metadata": {},
   "source": [
    "# Docker 手册"
   ]
  },
  {
   "cell_type": "markdown",
   "metadata": {},
   "source": [
    "1. 下载镜像\n",
    "   1. docker search ubuntu18.04 --> **查找ubuntu18.04的镜像**\n",
    "   2. docker pull ubuntu18.04 --> **下载ubuntu18.04的镜像**\n",
    "\n",
    "2. 进入镜像\n",
    "   1. 直接进入\n",
    "      1. docker run -it 镜像名(ubuntu) \n",
    "      2. 一系列操作\n",
    "      3. exit --> 退出**此时会返回一个镜像id**\n",
    "      4. docker start -i **容器ID/名称**\n",
    "      \n",
    "3. 自定义容器名称和启动\n",
    "     1. docker commit **容器ID/容器名称（sdwq3fsdff）**  镜像名称(ubuntu)\n",
    "     2. docker start -i **容器ID/名称**"
   ]
  },
  {
   "cell_type": "code",
   "execution_count": null,
   "metadata": {},
   "outputs": [],
   "source": []
  },
  {
   "cell_type": "markdown",
   "metadata": {},
   "source": [
    "# 创建一个加载本地数据的docker容器\n",
    "```\n",
    "docker run -it -v /home/liyuan3970/data:/home/liyuan3970 --name volumdata ubuntu\n",
    "```\n",
    "docker run -it -v 本地路径:容器内路径 --name 自定义容器名称　镜像名称"
   ]
  },
  {
   "cell_type": "markdown",
   "metadata": {},
   "source": [
    "# 保存已经创建好的容器\n",
    "```\n",
    "docker commit volumdata ubuntu\n",
    "```\n",
    "docker commit 容器名称 镜像名称\n"
   ]
  },
  {
   "cell_type": "markdown",
   "metadata": {},
   "source": [
    "# 启动刚才的加载本地数据的容器\n",
    "```\n",
    "docker start -i vilumdata\n",
    "```\n",
    "docker start -i 容器名称"
   ]
  }
 ],
 "metadata": {
  "kernelspec": {
   "display_name": "Python 3",
   "language": "python",
   "name": "python3"
  },
  "language_info": {
   "codemirror_mode": {
    "name": "ipython",
    "version": 3
   },
   "file_extension": ".py",
   "mimetype": "text/x-python",
   "name": "python",
   "nbconvert_exporter": "python",
   "pygments_lexer": "ipython3",
   "version": "3.7.1"
  }
 },
 "nbformat": 4,
 "nbformat_minor": 2
}
