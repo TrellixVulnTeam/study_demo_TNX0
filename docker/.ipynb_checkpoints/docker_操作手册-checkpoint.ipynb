{
 "cells": [
  {
   "cell_type": "markdown",
   "metadata": {},
   "source": [
    "# Docker 手册"
   ]
  },
  {
   "cell_type": "markdown",
   "metadata": {},
   "source": [
    "1. 下载镜像\n",
    "   1. docker search ubuntu18.04 --> **查找ubuntu18.04的镜像**\n",
    "   2. docker pull ubuntu18.04 --> **下载ubuntu18.04的镜像**\n",
    "\n",
    "2. 进入镜像\n",
    "   1. 直接进入\n",
    "      1. docker run -it 镜像名(ubuntu) \n",
    "      2. 一系列操作\n",
    "      3. exit --> 退出**此时会返回一个镜像id**\n",
    "      4. docker start -i **容器ID/名称**\n",
    "      \n",
    "3. 自定义容器名称和启动\n",
    "     1. docker commit **容器ID/容器名称（sdwq3fsdff）**  镜像名称(ubuntu)"
   ]
  }
 ],
 "metadata": {
  "kernelspec": {
   "display_name": "Python 3",
   "language": "python",
   "name": "python3"
  },
  "language_info": {
   "codemirror_mode": {
    "name": "ipython",
    "version": 3
   },
   "file_extension": ".py",
   "mimetype": "text/x-python",
   "name": "python",
   "nbconvert_exporter": "python",
   "pygments_lexer": "ipython3",
   "version": "3.7.1"
  }
 },
 "nbformat": 4,
 "nbformat_minor": 2
}
