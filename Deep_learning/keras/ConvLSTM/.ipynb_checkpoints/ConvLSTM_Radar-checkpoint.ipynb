{
 "cells": [
  {
   "cell_type": "code",
   "execution_count": 1,
   "metadata": {},
   "outputs": [
    {
     "data": {
      "text/plain": [
       "\"\\nfor directories in os.listdir(IMAGE_PATH):\\n    # print(os.path.join(IMAGE_PATH, directories))\\n    for file in os.listdir(os.path.join(IMAGE_PATH, directories)):\\n        # print(os.path.join(os.path.join(IMAGE_PATH, directories), file))\\n        image_array = image_initialize(os.path.join(os.path.join(IMAGE_PATH, directories), file))\\n        SEQUENCE = np.append(SEQUENCE, image_array)\\n        NUMBER += 1\\n        print(NUMBER)\\n        print(time.strftime('%Y-%m-%d %H:%M:%S', time.localtime()))\\n\""
      ]
     },
     "execution_count": 1,
     "metadata": {},
     "output_type": "execute_result"
    }
   ],
   "source": [
    "import numpy as np\n",
    "from PIL import Image\n",
    "import os\n",
    "import time\n",
    "\n",
    "IMAGE_PATH = 'samples/'\n",
    "#IMAGE_PATH = 'c:/data/radar/sample/12/'\n",
    "\n",
    "WIDTH = 100\n",
    "HEIGHT = 100\n",
    "SEQUENCE = np.array([])\n",
    "BASIC_SEQUENCE = np.array([])\n",
    "NEXT_SEQUENCE = np.array([])\n",
    "NUMBER = 0\n",
    "\n",
    "def image_initialize(image):\n",
    "    picture = Image.open(image)\n",
    "    picture = picture.crop((243, 176, 1428, 1280))\n",
    "    picture = picture.resize((WIDTH, HEIGHT), Image.ANTIALIAS)\n",
    "    picture = picture.convert('L')\n",
    "    picture.save('1.png')  # 非保留\n",
    "    data = np.array(picture.getdata()).reshape(WIDTH, HEIGHT, 1)\n",
    "    return data\n",
    "file = 'samples/Z_RADR_I_Z9592_20160810162100_O_DOR_SA_CAP.png'\n",
    "image_array = image_initialize(os.path.join(IMAGE_PATH, file))\n",
    "# for file in os.listdir(IMAGE_PATH):\n",
    "#     # print(os.path.join(IMAGE_PATH, directories))\n",
    "#     # print(os.path.join(os.path.join(IMAGE_PATH, directories), file))\n",
    "#     image_array = image_initialize(os.path.join(IMAGE_PATH, file))\n",
    "#     SEQUENCE = np.append(SEQUENCE, image_array)\n",
    "#     NUMBER += 1\n",
    "#     print(NUMBER)\n",
    "#     print(time.strftime('%Y-%m-%d %H:%M:%S', time.localtime()))\n",
    "\n",
    "# SEQUENCE = SEQUENCE.reshape(NUMBER, WIDTH * HEIGHT)\n",
    "# for i in SEQUENCE:\n",
    "#     for j in range(int(len(i))):\n",
    "#         if i[j] < 50:\n",
    "#             i[j] = 0\n",
    "\n",
    "\n",
    "# np.savez('sequence_array.npz', sequence_array=SEQUENCE)\n",
    "# print('Data saved.')\n",
    "# print(time.strftime('%Y-%m-%d %H:%M:%S', time.localtime()))\n",
    "\n",
    "\n",
    "\n",
    "'''\n",
    "for directories in os.listdir(IMAGE_PATH):\n",
    "    # print(os.path.join(IMAGE_PATH, directories))\n",
    "    for file in os.listdir(os.path.join(IMAGE_PATH, directories)):\n",
    "        # print(os.path.join(os.path.join(IMAGE_PATH, directories), file))\n",
    "        image_array = image_initialize(os.path.join(os.path.join(IMAGE_PATH, directories), file))\n",
    "        SEQUENCE = np.append(SEQUENCE, image_array)\n",
    "        NUMBER += 1\n",
    "        print(NUMBER)\n",
    "        print(time.strftime('%Y-%m-%d %H:%M:%S', time.localtime()))\n",
    "'''"
   ]
  },
  {
   "cell_type": "code",
   "execution_count": null,
   "metadata": {},
   "outputs": [],
   "source": []
  }
 ],
 "metadata": {
  "kernelspec": {
   "display_name": "“DeepLearning”",
   "language": "python",
   "name": "dl"
  },
  "language_info": {
   "codemirror_mode": {
    "name": "ipython",
    "version": 3
   },
   "file_extension": ".py",
   "mimetype": "text/x-python",
   "name": "python",
   "nbconvert_exporter": "python",
   "pygments_lexer": "ipython3",
   "version": "3.6.10"
  }
 },
 "nbformat": 4,
 "nbformat_minor": 2
}
