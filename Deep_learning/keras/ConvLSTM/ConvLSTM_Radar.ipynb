{
 "cells": [
  {
   "cell_type": "code",
   "execution_count": 6,
   "metadata": {},
   "outputs": [
    {
     "name": "stdout",
     "output_type": "stream",
     "text": [
      "1\n",
      "2020-04-14 01:34:36\n",
      "2\n",
      "2020-04-14 01:34:36\n",
      "3\n",
      "2020-04-14 01:34:36\n",
      "4\n",
      "2020-04-14 01:34:36\n",
      "5\n",
      "2020-04-14 01:34:36\n",
      "6\n",
      "2020-04-14 01:34:36\n",
      "7\n",
      "2020-04-14 01:34:37\n",
      "8\n",
      "2020-04-14 01:34:37\n",
      "9\n",
      "2020-04-14 01:34:37\n",
      "10\n",
      "2020-04-14 01:34:37\n",
      "11\n",
      "2020-04-14 01:34:37\n",
      "12\n",
      "2020-04-14 01:34:37\n",
      "13\n",
      "2020-04-14 01:34:37\n",
      "14\n",
      "2020-04-14 01:34:37\n",
      "15\n",
      "2020-04-14 01:34:37\n",
      "16\n",
      "2020-04-14 01:34:37\n",
      "17\n",
      "2020-04-14 01:34:37\n",
      "18\n",
      "2020-04-14 01:34:37\n",
      "19\n",
      "2020-04-14 01:34:37\n",
      "20\n",
      "2020-04-14 01:34:37\n",
      "21\n",
      "2020-04-14 01:34:37\n",
      "22\n",
      "2020-04-14 01:34:37\n",
      "23\n",
      "2020-04-14 01:34:37\n",
      "24\n",
      "2020-04-14 01:34:37\n",
      "25\n",
      "2020-04-14 01:34:37\n",
      "26\n",
      "2020-04-14 01:34:37\n",
      "27\n",
      "2020-04-14 01:34:37\n",
      "28\n",
      "2020-04-14 01:34:38\n",
      "29\n",
      "2020-04-14 01:34:38\n",
      "30\n",
      "2020-04-14 01:34:38\n",
      "31\n",
      "2020-04-14 01:34:38\n",
      "32\n",
      "2020-04-14 01:34:38\n",
      "33\n",
      "2020-04-14 01:34:38\n",
      "34\n",
      "2020-04-14 01:34:38\n",
      "35\n",
      "2020-04-14 01:34:38\n",
      "36\n",
      "2020-04-14 01:34:38\n",
      "37\n",
      "2020-04-14 01:34:38\n",
      "38\n",
      "2020-04-14 01:34:38\n",
      "39\n",
      "2020-04-14 01:34:38\n",
      "40\n",
      "2020-04-14 01:34:38\n",
      "41\n",
      "2020-04-14 01:34:38\n",
      "42\n",
      "2020-04-14 01:34:38\n",
      "43\n",
      "2020-04-14 01:34:38\n",
      "44\n",
      "2020-04-14 01:34:38\n",
      "45\n",
      "2020-04-14 01:34:38\n",
      "46\n",
      "2020-04-14 01:34:38\n",
      "47\n",
      "2020-04-14 01:34:38\n",
      "48\n",
      "2020-04-14 01:34:39\n",
      "49\n",
      "2020-04-14 01:34:39\n",
      "50\n",
      "2020-04-14 01:34:39\n",
      "51\n",
      "2020-04-14 01:34:39\n",
      "52\n",
      "2020-04-14 01:34:39\n",
      "53\n",
      "2020-04-14 01:34:39\n",
      "54\n",
      "2020-04-14 01:34:39\n",
      "55\n",
      "2020-04-14 01:34:39\n",
      "56\n",
      "2020-04-14 01:34:39\n",
      "57\n",
      "2020-04-14 01:34:39\n",
      "58\n",
      "2020-04-14 01:34:39\n",
      "59\n",
      "2020-04-14 01:34:39\n",
      "60\n",
      "2020-04-14 01:34:39\n",
      "61\n",
      "2020-04-14 01:34:39\n",
      "62\n",
      "2020-04-14 01:34:39\n",
      "63\n",
      "2020-04-14 01:34:39\n",
      "64\n",
      "2020-04-14 01:34:39\n",
      "65\n",
      "2020-04-14 01:34:39\n",
      "66\n",
      "2020-04-14 01:34:39\n",
      "67\n",
      "2020-04-14 01:34:39\n",
      "68\n",
      "2020-04-14 01:34:39\n",
      "69\n",
      "2020-04-14 01:34:40\n",
      "70\n",
      "2020-04-14 01:34:40\n",
      "71\n",
      "2020-04-14 01:34:40\n",
      "72\n",
      "2020-04-14 01:34:40\n",
      "73\n",
      "2020-04-14 01:34:40\n",
      "74\n",
      "2020-04-14 01:34:40\n",
      "75\n",
      "2020-04-14 01:34:40\n",
      "76\n",
      "2020-04-14 01:34:40\n",
      "77\n",
      "2020-04-14 01:34:40\n",
      "78\n",
      "2020-04-14 01:34:40\n",
      "79\n",
      "2020-04-14 01:34:40\n",
      "80\n",
      "2020-04-14 01:34:40\n",
      "(80, 10000)\n"
     ]
    },
    {
     "data": {
      "text/plain": [
       "\"\\nfor directories in os.listdir(IMAGE_PATH):\\n    # print(os.path.join(IMAGE_PATH, directories))\\n    for file in os.listdir(os.path.join(IMAGE_PATH, directories)):\\n        # print(os.path.join(os.path.join(IMAGE_PATH, directories), file))\\n        image_array = image_initialize(os.path.join(os.path.join(IMAGE_PATH, directories), file))\\n        SEQUENCE = np.append(SEQUENCE, image_array)\\n        NUMBER += 1\\n        print(NUMBER)\\n        print(time.strftime('%Y-%m-%d %H:%M:%S', time.localtime()))\\n\""
      ]
     },
     "execution_count": 6,
     "metadata": {},
     "output_type": "execute_result"
    }
   ],
   "source": [
    "import numpy as np\n",
    "from PIL import Image\n",
    "import os\n",
    "import time\n",
    "\n",
    "IMAGE_PATH = 'samples/'\n",
    "#IMAGE_PATH = 'c:/data/radar/sample/12/'\n",
    "\n",
    "WIDTH = 100\n",
    "HEIGHT = 100\n",
    "SEQUENCE = np.array([])\n",
    "BASIC_SEQUENCE = np.array([])\n",
    "NEXT_SEQUENCE = np.array([])\n",
    "NUMBER = 0\n",
    "\n",
    "def image_initialize(image):\n",
    "    picture = Image.open(image)\n",
    "    # 裁切图片\n",
    "    picture = picture.crop((243, 176, 1428, 1280))\n",
    "    # 缩略图\n",
    "    picture = picture.resize((WIDTH, HEIGHT), Image.ANTIALIAS)\n",
    "    picture = picture.convert('L')\n",
    "    picture.save('1.png')  # 非保留\n",
    "    data = np.array(picture.getdata()).reshape(WIDTH, HEIGHT, 1)\n",
    "    return data\n",
    "\n",
    "for file in os.listdir(IMAGE_PATH):\n",
    "    # print(os.path.join(IMAGE_PATH, directories))\n",
    "    # print(os.path.join(os.path.join(IMAGE_PATH, directories), file))\n",
    "    image_array = image_initialize(os.path.join(IMAGE_PATH, file))\n",
    "    SEQUENCE = np.append(SEQUENCE, image_array)\n",
    "    NUMBER += 1\n",
    "    print(NUMBER)\n",
    "    print(time.strftime('%Y-%m-%d %H:%M:%S', time.localtime()))\n",
    "\n",
    "SEQUENCE = SEQUENCE.reshape(NUMBER, WIDTH * HEIGHT)\n",
    "print(SEQUENCE.shape)\n",
    "# for i in SEQUENCE:\n",
    "#     for j in range(int(len(i))):\n",
    "#         if i[j] < 50:\n",
    "#             i[j] = 0\n",
    "\n",
    "\n",
    "# np.savez('sequence_array.npz', sequence_array=SEQUENCE)\n",
    "# print('Data saved.')\n",
    "# print(time.strftime('%Y-%m-%d %H:%M:%S', time.localtime()))\n",
    "\n",
    "\n",
    "\n",
    "'''\n",
    "for directories in os.listdir(IMAGE_PATH):\n",
    "    # print(os.path.join(IMAGE_PATH, directories))\n",
    "    for file in os.listdir(os.path.join(IMAGE_PATH, directories)):\n",
    "        # print(os.path.join(os.path.join(IMAGE_PATH, directories), file))\n",
    "        image_array = image_initialize(os.path.join(os.path.join(IMAGE_PATH, directories), file))\n",
    "        SEQUENCE = np.append(SEQUENCE, image_array)\n",
    "        NUMBER += 1\n",
    "        print(NUMBER)\n",
    "        print(time.strftime('%Y-%m-%d %H:%M:%S', time.localtime()))\n",
    "'''"
   ]
  },
  {
   "cell_type": "markdown",
   "metadata": {},
   "source": [
    "# 保存数据\n",
    "数据格式为 80*10000的格式,此格式80张图片,每个图片是100*100的像素"
   ]
  },
  {
   "cell_type": "code",
   "execution_count": 8,
   "metadata": {},
   "outputs": [
    {
     "name": "stdout",
     "output_type": "stream",
     "text": [
      "(80, 10000)\n",
      "Data saved.\n"
     ]
    }
   ],
   "source": [
    "# 将像素点小于50的点变成0\n",
    "for i in SEQUENCE:\n",
    "    for j in range(int(len(i))):\n",
    "        if i[j] < 50:\n",
    "            i[j] = 0\n",
    "\n",
    "print(SEQUENCE.shape)\n",
    "np.savez('sequence_array.npz', sequence_array=SEQUENCE)\n",
    "print('Data saved.')"
   ]
  },
  {
   "cell_type": "markdown",
   "metadata": {},
   "source": [
    "# 数据的读取和测试"
   ]
  },
  {
   "cell_type": "code",
   "execution_count": 14,
   "metadata": {},
   "outputs": [
    {
     "name": "stdout",
     "output_type": "stream",
     "text": [
      "(80, 10000)\n"
     ]
    }
   ],
   "source": [
    "import numpy as np\n",
    "SEQUENCE = np.load('sequence_array.npz')['sequence_array']\n",
    "print(SEQUENCE.shape)"
   ]
  },
  {
   "cell_type": "markdown",
   "metadata": {},
   "source": [
    "# 绘制第一张npz的图片"
   ]
  },
  {
   "cell_type": "code",
   "execution_count": 15,
   "metadata": {},
   "outputs": [
    {
     "data": {
      "image/png": "[encoded data removed]",
      "text/plain": [
       "<Figure size 432x288 with 1 Axes>"
      ]
     },
     "metadata": {
      "needs_background": "light"
     },
     "output_type": "display_data"
    }
   ],
   "source": [
    "import matplotlib.pyplot as plt\n",
    "plt.imshow(SEQUENCE[0][:].reshape(100, 100))\n",
    "plt.show()"
   ]
  },
  {
   "cell_type": "code",
   "execution_count": 17,
   "metadata": {},
   "outputs": [
    {
     "name": "stdout",
     "output_type": "stream",
     "text": [
      "80\n"
     ]
    }
   ],
   "source": [
    "NUMBER = len(SEQUENCE)\n",
    "print(NUMBER)"
   ]
  },
  {
   "cell_type": "code",
   "execution_count": 24,
   "metadata": {},
   "outputs": [
    {
     "name": "stdout",
     "output_type": "stream",
     "text": [
      "(64, 16, 100, 100, 1)\n"
     ]
    }
   ],
   "source": [
    "WIDTH = 100\n",
    "HEIGHT = 100\n",
    "# 窗口的意思,相当于预测时间的特征数\n",
    "FRAMES = 16\n",
    "# step =1\n",
    "SEQUENCE = SEQUENCE.reshape(NUMBER, WIDTH, HEIGHT, 1)\n",
    "# step =2\n",
    "SEQUENCE_2 = []\n",
    "for i in range(int(NUMBER / 2)):\n",
    "    SEQUENCE_2.append(SEQUENCE[2 * i])\n",
    "\n",
    "# step = 3\n",
    "SEQUENCE_3 = []\n",
    "for i in range(int(NUMBER / 3)):\n",
    "    SEQUENCE_3.append(SEQUENCE[3 * i])\n",
    "\n",
    "#def get_sequence()\n",
    "\n",
    "\n",
    "SEQUENCE = SEQUENCE.reshape(NUMBER, WIDTH, HEIGHT, 1)\n",
    "BASIC_SEQUENCE = np.zeros((NUMBER-FRAMES, FRAMES, WIDTH, HEIGHT, 1))\n",
    "NEXT_SEQUENCE = np.zeros((NUMBER-FRAMES, FRAMES, WIDTH, HEIGHT, 1))\n",
    "print(BASIC_SEQUENCE.shape)\n",
    "\n",
    "for i in range(FRAMES):\n",
    "    #print(i)\n",
    "    BASIC_SEQUENCE[:, i, :, :, :] = SEQUENCE[i:i+NUMBER-FRAMES]\n",
    "    NEXT_SEQUENCE[:, i, :, :, :] = SEQUENCE[i+1:i+NUMBER-FRAMES+1]\n"
   ]
  },
  {
   "cell_type": "code",
   "execution_count": 22,
   "metadata": {},
   "outputs": [
    {
     "name": "stdout",
     "output_type": "stream",
     "text": [
      "40\n"
     ]
    }
   ],
   "source": [
    "print(len(SEQUENCE_2))"
   ]
  },
  {
   "cell_type": "code",
   "execution_count": 25,
   "metadata": {},
   "outputs": [
    {
     "name": "stdout",
     "output_type": "stream",
     "text": [
      "(64, 16, 100, 100, 1)\n"
     ]
    }
   ],
   "source": [
    "print(BASIC_SEQUENCE.shape)"
   ]
  },
  {
   "cell_type": "code",
   "execution_count": null,
   "metadata": {},
   "outputs": [],
   "source": []
  }
 ],
 "metadata": {
  "kernelspec": {
   "display_name": "“DeepLearning”",
   "language": "python",
   "name": "dl"
  },
  "language_info": {
   "codemirror_mode": {
    "name": "ipython",
    "version": 3
   },
   "file_extension": ".py",
   "mimetype": "text/x-python",
   "name": "python",
   "nbconvert_exporter": "python",
   "pygments_lexer": "ipython3",
   "version": "3.6.10"
  }
 },
 "nbformat": 4,
 "nbformat_minor": 2
}
