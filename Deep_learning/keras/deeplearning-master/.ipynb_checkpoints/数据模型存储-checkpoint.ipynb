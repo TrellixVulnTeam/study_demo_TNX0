{
 "cells": [
  {
   "cell_type": "markdown",
   "metadata": {},
   "source": [
    "# Json文件格式"
   ]
  },
  {
   "cell_type": "code",
   "execution_count": 1,
   "metadata": {},
   "outputs": [
    {
     "name": "stderr",
     "output_type": "stream",
     "text": [
      "Using TensorFlow backend.\n",
      "WARNING: Logging before flag parsing goes to stderr.\n",
      "W0204 15:46:47.239503 140106493527872 deprecation_wrapper.py:119] From /home/liyuan3970/anaconda3/envs/liyuan/lib/python3.7/site-packages/keras/backend/tensorflow_backend.py:66: The name tf.get_default_graph is deprecated. Please use tf.compat.v1.get_default_graph instead.\n",
      "\n",
      "W0204 15:46:47.266000 140106493527872 deprecation_wrapper.py:119] From /home/liyuan3970/anaconda3/envs/liyuan/lib/python3.7/site-packages/keras/backend/tensorflow_backend.py:541: The name tf.placeholder is deprecated. Please use tf.compat.v1.placeholder instead.\n",
      "\n",
      "W0204 15:46:47.275227 140106493527872 deprecation_wrapper.py:119] From /home/liyuan3970/anaconda3/envs/liyuan/lib/python3.7/site-packages/keras/backend/tensorflow_backend.py:4432: The name tf.random_uniform is deprecated. Please use tf.random.uniform instead.\n",
      "\n",
      "W0204 15:46:47.354407 140106493527872 deprecation_wrapper.py:119] From /home/liyuan3970/anaconda3/envs/liyuan/lib/python3.7/site-packages/keras/optimizers.py:793: The name tf.train.Optimizer is deprecated. Please use tf.compat.v1.train.Optimizer instead.\n",
      "\n",
      "W0204 15:46:47.401493 140106493527872 deprecation_wrapper.py:119] From /home/liyuan3970/anaconda3/envs/liyuan/lib/python3.7/site-packages/keras/backend/tensorflow_backend.py:3576: The name tf.log is deprecated. Please use tf.math.log instead.\n",
      "\n",
      "W0204 15:46:47.598809 140106493527872 deprecation.py:323] From /home/liyuan3970/anaconda3/envs/liyuan/lib/python3.7/site-packages/tensorflow/python/ops/math_grad.py:1250: add_dispatch_support.<locals>.wrapper (from tensorflow.python.ops.array_ops) is deprecated and will be removed in a future version.\n",
      "Instructions for updating:\n",
      "Use tf.where in 2.0, which has the same broadcast rule as np.where\n",
      "W0204 15:46:47.702179 140106493527872 deprecation_wrapper.py:119] From /home/liyuan3970/anaconda3/envs/liyuan/lib/python3.7/site-packages/keras/backend/tensorflow_backend.py:1033: The name tf.assign_add is deprecated. Please use tf.compat.v1.assign_add instead.\n",
      "\n"
     ]
    },
    {
     "name": "stdout",
     "output_type": "stream",
     "text": [
      "acc: 97.33%\n",
      "acc: 97.33%\n"
     ]
    }
   ],
   "source": [
    "from sklearn import datasets\n",
    "import numpy as np\n",
    "from keras.models import Sequential\n",
    "from keras.layers import Dense\n",
    "from keras.utils import to_categorical\n",
    "from keras.models import model_from_json\n",
    "\n",
    "\n",
    "# 导入数据\n",
    "dataset = datasets.load_iris()\n",
    "\n",
    "x = dataset.data\n",
    "Y = dataset.target\n",
    "\n",
    "# Convert labels to categorical one-hot encoding\n",
    "Y_labels = to_categorical(Y, num_classes=3)\n",
    "\n",
    "# 设定随机种子\n",
    "seed = 7\n",
    "np.random.seed(seed)\n",
    "# 构建模型函数\n",
    "def create_model(optimizer='rmsprop', init='glorot_uniform'):\n",
    "    # 构建模型\n",
    "    model = Sequential()\n",
    "    model.add(Dense(units=4, activation='relu', input_dim=4, kernel_initializer=init))\n",
    "    model.add(Dense(units=6, activation='relu', kernel_initializer=init))\n",
    "    model.add(Dense(units=3, activation='softmax', kernel_initializer=init))\n",
    "\n",
    "    # 编译模型\n",
    "    model.compile(loss='categorical_crossentropy', optimizer=optimizer, metrics=['accuracy'])\n",
    "\n",
    "    return model\n",
    "\n",
    "# 构建模型\n",
    "model = create_model()\n",
    "model.fit(x, Y_labels, epochs=200, batch_size=5, verbose=0)\n",
    "\n",
    "scores = model.evaluate(x, Y_labels, verbose=0)\n",
    "print('%s: %.2f%%' % (model.metrics_names[1], scores[1] * 100))\n",
    "\n",
    "# 模型保存成Json文件\n",
    "model_json = model.to_json()\n",
    "with open('model.json', 'w') as file:\n",
    "    file.write(model_json)\n",
    "\n",
    "# 保存模型的权重值\n",
    "model.save_weights('model.json.h5')\n",
    "\n",
    "\n",
    "# 从Json加载模型\n",
    "with open('model.json', 'r') as file:\n",
    "    model_json = file.read()\n",
    "\n",
    "# 加载模型\n",
    "new_model = model_from_json(model_json)\n",
    "new_model.load_weights('model.json.h5')\n",
    "\n",
    "# 编译模型\n",
    "new_model.compile(loss='categorical_crossentropy', optimizer='rmsprop', metrics=['accuracy'])\n",
    "\n",
    "# 评估从Json加载的模型\n",
    "scores = new_model.evaluate(x, Y_labels, verbose=0)\n",
    "print('%s: %.2f%%' % (model.metrics_names[1], scores[1] * 100))"
   ]
  },
  {
   "cell_type": "code",
   "execution_count": null,
   "metadata": {},
   "outputs": [],
   "source": []
  }
 ],
 "metadata": {
  "kernelspec": {
   "display_name": "liyuan",
   "language": "python",
   "name": "liyuan"
  },
  "language_info": {
   "codemirror_mode": {
    "name": "ipython",
    "version": 3
   },
   "file_extension": ".py",
   "mimetype": "text/x-python",
   "name": "python",
   "nbconvert_exporter": "python",
   "pygments_lexer": "ipython3",
   "version": "3.7.1"
  }
 },
 "nbformat": 4,
 "nbformat_minor": 4
}
