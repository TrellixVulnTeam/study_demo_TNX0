{
 "cells": [
  {
   "cell_type": "markdown",
   "metadata": {},
   "source": [
    "## 模型更新\n",
    "如果一开始训练的模型数据较少,随着时间推移,有了新的数据,又不想重新训练新模型的时候,就用增量模型训练"
   ]
  },
  {
   "cell_type": "code",
   "execution_count": 1,
   "metadata": {},
   "outputs": [
    {
     "name": "stderr",
     "output_type": "stream",
     "text": [
      "Using TensorFlow backend.\n",
      "WARNING: Logging before flag parsing goes to stderr.\n",
      "W0407 18:42:46.566566 140451463640896 deprecation_wrapper.py:119] From /home/liyuan3970/anaconda3/lib/python3.7/site-packages/keras/backend/tensorflow_backend.py:422: The name tf.global_variables is deprecated. Please use tf.compat.v1.global_variables instead.\n",
      "\n"
     ]
    },
    {
     "name": "stdout",
     "output_type": "stream",
     "text": [
      "Epoch 1/10\n",
      " - 0s - loss: 1.0141 - accuracy: 0.4000\n",
      "Epoch 2/10\n",
      " - 0s - loss: 0.9718 - accuracy: 0.4750\n",
      "Epoch 3/10\n",
      " - 0s - loss: 0.9392 - accuracy: 0.5500\n",
      "Epoch 4/10\n",
      " - 0s - loss: 0.9055 - accuracy: 0.5833\n",
      "Epoch 5/10\n",
      " - 0s - loss: 0.8717 - accuracy: 0.5833\n",
      "Epoch 6/10\n",
      " - 0s - loss: 0.8306 - accuracy: 0.6000\n",
      "Epoch 7/10\n",
      " - 0s - loss: 0.7886 - accuracy: 0.5500\n",
      "Epoch 8/10\n",
      " - 0s - loss: 0.7531 - accuracy: 0.5000\n",
      "Epoch 9/10\n",
      " - 0s - loss: 0.7268 - accuracy: 0.5250\n",
      "Epoch 10/10\n",
      " - 0s - loss: 0.7055 - accuracy: 0.7750\n",
      "Base accuracy: 80.00%\n",
      "Epoch 1/10\n",
      " - 0s - loss: 0.8117 - accuracy: 0.7333\n",
      "Epoch 2/10\n",
      " - 0s - loss: 0.8026 - accuracy: 0.7333\n",
      "Epoch 3/10\n",
      " - 0s - loss: 0.7964 - accuracy: 0.7333\n",
      "Epoch 4/10\n",
      " - 0s - loss: 0.7913 - accuracy: 0.7333\n",
      "Epoch 5/10\n",
      " - 0s - loss: 0.7886 - accuracy: 0.7667\n",
      "Epoch 6/10\n",
      " - 0s - loss: 0.7835 - accuracy: 0.7667\n",
      "Epoch 7/10\n",
      " - 0s - loss: 0.7786 - accuracy: 0.8333\n",
      "Epoch 8/10\n",
      " - 0s - loss: 0.7746 - accuracy: 0.8667\n",
      "Epoch 9/10\n",
      " - 0s - loss: 0.7703 - accuracy: 0.8667\n",
      "Epoch 10/10\n",
      " - 0s - loss: 0.7655 - accuracy: 0.8667\n",
      "Increment accuracy: 90.00%\n"
     ]
    }
   ],
   "source": [
    "from sklearn import datasets\n",
    "import numpy as np\n",
    "from keras.models import Sequential\n",
    "from keras.layers import Dense\n",
    "from keras.utils import to_categorical\n",
    "from keras.models import model_from_json\n",
    "from sklearn.model_selection import train_test_split\n",
    "\n",
    "# 设定随机种子\n",
    "seed = 7\n",
    "np.random.seed(seed)\n",
    "\n",
    "# 导入数据\n",
    "dataset = datasets.load_iris()\n",
    "\n",
    "x = dataset.data\n",
    "Y = dataset.target\n",
    "\n",
    "x_train, x_increment, Y_train, Y_increment = train_test_split(x, Y, test_size=0.2, random_state=seed)\n",
    "\n",
    "# Convert labels to categorical one-hot encoding\n",
    "Y_train_labels = to_categorical(Y_train, num_classes=3)\n",
    "\n",
    "\n",
    "# 构建模型函数\n",
    "def create_model(optimizer='rmsprop', init='glorot_uniform'):\n",
    "    # 构建模型\n",
    "    model = Sequential()\n",
    "    model.add(Dense(units=4, activation='relu', input_dim=4, kernel_initializer=init))\n",
    "    model.add(Dense(units=6, activation='relu', kernel_initializer=init))\n",
    "    model.add(Dense(units=3, activation='softmax', kernel_initializer=init))\n",
    "\n",
    "    # 编译模型\n",
    "    model.compile(loss='categorical_crossentropy', optimizer=optimizer, metrics=['accuracy'])\n",
    "\n",
    "    return model\n",
    "\n",
    "# 构建模型\n",
    "model = create_model()\n",
    "model.fit(x_train, Y_train_labels, epochs=10, batch_size=5, verbose=2)\n",
    "\n",
    "scores = model.evaluate(x_train, Y_train_labels, verbose=0)\n",
    "print('Base %s: %.2f%%' % (model.metrics_names[1], scores[1] * 100))\n",
    "\n",
    "# 模型保存成Json文件\n",
    "model_json = model.to_json()\n",
    "with open('src/model.increment.json', 'w') as file:\n",
    "    file.write(model_json)\n",
    "\n",
    "# 保存模型的权重值\n",
    "model.save_weights('src/model.increment.json.h5')\n",
    "\n",
    "\n",
    "# 从Json加载模型\n",
    "with open('src/model.increment.json', 'r') as file:\n",
    "    model_json = file.read()\n",
    "\n",
    "# 加载模型\n",
    "new_model = model_from_json(model_json)\n",
    "new_model.load_weights('src/model.increment.json.h5')\n",
    "\n",
    "# 编译模型\n",
    "new_model.compile(loss='categorical_crossentropy', optimizer='rmsprop', metrics=['accuracy'])\n",
    "\n",
    "# 增量训练模型\n",
    "# Convert labels to categorical one-hot encoding\n",
    "Y_increment_labels = to_categorical(Y_increment, num_classes=3)\n",
    "new_model.fit(x_increment, Y_increment_labels, epochs=10, batch_size=5, verbose=2)\n",
    "scores = new_model.evaluate(x_increment, Y_increment_labels, verbose=0)\n",
    "print('Increment %s: %.2f%%' % (model.metrics_names[1], scores[1] * 100))"
   ]
  },
  {
   "cell_type": "markdown",
   "metadata": {},
   "source": [
    "## 神经网络的检查点保存机制\n",
    "一般不会用到,如果模型过于大,可以一个epoch保存一个模型,然后训练出错的时候可以从某一个模型导入"
   ]
  },
  {
   "cell_type": "code",
   "execution_count": 8,
   "metadata": {},
   "outputs": [
    {
     "name": "stderr",
     "output_type": "stream",
     "text": [
      "/home/liyuan3970/anaconda3/lib/python3.7/site-packages/keras/callbacks/callbacks.py:707: RuntimeWarning: Can save best model only with val_acc available, skipping.\n",
      "  'skipping.' % (self.monitor), RuntimeWarning)\n"
     ]
    },
    {
     "data": {
      "text/plain": [
       "<keras.callbacks.callbacks.History at 0x7fbccc629cf8>"
      ]
     },
     "execution_count": 8,
     "metadata": {},
     "output_type": "execute_result"
    }
   ],
   "source": [
    "from sklearn import datasets\n",
    "import numpy as np\n",
    "from keras.models import Sequential\n",
    "from keras.layers import Dense\n",
    "from keras.utils import to_categorical\n",
    "from keras.callbacks import ModelCheckpoint\n",
    "\n",
    "# 导入数据\n",
    "dataset = datasets.load_iris()\n",
    "\n",
    "x = dataset.data\n",
    "Y = dataset.target\n",
    "\n",
    "# Convert labels to categorical one-hot encoding\n",
    "Y_labels = to_categorical(Y, num_classes=3)\n",
    "\n",
    "# 设定随机种子\n",
    "seed = 7\n",
    "np.random.seed(seed)\n",
    "# 构建模型函数\n",
    "def create_model(optimizer='rmsprop', init='glorot_uniform'):\n",
    "    # 构建模型\n",
    "    model = Sequential()\n",
    "    model.add(Dense(units=4, activation='relu', input_dim=4, kernel_initializer=init))\n",
    "    model.add(Dense(units=6, activation='relu', kernel_initializer=init))\n",
    "    model.add(Dense(units=3, activation='softmax', kernel_initializer=init))\n",
    "\n",
    "    # 编译模型\n",
    "    model.compile(loss='categorical_crossentropy', optimizer=optimizer, metrics=['accuracy'])\n",
    "\n",
    "    return model\n",
    "\n",
    "# 构建模型\n",
    "model = create_model()\n",
    "\n",
    "# 设置检查点\n",
    "filepath = 'src/weights-improvement-{epoch:02d}-{val_accuracy:.2f}.h5'\n",
    "checkpoint = ModelCheckpoint(filepath=filepath, monitor='val_acc', verbose=1, save_best_only=True, mode='max')\n",
    "callback_list = [checkpoint]\n",
    "model.fit(x, Y_labels, validation_split=0.2, epochs=20, batch_size=5, verbose=0, callbacks=callback_list)"
   ]
  },
  {
   "cell_type": "code",
   "execution_count": null,
   "metadata": {},
   "outputs": [],
   "source": []
  }
 ],
 "metadata": {
  "kernelspec": {
   "display_name": "Python 3",
   "language": "python",
   "name": "python3"
  },
  "language_info": {
   "codemirror_mode": {
    "name": "ipython",
    "version": 3
   },
   "file_extension": ".py",
   "mimetype": "text/x-python",
   "name": "python",
   "nbconvert_exporter": "python",
   "pygments_lexer": "ipython3",
   "version": "3.7.1"
  }
 },
 "nbformat": 4,
 "nbformat_minor": 2
}
