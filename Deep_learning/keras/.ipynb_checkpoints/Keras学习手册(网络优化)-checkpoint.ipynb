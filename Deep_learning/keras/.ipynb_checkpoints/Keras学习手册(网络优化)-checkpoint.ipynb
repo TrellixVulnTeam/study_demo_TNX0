{
 "cells": [
  {
   "cell_type": "markdown",
   "metadata": {},
   "source": [
    "## 使用Dropout\n",
    "### 输入层使用Dropout"
   ]
  },
  {
   "cell_type": "code",
   "execution_count": 4,
   "metadata": {},
   "outputs": [
    {
     "name": "stdout",
     "output_type": "stream",
     "text": [
      "Accuracy: 80.67% (0.21)\n"
     ]
    }
   ],
   "source": [
    "from sklearn import datasets\n",
    "import numpy as np\n",
    "from keras.models import Sequential\n",
    "from keras.layers import Dense\n",
    "from keras.wrappers.scikit_learn import KerasClassifier\n",
    "from keras.optimizers import SGD\n",
    "from sklearn.model_selection import cross_val_score\n",
    "from sklearn.model_selection import KFold\n",
    "\n",
    "\n",
    "# 导入数据\n",
    "dataset = datasets.load_iris()\n",
    "\n",
    "x = dataset.data\n",
    "Y = dataset.target\n",
    "\n",
    "# 设定随机种子\n",
    "seed = 7\n",
    "np.random.seed(seed)\n",
    "\n",
    "# 构建模型函数\n",
    "def create_model(init='glorot_uniform'):\n",
    "    # 构建模型\n",
    "    model = Sequential()\n",
    "    model.add(Dense(units=4, activation='relu', input_dim=4, kernel_initializer=init))\n",
    "    model.add(Dense(units=6, activation='relu', kernel_initializer=init))\n",
    "    model.add(Dense(units=3, activation='softmax', kernel_initializer=init))\n",
    "\n",
    "    #定义Dropout\n",
    "    sgd = SGD(lr=0.01, momentum=0.8, decay=0.0, nesterov=False)\n",
    "\n",
    "    # 编译模型\n",
    "    model.compile(loss='categorical_crossentropy', optimizer=sgd, metrics=['accuracy'])\n",
    "\n",
    "    return model\n",
    "\n",
    "model = KerasClassifier(build_fn=create_model, epochs=200, batch_size=5, verbose=0)\n",
    "kfold = KFold(n_splits=10, shuffle=True, random_state=seed)\n",
    "results = cross_val_score(model, x, Y, cv=kfold)\n",
    "print('Accuracy: %.2f%% (%.2f)' % (results.mean()*100, results.std()))"
   ]
  },
  {
   "cell_type": "markdown",
   "metadata": {},
   "source": [
    "### 隐藏层使用"
   ]
  },
  {
   "cell_type": "code",
   "execution_count": 6,
   "metadata": {},
   "outputs": [
    {
     "name": "stdout",
     "output_type": "stream",
     "text": [
      "Accuracy: 88.00% (0.15)\n"
     ]
    }
   ],
   "source": [
    "from sklearn import datasets\n",
    "import numpy as np\n",
    "from keras.models import Sequential\n",
    "from keras.layers import Dropout\n",
    "from keras.layers import Dense\n",
    "from keras.constraints import maxnorm\n",
    "from keras.optimizers import SGD\n",
    "from keras.wrappers.scikit_learn import KerasClassifier\n",
    "from sklearn.model_selection import cross_val_score\n",
    "from sklearn.model_selection import KFold\n",
    "\n",
    "\n",
    "# 导入数据\n",
    "dataset = datasets.load_iris()\n",
    "\n",
    "x = dataset.data\n",
    "Y = dataset.target\n",
    "\n",
    "# 设定随机种子\n",
    "seed = 7\n",
    "np.random.seed(seed)\n",
    "\n",
    "# 构建模型函数\n",
    "def create_model(init='glorot_uniform'):\n",
    "    # 构建模型\n",
    "    model = Sequential()\n",
    "    model.add(Dense(units=4, activation='relu', input_dim=4, kernel_initializer=init, kernel_constraint=maxnorm(3)))\n",
    "    model.add(Dropout(rate=0.2))\n",
    "    model.add(Dense(units=6, activation='relu', kernel_initializer=init, kernel_constraint=maxnorm(3)))\n",
    "    model.add(Dropout(rate=0.2))\n",
    "    model.add(Dense(units=3, activation='softmax', kernel_initializer=init))\n",
    "\n",
    "    # 定义Dropout\n",
    "    sgd = SGD(lr=0.01, momentum=0.8, decay=0.0, nesterov=False)\n",
    "\n",
    "    # 编译模型\n",
    "    model.compile(loss='categorical_crossentropy', optimizer=sgd, metrics=['accuracy'])\n",
    "\n",
    "    return model\n",
    "\n",
    "model = KerasClassifier(build_fn=create_model, epochs=200, batch_size=5, verbose=0)\n",
    "kfold = KFold(n_splits=10, shuffle=True, random_state=seed)\n",
    "results = cross_val_score(model, x, Y, cv=kfold)\n",
    "print('Accuracy: %.2f%% (%.2f)' % (results.mean()*100, results.std()))"
   ]
  },
  {
   "cell_type": "markdown",
   "metadata": {},
   "source": [
    "## 学习率的调整\n",
    "### 线性学习率\n"
   ]
  },
  {
   "cell_type": "code",
   "execution_count": 8,
   "metadata": {},
   "outputs": [
    {
     "name": "stdout",
     "output_type": "stream",
     "text": [
      "Epoch 1/10\n",
      "150/150 [==============================] - 0s 888us/step - loss: 0.8722 - accuracy: 0.5267\n",
      "Epoch 2/10\n",
      "150/150 [==============================] - 0s 122us/step - loss: 0.4973 - accuracy: 0.6800\n",
      "Epoch 3/10\n",
      "150/150 [==============================] - 0s 123us/step - loss: 0.4956 - accuracy: 0.6533\n",
      "Epoch 4/10\n",
      "150/150 [==============================] - 0s 119us/step - loss: 0.4706 - accuracy: 0.7000\n",
      "Epoch 5/10\n",
      "150/150 [==============================] - 0s 138us/step - loss: 0.4758 - accuracy: 0.6533\n",
      "Epoch 6/10\n",
      "150/150 [==============================] - 0s 119us/step - loss: 0.4794 - accuracy: 0.6133\n",
      "Epoch 7/10\n",
      "150/150 [==============================] - 0s 132us/step - loss: 0.4774 - accuracy: 0.6600\n",
      "Epoch 8/10\n",
      "150/150 [==============================] - 0s 136us/step - loss: 0.4992 - accuracy: 0.6467\n",
      "Epoch 9/10\n",
      "150/150 [==============================] - 0s 120us/step - loss: 0.4811 - accuracy: 0.6267\n",
      "Epoch 10/10\n",
      "150/150 [==============================] - 0s 132us/step - loss: 0.4773 - accuracy: 0.6000\n"
     ]
    },
    {
     "data": {
      "text/plain": [
       "<keras.callbacks.callbacks.History at 0x7feb17f32be0>"
      ]
     },
     "execution_count": 8,
     "metadata": {},
     "output_type": "execute_result"
    }
   ],
   "source": [
    "from sklearn import datasets\n",
    "import numpy as np\n",
    "from keras.models import Sequential\n",
    "from keras.layers import Dense\n",
    "from keras.wrappers.scikit_learn import KerasClassifier\n",
    "from keras.optimizers import SGD\n",
    "\n",
    "\n",
    "# 导入数据\n",
    "dataset = datasets.load_iris()\n",
    "\n",
    "x = dataset.data\n",
    "Y = dataset.target\n",
    "\n",
    "# 设定随机种子\n",
    "seed = 7\n",
    "np.random.seed(seed)\n",
    "\n",
    "# 构建模型函数\n",
    "def create_model(init='glorot_uniform'):\n",
    "    # 构建模型\n",
    "    model = Sequential()\n",
    "    model.add(Dense(units=4, activation='relu', input_dim=4, kernel_initializer=init))\n",
    "    model.add(Dense(units=6, activation='relu', kernel_initializer=init))\n",
    "    model.add(Dense(units=3, activation='softmax', kernel_initializer=init))\n",
    "\n",
    "    #模型优化\n",
    "    learningRate = 0.1\n",
    "    momentum = 0.9\n",
    "    decay_rate = 0.005\n",
    "    sgd = SGD(lr=learningRate, momentum=momentum, decay=decay_rate, nesterov=False)\n",
    "\n",
    "    # 编译模型\n",
    "    model.compile(loss='categorical_crossentropy', optimizer=sgd, metrics=['accuracy'])\n",
    "\n",
    "    return model\n",
    "\n",
    "epochs = 10\n",
    "model = KerasClassifier(build_fn=create_model, epochs=epochs, batch_size=5, verbose=1)\n",
    "model.fit(x, Y)"
   ]
  },
  {
   "cell_type": "markdown",
   "metadata": {},
   "source": [
    "### 指数衰减学习率"
   ]
  },
  {
   "cell_type": "code",
   "execution_count": 9,
   "metadata": {},
   "outputs": [
    {
     "name": "stdout",
     "output_type": "stream",
     "text": [
      "Epoch 1/10\n",
      "150/150 [==============================] - 0s 3ms/step - loss: 0.8796 - accuracy: 0.5267\n",
      "Epoch 2/10\n",
      "150/150 [==============================] - 0s 135us/step - loss: 0.4977 - accuracy: 0.6533\n",
      "Epoch 3/10\n",
      "150/150 [==============================] - 0s 131us/step - loss: 0.4968 - accuracy: 0.6733\n",
      "Epoch 4/10\n",
      "150/150 [==============================] - 0s 129us/step - loss: 0.4716 - accuracy: 0.6800\n",
      "Epoch 5/10\n",
      "150/150 [==============================] - 0s 129us/step - loss: 0.4772 - accuracy: 0.6600\n",
      "Epoch 6/10\n",
      "150/150 [==============================] - 0s 134us/step - loss: 0.4810 - accuracy: 0.6133\n",
      "Epoch 7/10\n",
      "150/150 [==============================] - 0s 151us/step - loss: 0.4786 - accuracy: 0.6533\n",
      "Epoch 8/10\n",
      "150/150 [==============================] - 0s 124us/step - loss: 0.5050 - accuracy: 0.6533\n",
      "Epoch 9/10\n",
      "150/150 [==============================] - 0s 131us/step - loss: 0.4882 - accuracy: 0.6400\n",
      "Epoch 10/10\n",
      "150/150 [==============================] - 0s 133us/step - loss: 0.4806 - accuracy: 0.6000\n"
     ]
    },
    {
     "data": {
      "text/plain": [
       "<keras.callbacks.callbacks.History at 0x7feb17c7eda0>"
      ]
     },
     "execution_count": 9,
     "metadata": {},
     "output_type": "execute_result"
    }
   ],
   "source": [
    "from sklearn import datasets\n",
    "import numpy as np\n",
    "from keras.models import Sequential\n",
    "from keras.layers import Dense\n",
    "from keras.wrappers.scikit_learn import KerasClassifier\n",
    "from keras.optimizers import SGD\n",
    "from keras.callbacks import LearningRateScheduler\n",
    "from math import pow, floor\n",
    "\n",
    "\n",
    "# 导入数据\n",
    "dataset = datasets.load_iris()\n",
    "\n",
    "x = dataset.data\n",
    "Y = dataset.target\n",
    "\n",
    "# 设定随机种子\n",
    "seed = 7\n",
    "np.random.seed(seed)\n",
    "\n",
    "# 计算学习率\n",
    "def step_decay(epoch):\n",
    "    init_lrate = 0.1\n",
    "    drop = 0.5\n",
    "    epochs_drop = 10\n",
    "    lrate = init_lrate * pow(drop, floor(1 + epoch) / epochs_drop)\n",
    "    return lrate\n",
    "\n",
    "# 构建模型函数\n",
    "def create_model(init='glorot_uniform'):\n",
    "    # 构建模型\n",
    "    model = Sequential()\n",
    "    model.add(Dense(units=4, activation='relu', input_dim=4, kernel_initializer=init))\n",
    "    model.add(Dense(units=6, activation='relu', kernel_initializer=init))\n",
    "    model.add(Dense(units=3, activation='softmax', kernel_initializer=init))\n",
    "\n",
    "    #模型优化\n",
    "    learningRate = 0.1\n",
    "    momentum = 0.9\n",
    "    decay_rate = 0.0\n",
    "    sgd = SGD(lr=learningRate, momentum=momentum, decay=decay_rate, nesterov=False)\n",
    "\n",
    "    # 编译模型\n",
    "    model.compile(loss='categorical_crossentropy', optimizer=sgd, metrics=['accuracy'])\n",
    "\n",
    "    return model\n",
    "\n",
    "\n",
    "lrate = LearningRateScheduler(step_decay)\n",
    "epochs = 10\n",
    "model = KerasClassifier(build_fn=create_model, epochs=epochs, batch_size=5, verbose=1, callbacks=[lrate])\n",
    "model.fit(x, Y)"
   ]
  },
  {
   "cell_type": "code",
   "execution_count": null,
   "metadata": {},
   "outputs": [],
   "source": []
  }
 ],
 "metadata": {
  "kernelspec": {
   "display_name": "Python 3",
   "language": "python",
   "name": "python3"
  },
  "language_info": {
   "codemirror_mode": {
    "name": "ipython",
    "version": 3
   },
   "file_extension": ".py",
   "mimetype": "text/x-python",
   "name": "python",
   "nbconvert_exporter": "python",
   "pygments_lexer": "ipython3",
   "version": "3.7.1"
  }
 },
 "nbformat": 4,
 "nbformat_minor": 2
}
