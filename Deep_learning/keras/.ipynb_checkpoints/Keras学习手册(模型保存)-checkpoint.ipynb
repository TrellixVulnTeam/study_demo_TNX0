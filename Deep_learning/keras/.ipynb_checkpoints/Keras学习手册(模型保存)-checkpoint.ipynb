{
 "cells": [
  {
   "cell_type": "markdown",
   "metadata": {},
   "source": [
    "## JSON保存和加载模型\n",
    "Json模型包含模型架构(model.json)和模型权重(model.h5)文件,模型文件可以重新加载"
   ]
  },
  {
   "cell_type": "code",
   "execution_count": 1,
   "metadata": {},
   "outputs": [
    {
     "name": "stderr",
     "output_type": "stream",
     "text": [
      "Using TensorFlow backend.\n",
      "WARNING: Logging before flag parsing goes to stderr.\n",
      "W0407 18:22:40.247891 140245082834752 deprecation_wrapper.py:119] From /home/liyuan3970/anaconda3/lib/python3.7/site-packages/keras/backend/tensorflow_backend.py:422: The name tf.global_variables is deprecated. Please use tf.compat.v1.global_variables instead.\n",
      "\n"
     ]
    },
    {
     "name": "stdout",
     "output_type": "stream",
     "text": [
      "accuracy: 89.33%\n",
      "accuracy: 89.33%\n"
     ]
    }
   ],
   "source": [
    "from sklearn import datasets\n",
    "import numpy as np\n",
    "from keras.models import Sequential\n",
    "from keras.layers import Dense\n",
    "from keras.utils import to_categorical\n",
    "from keras.models import model_from_json\n",
    "\n",
    "\n",
    "# 导入数据\n",
    "dataset = datasets.load_iris()\n",
    "\n",
    "x = dataset.data\n",
    "Y = dataset.target\n",
    "\n",
    "# Convert labels to categorical one-hot encoding\n",
    "Y_labels = to_categorical(Y, num_classes=3)\n",
    "\n",
    "# 设定随机种子\n",
    "seed = 7\n",
    "np.random.seed(seed)\n",
    "# 构建模型函数\n",
    "def create_model(optimizer='rmsprop', init='glorot_uniform'):\n",
    "    # 构建模型\n",
    "    model = Sequential()\n",
    "    model.add(Dense(units=4, activation='relu', input_dim=4, kernel_initializer=init))\n",
    "    model.add(Dense(units=6, activation='relu', kernel_initializer=init))\n",
    "    model.add(Dense(units=3, activation='softmax', kernel_initializer=init))\n",
    "\n",
    "    # 编译模型\n",
    "    model.compile(loss='categorical_crossentropy', optimizer=optimizer, metrics=['accuracy'])\n",
    "\n",
    "    return model\n",
    "\n",
    "# 构建模型\n",
    "model = create_model()\n",
    "model.fit(x, Y_labels, epochs=10, batch_size=5, verbose=0)\n",
    "\n",
    "scores = model.evaluate(x, Y_labels, verbose=0)\n",
    "print('%s: %.2f%%' % (model.metrics_names[1], scores[1] * 100))\n",
    "\n",
    "# 模型保存成Json文件\n",
    "model_json = model.to_json()\n",
    "with open('src/model.json', 'w') as file:\n",
    "    file.write(model_json)\n",
    "\n",
    "# 保存模型的权重值\n",
    "model.save_weights('src/model.json.h5')\n",
    "\n",
    "\n",
    "# 从Json加载模型\n",
    "with open('src/model.json', 'r') as file:\n",
    "    model_json = file.read()\n",
    "\n",
    "# 加载模型\n",
    "new_model = model_from_json(model_json)\n",
    "new_model.load_weights('src/model.json.h5')\n",
    "\n",
    "# 编译模型\n",
    "new_model.compile(loss='categorical_crossentropy', optimizer='rmsprop', metrics=['accuracy'])\n",
    "\n",
    "# 评估从Json加载的模型\n",
    "scores = new_model.evaluate(x, Y_labels, verbose=0)\n",
    "print('%s: %.2f%%' % (model.metrics_names[1], scores[1] * 100))"
   ]
  },
  {
   "cell_type": "markdown",
   "metadata": {},
   "source": [
    "## Yaml模型文件(同Json)"
   ]
  },
  {
   "cell_type": "code",
   "execution_count": 3,
   "metadata": {},
   "outputs": [
    {
     "name": "stdout",
     "output_type": "stream",
     "text": [
      "accuracy: 97.33%\n",
      "accuracy: 97.33%\n"
     ]
    }
   ],
   "source": [
    "from sklearn import datasets\n",
    "import numpy as np\n",
    "from keras.models import Sequential\n",
    "from keras.layers import Dense\n",
    "from keras.utils import to_categorical\n",
    "from keras.models import model_from_yaml\n",
    "\n",
    "\n",
    "# 导入数据\n",
    "dataset = datasets.load_iris()\n",
    "\n",
    "x = dataset.data\n",
    "Y = dataset.target\n",
    "\n",
    "# Convert labels to categorical one-hot encoding\n",
    "Y_labels = to_categorical(Y, num_classes=3)\n",
    "\n",
    "# 设定随机种子\n",
    "seed = 7\n",
    "np.random.seed(seed)\n",
    "# 构建模型函数\n",
    "def create_model(optimizer='rmsprop', init='glorot_uniform'):\n",
    "    # 构建模型\n",
    "    model = Sequential()\n",
    "    model.add(Dense(units=4, activation='relu', input_dim=4, kernel_initializer=init))\n",
    "    model.add(Dense(units=6, activation='relu', kernel_initializer=init))\n",
    "    model.add(Dense(units=3, activation='softmax', kernel_initializer=init))\n",
    "\n",
    "    # 编译模型\n",
    "    model.compile(loss='categorical_crossentropy', optimizer=optimizer, metrics=['accuracy'])\n",
    "\n",
    "    return model\n",
    "\n",
    "# 构建模型\n",
    "model = create_model()\n",
    "model.fit(x, Y_labels, epochs=200, batch_size=5, verbose=0)\n",
    "\n",
    "scores = model.evaluate(x, Y_labels, verbose=0)\n",
    "print('%s: %.2f%%' % (model.metrics_names[1], scores[1] * 100))\n",
    "\n",
    "# 模型保存成Json文件\n",
    "model_yaml = model.to_yaml()\n",
    "with open('src/model.yaml', 'w') as file:\n",
    "    file.write(model_yaml)\n",
    "\n",
    "# 保存模型的权重值\n",
    "model.save_weights('src/model.yaml.h5')\n",
    "\n",
    "\n",
    "# 从Json加载模型\n",
    "with open('src/model.yaml', 'r') as file:\n",
    "    model_json = file.read()\n",
    "\n",
    "# 加载模型\n",
    "new_model = model_from_yaml(model_json)\n",
    "new_model.load_weights('src/model.yaml.h5')\n",
    "\n",
    "# 编译模型\n",
    "new_model.compile(loss='categorical_crossentropy', optimizer='rmsprop', metrics=['accuracy'])\n",
    "\n",
    "# 评估从YAML加载的模型\n",
    "scores = new_model.evaluate(x, Y_labels, verbose=0)\n",
    "print('%s: %.2f%%' % (model.metrics_names[1], scores[1] * 100))"
   ]
  },
  {
   "cell_type": "code",
   "execution_count": null,
   "metadata": {},
   "outputs": [],
   "source": []
  }
 ],
 "metadata": {
  "kernelspec": {
   "display_name": "Python 3",
   "language": "python",
   "name": "python3"
  },
  "language_info": {
   "codemirror_mode": {
    "name": "ipython",
    "version": 3
   },
   "file_extension": ".py",
   "mimetype": "text/x-python",
   "name": "python",
   "nbconvert_exporter": "python",
   "pygments_lexer": "ipython3",
   "version": "3.7.1"
  }
 },
 "nbformat": 4,
 "nbformat_minor": 2
}
