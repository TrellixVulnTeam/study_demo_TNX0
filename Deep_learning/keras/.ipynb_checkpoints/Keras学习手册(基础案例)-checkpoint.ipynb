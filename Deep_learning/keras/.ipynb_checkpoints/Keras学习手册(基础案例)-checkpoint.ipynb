{
 "cells": [
  {
   "cell_type": "markdown",
   "metadata": {},
   "source": [
    "## 多层感知机\n"
   ]
  },
  {
   "cell_type": "code",
   "execution_count": 2,
   "metadata": {},
   "outputs": [
    {
     "name": "stdout",
     "output_type": "stream",
     "text": [
      "Epoch 1/10\n",
      "768/768 [==============================] - 0s 165us/step - loss: 3.2006 - accuracy: 0.5846\n",
      "Epoch 2/10\n",
      "768/768 [==============================] - 0s 57us/step - loss: 0.9588 - accuracy: 0.5729\n",
      "Epoch 3/10\n",
      "768/768 [==============================] - 0s 60us/step - loss: 0.7628 - accuracy: 0.6302\n",
      "Epoch 4/10\n",
      "768/768 [==============================] - 0s 57us/step - loss: 0.7198 - accuracy: 0.6536\n",
      "Epoch 5/10\n",
      "768/768 [==============================] - 0s 57us/step - loss: 0.6946 - accuracy: 0.6784\n",
      "Epoch 6/10\n",
      "768/768 [==============================] - 0s 56us/step - loss: 0.6678 - accuracy: 0.6862\n",
      "Epoch 7/10\n",
      "768/768 [==============================] - 0s 56us/step - loss: 0.6625 - accuracy: 0.6719\n",
      "Epoch 8/10\n",
      "768/768 [==============================] - 0s 58us/step - loss: 0.6476 - accuracy: 0.6862\n",
      "Epoch 9/10\n",
      "768/768 [==============================] - 0s 56us/step - loss: 0.6345 - accuracy: 0.7031\n",
      "Epoch 10/10\n",
      "768/768 [==============================] - 0s 55us/step - loss: 0.6445 - accuracy: 0.6745\n",
      "768/768 [==============================] - 0s 35us/step\n",
      "\n",
      "accuracy : 70.18%\n"
     ]
    }
   ],
   "source": [
    "from keras.models import Sequential\n",
    "from keras.layers import Dense\n",
    "import numpy as np\n",
    "# 二分类问题\n",
    "# 设定随机数种子\n",
    "np.random.seed(7)\n",
    "file = 'deeplearning-master/chapter03/'\n",
    "# 导入数据\n",
    "dataset = np.loadtxt(file + 'pima-indians-diabetes.csv', delimiter=',')\n",
    "# 分割输入x和输出Y\n",
    "x = dataset[:, 0 : 8]\n",
    "Y = dataset[:, 8]\n",
    "\n",
    "# 创建模型\n",
    "model = Sequential()\n",
    "model.add(Dense(12, input_dim=8, activation='relu'))\n",
    "model.add(Dense(8, activation='relu'))\n",
    "model.add(Dense(1, activation='sigmoid'))\n",
    "\n",
    "# 编译模型\n",
    "model.compile(loss='binary_crossentropy', optimizer='adam', metrics=['accuracy'])\n",
    "\n",
    "# 训练模型\n",
    "model.fit(x=x, y=Y, epochs=10, batch_size=10)\n",
    "\n",
    "# 评估模型\n",
    "scores = model.evaluate(x=x, y=Y)\n",
    "print('\\n%s : %.2f%%' % (model.metrics_names[1], scores[1]*100))"
   ]
  },
  {
   "cell_type": "markdown",
   "metadata": {},
   "source": [
    "## 交叉验证"
   ]
  },
  {
   "cell_type": "code",
   "execution_count": 4,
   "metadata": {},
   "outputs": [
    {
     "name": "stdout",
     "output_type": "stream",
     "text": [
      "accuracy: 66.23%\n",
      "accuracy: 72.73%\n",
      "accuracy: 61.04%\n",
      "accuracy: 72.73%\n",
      "accuracy: 64.94%\n",
      "accuracy: 62.34%\n",
      "accuracy: 51.95%\n",
      "accuracy: 63.64%\n",
      "accuracy: 55.26%\n",
      "accuracy: 55.26%\n",
      "62.61% (+/- 6.70%)\n"
     ]
    }
   ],
   "source": [
    "from keras.models import Sequential\n",
    "from keras.layers import Dense\n",
    "import numpy as np\n",
    "from sklearn.model_selection import StratifiedKFold\n",
    "file = 'deeplearning-master/chapter03/'\n",
    "seed = 7\n",
    "# 设定随机数种子\n",
    "np.random.seed(seed)\n",
    "\n",
    "# 导入数据\n",
    "dataset = np.loadtxt(file +'pima-indians-diabetes.csv', delimiter=',')\n",
    "# 分割输入x和输出Y\n",
    "x = dataset[:, 0 : 8]\n",
    "Y = dataset[:, 8]\n",
    "\n",
    "kfold = StratifiedKFold(n_splits=10, random_state=seed, shuffle=True)\n",
    "cvscores = []\n",
    "for train, validation in kfold.split(x, Y):\n",
    "    # 创建模型\n",
    "    model = Sequential()\n",
    "    model.add(Dense(12, input_dim=8, activation='relu'))\n",
    "    model.add(Dense(8, activation='relu'))\n",
    "    model.add(Dense(1, activation='sigmoid'))\n",
    "\n",
    "    # 编译模型\n",
    "    model.compile(loss='binary_crossentropy', optimizer='adam', metrics=['accuracy'])\n",
    "\n",
    "    # 训练模型\n",
    "    model.fit(x[train], Y[train], epochs=10, batch_size=10, verbose=0)\n",
    "\n",
    "    # 评估模型\n",
    "    scores = model.evaluate(x[validation], Y[validation], verbose=0)\n",
    "\n",
    "    # 输出评估结果\n",
    "    print('%s: %.2f%%' % (model.metrics_names[1], scores[1] * 100))\n",
    "    cvscores.append(scores[1] * 100)\n",
    "\n",
    "# 输出均值和标准差\n",
    "print('%.2f%% (+/- %.2f%%)' % (np.mean(cvscores), np.std(cvscores)))"
   ]
  },
  {
   "cell_type": "markdown",
   "metadata": {},
   "source": [
    "## 自动划分数据集为测试和验证集"
   ]
  },
  {
   "cell_type": "code",
   "execution_count": 6,
   "metadata": {},
   "outputs": [
    {
     "name": "stdout",
     "output_type": "stream",
     "text": [
      "Train on 614 samples, validate on 154 samples\n",
      "Epoch 1/10\n",
      "614/614 [==============================] - 0s 396us/step - loss: 3.6363 - accuracy: 0.5782 - val_loss: 1.2658 - val_accuracy: 0.5974\n",
      "Epoch 2/10\n",
      "614/614 [==============================] - 0s 80us/step - loss: 1.1059 - accuracy: 0.5472 - val_loss: 0.8410 - val_accuracy: 0.6234\n",
      "Epoch 3/10\n",
      "614/614 [==============================] - 0s 77us/step - loss: 0.8455 - accuracy: 0.6059 - val_loss: 0.7747 - val_accuracy: 0.6299\n",
      "Epoch 4/10\n",
      "614/614 [==============================] - 0s 80us/step - loss: 0.7927 - accuracy: 0.6482 - val_loss: 0.7140 - val_accuracy: 0.6104\n",
      "Epoch 5/10\n",
      "614/614 [==============================] - 0s 79us/step - loss: 0.7382 - accuracy: 0.6498 - val_loss: 0.6711 - val_accuracy: 0.6429\n",
      "Epoch 6/10\n",
      "614/614 [==============================] - 0s 84us/step - loss: 0.7405 - accuracy: 0.6384 - val_loss: 0.6531 - val_accuracy: 0.6299\n",
      "Epoch 7/10\n",
      "614/614 [==============================] - 0s 81us/step - loss: 0.7141 - accuracy: 0.6433 - val_loss: 0.6246 - val_accuracy: 0.7338\n",
      "Epoch 8/10\n",
      "614/614 [==============================] - 0s 78us/step - loss: 0.6911 - accuracy: 0.6319 - val_loss: 0.6774 - val_accuracy: 0.6688\n",
      "Epoch 9/10\n",
      "614/614 [==============================] - 0s 79us/step - loss: 0.6937 - accuracy: 0.6515 - val_loss: 0.6255 - val_accuracy: 0.6688\n",
      "Epoch 10/10\n",
      "614/614 [==============================] - 0s 80us/step - loss: 0.6844 - accuracy: 0.6482 - val_loss: 0.6232 - val_accuracy: 0.7013\n"
     ]
    },
    {
     "data": {
      "text/plain": [
       "<keras.callbacks.callbacks.History at 0x7f16f07b16d8>"
      ]
     },
     "execution_count": 6,
     "metadata": {},
     "output_type": "execute_result"
    }
   ],
   "source": [
    "from keras.models import Sequential\n",
    "from keras.layers import Dense\n",
    "from sklearn.model_selection import train_test_split\n",
    "import numpy as np\n",
    "file = 'deeplearning-master/chapter03/'\n",
    "seed = 7\n",
    "# 设定随机数种子\n",
    "np.random.seed(seed)\n",
    "\n",
    "# 导入数据\n",
    "dataset = np.loadtxt(file+'pima-indians-diabetes.csv', delimiter=',')\n",
    "# 分割输入x和输出Y\n",
    "x = dataset[:, 0 : 8]\n",
    "Y = dataset[:, 8]\n",
    "\n",
    "# 分割数据集\n",
    "x_train, x_validation, Y_train, Y_validation = train_test_split(x, Y, test_size=0.2, random_state=seed)\n",
    "\n",
    "# 构建模型\n",
    "model = Sequential()\n",
    "model.add(Dense(12, input_dim=8, activation='relu'))\n",
    "model.add(Dense(8, activation='relu'))\n",
    "model.add(Dense(1, activation='sigmoid'))\n",
    "\n",
    "# 编译模型\n",
    "model.compile(loss='binary_crossentropy', optimizer='adam', metrics=['accuracy'])\n",
    "\n",
    "# 训练模型\n",
    "model.fit(x_train, Y_train, validation_data=(x_validation, Y_validation), epochs=10, batch_size=10)"
   ]
  },
  {
   "cell_type": "markdown",
   "metadata": {},
   "source": [
    "## 多分类"
   ]
  },
  {
   "cell_type": "code",
   "execution_count": 8,
   "metadata": {},
   "outputs": [
    {
     "ename": "SyntaxError",
     "evalue": "invalid character in identifier (<ipython-input-8-3ad884769a3d>, line 32)",
     "output_type": "error",
     "traceback": [
      "\u001b[0;36m  File \u001b[0;32m\"<ipython-input-8-3ad884769a3d>\"\u001b[0;36m, line \u001b[0;32m32\u001b[0m\n\u001b[0;31m    model = KerasClassifier(create_model, epochs=１0, batch_size=5, verbose=0)\u001b[0m\n\u001b[0m                                                  ^\u001b[0m\n\u001b[0;31mSyntaxError\u001b[0m\u001b[0;31m:\u001b[0m invalid character in identifier\n"
     ]
    }
   ],
   "source": [
    "from sklearn import datasets\n",
    "import numpy as np\n",
    "from keras.models import Sequential\n",
    "from keras.layers import Dense\n",
    "from keras.wrappers.scikit_learn import KerasClassifier\n",
    "from sklearn.model_selection import cross_val_score\n",
    "from sklearn.model_selection import KFold\n",
    "\n",
    "# 导入数据\n",
    "dataset = datasets.load_iris()\n",
    "\n",
    "x = dataset.data\n",
    "Y = dataset.target\n",
    "\n",
    "# 设定随机种子\n",
    "seed = 7\n",
    "np.random.seed(seed)\n",
    "\n",
    "# 构建模型函数\n",
    "def create_model(optimizer='adam', init='glorot_uniform'):\n",
    "    # 构建模型\n",
    "    model = Sequential()\n",
    "    model.add(Dense(units=4, activation='relu', input_dim=4, kernel_initializer=init))\n",
    "    model.add(Dense(units=6, activation='relu', kernel_initializer=init))\n",
    "    model.add(Dense(units=3, activation='softmax', kernel_initializer=init))\n",
    "\n",
    "    # 编译模型\n",
    "    model.compile(loss='categorical_crossentropy', optimizer=optimizer, metrics=['accuracy'])\n",
    "\n",
    "    return model\n",
    "\n",
    "model = KerasClassifier(build_fn=create_model, epochs=１0, batch_size=5, verbose=0)\n",
    "kfold = KFold(n_splits=10, shuffle=True, random_state=seed)\n",
    "results = cross_val_score(model, x, Y, cv=kfold)\n",
    "print('Accuracy: %.2f%% (%.2f)' % (results.mean()*100, results.std()))"
   ]
  },
  {
   "cell_type": "code",
   "execution_count": null,
   "metadata": {},
   "outputs": [],
   "source": []
  }
 ],
 "metadata": {
  "kernelspec": {
   "display_name": "Python 3",
   "language": "python",
   "name": "python3"
  },
  "language_info": {
   "codemirror_mode": {
    "name": "ipython",
    "version": 3
   },
   "file_extension": ".py",
   "mimetype": "text/x-python",
   "name": "python",
   "nbconvert_exporter": "python",
   "pygments_lexer": "ipython3",
   "version": "3.7.1"
  }
 },
 "nbformat": 4,
 "nbformat_minor": 2
}
