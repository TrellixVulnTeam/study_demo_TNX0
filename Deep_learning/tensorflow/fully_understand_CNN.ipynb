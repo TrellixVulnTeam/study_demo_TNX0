{
 "cells": [
  {
   "cell_type": "code",
   "execution_count": 1,
   "metadata": {},
   "outputs": [
    {
     "name": "stderr",
     "output_type": "stream",
     "text": [
      "WARNING: Logging before flag parsing goes to stderr.\n",
      "W1201 11:17:08.656199 140583713679168 deprecation.py:323] From <ipython-input-1-d8da387ca79f>:27: read_data_sets (from tensorflow.contrib.learn.python.learn.datasets.mnist) is deprecated and will be removed in a future version.\n",
      "Instructions for updating:\n",
      "Please use alternatives such as official/mnist/dataset.py from tensorflow/models.\n",
      "W1201 11:17:08.658085 140583713679168 deprecation.py:323] From /home/liyuan3970/anaconda3/lib/python3.7/site-packages/tensorflow/contrib/learn/python/learn/datasets/mnist.py:260: maybe_download (from tensorflow.contrib.learn.python.learn.datasets.base) is deprecated and will be removed in a future version.\n",
      "Instructions for updating:\n",
      "Please write your own downloading logic.\n",
      "W1201 11:17:08.659348 140583713679168 deprecation.py:323] From /home/liyuan3970/anaconda3/lib/python3.7/site-packages/tensorflow/contrib/learn/python/learn/datasets/mnist.py:262: extract_images (from tensorflow.contrib.learn.python.learn.datasets.mnist) is deprecated and will be removed in a future version.\n",
      "Instructions for updating:\n",
      "Please use tf.data to implement this functionality.\n"
     ]
    },
    {
     "name": "stdout",
     "output_type": "stream",
     "text": [
      "Extracting MNIST_data/train-images-idx3-ubyte.gz\n"
     ]
    },
    {
     "name": "stderr",
     "output_type": "stream",
     "text": [
      "W1201 11:17:09.016560 140583713679168 deprecation.py:323] From /home/liyuan3970/anaconda3/lib/python3.7/site-packages/tensorflow/contrib/learn/python/learn/datasets/mnist.py:267: extract_labels (from tensorflow.contrib.learn.python.learn.datasets.mnist) is deprecated and will be removed in a future version.\n",
      "Instructions for updating:\n",
      "Please use tf.data to implement this functionality.\n",
      "W1201 11:17:09.045219 140583713679168 deprecation.py:323] From /home/liyuan3970/anaconda3/lib/python3.7/site-packages/tensorflow/contrib/learn/python/learn/datasets/mnist.py:110: dense_to_one_hot (from tensorflow.contrib.learn.python.learn.datasets.mnist) is deprecated and will be removed in a future version.\n",
      "Instructions for updating:\n",
      "Please use tf.one_hot on tensors.\n",
      "W1201 11:17:09.191476 140583713679168 deprecation.py:323] From /home/liyuan3970/anaconda3/lib/python3.7/site-packages/tensorflow/contrib/learn/python/learn/datasets/mnist.py:290: DataSet.__init__ (from tensorflow.contrib.learn.python.learn.datasets.mnist) is deprecated and will be removed in a future version.\n",
      "Instructions for updating:\n",
      "Please use alternatives such as official/mnist/dataset.py from tensorflow/models.\n"
     ]
    },
    {
     "name": "stdout",
     "output_type": "stream",
     "text": [
      "Extracting MNIST_data/train-labels-idx1-ubyte.gz\n",
      "Extracting MNIST_data/t10k-images-idx3-ubyte.gz\n",
      "Extracting MNIST_data/t10k-labels-idx1-ubyte.gz\n"
     ]
    },
    {
     "name": "stderr",
     "output_type": "stream",
     "text": [
      "W1201 11:17:09.850139 140583713679168 deprecation.py:506] From <ipython-input-1-d8da387ca79f>:70: calling dropout (from tensorflow.python.ops.nn_ops) with keep_prob is deprecated and will be removed in a future version.\n",
      "Instructions for updating:\n",
      "Please use `rate` instead of `keep_prob`. Rate should be set to `rate = 1 - keep_prob`.\n"
     ]
    },
    {
     "name": "stdout",
     "output_type": "stream",
     "text": [
      "(?, 784)\n",
      "(?, 10)\n",
      "(?, 28, 28, 1)\n",
      "***************************************************\n",
      "卷积层数据： (5, 5, 1, 32)\n",
      "偏置层数据： (32,)\n",
      "卷积层数据： (?, 28, 28, 32)\n",
      "池化后的数据： (?, 14, 14, 32)\n",
      "***************************************************\n",
      "卷积层数据2： (5, 5, 32, 64)\n",
      "偏置层数据2： (64,)\n",
      "卷积层数据2： (?, 14, 14, 64)\n",
      "池化后的数据2： (?, 7, 7, 64)\n",
      "***************************************************\n",
      "权重数据： (3136, 1024)\n",
      "偏置层数据： (1024,)\n",
      "扁平化： (?, 3136)\n",
      "全连接层１： (?, 1024)\n",
      "***************************************************\n",
      "dropout (?, 1024)\n"
     ]
    }
   ],
   "source": [
    "# coding: utf-8\n",
    "import tensorflow as tf\n",
    "from tensorflow.examples.tutorials.mnist import input_data\n",
    "\n",
    "\n",
    "def weight_variable(shape):\n",
    "    initial = tf.truncated_normal(shape, stddev=0.1)\n",
    "    return tf.Variable(initial)\n",
    "\n",
    "\n",
    "def bias_variable(shape):\n",
    "    initial = tf.constant(0.1, shape=shape)\n",
    "    return tf.Variable(initial)\n",
    "\n",
    "\n",
    "def conv2d(x, W):\n",
    "    return tf.nn.conv2d(x, W, strides=[1, 1, 1, 1], padding='SAME')\n",
    "\n",
    "\n",
    "def max_pool_2x2(x):\n",
    "    return tf.nn.max_pool(x, ksize=[1, 2, 2, 1],\n",
    "                          strides=[1, 2, 2, 1], padding='SAME')\n",
    "\n",
    "\n",
    "if __name__ == '__main__':\n",
    "    # 读入数据\n",
    "    mnist = input_data.read_data_sets(\"MNIST_data/\", one_hot=True)\n",
    "    # x为训练图像的占位符、y_为训练图像标签的占位符\n",
    "    x = tf.placeholder(tf.float32, [None, 784])\n",
    "    y_ = tf.placeholder(tf.float32, [None, 10])\n",
    "    print(x.shape)\n",
    "    print(y_.shape)\n",
    "    # 将单张图片从784维向量重新还原为28x28的矩阵图片\n",
    "    x_image = tf.reshape(x, [-1, 28, 28, 1])\n",
    "    print(x_image.shape)\n",
    "    # 第一层卷积层\n",
    "    W_conv1 = weight_variable([5, 5, 1, 32])\n",
    "    b_conv1 = bias_variable([32])\n",
    "    h_conv1 = tf.nn.relu(conv2d(x_image, W_conv1) + b_conv1)\n",
    "    h_pool1 = max_pool_2x2(h_conv1)\n",
    "    print(\"***************************************************\")\n",
    "    print('卷积层数据：',W_conv1.shape)\n",
    "    print('偏置层数据：',b_conv1.shape)\n",
    "    print('卷积层数据：',h_conv1.shape)\n",
    "    print('池化后的数据：',h_pool1.shape)\n",
    "\n",
    "    # 第二层卷积层\n",
    "    W_conv2 = weight_variable([5, 5, 32, 64])\n",
    "    b_conv2 = bias_variable([64])\n",
    "    h_conv2 = tf.nn.relu(conv2d(h_pool1, W_conv2) + b_conv2)\n",
    "    h_pool2 = max_pool_2x2(h_conv2)\n",
    "    print(\"***************************************************\")\n",
    "    print('卷积层数据2：',W_conv2.shape)\n",
    "    print('偏置层数据2：',b_conv2.shape)\n",
    "    print('卷积层数据2：',h_conv2.shape)\n",
    "    print('池化后的数据2：',h_pool2.shape)\n",
    "    # 全连接层，输出为1024维的向量\n",
    "    W_fc1 = weight_variable([7 * 7 * 64, 1024])\n",
    "    b_fc1 = bias_variable([1024])\n",
    "    h_pool2_flat = tf.reshape(h_pool2, [-1, 7 * 7 * 64])\n",
    "    h_fc1 = tf.nn.relu(tf.matmul(h_pool2_flat, W_fc1) + b_fc1)    \n",
    "    print(\"***************************************************\")\n",
    "    print('权重数据：',W_fc1.shape)\n",
    "    print('偏置层数据：',b_fc1.shape)\n",
    "    print('扁平化：',h_pool2_flat.shape)\n",
    "    print('全连接层１：',h_fc1.shape)\n",
    "    print(\"***************************************************\")\n",
    "    # 使用Dropout，keep_prob是一个占位符，训练时为0.5，测试时为1,f返回的依然是一个1024的\n",
    "    keep_prob = tf.placeholder(tf.float32)\n",
    "    h_fc1_drop = tf.nn.dropout(h_fc1, keep_prob)\n",
    "    print('dropout',h_fc1_drop.shape)\n",
    "    # 把1024维的向量转换成10维，对应10个类别，对应的生成一个10维的数据\n",
    "    W_fc2 = weight_variable([1024, 10])\n",
    "    b_fc2 = bias_variable([10])\n",
    "    y_conv = tf.matmul(h_fc1_drop, W_fc2) + b_fc2"
   ]
  },
  {
   "cell_type": "markdown",
   "metadata": {},
   "source": [
    "## 图解\n",
    "![src/demo.jpg](src/demo.jpg)"
   ]
  },
  {
   "cell_type": "markdown",
   "metadata": {},
   "source": [
    "# 对卷积的理解\n",
    "```python\n",
    "def conv2d(x, W):\n",
    "    return tf.nn.conv2d(x, W, strides=[1, 1, 1, 1], padding='SAME')\n",
    "\n",
    "```\n",
    "* strides是卷积的步长\n",
    "* padding 是卷积的运算方式，一般SAME的话，**图像的大小在卷积之后是不会边的**\n",
    "\n",
    "```python \n",
    "\n",
    "def max_pool_2x2(x):\n",
    "    return tf.nn.max_pool(x, ksize=[1, 2, 2, 1],\n",
    "                          strides=[1, 2, 2, 1], padding='SAME')\n",
    "```\n",
    "* 池化层的作用是提取最大特征\n",
    "* 步长padding选2，相当于过滤特征，保留一半的原图像"
   ]
  }
 ],
 "metadata": {
  "kernelspec": {
   "display_name": "Python 3",
   "language": "python",
   "name": "python3"
  },
  "language_info": {
   "codemirror_mode": {
    "name": "ipython",
    "version": 3
   },
   "file_extension": ".py",
   "mimetype": "text/x-python",
   "name": "python",
   "nbconvert_exporter": "python",
   "pygments_lexer": "ipython3",
   "version": "3.7.1"
  }
 },
 "nbformat": 4,
 "nbformat_minor": 4
}
