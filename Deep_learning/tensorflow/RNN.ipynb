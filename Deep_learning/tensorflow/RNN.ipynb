{
 "cells": [
  {
   "cell_type": "markdown",
   "metadata": {},
   "source": [
    "# 循环神经网络\n",
    "### 循环神经网络前向传播\n"
   ]
  },
  {
   "cell_type": "code",
   "execution_count": 10,
   "metadata": {},
   "outputs": [
    {
     "name": "stdout",
     "output_type": "stream",
     "text": [
      "第 0 次 np.dot(init_state, W): [0.48 0.3 ]\n",
      "第 0 次 before_activation: [1.32 0.48]\n",
      "第 0 次 state: [0.86678393 0.44624361]\n",
      "第 1 次 np.dot(init_state, W): [0.48572731 0.48058665]\n",
      "第 1 次 before_activation: [0.76572731 0.59058665]\n",
      "第 1 次 state: [0.64443809 0.5303174 ]\n"
     ]
    }
   ],
   "source": [
    "import numpy as np\n",
    "\n",
    "# 定义相关参数，init_state是输入到t1的t0时刻输出的状态\n",
    "x = [0.8,0.1]\n",
    "init_state = [0.3, 0.6]\n",
    "W = np.asarray([[0.2, 0.4], [0.7, 0.3]])\n",
    "U = np.asarray([0.8, 0.1])\n",
    "b_h = np.asarray([0.2, 0.1])\n",
    "V = np.asarray([[0.5], [0.5]])\n",
    "b_o = 0.1\n",
    "\n",
    "#执行两轮循环，模拟前向传播过程\n",
    "for i in range(len(x)):\n",
    "\n",
    "    #numpy的dot()函数用于矩阵相乘，函数原型为dot(a, b, out)\n",
    "    before_activation = np.dot(init_state, W) + x[i] * U + b_h\n",
    "    print('第 %d 次' %(i) ,'np.dot(init_state, W):', np.dot(init_state, W))\n",
    "    print('第 %d 次' %(i) ,'before_activation:', before_activation)\n",
    "\n",
    "\n",
    "    #numpy也提供了tanh()函数实现双曲正切函数的计算\n",
    "    state = np.tanh(before_activation)\n",
    "    print('第 %d 次' %(i) ,'state:', state)\n",
    "    #本时刻的状态作为下一时刻的初始状态\n",
    "    init_state=state\n",
    "\n",
    "    #计算本时刻的输出\n",
    "    final_output = np.dot(state, V) + b_o\n",
    "\n",
    "    # 打印t1和t2时刻的状态和输出信息\n",
    "#     print(\"t%s state: %s\" %(i+1,state))\n",
    "#     print(\"t%s output: %s\\n\" %(i+1,final_output))\n"
   ]
  }
 ],
 "metadata": {
  "kernelspec": {
   "display_name": "Python 3",
   "language": "python",
   "name": "python3"
  },
  "language_info": {
   "codemirror_mode": {
    "name": "ipython",
    "version": 3
   },
   "file_extension": ".py",
   "mimetype": "text/x-python",
   "name": "python",
   "nbconvert_exporter": "python",
   "pygments_lexer": "ipython3",
   "version": "3.7.1"
  }
 },
 "nbformat": 4,
 "nbformat_minor": 2
}
