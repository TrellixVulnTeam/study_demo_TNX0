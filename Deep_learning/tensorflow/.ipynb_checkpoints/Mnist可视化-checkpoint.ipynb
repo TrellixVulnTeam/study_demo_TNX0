{
 "cells": [
  {
   "cell_type": "code",
   "execution_count": 1,
   "metadata": {},
   "outputs": [
    {
     "name": "stderr",
     "output_type": "stream",
     "text": [
      "WARNING: Logging before flag parsing goes to stderr.\n",
      "W1202 20:04:31.372316 140417935812416 deprecation.py:323] From <ipython-input-1-352b48c9f042>:9: read_data_sets (from tensorflow.contrib.learn.python.learn.datasets.mnist) is deprecated and will be removed in a future version.\n",
      "Instructions for updating:\n",
      "Please use alternatives such as official/mnist/dataset.py from tensorflow/models.\n",
      "W1202 20:04:31.375674 140417935812416 deprecation.py:323] From /home/liyuan3970/anaconda3/lib/python3.7/site-packages/tensorflow/contrib/learn/python/learn/datasets/mnist.py:260: maybe_download (from tensorflow.contrib.learn.python.learn.datasets.base) is deprecated and will be removed in a future version.\n",
      "Instructions for updating:\n",
      "Please write your own downloading logic.\n",
      "W1202 20:04:31.396880 140417935812416 deprecation.py:323] From /home/liyuan3970/anaconda3/lib/python3.7/site-packages/tensorflow/contrib/learn/python/learn/datasets/mnist.py:262: extract_images (from tensorflow.contrib.learn.python.learn.datasets.mnist) is deprecated and will be removed in a future version.\n",
      "Instructions for updating:\n",
      "Please use tf.data to implement this functionality.\n"
     ]
    },
    {
     "name": "stdout",
     "output_type": "stream",
     "text": [
      "Extracting MNIST_data/train-images-idx3-ubyte.gz\n"
     ]
    },
    {
     "name": "stderr",
     "output_type": "stream",
     "text": [
      "W1202 20:04:31.793635 140417935812416 deprecation.py:323] From /home/liyuan3970/anaconda3/lib/python3.7/site-packages/tensorflow/contrib/learn/python/learn/datasets/mnist.py:267: extract_labels (from tensorflow.contrib.learn.python.learn.datasets.mnist) is deprecated and will be removed in a future version.\n",
      "Instructions for updating:\n",
      "Please use tf.data to implement this functionality.\n",
      "W1202 20:04:31.817963 140417935812416 deprecation.py:323] From /home/liyuan3970/anaconda3/lib/python3.7/site-packages/tensorflow/contrib/learn/python/learn/datasets/mnist.py:110: dense_to_one_hot (from tensorflow.contrib.learn.python.learn.datasets.mnist) is deprecated and will be removed in a future version.\n",
      "Instructions for updating:\n",
      "Please use tf.one_hot on tensors.\n",
      "W1202 20:04:31.984725 140417935812416 deprecation.py:323] From /home/liyuan3970/anaconda3/lib/python3.7/site-packages/tensorflow/contrib/learn/python/learn/datasets/mnist.py:290: DataSet.__init__ (from tensorflow.contrib.learn.python.learn.datasets.mnist) is deprecated and will be removed in a future version.\n",
      "Instructions for updating:\n",
      "Please use alternatives such as official/mnist/dataset.py from tensorflow/models.\n"
     ]
    },
    {
     "name": "stdout",
     "output_type": "stream",
     "text": [
      "Extracting MNIST_data/train-labels-idx1-ubyte.gz\n",
      "Extracting MNIST_data/t10k-images-idx3-ubyte.gz\n",
      "Extracting MNIST_data/t10k-labels-idx1-ubyte.gz\n"
     ]
    },
    {
     "name": "stderr",
     "output_type": "stream",
     "text": [
      "W1202 20:04:32.650167 140417935812416 deprecation.py:323] From <ipython-input-1-352b48c9f042>:73: softmax_cross_entropy_with_logits (from tensorflow.python.ops.nn_ops) is deprecated and will be removed in a future version.\n",
      "Instructions for updating:\n",
      "\n",
      "Future major versions of TensorFlow will allow gradients to flow\n",
      "into the labels input on backprop by default.\n",
      "\n",
      "See `tf.nn.softmax_cross_entropy_with_logits_v2`.\n",
      "\n"
     ]
    },
    {
     "name": "stdout",
     "output_type": "stream",
     "text": [
      "Accuracy at step 0,accuracy is: 9.730000048875809%\n",
      "Adding run metadata for 50\n",
      "Accuracy at step 100,accuracy is: 91.7900025844574%\n",
      "Adding run metadata for 150\n",
      "Accuracy at step 200,accuracy is: 93.87999773025513%\n",
      "Adding run metadata for 250\n",
      "Accuracy at step 300,accuracy is: 94.42999958992004%\n",
      "Adding run metadata for 350\n",
      "Accuracy at step 400,accuracy is: 95.45000195503235%\n",
      "Adding run metadata for 450\n",
      "Accuracy at step 500,accuracy is: 95.8899974822998%\n"
     ]
    },
    {
     "name": "stderr",
     "output_type": "stream",
     "text": [
      "W1202 20:04:51.123130 140417935812416 deprecation.py:323] From /home/liyuan3970/anaconda3/lib/python3.7/site-packages/tensorflow/python/training/saver.py:960: remove_checkpoint (from tensorflow.python.training.checkpoint_management) is deprecated and will be removed in a future version.\n",
      "Instructions for updating:\n",
      "Use standard file APIs to delete files with this prefix.\n"
     ]
    },
    {
     "name": "stdout",
     "output_type": "stream",
     "text": [
      "Adding run metadata for 550\n",
      "Accuracy at step 600,accuracy is: 95.92000246047974%\n",
      "Adding run metadata for 650\n",
      "Accuracy at step 700,accuracy is: 96.35999798774719%\n",
      "Adding run metadata for 750\n",
      "Accuracy at step 800,accuracy is: 96.63000106811523%\n",
      "Adding run metadata for 850\n",
      "Accuracy at step 900,accuracy is: 96.64000272750854%\n",
      "Adding run metadata for 950\n"
     ]
    }
   ],
   "source": [
    "import tensorflow as tf\n",
    "from tensorflow.examples.tutorials.mnist import input_data\n",
    "\n",
    "max_steps = 1000\n",
    "learning_rate = 0.001\n",
    "batch_size = 100\n",
    "data_dir = \"MNIST_data\"\n",
    "log_dir = \"log_view\"\n",
    "mnist = input_data.read_data_sets(data_dir, one_hot=True)\n",
    "\n",
    "\n",
    "def variable_summaries(var):\n",
    "    with tf.name_scope(\"summaries\"):\n",
    "        # 求解函数传递进来的var参数的平均值，并使用scaler()函数进行汇总\n",
    "        # 函数scalar()原型为scalar(name,tensor,collections)\n",
    "        # 其中参数name是展示在ＴensorBoard上的标签，tensor就是要汇总的数据\n",
    "        mean = tf.reduce_mean(var)\n",
    "        tf.summary.scalar(\"mean\", mean)\n",
    "\n",
    "        # 汇总var数据的方差值,并将标签设为stddev\n",
    "        stddev = tf.sqrt(tf.reduce_mean(tf.square(var - mean)))\n",
    "        tf.summary.scalar(\"stddev\", stddev)\n",
    "\n",
    "        # 汇总var数据的最大值\n",
    "        tf.summary.scalar(\"max\", tf.reduce_max(var))\n",
    "\n",
    "        # 汇总var数据的最小值\n",
    "        tf.summary.scalar(\"min\", tf.reduce_min(var))\n",
    "\n",
    "        # 使用histogram()将var数据汇总为直方图的形式\n",
    "        # 函数原型histogram(name,values,collections)\n",
    "        # 其中参数name是展示在ＴensorBoard上的标签，tensor就是要汇总的数据\n",
    "        tf.summary.histogram(\"histogram\", var)\n",
    "\n",
    "\n",
    "def create_layer(input_tensor, input_num, output_num, layer_name, act=tf.nn.relu):\n",
    "    with tf.name_scope(layer_name):\n",
    "        with tf.name_scope(\"weights\"):\n",
    "            # 创建权重参数，并调用variable_summaries()方法统计权重参数的最大、最小\n",
    "            # 均值、方差等信息\n",
    "            weights = tf.Variable(tf.truncated_normal([input_num, output_num], stddev=0.1))\n",
    "            variable_summaries(weights)\n",
    "\n",
    "        with tf.name_scope(\"biases\"):\n",
    "            # 创建偏偏置参数，并调用variable_summaries()方法统计偏置参数的最大、最小\n",
    "            # 均值、方差等信息\n",
    "            biases = tf.Variable(tf.constant(0.1, shape=[output_num]))\n",
    "            variable_summaries(biases)\n",
    "\n",
    "        with tf.name_scope(\"Wx_add_b\"):\n",
    "            # 计算没有加入激活的线性变换的结果，并通过histogram()函数汇总为直方图数据\n",
    "            pre_activate = tf.matmul(input_tensor, weights) + biases\n",
    "            tf.summary.histogram(\"pre_activations\", pre_activate)\n",
    "\n",
    "        # 计算激活后的线性变换的结果，并通过histogram()函数汇总为直方图数据\n",
    "        activations = act(pre_activate, name=\"activation\")\n",
    "        tf.summary.histogram(\"activations\", activations)\n",
    "\n",
    "        return activations\n",
    "\n",
    "x = tf.placeholder(tf.float32, [None, 784], name=\"x-input\")\n",
    "y_ = tf.placeholder(tf.float32, [None, 10], name=\"y-input\")\n",
    "\n",
    "hidden_1 = create_layer(x, 784, 500, \"layer_1\")\n",
    "y = create_layer(hidden_1, 500, 10, \"layer_y\", act=tf.identity)\n",
    "\n",
    "with tf.name_scope(\"input_reshape\"):\n",
    "    image_shaped_input = tf.reshape(x, [-1, 28, 28, 1])\n",
    "    tf.summary.image(\"input\", image_shaped_input, 10)\n",
    "\n",
    "# 计算交叉熵损失并汇总为标量数据\n",
    "with tf.name_scope(\"cross_entropy\"):\n",
    "    cross = tf.nn.softmax_cross_entropy_with_logits(logits=y, labels=y_)\n",
    "    cross_entropy = tf.reduce_mean(cross)\n",
    "    tf.summary.scalar(\"cross_entropy_scalar\", cross_entropy)\n",
    "\n",
    "with tf.name_scope(\"train\"):\n",
    "    train_step = tf.train.AdamOptimizer(learning_rate).minimize(cross_entropy)\n",
    "\n",
    "#计算预测精度并汇总为标量数据\n",
    "with tf.name_scope(\"accuracy\"):\n",
    "    correct_prediction = tf.equal(tf.argmax(y, 1), tf.argmax(y_, 1))\n",
    "    accuracy = tf.reduce_mean(tf.cast(correct_prediction, tf.float32))\n",
    "    tf.summary.scalar(\"accuracy_scalar\", accuracy)\n",
    "\n",
    "# 使用merge_all()函数直接获取所有汇总操作\n",
    "merged = tf.summary.merge_all()\n",
    "\n",
    "saver=tf.train.Saver()\n",
    "with tf.Session() as sess:\n",
    "    tf.global_variables_initializer().run()\n",
    "\n",
    "    # 训练过程，测试过程\n",
    "    train_writer = tf.summary.FileWriter(log_dir + \"/train\", sess.graph)\n",
    "    test_writer = tf.summary.FileWriter(log_dir + \"/test\")\n",
    "\n",
    "    # 测试过程的feed数据\n",
    "    test_feed = {x: mnist.test.images, y_: mnist.test.labels}\n",
    "\n",
    "    for i in range(max_steps):\n",
    "\n",
    "        # 运行测试过程并输出日志文件到log下的test目录下\n",
    "        if i % 100 == 0:  # Record summaries and test-set accuracy\n",
    "            summary, acc = sess.run([merged, accuracy], feed_dict=test_feed)\n",
    "            test_writer.add_summary(summary, i)\n",
    "            print(\"Accuracy at step %s,accuracy is: %s%%\" % (i, acc * 100))\n",
    "\n",
    "        # 产生训练数据，运行训练过程\n",
    "        else:\n",
    "            x_train, y_train = mnist.train.next_batch(batch_size=batch_size)\n",
    "            if i % 100 == 50:  # Record execution stats\n",
    "                run_options = tf.RunOptions(trace_level=tf.RunOptions.FULL_TRACE)\n",
    "                run_metadata = tf.RunMetadata()\n",
    "                summary, _ = sess.run([merged, train_step], feed_dict={x: x_train, y_: y_train},\n",
    "                                      options=run_options, run_metadata=run_metadata)\n",
    "                train_writer.add_run_metadata(run_metadata, \"step%03d\" % i)\n",
    "                train_writer.add_summary(summary, i)\n",
    "\n",
    "                #注意，这里保存模型不是为了后期使用，而是为了可视化降维后的嵌入向量\n",
    "                saver.save(sess, log_dir+\"/model.ckpt\",i)\n",
    "\n",
    "                print(\"Adding run metadata for\", i)\n",
    "            else:\n",
    "\n",
    "                summary, _ = sess.run([merged, train_step], feed_dict={x: x_train, y_: y_train})\n",
    "                train_writer.add_summary(summary, i)\n",
    "\n",
    "    # 关闭ＦileWriter\n",
    "    train_writer.close()\n",
    "    test_writer.close()\n"
   ]
  },
  {
   "cell_type": "markdown",
   "metadata": {},
   "source": [
    "## 可视化的方法"
   ]
  },
  {
   "cell_type": "code",
   "execution_count": null,
   "metadata": {},
   "outputs": [],
   "source": [
    "tensorboard --logdir=log_view/train"
   ]
  }
 ],
 "metadata": {
  "kernelspec": {
   "display_name": "Python 3",
   "language": "python",
   "name": "python3"
  },
  "language_info": {
   "codemirror_mode": {
    "name": "ipython",
    "version": 3
   },
   "file_extension": ".py",
   "mimetype": "text/x-python",
   "name": "python",
   "nbconvert_exporter": "python",
   "pygments_lexer": "ipython3",
   "version": "3.7.1"
  }
 },
 "nbformat": 4,
 "nbformat_minor": 2
}
