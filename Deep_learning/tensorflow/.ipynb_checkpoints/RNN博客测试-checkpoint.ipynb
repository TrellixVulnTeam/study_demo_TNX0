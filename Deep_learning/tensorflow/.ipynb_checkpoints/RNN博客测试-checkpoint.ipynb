{
 "cells": [
  {
   "cell_type": "markdown",
   "metadata": {},
   "source": [
    "## 博客测试"
   ]
  },
  {
   "cell_type": "code",
   "execution_count": 6,
   "metadata": {},
   "outputs": [
    {
     "data": {
      "image/png": "[encoded data removed]",
      "text/plain": [
       "<Figure size 432x288 with 1 Axes>"
      ]
     },
     "metadata": {
      "needs_background": "light"
     },
     "output_type": "display_data"
    }
   ],
   "source": [
    "# coding: utf-8\n",
    "\n",
    "from __future__ import print_function\n",
    "\n",
    "import numpy as np\n",
    "%matplotlib inline\n",
    "import matplotlib\n",
    "\n",
    "#matplotlib.use('agg')\n",
    "\n",
    "import matplotlib.pyplot as plt\n",
    "\n",
    "import tensorflow as tf\n",
    "\n",
    "from tensorflow.contrib.timeseries.python.timeseries import NumpyReader\n",
    "\n",
    "\n",
    "x = np.array(range(1000))\n",
    "\n",
    "noise = np.random.uniform(-0.2, 0.2, 1000)\n",
    "\n",
    "y = np.sin(np.pi * x / 100) + x / 200. + noise\n",
    "\n",
    "plt.plot(x, y)\n",
    "\n",
    "plt.show()\n"
   ]
  },
  {
   "cell_type": "code",
   "execution_count": 7,
   "metadata": {},
   "outputs": [],
   "source": [
    "data = {\n",
    "\n",
    "   tf.contrib.timeseries.TrainEvalFeatures.TIMES: x,\n",
    "\n",
    "   tf.contrib.timeseries.TrainEvalFeatures.VALUES: y,\n",
    "\n",
    "}\n",
    "\n",
    "\n",
    "reader = NumpyReader(data)"
   ]
  },
  {
   "cell_type": "code",
   "execution_count": 9,
   "metadata": {},
   "outputs": [],
   "source": [
    "with tf.Session() as sess:\n",
    "\n",
    "    full_data = reader.read_full()\n",
    "\n",
    "    # 调用read_full方法会生成读取队列\n",
    "\n",
    "    # 要用tf.train.start_queue_runners启动队列才能正常进行读取\n",
    "\n",
    "    coord = tf.train.Coordinator()\n",
    "\n",
    "    threads = tf.train.start_queue_runners(sess=sess, coord=coord)\n",
    "\n",
    "    #print(sess.run(full_data))\n",
    "\n",
    "    coord.request_stop()\n"
   ]
  },
  {
   "cell_type": "code",
   "execution_count": 10,
   "metadata": {},
   "outputs": [],
   "source": [
    "    train_input_fn = tf.contrib.timeseries.RandomWindowInputFn(\n",
    "\n",
    "       reader, batch_size=2, window_size=10)"
   ]
  },
  {
   "cell_type": "code",
   "execution_count": null,
   "metadata": {},
   "outputs": [],
   "source": [
    "x = np.array(range(1000))\n",
    "\n",
    "noise = np.random.uniform(-0.2, 0.2, 1000)\n",
    "\n",
    "y = np.sin(np.pi * x / 50 ) + np.cos(np.pi * x / 50) + np.sin(np.pi * x / 25) + noise\n",
    "\n",
    "\n",
    "data = {\n",
    "\n",
    "   tf.contrib.timeseries.TrainEvalFeatures.TIMES: x,\n",
    "\n",
    "   tf.contrib.timeseries.TrainEvalFeatures.VALUES: y,\n",
    "\n",
    "}\n",
    "\n",
    "\n",
    "reader = NumpyReader(data)\n",
    "\n",
    "\n",
    "train_input_fn = tf.contrib.timeseries.RandomWindowInputFn(\n",
    "\n",
    "   reader, batch_size=4, window_size=100)\n"
   ]
  }
 ],
 "metadata": {
  "kernelspec": {
   "display_name": "Python 3",
   "language": "python",
   "name": "python3"
  },
  "language_info": {
   "codemirror_mode": {
    "name": "ipython",
    "version": 3
   },
   "file_extension": ".py",
   "mimetype": "text/x-python",
   "name": "python",
   "nbconvert_exporter": "python",
   "pygments_lexer": "ipython3",
   "version": "3.7.1"
  }
 },
 "nbformat": 4,
 "nbformat_minor": 2
}
