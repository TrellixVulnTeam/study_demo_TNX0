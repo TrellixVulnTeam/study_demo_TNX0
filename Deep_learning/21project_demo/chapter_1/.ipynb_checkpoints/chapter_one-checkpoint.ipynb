{
 "cells": [
  {
   "cell_type": "markdown",
   "metadata": {},
   "source": [
    "# SoftMax回归"
   ]
  },
  {
   "cell_type": "code",
   "execution_count": null,
   "metadata": {},
   "outputs": [],
   "source": [
    "# coding:utf-8\n",
    "# 导入tensorflow。\n",
    "# 这句import tensorflow as tf是导入TensorFlow约定俗成的做法，请大家记住。\n",
    "import tensorflow as tf\n",
    "# 导入MNIST教学的模块\n",
    "from tensorflow.examples.tutorials.mnist import input_data\n",
    "# 与之前一样，读入MNIST数据\n",
    "mnist = input_data.read_data_sets(\"MNIST_data/\", one_hot=True)\n",
    "\n",
    "# 创建x，x是一个占位符（placeholder），代表待识别的图片\n",
    "x = tf.placeholder(tf.float32, [None, 784])\n",
    "\n",
    "# W是Softmax模型的参数，将一个784维的输入转换为一个10维的输出\n",
    "# 在TensorFlow中，变量的参数用tf.Variable表示\n",
    "W = tf.Variable(tf.zeros([784, 10]))\n",
    "# b是又一个Softmax模型的参数，我们一般叫做“偏置项”（bias）。\n",
    "b = tf.Variable(tf.zeros([10]))\n",
    "\n",
    "# y=softmax(Wx + b)，y表示模型的输出\n",
    "y = tf.nn.softmax(tf.matmul(x, W) + b)\n",
    "\n",
    "# y_是实际的图像标签，同样以占位符表示。\n",
    "y_ = tf.placeholder(tf.float32, [None, 10])\n",
    "\n",
    "# 至此，我们得到了两个重要的Tensor：y和y_。\n",
    "# y是模型的输出，y_是实际的图像标签，不要忘了y_是独热表示的\n",
    "# 下面我们就会根据y和y_构造损失\n",
    "\n",
    "# 根据y, y_构造交叉熵损失\n",
    "cross_entropy = tf.reduce_mean(-tf.reduce_sum(y_ * tf.log(y)))\n",
    "\n",
    "# 有了损失，我们就可以用随机梯度下降针对模型的参数（W和b）进行优化\n",
    "train_step = tf.train.GradientDescentOptimizer(0.01).minimize(cross_entropy)\n",
    "\n",
    "# 创建一个Session。只有在Session中才能运行优化步骤train_step。\n",
    "sess = tf.InteractiveSession()\n",
    "# 运行之前必须要初始化所有变量，分配内存。\n",
    "tf.global_variables_initializer().run()\n",
    "print('start training...')\n",
    "\n",
    "# 进行1000步梯度下降\n",
    "for _ in range(1000):\n",
    "    # 在mnist.train中取100个训练数据\n",
    "    # batch_xs是形状为(100, 784)的图像数据，batch_ys是形如(100, 10)的实际标签\n",
    "    # batch_xs, batch_ys对应着两个占位符x和y_\n",
    "    batch_xs, batch_ys = mnist.train.next_batch(100)\n",
    "    # 在Session中运行train_step，运行时要传入占位符的值\n",
    "    sess.run(train_step, feed_dict={x: batch_xs, y_: batch_ys})\n",
    "\n",
    "# 正确的预测结果\n",
    "correct_prediction = tf.equal(tf.argmax(y, 1), tf.argmax(y_, 1))\n",
    "# 计算预测准确率，它们都是Tensor\n",
    "accuracy = tf.reduce_mean(tf.cast(correct_prediction, tf.float32))\n",
    "# 在Session中运行Tensor可以得到Tensor的值\n",
    "# 这里是获取最终模型的正确率\n",
    "print(sess.run(accuracy, feed_dict={x: mnist.test.images, y_: mnist.test.labels}))  # 0.9185\n"
   ]
  }
 ],
 "metadata": {
  "kernelspec": {
   "display_name": "Python 3",
   "language": "python",
   "name": "python3"
  },
  "language_info": {
   "codemirror_mode": {
    "name": "ipython",
    "version": 3
   },
   "file_extension": ".py",
   "mimetype": "text/x-python",
   "name": "python",
   "nbconvert_exporter": "python",
   "pygments_lexer": "ipython3",
   "version": "3.7.1"
  }
 },
 "nbformat": 4,
 "nbformat_minor": 2
}
