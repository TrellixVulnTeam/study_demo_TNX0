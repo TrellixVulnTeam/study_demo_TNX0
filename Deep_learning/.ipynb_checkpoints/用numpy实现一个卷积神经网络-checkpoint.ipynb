{
 "cells": [
  {
   "cell_type": "markdown",
   "metadata": {},
   "source": [
    "## 仅使用numpy构建卷积神经网络"
   ]
  },
  {
   "cell_type": "markdown",
   "metadata": {},
   "source": [
    " 目前网络上存在很多编译好的机器学习、深度学习工具箱，在某些情况下，直接调用已经搭好的模型可能是非常方便且有效的，比如Caffe、TensorFlow工具箱，但这些工具箱需要的硬件资源比较多，不利于初学者实践和理解。因此，为了更好的理解并掌握相关知识，最好是能够自己编程实践下。本文将展示如何使用NumPy来构建卷积神经网络（Convolutional Neural Network , CNN）。\n",
    "       CNN是较早提出的一种神经网络，直到近年来才变得火热，可以说是计算机视觉领域中应用最多的网络。一些工具箱中已经很好地实现CNN模型，相关的库函数已经完全编译好，开发人员只需调用现有的模块即可完成模型的搭建，避免了实现的复杂性。但实际上，这样会使得开发人员不知道其中具体的实现细节。有些时候，数据科学家必须通过一些细节来提升模型的性能，但这些细节是工具箱不具备的。在这种情况下，唯一的解决方案就是自己编程实现一个类似的模型，这样你对实现的模型会有最高级别的控制权，同时也能更好地理解模型每步的处理过程。"
   ]
  },
  {
   "cell_type": "markdown",
   "metadata": {},
   "source": [
    "## 准备工作"
   ]
  },
  {
   "cell_type": "code",
   "execution_count": 9,
   "metadata": {},
   "outputs": [],
   "source": [
    "import numpy\n",
    "import sys\n",
    "\n",
    "\"\"\"\n",
    "Convolutional neural network implementation using NumPy.\n",
    "An article describing this project is titled \"Building Convolutional Neural Network using NumPy from Scratch\". It is available in these links: https://www.linkedin.com/pulse/building-convolutional-neural-network-using-numpy-from-ahmed-gad/\n",
    "https://www.kdnuggets.com/2018/04/building-convolutional-neural-network-numpy-scratch.html\n",
    "It is also translated into Chinese: http://m.aliyun.com/yunqi/articles/585741\n",
    "\n",
    "The project is tested using Python 3.5.2 installed inside Anaconda 4.2.0 (64-bit)\n",
    "NumPy version used is 1.14.0\n",
    "\n",
    "For more info., contact me:\n",
    "    Ahmed Fawzy Gad\n",
    "    KDnuggets: https://www.kdnuggets.com/author/ahmed-gad\n",
    "    LinkedIn: https://www.linkedin.com/in/ahmedfgad\n",
    "    Facebook: https://www.facebook.com/ahmed.f.gadd\n",
    "    ahmed.f.gad@gmail.com\n",
    "    ahmed.fawzy@ci.menofia.edu.eg\n",
    "\"\"\"\n",
    "\n",
    "def conv_(img, conv_filter):\n",
    "    filter_size = conv_filter.shape[1]\n",
    "    result = numpy.zeros((img.shape))\n",
    "    #Looping through the image to apply the convolution operation.\n",
    "    for r in numpy.uint16(numpy.arange(filter_size/2.0, \n",
    "                          img.shape[0]-filter_size/2.0+1)):\n",
    "        for c in numpy.uint16(numpy.arange(filter_size/2.0, \n",
    "                                           img.shape[1]-filter_size/2.0+1)):\n",
    "            \"\"\"\n",
    "            Getting the current region to get multiplied with the filter.\n",
    "            How to loop through the image and get the region based on \n",
    "            the image and filer sizes is the most tricky part of convolution.\n",
    "            \"\"\"\n",
    "            curr_region = img[r-numpy.uint16(numpy.floor(filter_size/2.0)):r+numpy.uint16(numpy.ceil(filter_size/2.0)), \n",
    "                              c-numpy.uint16(numpy.floor(filter_size/2.0)):c+numpy.uint16(numpy.ceil(filter_size/2.0))]\n",
    "            #Element-wise multipliplication between the current region and the filter.\n",
    "            curr_result = curr_region * conv_filter\n",
    "            conv_sum = numpy.sum(curr_result) #Summing the result of multiplication.\n",
    "            result[r, c] = conv_sum #Saving the summation in the convolution layer feature map.\n",
    "            \n",
    "    #Clipping the outliers of the result matrix.\n",
    "    final_result = result[numpy.uint16(filter_size/2.0):result.shape[0]-numpy.uint16(filter_size/2.0), \n",
    "                          numpy.uint16(filter_size/2.0):result.shape[1]-numpy.uint16(filter_size/2.0)]\n",
    "    return final_result\n",
    "def conv(img, conv_filter):\n",
    "\n",
    "    if len(img.shape) != len(conv_filter.shape) - 1: # Check whether number of dimensions is the same\n",
    "        print(\"Error: Number of dimensions in conv filter and image do not match.\")  \n",
    "        exit()\n",
    "    if len(img.shape) > 2 or len(conv_filter.shape) > 3: # Check if number of image channels matches the filter depth.\n",
    "        if img.shape[-1] != conv_filter.shape[-1]:\n",
    "            print(\"Error: Number of channels in both image and filter must match.\")\n",
    "            sys.exit()\n",
    "    if conv_filter.shape[1] != conv_filter.shape[2]: # Check if filter dimensions are equal.\n",
    "        print('Error: Filter must be a square matrix. I.e. number of rows and columns must match.')\n",
    "        sys.exit()\n",
    "    if conv_filter.shape[1]%2==0: # Check if filter diemnsions are odd.\n",
    "        print('Error: Filter must have an odd size. I.e. number of rows and columns must be odd.')\n",
    "        sys.exit()\n",
    "\n",
    "    # An empty feature map to hold the output of convolving the filter(s) with the image.\n",
    "    feature_maps = numpy.zeros((img.shape[0]-conv_filter.shape[1]+1, \n",
    "                                img.shape[1]-conv_filter.shape[1]+1, \n",
    "                                conv_filter.shape[0]))\n",
    "\n",
    "    # Convolving the image by the filter(s).\n",
    "    for filter_num in range(conv_filter.shape[0]):\n",
    "        print(\"Filter \", filter_num + 1)\n",
    "        curr_filter = conv_filter[filter_num, :] # getting a filter from the bank.\n",
    "        \"\"\" \n",
    "        Checking if there are mutliple channels for the single filter.\n",
    "        If so, then each channel will convolve the image.\n",
    "        The result of all convolutions are summed to return a single feature map.\n",
    "        \"\"\"\n",
    "        if len(curr_filter.shape) > 2:\n",
    "            conv_map = conv_(img[:, :, 0], curr_filter[:, :, 0]) # Array holding the sum of all feature maps.\n",
    "            for ch_num in range(1, curr_filter.shape[-1]): # Convolving each channel with the image and summing the results.\n",
    "                conv_map = conv_map + conv_(img[:, :, ch_num], \n",
    "                                  curr_filter[:, :, ch_num])\n",
    "        else: # There is just a single channel in the filter.\n",
    "            conv_map = conv_(img, curr_filter)\n",
    "        feature_maps[:, :, filter_num] = conv_map # Holding feature map with the current filter.\n",
    "    return feature_maps # Returning all feature maps.\n",
    "    \n",
    "\n",
    "def pooling(feature_map, size=2, stride=2):\n",
    "    #Preparing the output of the pooling operation.\n",
    "    pool_out = numpy.zeros((numpy.uint16((feature_map.shape[0]-size+1)/stride+1),\n",
    "                            numpy.uint16((feature_map.shape[1]-size+1)/stride+1),\n",
    "                            feature_map.shape[-1]))\n",
    "    for map_num in range(feature_map.shape[-1]):\n",
    "        r2 = 0\n",
    "        for r in numpy.arange(0,feature_map.shape[0]-size+1, stride):\n",
    "            c2 = 0\n",
    "            for c in numpy.arange(0, feature_map.shape[1]-size+1, stride):\n",
    "                pool_out[r2, c2, map_num] = numpy.max([feature_map[r:r+size,  c:c+size, map_num]])\n",
    "                c2 = c2 + 1\n",
    "            r2 = r2 +1\n",
    "    return pool_out\n",
    "\n",
    "def relu(feature_map):\n",
    "    #Preparing the output of the ReLU activation function.\n",
    "    relu_out = numpy.zeros(feature_map.shape)\n",
    "    for map_num in range(feature_map.shape[-1]):\n",
    "        for r in numpy.arange(0,feature_map.shape[0]):\n",
    "            for c in numpy.arange(0, feature_map.shape[1]):\n",
    "                relu_out[r, c, map_num] = numpy.max([feature_map[r, c, map_num], 0])\n",
    "    return relu_out\n"
   ]
  },
  {
   "cell_type": "markdown",
   "metadata": {},
   "source": [
    "## 1.读入数据"
   ]
  },
  {
   "cell_type": "code",
   "execution_count": 10,
   "metadata": {},
   "outputs": [],
   "source": [
    "import numpy\n",
    "import skimage.data  \n",
    "# Reading the image  \n",
    "img = skimage.data.chelsea()  \n",
    " # Converting the image into gray.  \n",
    "img = skimage.color.rgb2gray(img)\n"
   ]
  },
  {
   "cell_type": "markdown",
   "metadata": {},
   "source": [
    "## 2.准备录入数据\n",
    "以下代码为第一个卷积层Conv准备滤波器组（Layer 1，缩写为l1，下同）：\n"
   ]
  },
  {
   "cell_type": "code",
   "execution_count": 11,
   "metadata": {},
   "outputs": [],
   "source": [
    "l1_filter = numpy.zeros((2,3,3))"
   ]
  },
  {
   "cell_type": "markdown",
   "metadata": {},
   "source": [
    " 根据滤波器的数目和每个滤波器的大小来创建零数组。上述代码创建了2个3x3大小的滤波器，（2,3,3）中的元素数字分别表示2：滤波器的数目（num_filters）、3：表示滤波器的列数、3：表示滤波器的行数。由于输入图像是灰度图，读取后变成2维图像矩阵，因此滤波器的尺寸选择为2维阵列，舍去了深度。如果图像是彩色图（具有3个通道，分别为RGB），则滤波器的大小必须为（3,3,3），最后一个3表示深度，上述代码也要更改，变成（2,3,3,3）。\n",
    "       滤波器组的大小由自己指定，但没有给定滤波器中具体的数值，一般采用随机初始化。下列一组值可以用来检查垂直和水平边缘：\n"
   ]
  },
  {
   "cell_type": "code",
   "execution_count": 12,
   "metadata": {},
   "outputs": [],
   "source": [
    "l1_filter = numpy.zeros((2,3,3))\n",
    "l1_filter[0, :, :] = numpy.array([[[-1, 0, 1], \n",
    "                                   [-1, 0, 1], \n",
    "                                   [-1, 0, 1]]])\n",
    "l1_filter[1, :, :] = numpy.array([[[1,   1,  1], \n",
    "                                   [0,   0,  0], \n",
    "                                   [-1, -1, -1]]])"
   ]
  },
  {
   "cell_type": "markdown",
   "metadata": {},
   "source": [
    "## 3.卷积层\n",
    " 构建好滤波器后，接下来就是与输入图像进行卷积操作。下面代码使用conv函数将输入图像与滤波器组进行卷积："
   ]
  },
  {
   "cell_type": "code",
   "execution_count": 13,
   "metadata": {},
   "outputs": [
    {
     "name": "stdout",
     "output_type": "stream",
     "text": [
      "Filter  1\n",
      "Filter  2\n"
     ]
    }
   ],
   "source": [
    "print(\"\\n**Working with conv layer 1**\")\n",
    "l1_feature_map = conv(img, l1_filter) "
   ]
  },
  {
   "cell_type": "markdown",
   "metadata": {},
   "source": [
    "conv函数只接受两个参数，分别为输入图像、滤波器组："
   ]
  },
  {
   "cell_type": "code",
   "execution_count": null,
   "metadata": {},
   "outputs": [],
   "source": [
    "1.  def conv(img, conv_filter):  \n",
    "2.      if len(img.shape) > 2 or len(conv_filter.shape) > 3: # Check if number of image channels matches the filter depth.  \n",
    "3.          if img.shape[-1] != conv_filter.shape[-1]:  \n",
    "4.              print(\"Error: Number of channels in both image and filter must match.\")  \n",
    "5.              sys.exit()  \n",
    "6.      if conv_filter.shape[1] != conv_filter.shape[2]: # Check if filter dimensions are equal.  \n",
    "7.          print('Error: Filter must be a square matrix. I.e. number of rows and columns must match.')  \n",
    "8.          sys.exit()  \n",
    "9.      if conv_filter.shape[1]%2==0: # Check if filter diemnsions are odd.  \n",
    "10.         print('Error: Filter must have an odd size. I.e. number of rows and columns must be odd.')  \n",
    "11.         sys.exit()  \n",
    "12.   \n",
    "13.     # An empty feature map to hold the output of convolving the filter(s) with the image.  \n",
    "14.     feature_maps = numpy.zeros((img.shape[0]-conv_filter.shape[1]+1,   \n",
    "15.                                 img.shape[1]-conv_filter.shape[1]+1,   \n",
    "16.                                 conv_filter.shape[0]))  \n",
    "17.   \n",
    "18.     # Convolving the image by the filter(s).  \n",
    "19.     for filter_num in range(conv_filter.shape[0]):  \n",
    "20.         print(\"Filter \", filter_num + 1)  \n",
    "21.         curr_filter = conv_filter[filter_num, :] # getting a filter from the bank.  \n",
    "22.         \"\"\"  \n",
    "23.         Checking if there are mutliple channels for the single filter. \n",
    "24.         If so, then each channel will convolve the image. \n",
    "25.         The result of all convolutions are summed to return a single feature map. \n",
    "26.         \"\"\"  \n",
    "27.         if len(curr_filter.shape) > 2:  \n",
    "28.             conv_map = conv_(img[:, :, 0], curr_filter[:, :, 0]) # Array holding the sum of all feature maps.  \n",
    "29.             for ch_num in range(1, curr_filter.shape[-1]): # Convolving each channel with the image and summing the results.  \n",
    "30.                 conv_map = conv_map + conv_(img[:, :, ch_num],   \n",
    "31.                                   curr_filter[:, :, ch_num])  \n",
    "32.         else: # There is just a single channel in the filter.  \n",
    "33.             conv_map = conv_(img, curr_filter)  \n",
    "34.         feature_maps[:, :, filter_num] = conv_map # Holding feature map with the current filter.\n",
    "35.      return feature_maps # Returning all feature maps. "
   ]
  }
 ],
 "metadata": {
  "kernelspec": {
   "display_name": "Python 3",
   "language": "python",
   "name": "python3"
  },
  "language_info": {
   "codemirror_mode": {
    "name": "ipython",
    "version": 3
   },
   "file_extension": ".py",
   "mimetype": "text/x-python",
   "name": "python",
   "nbconvert_exporter": "python",
   "pygments_lexer": "ipython3",
   "version": "3.7.1"
  }
 },
 "nbformat": 4,
 "nbformat_minor": 2
}
