{
 "cells": [
  {
   "cell_type": "markdown",
   "metadata": {},
   "source": [
    "# Python 连接SQLServer 数据库"
   ]
  },
  {
   "cell_type": "code",
   "execution_count": 8,
   "metadata": {},
   "outputs": [
    {
     "name": "stdout",
     "output_type": "stream",
     "text": [
      "[(1, 'banana', 150), (2, 'orange', 154)]\n",
      "(2, 3)\n"
     ]
    }
   ],
   "source": [
    "import pymssql \n",
    "import pandas as pd\n",
    "server = \"localhost\"    # 连接服务器地址\n",
    "user = \"SA\"# 连接帐号\n",
    "password = \"Liyuan3970\"# 连接密码\n",
    "\n",
    "conn = pymssql.connect(server, user, password, \"TestDB\")  #获取连接\n",
    "\n",
    "cursor = conn.cursor() # 获取光标\n",
    "cursor.execute('USE TestDB' )\n",
    "cursor.execute('select * from Inventory ' )\n",
    "#cursor.execute('go ' )\n",
    "row = cursor.fetchall()\n",
    "print(row)\n",
    "print(pd.DataFrame(list(row)).shape)\n",
    "#connect.commit()  # 提交\n",
    "cursor.close()  # 关闭游标\n",
    "conn.close()  # 关闭连接"
   ]
  },
  {
   "cell_type": "code",
   "execution_count": null,
   "metadata": {},
   "outputs": [],
   "source": []
  }
 ],
 "metadata": {
  "kernelspec": {
   "display_name": "Python 3",
   "language": "python",
   "name": "python3"
  },
  "language_info": {
   "codemirror_mode": {
    "name": "ipython",
    "version": 3
   },
   "file_extension": ".py",
   "mimetype": "text/x-python",
   "name": "python",
   "nbconvert_exporter": "python",
   "pygments_lexer": "ipython3",
   "version": "3.7.1"
  }
 },
 "nbformat": 4,
 "nbformat_minor": 2
}
