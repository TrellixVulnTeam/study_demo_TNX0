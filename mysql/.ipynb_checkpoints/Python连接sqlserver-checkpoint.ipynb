{
 "cells": [
  {
   "cell_type": "markdown",
   "metadata": {},
   "source": [
    "# Python 连接SQLServer 数据库"
   ]
  },
  {
   "cell_type": "code",
   "execution_count": 8,
   "metadata": {},
   "outputs": [
    {
     "name": "stdout",
     "output_type": "stream",
     "text": [
      "[(1, 'banana', 150), (2, 'orange', 154)]\n",
      "(2, 3)\n"
     ]
    }
   ],
   "source": [
    "import pymssql \n",
    "import pandas as pd\n",
    "server = \"localhost\"    # 连接服务器地址\n",
    "user = \"SA\"# 连接帐号\n",
    "password = \"Liyuan3970\"# 连接密码\n",
    "\n",
    "conn = pymssql.connect(server, user, password, \"TestDB\")  #获取连接\n",
    "\n",
    "cursor = conn.cursor() # 获取光标\n",
    "cursor.execute('USE TestDB' )\n",
    "cursor.execute('select * from Inventory ' )\n",
    "#cursor.execute('go ' )\n",
    "row = cursor.fetchall()\n",
    "print(row)\n",
    "print(pd.DataFrame(list(row)).shape)\n",
    "#connect.commit()  # 提交\n",
    "cursor.close()  # 关闭游标\n",
    "conn.close()  # 关闭连接"
   ]
  },
  {
   "cell_type": "markdown",
   "metadata": {},
   "source": [
    "# 连接"
   ]
  },
  {
   "cell_type": "code",
   "execution_count": 9,
   "metadata": {},
   "outputs": [
    {
     "name": "stdout",
     "output_type": "stream",
     "text": [
      "[('58559', 58323), ('58568', 38039), ('58665', 65076)]\n",
      "(3, 2)\n"
     ]
    }
   ],
   "source": [
    "import pymssql \n",
    "import pandas as pd\n",
    "server = \"172.21.158.201\"    # 连接服务器地址\n",
    "user = \"down\"# 连接帐号\n",
    "password = \"downx\"# 连接密码\n",
    "\n",
    "conn = pymssql.connect(server, user, password, \"ZJSZDZDB\")  #获取连接\n",
    "\n",
    "cursor = conn.cursor() # 获取光标\n",
    "cursor.execute('USE ZJSZDZDB' )\n",
    "sql  = \"select IIiii ,MAX(fFy*1000+dFy) AS Expr1 FROM Tab_Aws WHERE (IIiii IN('58665','58559','58568')) AND (tTime BETWEEN '2020-7-14 2:00:01' AND '2020-7-14 05:00:00') GROUP BY IIiii\"\n",
    "\n",
    "cursor.execute(sql) \n",
    "#select IIiii ,MAX(fFy*1000+dFy) AS Expr1 FROM Tab_Aws WHERE (IIiii IN('58665','58559','58568','58652')) AND (tTime BETWEEN '2020-7-14 2:00:01' AND '2020-7-14 05:00:00') GROUP BY IIiii\n",
    "#sql2 = \"GO\"\n",
    "#cursor.execute(sql2)\n",
    "row = cursor.fetchall()\n",
    "print(row)\n",
    "print(pd.DataFrame(list(row)).shape)\n",
    "#connect.commit()  # 提交\n",
    "cursor.close()  # 关闭游标\n",
    "conn.close()  # 关闭连接"
   ]
  },
  {
   "cell_type": "code",
   "execution_count": null,
   "metadata": {},
   "outputs": [],
   "source": []
  }
 ],
 "metadata": {
  "kernelspec": {
   "display_name": "Python 3",
   "language": "python",
   "name": "python3"
  },
  "language_info": {
   "codemirror_mode": {
    "name": "ipython",
    "version": 3
   },
   "file_extension": ".py",
   "mimetype": "text/x-python",
   "name": "python",
   "nbconvert_exporter": "python",
   "pygments_lexer": "ipython3",
   "version": "3.7.1"
  }
 },
 "nbformat": 4,
 "nbformat_minor": 2
}
