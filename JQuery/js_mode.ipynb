{
 "cells": [
  {
   "cell_type": "code",
   "execution_count": 1,
   "metadata": {},
   "outputs": [],
   "source": [
    "var  msg= [\"hello\",\"World!\"].join(\",\")"
   ]
  },
  {
   "cell_type": "code",
   "execution_count": 2,
   "metadata": {},
   "outputs": [
    {
     "data": {
      "text/plain": [
       "'hello,World!'"
      ]
     },
     "execution_count": 2,
     "metadata": {},
     "output_type": "execute_result"
    }
   ],
   "source": [
    "msg\n"
   ]
  },
  {
   "cell_type": "code",
   "execution_count": 3,
   "metadata": {},
   "outputs": [
    {
     "name": "stdout",
     "output_type": "stream",
     "text": [
      "hello,World!\n"
     ]
    }
   ],
   "source": [
    "console.log(msg)"
   ]
  },
  {
   "cell_type": "code",
   "execution_count": 4,
   "metadata": {},
   "outputs": [
    {
     "ename": "ReferenceError",
     "evalue": "echarts is not defined",
     "execution_count": 4,
     "output_type": "error",
     "traceback": [
      "evalmachine.<anonymous>:2",
      "var myChart = echarts.init(document.getElementById('main'));",
      "              ^",
      "",
      "ReferenceError: echarts is not defined",
      "    at evalmachine.<anonymous>:2:15",
      "    at ContextifyScript.Script.runInThisContext (vm.js:50:33)",
      "    at Object.runInThisContext (vm.js:139:38)",
      "    at run ([eval]:1054:15)",
      "    at onRunRequest ([eval]:888:18)",
      "    at onMessage ([eval]:848:13)",
      "    at emitTwo (events.js:126:13)",
      "    at process.emit (events.js:214:7)",
      "    at emit (internal/child_process.js:772:12)",
      "    at _combinedTickCallback (internal/process/next_tick.js:141:11)"
     ]
    }
   ],
   "source": []
  },
  {
   "cell_type": "code",
   "execution_count": 5,
   "metadata": {},
   "outputs": [
    {
     "ename": "ReferenceError",
     "evalue": "document is not defined",
     "execution_count": 5,
     "output_type": "error",
     "traceback": [
      "evalmachine.<anonymous>:4",
      "var myChart = echarts.init(document.getElementById('main'));",
      "                           ^",
      "",
      "ReferenceError: document is not defined",
      "    at evalmachine.<anonymous>:4:28",
      "    at ContextifyScript.Script.runInThisContext (vm.js:50:33)",
      "    at Object.runInThisContext (vm.js:139:38)",
      "    at run ([eval]:1054:15)",
      "    at onRunRequest ([eval]:888:18)",
      "    at onMessage ([eval]:848:13)",
      "    at emitTwo (events.js:126:13)",
      "    at process.emit (events.js:214:7)",
      "    at emit (internal/child_process.js:772:12)",
      "    at _combinedTickCallback (internal/process/next_tick.js:141:11)"
     ]
    }
   ],
   "source": [
    "var echarts = require('echarts');\n",
    "\n",
    "// 基于准备好的dom，初始化echarts实例\n",
    "var myChart = echarts.init(document.getElementById('main'));\n",
    "// 绘制图表\n",
    "myChart.setOption({\n",
    "    title: {\n",
    "        text: 'ECharts 入门示例'\n",
    "    },\n",
    "    tooltip: {},\n",
    "    xAxis: {\n",
    "        data: ['衬衫', '羊毛衫', '雪纺衫', '裤子', '高跟鞋', '袜子']\n",
    "    },\n",
    "    yAxis: {},\n",
    "    series: [{\n",
    "        name: '销量',\n",
    "        type: 'bar',\n",
    "        data: [5, 20, 36, 10, 10, 20]\n",
    "    }]\n",
    "});"
   ]
  },
  {
   "cell_type": "code",
   "execution_count": 6,
   "metadata": {},
   "outputs": [
    {
     "ename": "SyntaxError",
     "evalue": "Unexpected token <",
     "execution_count": 6,
     "output_type": "error",
     "traceback": [
      "evalmachine.<anonymous>:1",
      "<html>",
      "^",
      "",
      "SyntaxError: Unexpected token <",
      "    at createScript (vm.js:80:10)",
      "    at Object.runInThisContext (vm.js:139:10)",
      "    at run ([eval]:1054:15)",
      "    at onRunRequest ([eval]:888:18)",
      "    at onMessage ([eval]:848:13)",
      "    at emitTwo (events.js:126:13)",
      "    at process.emit (events.js:214:7)",
      "    at emit (internal/child_process.js:772:12)",
      "    at _combinedTickCallback (internal/process/next_tick.js:141:11)",
      "    at process._tickCallback (internal/process/next_tick.js:180:9)"
     ]
    }
   ],
   "source": [
    "<html>\n",
    "  <head>\n",
    "    <meta charset=\"utf-8\" />\n",
    "    <style>\n",
    "      .citymap{\n",
    "      width: 100%;\n",
    "      height: 100%;\n",
    "      }\n",
    "    </style>\n",
    "  \t<script src=\"https://pyecharts.github.io/jupyter-echarts/echarts/echarts.min.js\"></script>\n",
    "    <script src=\"https://echarts-maps.github.io/echarts-china-cities-js/echarts-china-cities-js/jiang1_xi1_nan2_chang1.js\"></script>\n",
    "  </head>\n",
    "  <body>\n",
    "    <div id='nan2_chang1' class='citymap'></div>\n",
    "    <script src='https://echarts-maps.github.io/echarts-china-cities-js/demo.js'></script>\n",
    "    <script>\n",
    "      make_city('南昌', 'nan2_chang1');\n",
    "    </script>\n",
    "  </body>\n",
    "</html>"
   ]
  },
  {
   "cell_type": "code",
   "execution_count": null,
   "metadata": {},
   "outputs": [],
   "source": []
  }
 ],
 "metadata": {
  "kernelspec": {
   "display_name": "Javascript (Node.js)",
   "language": "javascript",
   "name": "javascript"
  },
  "language_info": {
   "file_extension": ".js",
   "mimetype": "application/javascript",
   "name": "javascript",
   "version": "8.10.0"
  }
 },
 "nbformat": 4,
 "nbformat_minor": 2
}
